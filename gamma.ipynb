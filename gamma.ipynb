{
 "cells": [
  {
   "cell_type": "markdown",
   "metadata": {},
   "source": [
    "### Ugrás ide: <a id=\"top\"></a>\n",
    "    \n",
    "#### [Adatgenerálás](#data)\n",
    "\n",
    "#### [Ábrázolás](#plot)\n",
    "\n",
    "#### [Mintavétel](#sampling)\n",
    "\n",
    "#### [Eredmények](#result)"
   ]
  },
  {
   "cell_type": "code",
   "execution_count": 486,
   "metadata": {},
   "outputs": [],
   "source": [
    "import numpy as np\n",
    "from scipy.signal import hilbert\n",
    "\n",
    "import pandas as pd\n",
    "\n",
    "import altair as alt"
   ]
  },
  {
   "cell_type": "markdown",
   "metadata": {},
   "source": [
    "### Adatgenerálás <a id=\"data\"></a>"
   ]
  },
  {
   "cell_type": "markdown",
   "metadata": {},
   "source": [
    "#### [vissza](#top)"
   ]
  },
  {
   "cell_type": "markdown",
   "metadata": {},
   "source": [
    "Az alábbi függvény adott frenkvenciájú, hosszú (másodpercekben megadva) és mintavételezési frekvenciájú, tiszta és zajos színusz hullámokat generál, illetve ezeknek veszi a fázisszögét hilbert transzformáció segítségével. (A zaj normális eloszlású, nulla várhatóértékű, a szórását meg lehet adni paraméterként, a default itt 0.2)."
   ]
  },
  {
   "cell_type": "code",
   "execution_count": 493,
   "metadata": {},
   "outputs": [],
   "source": [
    "def sinewave(frequency, interval, sampling_frequency, noise_scale=0.2):\n",
    "\n",
    "    time = np.linspace(0, interval, interval * sampling_frequency)\n",
    "    sine = np.sin(time * 2 * np.pi * frequency)\n",
    "    noisy_sine = sine + np.random.normal(0, noise_scale, size=sine.shape[0])\n",
    "    hilbert_trans = np.angle(hilbert(sine))\n",
    "    noisy_hilbert = np.angle(hilbert(noisy_sine))\n",
    "\n",
    "    return pd.DataFrame(\n",
    "        {\n",
    "            \"time\": time * 1000,\n",
    "            \"sine\": sine,\n",
    "            \"noisy sine\": noisy_sine,\n",
    "            \"hilbert\": hilbert_trans,\n",
    "            \"noisy hilbert\": noisy_hilbert,\n",
    "        }\n",
    "    )"
   ]
  },
  {
   "cell_type": "markdown",
   "metadata": {},
   "source": [
    "Itt most egy 1080 másodperc (18 perc) hosszúságú szakaszt veszek, így minden trial-re pont egy perc jut."
   ]
  },
  {
   "cell_type": "code",
   "execution_count": 495,
   "metadata": {},
   "outputs": [],
   "source": [
    "np.random.seed(0)\n",
    "data = sinewave(40, 1080, 1000)"
   ]
  },
  {
   "cell_type": "markdown",
   "metadata": {},
   "source": [
    "Így néz ki az adat:"
   ]
  },
  {
   "cell_type": "code",
   "execution_count": 499,
   "metadata": {},
   "outputs": [
    {
     "data": {
      "text/html": [
       "<div>\n",
       "<style scoped>\n",
       "    .dataframe tbody tr th:only-of-type {\n",
       "        vertical-align: middle;\n",
       "    }\n",
       "\n",
       "    .dataframe tbody tr th {\n",
       "        vertical-align: top;\n",
       "    }\n",
       "\n",
       "    .dataframe thead th {\n",
       "        text-align: right;\n",
       "    }\n",
       "</style>\n",
       "<table border=\"1\" class=\"dataframe\">\n",
       "  <thead>\n",
       "    <tr style=\"text-align: right;\">\n",
       "      <th></th>\n",
       "      <th>time</th>\n",
       "      <th>sine</th>\n",
       "      <th>noisy sine</th>\n",
       "      <th>hilbert</th>\n",
       "      <th>noisy hilbert</th>\n",
       "    </tr>\n",
       "  </thead>\n",
       "  <tbody>\n",
       "    <tr>\n",
       "      <th>0</th>\n",
       "      <td>0.000000</td>\n",
       "      <td>0.000000</td>\n",
       "      <td>0.352810</td>\n",
       "      <td>-1.570796</td>\n",
       "      <td>-1.180761</td>\n",
       "    </tr>\n",
       "    <tr>\n",
       "      <th>1</th>\n",
       "      <td>1.000001</td>\n",
       "      <td>0.248690</td>\n",
       "      <td>0.328722</td>\n",
       "      <td>-1.308770</td>\n",
       "      <td>-1.209424</td>\n",
       "    </tr>\n",
       "    <tr>\n",
       "      <th>2</th>\n",
       "      <td>2.000002</td>\n",
       "      <td>0.481754</td>\n",
       "      <td>0.677502</td>\n",
       "      <td>-1.038261</td>\n",
       "      <td>-0.992637</td>\n",
       "    </tr>\n",
       "    <tr>\n",
       "      <th>3</th>\n",
       "      <td>3.000003</td>\n",
       "      <td>0.684548</td>\n",
       "      <td>1.132726</td>\n",
       "      <td>-0.802979</td>\n",
       "      <td>-0.588595</td>\n",
       "    </tr>\n",
       "    <tr>\n",
       "      <th>4</th>\n",
       "      <td>4.000004</td>\n",
       "      <td>0.844328</td>\n",
       "      <td>1.217840</td>\n",
       "      <td>-0.537555</td>\n",
       "      <td>-0.103300</td>\n",
       "    </tr>\n",
       "  </tbody>\n",
       "</table>\n",
       "</div>"
      ],
      "text/plain": [
       "       time      sine  noisy sine   hilbert  noisy hilbert\n",
       "0  0.000000  0.000000    0.352810 -1.570796      -1.180761\n",
       "1  1.000001  0.248690    0.328722 -1.308770      -1.209424\n",
       "2  2.000002  0.481754    0.677502 -1.038261      -0.992637\n",
       "3  3.000003  0.684548    1.132726 -0.802979      -0.588595\n",
       "4  4.000004  0.844328    1.217840 -0.537555      -0.103300"
      ]
     },
     "execution_count": 499,
     "metadata": {},
     "output_type": "execute_result"
    }
   ],
   "source": [
    "data.head(5)"
   ]
  },
  {
   "cell_type": "markdown",
   "metadata": {},
   "source": [
    "Az alábbi átalakítás csak az ábrázoláshoz kell. (Egy oszlopba rendezi az eredeti jelet és a transzformáltakat, és hozzárendeli a típusukat egy plusz oszlopban.) A csomag, amit használok (```altair```), ezt az adatformát érti. Ennek a használata kicsit bonyolultabb, meg lehetne sokkal egyszerűbben is oldani a vizualizációt, de így szebbek az ábrák. Ha fontosabb, hogy átláthatóbb legyen a kód, megcsinálom ```matplotlib```-bel."
   ]
  },
  {
   "cell_type": "code",
   "execution_count": 413,
   "metadata": {},
   "outputs": [],
   "source": [
    "def format_data(data, index_col):\n",
    "\n",
    "    return pd.concat(\n",
    "        [\n",
    "            data[[index_col, c]].assign(data_type=c).rename(columns={c: \"values\"})\n",
    "            for c in data.columns\n",
    "            if c != index_col\n",
    "        ]\n",
    "    ).reset_index(drop=True)"
   ]
  },
  {
   "cell_type": "markdown",
   "metadata": {},
   "source": [
    "Ez így néz ki:"
   ]
  },
  {
   "cell_type": "code",
   "execution_count": 502,
   "metadata": {},
   "outputs": [
    {
     "data": {
      "text/html": [
       "<div>\n",
       "<style scoped>\n",
       "    .dataframe tbody tr th:only-of-type {\n",
       "        vertical-align: middle;\n",
       "    }\n",
       "\n",
       "    .dataframe tbody tr th {\n",
       "        vertical-align: top;\n",
       "    }\n",
       "\n",
       "    .dataframe thead th {\n",
       "        text-align: right;\n",
       "    }\n",
       "</style>\n",
       "<table border=\"1\" class=\"dataframe\">\n",
       "  <thead>\n",
       "    <tr style=\"text-align: right;\">\n",
       "      <th></th>\n",
       "      <th>time</th>\n",
       "      <th>values</th>\n",
       "      <th>data_type</th>\n",
       "    </tr>\n",
       "  </thead>\n",
       "  <tbody>\n",
       "    <tr>\n",
       "      <th>305120</th>\n",
       "      <td>305120.282519</td>\n",
       "      <td>-0.926737</td>\n",
       "      <td>sine</td>\n",
       "    </tr>\n",
       "    <tr>\n",
       "      <th>2600733</th>\n",
       "      <td>440733.408086</td>\n",
       "      <td>0.542386</td>\n",
       "      <td>hilbert</td>\n",
       "    </tr>\n",
       "    <tr>\n",
       "      <th>3505343</th>\n",
       "      <td>265343.245688</td>\n",
       "      <td>2.721717</td>\n",
       "      <td>noisy hilbert</td>\n",
       "    </tr>\n",
       "    <tr>\n",
       "      <th>1252402</th>\n",
       "      <td>172402.159632</td>\n",
       "      <td>0.657285</td>\n",
       "      <td>noisy sine</td>\n",
       "    </tr>\n",
       "    <tr>\n",
       "      <th>1764250</th>\n",
       "      <td>684250.633565</td>\n",
       "      <td>0.363012</td>\n",
       "      <td>noisy sine</td>\n",
       "    </tr>\n",
       "  </tbody>\n",
       "</table>\n",
       "</div>"
      ],
      "text/plain": [
       "                  time    values      data_type\n",
       "305120   305120.282519 -0.926737           sine\n",
       "2600733  440733.408086  0.542386        hilbert\n",
       "3505343  265343.245688  2.721717  noisy hilbert\n",
       "1252402  172402.159632  0.657285     noisy sine\n",
       "1764250  684250.633565  0.363012     noisy sine"
      ]
     },
     "execution_count": 502,
     "metadata": {},
     "output_type": "execute_result"
    }
   ],
   "source": [
    "format_data(data, \"time\").sample(5)"
   ]
  },
  {
   "cell_type": "markdown",
   "metadata": {},
   "source": [
    "### Ábrázolás <a id=\"plot\"></a>"
   ]
  },
  {
   "cell_type": "markdown",
   "metadata": {},
   "source": [
    "#### [vissza](#top)"
   ]
  },
  {
   "cell_type": "markdown",
   "metadata": {},
   "source": [
    "Az alábbi függvény tetszőleges intervallumon ábrázolja a kért hullámokat."
   ]
  },
  {
   "cell_type": "code",
   "execution_count": 415,
   "metadata": {
    "scrolled": false
   },
   "outputs": [],
   "source": [
    "def sineplot(data, interval, signals):\n",
    "\n",
    "    filtered = format_data(data, \"time\").loc[\n",
    "        lambda df: df[\"data_type\"].isin(signals) & (df[\"time\"] <= interval + 1)\n",
    "    ]\n",
    "\n",
    "    base = (\n",
    "        alt.Chart(\n",
    "            filtered,\n",
    "            title=\"First {} milliseconds of the generated wave\\n\\n\".format(interval),\n",
    "        )\n",
    "        .encode(\n",
    "            alt.X(\n",
    "                \"time\",\n",
    "                title=\"Time (in milliseconds)\",\n",
    "                scale=alt.Scale(domain=(0, interval), nice=False),\n",
    "            )\n",
    "        )\n",
    "        .properties(width=800, height=400)\n",
    "    )\n",
    "\n",
    "    yscale = max(abs(filtered[\"values\"].min()), filtered[\"values\"].max(),) * 2\n",
    "\n",
    "    lines = base.mark_line().encode(\n",
    "        alt.Y(\"values\", title=None, scale=alt.Scale(domain=(-yscale, yscale)),),\n",
    "        color=\"data_type\",\n",
    "    )\n",
    "\n",
    "    return lines"
   ]
  },
  {
   "cell_type": "code",
   "execution_count": null,
   "metadata": {
    "scrolled": false
   },
   "outputs": [],
   "source": [
    "sineplot(data, 25, [\"sine\"])"
   ]
  },
  {
   "cell_type": "markdown",
   "metadata": {},
   "source": [
    "![sine](plots/sine.png)"
   ]
  },
  {
   "cell_type": "code",
   "execution_count": null,
   "metadata": {
    "scrolled": false
   },
   "outputs": [],
   "source": [
    "sineplot(data, 500, [\"sine\", \"noisy hilbert\"])"
   ]
  },
  {
   "cell_type": "markdown",
   "metadata": {},
   "source": [
    "![noisy_sine_hilbert](plots/noisy_sine_hilbert.png)"
   ]
  },
  {
   "cell_type": "markdown",
   "metadata": {},
   "source": [
    "### Mintavétel <a id=\"sampling\"></a>"
   ]
  },
  {
   "cell_type": "markdown",
   "metadata": {},
   "source": [
    "#### [vissza](#top)"
   ]
  },
  {
   "cell_type": "markdown",
   "metadata": {},
   "source": [
    "Beosztom az adatot 18 trial-re, és mindegyikből random fázisértékről indítva veszek egy 8 $\\times$ 48 ms-os mintát."
   ]
  },
  {
   "cell_type": "code",
   "execution_count": 899,
   "metadata": {},
   "outputs": [],
   "source": [
    "def sampler(data, phase=25, trials=18, sample_size=8, sample_length=48):\n",
    "\n",
    "    sections = data.reshape(trials, -1)\n",
    "    start_from = np.random.choice(\n",
    "        np.arange(sections.shape[1] - sample_size * sample_length), trials\n",
    "    )\n",
    "\n",
    "    return {\n",
    "        \"starting phases\": np.array(\n",
    "            [[(s + 48 * n) % 25 for n in range(sample_size)] for s in start_from]\n",
    "        ),\n",
    "        \"samples\": np.array(\n",
    "            [\n",
    "                sections[trial, s : s + sample_size * sample_length].reshape(\n",
    "                    sample_size, sample_length\n",
    "                )\n",
    "                for trial, s in enumerate(start_from)\n",
    "            ]\n",
    "        ),\n",
    "    }"
   ]
  },
  {
   "cell_type": "code",
   "execution_count": 900,
   "metadata": {},
   "outputs": [],
   "source": [
    "np.random.seed(0)\n",
    "samples = sampler(data[\"hilbert\"].values)\n",
    "noisy_samples = sampler(data[\"noisy hilbert\"].values)"
   ]
  },
  {
   "cell_type": "markdown",
   "metadata": {},
   "source": [
    "Az alábbi két függvény kiválasztja a felismert és nem felismert képekhez tartozó szakaszokat.\n",
    "- A ```random_split``` véletlenszerűen választ és várható értéken 4-4 (felismert-nem felismert) szakaszra osztja a mintát. Hogy megfeleljen a kísérleti design-nak, ez nem determinisztikus, hanem minden szakasz 50% valószínűséggel kerül a felismertek közé (tehát lehet olyan trial, ahol több, mint 4 vagy kevesebb, mint 4 felismert kép van).\n",
    "- A ```synced_split``` azokat a szakaszokat sorolja be a felismert képekhez, amelyek kezdőértéke a fázis adott tartományába esik. Ez hivatott szimulálni azt az esetet, mikor a felismert képek egybeesnek a gamma fázisával. Az egybeesés nem teljes, mert úgy nem minden trial-ben lennének mindkét esetre minták, és összességében a felismert képek aránya jóval kisebb lenne, mint az előző esetben.\n",
    "\n",
    "A függvények ezután minden trial-re kiszámolják a két csoport (felismert és nem felismert) átlagának különbségét. Így egy 18 $\\times$ 48-as mátrixot kapunk."
   ]
  },
  {
   "cell_type": "code",
   "execution_count": 885,
   "metadata": {},
   "outputs": [],
   "source": [
    "def random_split(samples):\n",
    "\n",
    "    recognized = np.random.binomial(1, 0.5, size=samples[\"samples\"].shape[:2]).astype(bool)\n",
    "\n",
    "    return np.array(\n",
    "        [\n",
    "            sample[np.where(recognized[trial])].mean(axis=0)\n",
    "            - sample[np.where(~recognized[trial])].mean(axis=0)\n",
    "            for trial, sample in enumerate(samples[\"samples\"])\n",
    "        ]\n",
    "    )"
   ]
  },
  {
   "cell_type": "code",
   "execution_count": 902,
   "metadata": {},
   "outputs": [],
   "source": [
    "def synced_split(samples):\n",
    "\n",
    "    return np.array(\n",
    "        [\n",
    "            np.array(\n",
    "                [\n",
    "                    s\n",
    "                    for k, s in enumerate(sample)\n",
    "                    if samples[\"starting phases\"][trial, k] <= 12\n",
    "                ]\n",
    "            ).mean(axis=0)\n",
    "            - np.array(\n",
    "                [\n",
    "                    s\n",
    "                    for k, s in enumerate(sample)\n",
    "                    if samples[\"starting phases\"][trial, k] > 12\n",
    "                ]\n",
    "            ).mean(axis=0)\n",
    "            for trial, sample in enumerate(samples[\"samples\"])\n",
    "        ]\n",
    "    )"
   ]
  },
  {
   "cell_type": "markdown",
   "metadata": {},
   "source": [
    "### Eredmények <a id=\"result\"></a>"
   ]
  },
  {
   "cell_type": "markdown",
   "metadata": {},
   "source": [
    "#### [vissza](#top)"
   ]
  },
  {
   "cell_type": "markdown",
   "metadata": {},
   "source": [
    "Kiszámolom a fáizskülönbségek átlagát, standard hibáját és szórását az összes trial-re. Az ábrákhoz megfelelő formátumúvá alakítom az adatot és ábrázolom az eredményeket."
   ]
  },
  {
   "cell_type": "code",
   "execution_count": 926,
   "metadata": {},
   "outputs": [],
   "source": [
    "def result_df(diffs):\n",
    "\n",
    "    return (\n",
    "        pd.DataFrame(\n",
    "            {\n",
    "                \"MEAN\": diffs.mean(axis=0),\n",
    "                \"SE\": diffs.std(axis=0) / np.sqrt(diffs.shape[0]),\n",
    "                \"STD\": diffs.std(axis=0),\n",
    "            }\n",
    "        )\n",
    "        .reset_index()\n",
    "        .assign(\n",
    "            SE_bottom=lambda df: df[\"MEAN\"] - df[\"SE\"],\n",
    "            SE_top=lambda df: df[\"MEAN\"] + df[\"SE\"],\n",
    "            STD_bottom=lambda df: df[\"MEAN\"] - df[\"STD\"],\n",
    "            STD_top=lambda df: df[\"MEAN\"] + df[\"STD\"],\n",
    "            NULL=0,\n",
    "        )\n",
    "    )"
   ]
  },
  {
   "cell_type": "code",
   "execution_count": 956,
   "metadata": {
    "scrolled": true
   },
   "outputs": [],
   "source": [
    "np.random.seed(0)\n",
    "result_rand = result_df(random_split(samples))\n",
    "result_synced = result_df(synced_split(samples))\n",
    "noisy_result_rand = result_df(random_split(noisy_samples))\n",
    "noisy_result_synced = result_df(synced_split(noisy_samples))"
   ]
  },
  {
   "cell_type": "code",
   "execution_count": 928,
   "metadata": {},
   "outputs": [
    {
     "data": {
      "text/html": [
       "<div>\n",
       "<style scoped>\n",
       "    .dataframe tbody tr th:only-of-type {\n",
       "        vertical-align: middle;\n",
       "    }\n",
       "\n",
       "    .dataframe tbody tr th {\n",
       "        vertical-align: top;\n",
       "    }\n",
       "\n",
       "    .dataframe thead th {\n",
       "        text-align: right;\n",
       "    }\n",
       "</style>\n",
       "<table border=\"1\" class=\"dataframe\">\n",
       "  <thead>\n",
       "    <tr style=\"text-align: right;\">\n",
       "      <th></th>\n",
       "      <th>index</th>\n",
       "      <th>MEAN</th>\n",
       "      <th>SE</th>\n",
       "      <th>STD</th>\n",
       "      <th>SE_bottom</th>\n",
       "      <th>SE_top</th>\n",
       "      <th>STD_bottom</th>\n",
       "      <th>STD_top</th>\n",
       "      <th>NULL</th>\n",
       "    </tr>\n",
       "  </thead>\n",
       "  <tbody>\n",
       "    <tr>\n",
       "      <th>0</th>\n",
       "      <td>0</td>\n",
       "      <td>-0.307180</td>\n",
       "      <td>0.349055</td>\n",
       "      <td>1.480917</td>\n",
       "      <td>-0.656235</td>\n",
       "      <td>0.041876</td>\n",
       "      <td>-1.788097</td>\n",
       "      <td>1.173737</td>\n",
       "      <td>0</td>\n",
       "    </tr>\n",
       "    <tr>\n",
       "      <th>1</th>\n",
       "      <td>1</td>\n",
       "      <td>0.449128</td>\n",
       "      <td>0.318098</td>\n",
       "      <td>1.349575</td>\n",
       "      <td>0.131031</td>\n",
       "      <td>0.767226</td>\n",
       "      <td>-0.900446</td>\n",
       "      <td>1.798703</td>\n",
       "      <td>0</td>\n",
       "    </tr>\n",
       "    <tr>\n",
       "      <th>2</th>\n",
       "      <td>2</td>\n",
       "      <td>0.722564</td>\n",
       "      <td>0.316602</td>\n",
       "      <td>1.343229</td>\n",
       "      <td>0.405962</td>\n",
       "      <td>1.039166</td>\n",
       "      <td>-0.620664</td>\n",
       "      <td>2.065793</td>\n",
       "      <td>0</td>\n",
       "    </tr>\n",
       "    <tr>\n",
       "      <th>3</th>\n",
       "      <td>3</td>\n",
       "      <td>1.653406</td>\n",
       "      <td>0.173696</td>\n",
       "      <td>0.736930</td>\n",
       "      <td>1.479709</td>\n",
       "      <td>1.827102</td>\n",
       "      <td>0.916475</td>\n",
       "      <td>2.390336</td>\n",
       "      <td>0</td>\n",
       "    </tr>\n",
       "    <tr>\n",
       "      <th>4</th>\n",
       "      <td>4</td>\n",
       "      <td>1.857028</td>\n",
       "      <td>0.197217</td>\n",
       "      <td>0.836719</td>\n",
       "      <td>1.659812</td>\n",
       "      <td>2.054245</td>\n",
       "      <td>1.020309</td>\n",
       "      <td>2.693748</td>\n",
       "      <td>0</td>\n",
       "    </tr>\n",
       "  </tbody>\n",
       "</table>\n",
       "</div>"
      ],
      "text/plain": [
       "   index      MEAN        SE       STD  SE_bottom    SE_top  STD_bottom  \\\n",
       "0      0 -0.307180  0.349055  1.480917  -0.656235  0.041876   -1.788097   \n",
       "1      1  0.449128  0.318098  1.349575   0.131031  0.767226   -0.900446   \n",
       "2      2  0.722564  0.316602  1.343229   0.405962  1.039166   -0.620664   \n",
       "3      3  1.653406  0.173696  0.736930   1.479709  1.827102    0.916475   \n",
       "4      4  1.857028  0.197217  0.836719   1.659812  2.054245    1.020309   \n",
       "\n",
       "    STD_top  NULL  \n",
       "0  1.173737     0  \n",
       "1  1.798703     0  \n",
       "2  2.065793     0  \n",
       "3  2.390336     0  \n",
       "4  2.693748     0  "
      ]
     },
     "execution_count": 928,
     "metadata": {},
     "output_type": "execute_result"
    }
   ],
   "source": [
    "result_synced.head(5)"
   ]
  },
  {
   "cell_type": "code",
   "execution_count": 959,
   "metadata": {
    "scrolled": true
   },
   "outputs": [],
   "source": [
    "def plot_result(result, condition):\n",
    "\n",
    "    title = \"Mean phase difference between recognized and unrecognized pictures ({} condition)\".format(\n",
    "        condition\n",
    "    )\n",
    "\n",
    "    dfs = [\n",
    "        format_data(result[[\"index\", \"SE_bottom\", \"STD_bottom\"]], \"index\")\n",
    "        .rename(columns={\"values\": \"bottom\", \"data_type\": \"type\"})\n",
    "        .assign(data_type=lambda df: df[\"type\"].apply(lambda x: x.strip(\"_bottom\")))\n",
    "        .drop(\"type\", axis=1)\n",
    "        .merge(\n",
    "            format_data(result[[\"index\", \"SE_top\", \"STD_top\"]], \"index\")\n",
    "            .rename(columns={\"values\": \"top\", \"data_type\": \"type\"})\n",
    "            .assign(data_type=lambda df: df[\"type\"].apply(lambda x: x.strip(\"_top\")))\n",
    "            .drop(\"type\", axis=1),\n",
    "            on=[\"index\", \"data_type\"],\n",
    "            how=\"outer\",\n",
    "        ),\n",
    "        format_data(result[[\"index\", \"MEAN\", \"NULL\"]], \"index\"),\n",
    "    ]\n",
    "\n",
    "    bases = [\n",
    "        alt.Chart(df, title=title,)\n",
    "        .encode(\n",
    "            alt.X(\n",
    "                \"index\",\n",
    "                title=\"Time (in millisecconds)\",\n",
    "                scale=alt.Scale(domain=(0, result.shape[0] - 1), nice=False),\n",
    "            )\n",
    "        )\n",
    "        .properties(width=800, height=400)\n",
    "        for df in dfs\n",
    "    ]\n",
    "\n",
    "    yscale = max(abs(result[\"STD_bottom\"].min()), result[\"STD_top\"].max())\n",
    "\n",
    "    return bases[0].mark_area(opacity=0.5).encode(\n",
    "        alt.Y(\"bottom\", title=None, scale=alt.Scale(domain=(-yscale, yscale))),\n",
    "        alt.Y2(\"top\"),\n",
    "        color=\"data_type\",\n",
    "    ) + bases[1].mark_line().encode(alt.Y(\"values\"), color=\"data_type\")"
   ]
  },
  {
   "cell_type": "markdown",
   "metadata": {},
   "source": [
    "Ha minden igaz, az alábbi két ábra szemlélteti a kísérleti eredményt. Véletlenszerű választás esetén a fáziskülönbség alig tér el nullától, míg a szinkronizált kondícióban szisztematikus különbség figyelhető meg. "
   ]
  },
  {
   "cell_type": "code",
   "execution_count": null,
   "metadata": {},
   "outputs": [],
   "source": [
    "plot_result(noisy_result_rand, \"random\")"
   ]
  },
  {
   "cell_type": "markdown",
   "metadata": {},
   "source": [
    "![random_result](plots/random_result.png)"
   ]
  },
  {
   "cell_type": "code",
   "execution_count": null,
   "metadata": {
    "scrolled": false
   },
   "outputs": [],
   "source": [
    "plot_result(noisy_result_synced, \"synchronized\")"
   ]
  },
  {
   "cell_type": "markdown",
   "metadata": {},
   "source": [
    "![synced_result](plots/synced_result.png)"
   ]
  },
  {
   "cell_type": "code",
   "execution_count": null,
   "metadata": {},
   "outputs": [],
   "source": []
  }
 ],
 "metadata": {
  "kernelspec": {
   "display_name": "Python 3",
   "language": "python",
   "name": "python3"
  },
  "language_info": {
   "codemirror_mode": {
    "name": "ipython",
    "version": 3
   },
   "file_extension": ".py",
   "mimetype": "text/x-python",
   "name": "python",
   "nbconvert_exporter": "python",
   "pygments_lexer": "ipython3",
   "version": "3.7.3"
  }
 },
 "nbformat": 4,
 "nbformat_minor": 2
}
