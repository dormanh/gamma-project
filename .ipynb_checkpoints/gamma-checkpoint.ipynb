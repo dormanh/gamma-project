{
 "cells": [
  {
   "cell_type": "markdown",
   "metadata": {},
   "source": [
    "### Ugrás ide: <a id=\"top\"></a>\n",
    "    \n",
    "#### [Adatgenerálás](#data)\n",
    "\n",
    "#### [Ábrázolás](#plot)\n",
    "\n",
    "#### [Mintavétel](#sampling)\n",
    "\n",
    "#### [Eredmények](#result)"
   ]
  },
  {
   "cell_type": "code",
   "execution_count": 486,
   "metadata": {},
   "outputs": [],
   "source": [
    "import numpy as np\n",
    "from scipy.signal import hilbert\n",
    "\n",
    "import pandas as pd\n",
    "\n",
    "from matplotlib import pyplot as plt\n",
    "import altair as alt"
   ]
  },
  {
   "cell_type": "markdown",
   "metadata": {},
   "source": [
    "### Adatgenerálás <a id=\"data\"></a>"
   ]
  },
  {
   "cell_type": "markdown",
   "metadata": {},
   "source": [
    "#### [vissza](#top)"
   ]
  },
  {
   "cell_type": "markdown",
   "metadata": {},
   "source": [
    "Az alábbi függvény adott frenkvenciájú, hosszú (másodpercekben megadva) és mintavételezési frekvenciájú, tiszta és zajos színusz hullámokat generál, illetve ezeknek veszi a fázisszögét hilbert transzformáció segítségével. (A zaj normális eloszlású, nulla várhatóértékű, a szórását meg lehet adni paraméterként, a default itt 0.2)."
   ]
  },
  {
   "cell_type": "code",
   "execution_count": 493,
   "metadata": {},
   "outputs": [],
   "source": [
    "def sinewave(frequency, interval, sampling_frequency, noise_scale=0.2):\n",
    "\n",
    "    time = np.linspace(0, interval, interval * sampling_frequency)\n",
    "    sine = np.sin(time * 2 * np.pi * frequency)\n",
    "    noisy_sine = sine + np.random.normal(0, noise_scale, size=sine.shape[0])\n",
    "    hilbert_trans = np.angle(hilbert(sine))\n",
    "    noisy_hilbert = np.angle(hilbert(noisy_sine))\n",
    "\n",
    "    return pd.DataFrame(\n",
    "        {\n",
    "            \"time\": time * 1000,\n",
    "            \"sine\": sine,\n",
    "            \"noisy sine\": noisy_sine,\n",
    "            \"hilbert\": hilbert_trans,\n",
    "            \"noisy hilbert\": noisy_hilbert,\n",
    "        }\n",
    "    )"
   ]
  },
  {
   "cell_type": "markdown",
   "metadata": {},
   "source": [
    "Itt most egy 1080 másodperc (18 perc) hosszúságú szakaszt veszek, így minden trial-re pont egy perc jut."
   ]
  },
  {
   "cell_type": "code",
   "execution_count": 495,
   "metadata": {},
   "outputs": [],
   "source": [
    "np.random.seed(0)\n",
    "data = sinewave(40, 1080, 1000)"
   ]
  },
  {
   "cell_type": "markdown",
   "metadata": {},
   "source": [
    "Így néz ki az adat:"
   ]
  },
  {
   "cell_type": "code",
   "execution_count": 499,
   "metadata": {},
   "outputs": [
    {
     "data": {
      "text/html": [
       "<div>\n",
       "<style scoped>\n",
       "    .dataframe tbody tr th:only-of-type {\n",
       "        vertical-align: middle;\n",
       "    }\n",
       "\n",
       "    .dataframe tbody tr th {\n",
       "        vertical-align: top;\n",
       "    }\n",
       "\n",
       "    .dataframe thead th {\n",
       "        text-align: right;\n",
       "    }\n",
       "</style>\n",
       "<table border=\"1\" class=\"dataframe\">\n",
       "  <thead>\n",
       "    <tr style=\"text-align: right;\">\n",
       "      <th></th>\n",
       "      <th>time</th>\n",
       "      <th>sine</th>\n",
       "      <th>noisy sine</th>\n",
       "      <th>hilbert</th>\n",
       "      <th>noisy hilbert</th>\n",
       "    </tr>\n",
       "  </thead>\n",
       "  <tbody>\n",
       "    <tr>\n",
       "      <th>0</th>\n",
       "      <td>0.000000</td>\n",
       "      <td>0.000000</td>\n",
       "      <td>0.352810</td>\n",
       "      <td>-1.570796</td>\n",
       "      <td>-1.180761</td>\n",
       "    </tr>\n",
       "    <tr>\n",
       "      <th>1</th>\n",
       "      <td>1.000001</td>\n",
       "      <td>0.248690</td>\n",
       "      <td>0.328722</td>\n",
       "      <td>-1.308770</td>\n",
       "      <td>-1.209424</td>\n",
       "    </tr>\n",
       "    <tr>\n",
       "      <th>2</th>\n",
       "      <td>2.000002</td>\n",
       "      <td>0.481754</td>\n",
       "      <td>0.677502</td>\n",
       "      <td>-1.038261</td>\n",
       "      <td>-0.992637</td>\n",
       "    </tr>\n",
       "    <tr>\n",
       "      <th>3</th>\n",
       "      <td>3.000003</td>\n",
       "      <td>0.684548</td>\n",
       "      <td>1.132726</td>\n",
       "      <td>-0.802979</td>\n",
       "      <td>-0.588595</td>\n",
       "    </tr>\n",
       "    <tr>\n",
       "      <th>4</th>\n",
       "      <td>4.000004</td>\n",
       "      <td>0.844328</td>\n",
       "      <td>1.217840</td>\n",
       "      <td>-0.537555</td>\n",
       "      <td>-0.103300</td>\n",
       "    </tr>\n",
       "  </tbody>\n",
       "</table>\n",
       "</div>"
      ],
      "text/plain": [
       "       time      sine  noisy sine   hilbert  noisy hilbert\n",
       "0  0.000000  0.000000    0.352810 -1.570796      -1.180761\n",
       "1  1.000001  0.248690    0.328722 -1.308770      -1.209424\n",
       "2  2.000002  0.481754    0.677502 -1.038261      -0.992637\n",
       "3  3.000003  0.684548    1.132726 -0.802979      -0.588595\n",
       "4  4.000004  0.844328    1.217840 -0.537555      -0.103300"
      ]
     },
     "execution_count": 499,
     "metadata": {},
     "output_type": "execute_result"
    }
   ],
   "source": [
    "data.head(5)"
   ]
  },
  {
   "cell_type": "markdown",
   "metadata": {},
   "source": [
    "Az alábbi átalakítás csak az ábrázoláshoz kell. (Egy oszlopba rendezi az eredeti jelet és a transzformáltakat, és hozzárendeli a típusukat egy plusz oszlopban.) A csomag, amit használok (```altair```), ezt az adatformát érti. Ennek a használata kicsit bonyolultabb, meg lehetne sokkal egyszerűbben is oldani a vizualizációt, de így szebbek az ábrák. Ha fontosabb, hogy átláthatóbb legyen a kód, megcsinálom ```matplotlib```-bel."
   ]
  },
  {
   "cell_type": "code",
   "execution_count": 413,
   "metadata": {},
   "outputs": [],
   "source": [
    "def format_data(data, index_col):\n",
    "\n",
    "    return pd.concat(\n",
    "        [\n",
    "            data[[index_col, c]].assign(data_type=c).rename(columns={c: \"values\"})\n",
    "            for c in data.columns\n",
    "            if c != index_col\n",
    "        ]\n",
    "    ).reset_index(drop=True)"
   ]
  },
  {
   "cell_type": "markdown",
   "metadata": {},
   "source": [
    "Ez így néz ki:"
   ]
  },
  {
   "cell_type": "code",
   "execution_count": 502,
   "metadata": {},
   "outputs": [
    {
     "data": {
      "text/html": [
       "<div>\n",
       "<style scoped>\n",
       "    .dataframe tbody tr th:only-of-type {\n",
       "        vertical-align: middle;\n",
       "    }\n",
       "\n",
       "    .dataframe tbody tr th {\n",
       "        vertical-align: top;\n",
       "    }\n",
       "\n",
       "    .dataframe thead th {\n",
       "        text-align: right;\n",
       "    }\n",
       "</style>\n",
       "<table border=\"1\" class=\"dataframe\">\n",
       "  <thead>\n",
       "    <tr style=\"text-align: right;\">\n",
       "      <th></th>\n",
       "      <th>time</th>\n",
       "      <th>values</th>\n",
       "      <th>data_type</th>\n",
       "    </tr>\n",
       "  </thead>\n",
       "  <tbody>\n",
       "    <tr>\n",
       "      <th>305120</th>\n",
       "      <td>305120.282519</td>\n",
       "      <td>-0.926737</td>\n",
       "      <td>sine</td>\n",
       "    </tr>\n",
       "    <tr>\n",
       "      <th>2600733</th>\n",
       "      <td>440733.408086</td>\n",
       "      <td>0.542386</td>\n",
       "      <td>hilbert</td>\n",
       "    </tr>\n",
       "    <tr>\n",
       "      <th>3505343</th>\n",
       "      <td>265343.245688</td>\n",
       "      <td>2.721717</td>\n",
       "      <td>noisy hilbert</td>\n",
       "    </tr>\n",
       "    <tr>\n",
       "      <th>1252402</th>\n",
       "      <td>172402.159632</td>\n",
       "      <td>0.657285</td>\n",
       "      <td>noisy sine</td>\n",
       "    </tr>\n",
       "    <tr>\n",
       "      <th>1764250</th>\n",
       "      <td>684250.633565</td>\n",
       "      <td>0.363012</td>\n",
       "      <td>noisy sine</td>\n",
       "    </tr>\n",
       "  </tbody>\n",
       "</table>\n",
       "</div>"
      ],
      "text/plain": [
       "                  time    values      data_type\n",
       "305120   305120.282519 -0.926737           sine\n",
       "2600733  440733.408086  0.542386        hilbert\n",
       "3505343  265343.245688  2.721717  noisy hilbert\n",
       "1252402  172402.159632  0.657285     noisy sine\n",
       "1764250  684250.633565  0.363012     noisy sine"
      ]
     },
     "execution_count": 502,
     "metadata": {},
     "output_type": "execute_result"
    }
   ],
   "source": [
    "format_data(data, \"time\").sample(5)"
   ]
  },
  {
   "cell_type": "markdown",
   "metadata": {},
   "source": [
    "### Ábrázolás <a id=\"plot\"></a>"
   ]
  },
  {
   "cell_type": "markdown",
   "metadata": {},
   "source": [
    "#### [vissza](#top)"
   ]
  },
  {
   "cell_type": "markdown",
   "metadata": {},
   "source": [
    "Az alábbi függvény tetszőleges intervallumon ábrázolja a kért hullámokat."
   ]
  },
  {
   "cell_type": "code",
   "execution_count": 415,
   "metadata": {
    "scrolled": false
   },
   "outputs": [],
   "source": [
    "def sineplot(data, interval, signals):\n",
    "\n",
    "    filtered = format_data(data, \"time\").loc[\n",
    "        lambda df: df[\"data_type\"].isin(signals) & (df[\"time\"] <= interval + 1)\n",
    "    ]\n",
    "\n",
    "    base = (\n",
    "        alt.Chart(\n",
    "            filtered,\n",
    "            title=\"First {} milliseconds of the generated wave\\n\\n\".format(interval),\n",
    "        )\n",
    "        .encode(\n",
    "            alt.X(\n",
    "                \"time\",\n",
    "                title=\"Time (in milliseconds)\",\n",
    "                scale=alt.Scale(domain=(0, interval), nice=False),\n",
    "            )\n",
    "        )\n",
    "        .properties(width=800, height=400)\n",
    "    )\n",
    "\n",
    "    yscale = max(abs(filtered[\"values\"].min()), filtered[\"values\"].max(),) * 2\n",
    "\n",
    "    lines = base.mark_line().encode(\n",
    "        alt.Y(\"values\", title=None, scale=alt.Scale(domain=(-yscale, yscale)),),\n",
    "        color=\"data_type\",\n",
    "    )\n",
    "\n",
    "    return lines"
   ]
  },
  {
   "cell_type": "code",
   "execution_count": 504,
   "metadata": {
    "scrolled": false
   },
   "outputs": [
    {
     "data": {
      "text/html": [
       "\n",
       "<div id=\"altair-viz-5f0573a13a724f09bbdad6e7d55aee19\"></div>\n",
       "<script type=\"text/javascript\">\n",
       "  (function(spec, embedOpt){\n",
       "    let outputDiv = document.currentScript.previousElementSibling;\n",
       "    if (outputDiv.id !== \"altair-viz-5f0573a13a724f09bbdad6e7d55aee19\") {\n",
       "      outputDiv = document.getElementById(\"altair-viz-5f0573a13a724f09bbdad6e7d55aee19\");\n",
       "    }\n",
       "    const paths = {\n",
       "      \"vega\": \"https://cdn.jsdelivr.net/npm//vega@5?noext\",\n",
       "      \"vega-lib\": \"https://cdn.jsdelivr.net/npm//vega-lib?noext\",\n",
       "      \"vega-lite\": \"https://cdn.jsdelivr.net/npm//vega-lite@4.8.1?noext\",\n",
       "      \"vega-embed\": \"https://cdn.jsdelivr.net/npm//vega-embed@6?noext\",\n",
       "    };\n",
       "\n",
       "    function loadScript(lib) {\n",
       "      return new Promise(function(resolve, reject) {\n",
       "        var s = document.createElement('script');\n",
       "        s.src = paths[lib];\n",
       "        s.async = true;\n",
       "        s.onload = () => resolve(paths[lib]);\n",
       "        s.onerror = () => reject(`Error loading script: ${paths[lib]}`);\n",
       "        document.getElementsByTagName(\"head\")[0].appendChild(s);\n",
       "      });\n",
       "    }\n",
       "\n",
       "    function showError(err) {\n",
       "      outputDiv.innerHTML = `<div class=\"error\" style=\"color:red;\">${err}</div>`;\n",
       "      throw err;\n",
       "    }\n",
       "\n",
       "    function displayChart(vegaEmbed) {\n",
       "      vegaEmbed(outputDiv, spec, embedOpt)\n",
       "        .catch(err => showError(`Javascript Error: ${err.message}<br>This usually means there's a typo in your chart specification. See the javascript console for the full traceback.`));\n",
       "    }\n",
       "\n",
       "    if(typeof define === \"function\" && define.amd) {\n",
       "      requirejs.config({paths});\n",
       "      require([\"vega-embed\"], displayChart, err => showError(`Error loading script: ${err.message}`));\n",
       "    } else if (typeof vegaEmbed === \"function\") {\n",
       "      displayChart(vegaEmbed);\n",
       "    } else {\n",
       "      loadScript(\"vega\")\n",
       "        .then(() => loadScript(\"vega-lite\"))\n",
       "        .then(() => loadScript(\"vega-embed\"))\n",
       "        .catch(showError)\n",
       "        .then(() => displayChart(vegaEmbed));\n",
       "    }\n",
       "  })({\"config\": {\"view\": {\"continuousWidth\": 400, \"continuousHeight\": 300}}, \"data\": {\"name\": \"data-ed8973e37543db25f540289835a79a2e\"}, \"mark\": \"line\", \"encoding\": {\"color\": {\"type\": \"nominal\", \"field\": \"data_type\"}, \"x\": {\"type\": \"quantitative\", \"field\": \"time\", \"scale\": {\"domain\": [0, 25], \"nice\": false}, \"title\": \"Time (in milliseconds)\"}, \"y\": {\"type\": \"quantitative\", \"field\": \"values\", \"scale\": {\"domain\": [-1.9960536321989686, 1.9960536321989686]}, \"title\": null}}, \"height\": 400, \"title\": \"First 25 milliseconds of the generated wave\\n\\n\", \"width\": 800, \"$schema\": \"https://vega.github.io/schema/vega-lite/v4.8.1.json\", \"datasets\": {\"data-ed8973e37543db25f540289835a79a2e\": [{\"time\": 0.0, \"values\": 0.0, \"data_type\": \"sine\"}, {\"time\": 1.0000009259267832, \"values\": 0.24869011256459328, \"data_type\": \"sine\"}, {\"time\": 2.0000018518535665, \"values\": 0.48175408195368935, \"data_type\": \"sine\"}, {\"time\": 3.0000027777803497, \"values\": 0.6845476148451007, \"data_type\": \"sine\"}, {\"time\": 4.000003703707133, \"values\": 0.84432842427234, \"data_type\": \"sine\"}, {\"time\": 5.000004629633916, \"values\": 0.9510568758524424, \"data_type\": \"sine\"}, {\"time\": 6.0000055555606995, \"values\": 0.9980268160994843, \"data_type\": \"sine\"}, {\"time\": 7.000006481487483, \"values\": 0.9822869454878191, \"data_type\": \"sine\"}, {\"time\": 8.000007407414266, \"values\": 0.904826259796995, \"data_type\": \"sine\"}, {\"time\": 9.00000833334105, \"values\": 0.770511907755181, \"data_type\": \"sine\"}, {\"time\": 10.000009259267832, \"values\": 0.5877833696211044, \"data_type\": \"sine\"}, {\"time\": 11.000010185194615, \"values\": 0.3681221726243237, \"data_type\": \"sine\"}, {\"time\": 12.000011111121399, \"values\": 0.1253304630543551, \"data_type\": \"sine\"}, {\"time\": 13.000012037048183, \"values\": -0.12533623494897925, \"data_type\": \"sine\"}, {\"time\": 14.000012962974965, \"values\": -0.36812758184891253, \"data_type\": \"sine\"}, {\"time\": 15.000013888901746, \"values\": -0.5877880762935578, \"data_type\": \"sine\"}, {\"time\": 16.000014814828532, \"values\": -0.770515616137414, \"data_type\": \"sine\"}, {\"time\": 17.000015740755316, \"values\": -0.904828736877284, \"data_type\": \"sine\"}, {\"time\": 18.0000166666821, \"values\": -0.9822880356218129, \"data_type\": \"sine\"}, {\"time\": 19.00001759260888, \"values\": -0.9980264507899285, \"data_type\": \"sine\"}, {\"time\": 20.000018518535665, \"values\": -0.9510550780531223, \"data_type\": \"sine\"}, {\"time\": 21.00001944446245, \"values\": -0.8443253069458068, \"data_type\": \"sine\"}, {\"time\": 22.00002037038923, \"values\": -0.6845433738648058, \"data_type\": \"sine\"}, {\"time\": 23.000021296316014, \"values\": -0.4817489837965128, \"data_type\": \"sine\"}, {\"time\": 24.000022222242798, \"values\": -0.2486844775670903, \"data_type\": \"sine\"}, {\"time\": 25.000023148169582, \"values\": 5.8177695591575005e-06, \"data_type\": \"sine\"}]}}, {\"mode\": \"vega-lite\"});\n",
       "</script>"
      ],
      "text/plain": [
       "alt.Chart(...)"
      ]
     },
     "execution_count": 504,
     "metadata": {},
     "output_type": "execute_result"
    }
   ],
   "source": [
    "sineplot(data, 25, [\"sine\"])"
   ]
  },
  {
   "cell_type": "markdown",
   "metadata": {},
   "source": [
    "![alt text](https://github.com/dormanh/gamma-project/blob/master/plots/sine.png)"
   ]
  },
  {
   "cell_type": "code",
   "execution_count": 503,
   "metadata": {
    "scrolled": false
   },
   "outputs": [
    {
     "data": {
      "text/html": [
       "\n",
       "<div id=\"altair-viz-5c82ce74064c404e84c4d72172addc67\"></div>\n",
       "<script type=\"text/javascript\">\n",
       "  (function(spec, embedOpt){\n",
       "    let outputDiv = document.currentScript.previousElementSibling;\n",
       "    if (outputDiv.id !== \"altair-viz-5c82ce74064c404e84c4d72172addc67\") {\n",
       "      outputDiv = document.getElementById(\"altair-viz-5c82ce74064c404e84c4d72172addc67\");\n",
       "    }\n",
       "    const paths = {\n",
       "      \"vega\": \"https://cdn.jsdelivr.net/npm//vega@5?noext\",\n",
       "      \"vega-lib\": \"https://cdn.jsdelivr.net/npm//vega-lib?noext\",\n",
       "      \"vega-lite\": \"https://cdn.jsdelivr.net/npm//vega-lite@4.8.1?noext\",\n",
       "      \"vega-embed\": \"https://cdn.jsdelivr.net/npm//vega-embed@6?noext\",\n",
       "    };\n",
       "\n",
       "    function loadScript(lib) {\n",
       "      return new Promise(function(resolve, reject) {\n",
       "        var s = document.createElement('script');\n",
       "        s.src = paths[lib];\n",
       "        s.async = true;\n",
       "        s.onload = () => resolve(paths[lib]);\n",
       "        s.onerror = () => reject(`Error loading script: ${paths[lib]}`);\n",
       "        document.getElementsByTagName(\"head\")[0].appendChild(s);\n",
       "      });\n",
       "    }\n",
       "\n",
       "    function showError(err) {\n",
       "      outputDiv.innerHTML = `<div class=\"error\" style=\"color:red;\">${err}</div>`;\n",
       "      throw err;\n",
       "    }\n",
       "\n",
       "    function displayChart(vegaEmbed) {\n",
       "      vegaEmbed(outputDiv, spec, embedOpt)\n",
       "        .catch(err => showError(`Javascript Error: ${err.message}<br>This usually means there's a typo in your chart specification. See the javascript console for the full traceback.`));\n",
       "    }\n",
       "\n",
       "    if(typeof define === \"function\" && define.amd) {\n",
       "      requirejs.config({paths});\n",
       "      require([\"vega-embed\"], displayChart, err => showError(`Error loading script: ${err.message}`));\n",
       "    } else if (typeof vegaEmbed === \"function\") {\n",
       "      displayChart(vegaEmbed);\n",
       "    } else {\n",
       "      loadScript(\"vega\")\n",
       "        .then(() => loadScript(\"vega-lite\"))\n",
       "        .then(() => loadScript(\"vega-embed\"))\n",
       "        .catch(showError)\n",
       "        .then(() => displayChart(vegaEmbed));\n",
       "    }\n",
       "  })({\"config\": {\"view\": {\"continuousWidth\": 400, \"continuousHeight\": 300}}, \"data\": {\"name\": \"data-0464b6043db41dc282ddf681d5bea2a6\"}, \"mark\": \"line\", \"encoding\": {\"color\": {\"type\": \"nominal\", \"field\": \"data_type\"}, \"x\": {\"type\": \"quantitative\", \"field\": \"time\", \"scale\": {\"domain\": [0, 500], \"nice\": false}, \"title\": \"Time (in milliseconds)\"}, \"y\": {\"type\": \"quantitative\", \"field\": \"values\", \"scale\": {\"domain\": [-6.262461225000269, 6.262461225000269]}, \"title\": null}}, \"height\": 400, \"title\": \"First 500 milliseconds of the generated wave\\n\\n\", \"width\": 800, \"$schema\": \"https://vega.github.io/schema/vega-lite/v4.8.1.json\", \"datasets\": {\"data-0464b6043db41dc282ddf681d5bea2a6\": [{\"time\": 0.0, \"values\": 0.0, \"data_type\": \"sine\"}, {\"time\": 1.0000009259267832, \"values\": 0.24869011256459328, \"data_type\": \"sine\"}, {\"time\": 2.0000018518535665, \"values\": 0.48175408195368935, \"data_type\": \"sine\"}, {\"time\": 3.0000027777803497, \"values\": 0.6845476148451007, \"data_type\": \"sine\"}, {\"time\": 4.000003703707133, \"values\": 0.84432842427234, \"data_type\": \"sine\"}, {\"time\": 5.000004629633916, \"values\": 0.9510568758524424, \"data_type\": \"sine\"}, {\"time\": 6.0000055555606995, \"values\": 0.9980268160994843, \"data_type\": \"sine\"}, {\"time\": 7.000006481487483, \"values\": 0.9822869454878191, \"data_type\": \"sine\"}, {\"time\": 8.000007407414266, \"values\": 0.904826259796995, \"data_type\": \"sine\"}, {\"time\": 9.00000833334105, \"values\": 0.770511907755181, \"data_type\": \"sine\"}, {\"time\": 10.000009259267832, \"values\": 0.5877833696211044, \"data_type\": \"sine\"}, {\"time\": 11.000010185194615, \"values\": 0.3681221726243237, \"data_type\": \"sine\"}, {\"time\": 12.000011111121399, \"values\": 0.1253304630543551, \"data_type\": \"sine\"}, {\"time\": 13.000012037048183, \"values\": -0.12533623494897925, \"data_type\": \"sine\"}, {\"time\": 14.000012962974965, \"values\": -0.36812758184891253, \"data_type\": \"sine\"}, {\"time\": 15.000013888901746, \"values\": -0.5877880762935578, \"data_type\": \"sine\"}, {\"time\": 16.000014814828532, \"values\": -0.770515616137414, \"data_type\": \"sine\"}, {\"time\": 17.000015740755316, \"values\": -0.904828736877284, \"data_type\": \"sine\"}, {\"time\": 18.0000166666821, \"values\": -0.9822880356218129, \"data_type\": \"sine\"}, {\"time\": 19.00001759260888, \"values\": -0.9980264507899285, \"data_type\": \"sine\"}, {\"time\": 20.000018518535665, \"values\": -0.9510550780531223, \"data_type\": \"sine\"}, {\"time\": 21.00001944446245, \"values\": -0.8443253069458068, \"data_type\": \"sine\"}, {\"time\": 22.00002037038923, \"values\": -0.6845433738648058, \"data_type\": \"sine\"}, {\"time\": 23.000021296316014, \"values\": -0.4817489837965128, \"data_type\": \"sine\"}, {\"time\": 24.000022222242798, \"values\": -0.2486844775670903, \"data_type\": \"sine\"}, {\"time\": 25.000023148169582, \"values\": 5.8177695591575005e-06, \"data_type\": \"sine\"}, {\"time\": 26.000024074096366, \"values\": 0.24869574755367843, \"data_type\": \"sine\"}, {\"time\": 27.000025000023147, \"values\": 0.4817591800945592, \"data_type\": \"sine\"}, {\"time\": 28.00002592594993, \"values\": 0.6845518558022256, \"data_type\": \"sine\"}, {\"time\": 29.00002685187671, \"values\": 0.844331541570296, \"data_type\": \"sine\"}, {\"time\": 30.000027777803492, \"values\": 0.9510586736195726, \"data_type\": \"sine\"}, {\"time\": 31.000028703730276, \"values\": 0.9980271813752605, \"data_type\": \"sine\"}, {\"time\": 32.000029629657064, \"values\": 0.9822858553205785, \"data_type\": \"sine\"}, {\"time\": 33.00003055558384, \"values\": 0.9048237826860809, \"data_type\": \"sine\"}, {\"time\": 34.00003148151063, \"values\": 0.7705081993468688, \"data_type\": \"sine\"}, {\"time\": 35.00003240743741, \"values\": 0.5877786629287576, \"data_type\": \"sine\"}, {\"time\": 36.0000333333642, \"values\": 0.36811676338727434, \"data_type\": \"sine\"}, {\"time\": 37.00003425929098, \"values\": 0.12532469115548855, \"data_type\": \"sine\"}, {\"time\": 38.00003518521776, \"values\": -0.12534200683936028, \"data_type\": \"sine\"}, {\"time\": 39.000036111144546, \"values\": -0.36813299106104325, \"data_type\": \"sine\"}, {\"time\": 40.00003703707133, \"values\": -0.5877927829461165, \"data_type\": \"sine\"}, {\"time\": 41.00003796299811, \"values\": -0.7705193244935675, \"data_type\": \"sine\"}, {\"time\": 42.0000388889249, \"values\": -0.9048312139269478, \"data_type\": \"sine\"}, {\"time\": 43.000039814851675, \"values\": -0.9822891257225596, \"data_type\": \"sine\"}, {\"time\": 44.00004074077846, \"values\": -0.9980260854465929, \"data_type\": \"sine\"}, {\"time\": 45.00004166670524, \"values\": -0.9510532802216121, \"data_type\": \"sine\"}, {\"time\": 46.00004259263203, \"values\": -0.8443221895906957, \"data_type\": \"sine\"}, {\"time\": 47.00004351855881, \"values\": -0.6845391328613425, \"data_type\": \"sine\"}, {\"time\": 48.000044444485596, \"values\": -0.48174388562303055, \"data_type\": \"sine\"}, {\"time\": 49.00004537041237, \"values\": -0.24867884256117181, \"data_type\": \"sine\"}, {\"time\": 50.000046296339164, \"values\": 1.1635539118118091e-05, \"data_type\": \"sine\"}, {\"time\": 51.00004722226594, \"values\": 0.24870138253434598, \"data_type\": \"sine\"}, {\"time\": 52.00004814819273, \"values\": 0.4817642782191245, \"data_type\": \"sine\"}, {\"time\": 53.00004907411951, \"values\": 0.6845560967361817, \"data_type\": \"sine\"}, {\"time\": 54.00005000004629, \"values\": 0.8443346588396731, \"data_type\": \"sine\"}, {\"time\": 55.00005092597308, \"values\": 0.9510604713545131, \"data_type\": \"sine\"}, {\"time\": 56.00005185189986, \"values\": 0.9980275466172569, \"data_type\": \"sine\"}, {\"time\": 57.00005277782664, \"values\": 0.9822847651200913, \"data_type\": \"sine\"}, {\"time\": 58.00005370375342, \"values\": 0.9048213055445413, \"data_type\": \"sine\"}, {\"time\": 59.00005462968021, \"values\": 0.7705044909124785, \"data_type\": \"sine\"}, {\"time\": 60.000055555606984, \"values\": 0.587773956216515, \"data_type\": \"sine\"}, {\"time\": 61.000056481533775, \"values\": 0.3681113541377656, \"data_type\": \"sine\"}, {\"time\": 62.00005740746055, \"values\": 0.12531891925238198, \"data_type\": \"sine\"}, {\"time\": 63.000058333387344, \"values\": -0.12534777872550204, \"data_type\": \"sine\"}, {\"time\": 64.00005925931413, \"values\": -0.3681384002607115, \"data_type\": \"sine\"}, {\"time\": 65.0000601852409, \"values\": -0.5877974895787799, \"data_type\": \"sine\"}, {\"time\": 66.00006111116768, \"values\": -0.7705230328236423, \"data_type\": \"sine\"}, {\"time\": 67.00006203709448, \"values\": -0.9048336909459856, \"data_type\": \"sine\"}, {\"time\": 68.00006296302126, \"values\": -0.9822902157900595, \"data_type\": \"sine\"}, {\"time\": 69.00006388894803, \"values\": -0.9980257200694779, \"data_type\": \"sine\"}, {\"time\": 70.00006481487482, \"values\": -0.9510514823579133, \"data_type\": \"sine\"}, {\"time\": 71.0000657408016, \"values\": -0.8443190722070083, \"data_type\": \"sine\"}, {\"time\": 72.0000666667284, \"values\": -0.6845348918347074, \"data_type\": \"sine\"}, {\"time\": 73.00006759265517, \"values\": -0.4817387874332445, \"data_type\": \"sine\"}, {\"time\": 74.00006851858195, \"values\": -0.24867320754683298, \"data_type\": \"sine\"}, {\"time\": 75.00006944450874, \"values\": 1.745330867757304e-05, \"data_type\": \"sine\"}, {\"time\": 76.00007037043552, \"values\": 0.248707017506595, \"data_type\": \"sine\"}, {\"time\": 77.0000712963623, \"values\": 0.4817693763273807, \"data_type\": \"sine\"}, {\"time\": 78.00007222228909, \"values\": 0.6845603376469692, \"data_type\": \"sine\"}, {\"time\": 79.00007314821588, \"values\": 0.8443377760804748, \"data_type\": \"sine\"}, {\"time\": 80.00007407414266, \"values\": 0.9510622690572631, \"data_type\": \"sine\"}, {\"time\": 81.00007500006943, \"values\": 0.9980279118254737, \"data_type\": \"sine\"}, {\"time\": 82.00007592599621, \"values\": 0.9822836748863568, \"data_type\": \"sine\"}, {\"time\": 83.00007685192301, \"values\": 0.9048188283723769, \"data_type\": \"sine\"}, {\"time\": 84.0000777778498, \"values\": 0.7705007824520084, \"data_type\": \"sine\"}, {\"time\": 85.00007870377657, \"values\": 0.5877692494843768, \"data_type\": \"sine\"}, {\"time\": 86.00007962970335, \"values\": 0.36810594487579923, \"data_type\": \"sine\"}, {\"time\": 87.00008055563013, \"values\": 0.1253131473450338, \"data_type\": \"sine\"}, {\"time\": 88.00008148155692, \"values\": -0.12535355060739772, \"data_type\": \"sine\"}, {\"time\": 89.0000824074837, \"values\": -0.3681438094479228, \"data_type\": \"sine\"}, {\"time\": 90.00008333341049, \"values\": -0.5878021961915513, \"data_type\": \"sine\"}, {\"time\": 91.00008425933727, \"values\": -0.7705267411276389, \"data_type\": \"sine\"}, {\"time\": 92.00008518526406, \"values\": -0.9048361679343997, \"data_type\": \"sine\"}, {\"time\": 93.00008611119083, \"values\": -0.9822913058243119, \"data_type\": \"sine\"}, {\"time\": 94.00008703711762, \"values\": -0.9980253546585832, \"data_type\": \"sine\"}, {\"time\": 95.00008796304441, \"values\": -0.9510496844620219, \"data_type\": \"sine\"}, {\"time\": 96.00008888897119, \"values\": -0.8443159547947418, \"data_type\": \"sine\"}, {\"time\": 97.00008981489796, \"values\": -0.6845306507849058, \"data_type\": \"sine\"}, {\"time\": 98.00009074082475, \"values\": -0.48173368922715326, \"data_type\": \"sine\"}, {\"time\": 99.00009166675154, \"values\": -0.24866757252408087, \"data_type\": \"sine\"}, {\"time\": 100.00009259267833, \"values\": 2.3271078234660894e-05, \"data_type\": \"sine\"}, {\"time\": 101.0000935186051, \"values\": 0.24871265247042615, \"data_type\": \"sine\"}, {\"time\": 102.00009444453188, \"values\": 0.48177447441933535, \"data_type\": \"sine\"}, {\"time\": 103.00009537045867, \"values\": 0.6845645785345817, \"data_type\": \"sine\"}, {\"time\": 104.00009629638546, \"values\": 0.8443408932926968, \"data_type\": \"sine\"}, {\"time\": 105.00009722231223, \"values\": 0.9510640667278242, \"data_type\": \"sine\"}, {\"time\": 106.00009814823902, \"values\": 0.9980282769999109, \"data_type\": \"sine\"}, {\"time\": 107.0000990741658, \"values\": 0.9822825846193759, \"data_type\": \"sine\"}, {\"time\": 108.00010000009259, \"values\": 0.9048163511695898, \"data_type\": \"sine\"}, {\"time\": 109.00010092601936, \"values\": 0.7704970739654627, \"data_type\": \"sine\"}, {\"time\": 110.00010185194616, \"values\": 0.5877645427323477, \"data_type\": \"sine\"}, {\"time\": 111.00010277787294, \"values\": 0.3681005356013738, \"data_type\": \"sine\"}, {\"time\": 112.00010370379972, \"values\": 0.1253073754334442, \"data_type\": \"sine\"}, {\"time\": 113.0001046297265, \"values\": -0.1253593224850506, \"data_type\": \"sine\"}, {\"time\": 114.00010555565328, \"values\": -0.3681492186226672, \"data_type\": \"sine\"}, {\"time\": 115.00010648158008, \"values\": -0.5878069027844247, \"data_type\": \"sine\"}, {\"time\": 116.00010740750685, \"values\": -0.7705304494055534, \"data_type\": \"sine\"}, {\"time\": 117.00010833343363, \"values\": -0.9048386448921868, \"data_type\": \"sine\"}, {\"time\": 118.00010925936041, \"values\": -0.9822923958253174, \"data_type\": \"sine\"}, {\"time\": 119.0001101852872, \"values\": -0.9980249892139087, \"data_type\": \"sine\"}, {\"time\": 120.00011111121397, \"values\": -0.9510478865339441, \"data_type\": \"sine\"}, {\"time\": 121.00011203714077, \"values\": -0.8443128373539001, \"data_type\": \"sine\"}, {\"time\": 122.00011296306755, \"values\": -0.6845264097119327, \"data_type\": \"sine\"}, {\"time\": 123.00011388899433, \"values\": -0.481728591004754, \"data_type\": \"sine\"}, {\"time\": 124.0001148149211, \"values\": -0.24866193749291227, \"data_type\": \"sine\"}, {\"time\": 125.0001157408479, \"values\": 2.9088847798066535e-05, \"data_type\": \"sine\"}, {\"time\": 126.00011666677469, \"values\": 0.24871828742584617, \"data_type\": \"sine\"}, {\"time\": 127.00011759270147, \"values\": 0.4817795724949837, \"data_type\": \"sine\"}, {\"time\": 128.00011851862826, \"values\": 0.6845688193990294, \"data_type\": \"sine\"}, {\"time\": 129.00011944455503, \"values\": 0.8443440104763409, \"data_type\": \"sine\"}, {\"time\": 130.0001203704818, \"values\": 0.9510658643661928, \"data_type\": \"sine\"}, {\"time\": 131.0001212964086, \"values\": 0.9980286421405681, \"data_type\": \"sine\"}, {\"time\": 132.00012222233536, \"values\": 0.9822814943191476, \"data_type\": \"sine\"}, {\"time\": 133.00012314826216, \"values\": 0.904813873936175, \"data_type\": \"sine\"}, {\"time\": 134.00012407418896, \"values\": 0.7704933654528341, \"data_type\": \"sine\"}, {\"time\": 135.00012500011573, \"values\": 0.587759835960422, \"data_type\": \"sine\"}, {\"time\": 136.00012592604253, \"values\": 0.36809512631448615, \"data_type\": \"sine\"}, {\"time\": 137.0001268519693, \"values\": 0.12530160351760988, \"data_type\": \"sine\"}, {\"time\": 138.00012777789607, \"values\": -0.12536509435846052, \"data_type\": \"sine\"}, {\"time\": 139.00012870382287, \"values\": -0.3681546277849544, \"data_type\": \"sine\"}, {\"time\": 140.00012962974964, \"values\": -0.5878116093574002, \"data_type\": \"sine\"}, {\"time\": 141.00013055567644, \"values\": -0.7705341576573838, \"data_type\": \"sine\"}, {\"time\": 142.0001314816032, \"values\": -0.9048411218193482, \"data_type\": \"sine\"}, {\"time\": 143.00013240752997, \"values\": -0.9822934857930756, \"data_type\": \"sine\"}, {\"time\": 144.0001333334568, \"values\": -0.9980246237354545, \"data_type\": \"sine\"}, {\"time\": 145.00013425938357, \"values\": -0.9510460885736747, \"data_type\": \"sine\"}, {\"time\": 146.00013518531034, \"values\": -0.8443097198844814, \"data_type\": \"sine\"}, {\"time\": 147.00013611123714, \"values\": -0.684522168615796, \"data_type\": \"sine\"}, {\"time\": 148.0001370371639, \"values\": -0.4817234927660499, \"data_type\": \"sine\"}, {\"time\": 149.0001379630907, \"values\": -0.2486563024533239, \"data_type\": \"sine\"}, {\"time\": 150.00013888901748, \"values\": 3.490661734982948e-05, \"data_type\": \"sine\"}, {\"time\": 151.00013981494425, \"values\": 0.2487239223728376, \"data_type\": \"sine\"}, {\"time\": 152.00014074087105, \"values\": 0.4817846705543193, \"data_type\": \"sine\"}, {\"time\": 153.00014166679782, \"values\": 0.6845730602403015, \"data_type\": \"sine\"}, {\"time\": 154.0001425927246, \"values\": 0.8443471276314051, \"data_type\": \"sine\"}, {\"time\": 155.0001435186514, \"values\": 0.9510676619723757, \"data_type\": \"sine\"}, {\"time\": 156.00014444457818, \"values\": 0.9980290072474464, \"data_type\": \"sine\"}, {\"time\": 157.00014537050498, \"values\": 0.9822804039856725, \"data_type\": \"sine\"}, {\"time\": 158.00014629643175, \"values\": 0.9048113966721353, \"data_type\": \"sine\"}, {\"time\": 159.00014722235852, \"values\": 0.7704896569141271, \"data_type\": \"sine\"}, {\"time\": 160.00014814828532, \"values\": 0.5877551291686084, \"data_type\": \"sine\"}, {\"time\": 161.0001490742121, \"values\": 0.3680897170151464, \"data_type\": \"sine\"}, {\"time\": 162.00015000013886, \"values\": 0.12529583159754157, \"data_type\": \"sine\"}, {\"time\": 163.00015092606566, \"values\": -0.12537086622762375, \"data_type\": \"sine\"}, {\"time\": 164.00015185199243, \"values\": -0.3681600369347841, \"data_type\": \"sine\"}, {\"time\": 165.00015277791923, \"values\": -0.5878163159104802, \"data_type\": \"sine\"}, {\"time\": 166.00015370384602, \"values\": -0.7705378658831457, \"data_type\": \"sine\"}, {\"time\": 167.0001546297728, \"values\": -0.9048435987158856, \"data_type\": \"sine\"}, {\"time\": 168.0001555556996, \"values\": -0.9822945757275875, \"data_type\": \"sine\"}, {\"time\": 169.00015648162636, \"values\": -0.9980242582232214, \"data_type\": \"sine\"}, {\"time\": 170.00015740755313, \"values\": -0.9510442905812156, \"data_type\": \"sine\"}, {\"time\": 171.00015833347993, \"values\": -0.8443066023864878, \"data_type\": \"sine\"}, {\"time\": 172.0001592594067, \"values\": -0.6845179274964854, \"data_type\": \"sine\"}, {\"time\": 173.00016018533347, \"values\": -0.4817183945110474, \"data_type\": \"sine\"}, {\"time\": 174.00016111126027, \"values\": -0.24865066740532626, \"data_type\": \"sine\"}, {\"time\": 175.00016203718704, \"values\": 4.0724386900410966e-05, \"data_type\": \"sine\"}, {\"time\": 176.00016296311384, \"values\": 0.24872955731141755, \"data_type\": \"sine\"}, {\"time\": 177.00016388904064, \"values\": 0.4817897685973544, \"data_type\": \"sine\"}, {\"time\": 178.0001648149674, \"values\": 0.6845773010584137, \"data_type\": \"sine\"}, {\"time\": 179.0001657408942, \"values\": 0.8443502447578987, \"data_type\": \"sine\"}, {\"time\": 180.00016666682097, \"values\": 0.9510694595463639, \"data_type\": \"sine\"}, {\"time\": 181.00016759274774, \"values\": 0.9980293723205441, \"data_type\": \"sine\"}, {\"time\": 182.00016851867454, \"values\": 0.9822793136189507, \"data_type\": \"sine\"}, {\"time\": 183.0001694446013, \"values\": 0.9048089193774741, \"data_type\": \"sine\"}, {\"time\": 184.0001703705281, \"values\": 0.7704859483493416, \"data_type\": \"sine\"}, {\"time\": 185.00017129645488, \"values\": 0.5877504223569014, \"data_type\": \"sine\"}, {\"time\": 186.00017222238165, \"values\": 0.36808430770334155, \"data_type\": \"sine\"}, {\"time\": 187.00017314830848, \"values\": 0.12529005967321838, \"data_type\": \"sine\"}, {\"time\": 188.00017407423525, \"values\": -0.12537663809255067, \"data_type\": \"sine\"}, {\"time\": 189.00017500016202, \"values\": -0.36816544607215296, \"data_type\": \"sine\"}, {\"time\": 190.00017592608882, \"values\": -0.5878210224436821, \"data_type\": \"sine\"}, {\"time\": 191.00017685201558, \"values\": -0.7705415740828184, \"data_type\": \"sine\"}, {\"time\": 192.00017777794238, \"values\": -0.9048460755817972, \"data_type\": \"sine\"}, {\"time\": 193.00017870386915, \"values\": -0.9822956656288508, \"data_type\": \"sine\"}, {\"time\": 194.00017962979592, \"values\": -0.998023892677208, \"data_type\": \"sine\"}, {\"time\": 195.00018055572272, \"values\": -0.9510424925565695, \"data_type\": \"sine\"}, {\"time\": 196.0001814816495, \"values\": -0.8443034848599135, \"data_type\": \"sine\"}, {\"time\": 197.00018240757626, \"values\": -0.6845136863540116, \"data_type\": \"sine\"}, {\"time\": 198.0001833335031, \"values\": -0.4817132962397343, \"data_type\": \"sine\"}, {\"time\": 199.00018425942986, \"values\": -0.24864503234890584, \"data_type\": \"sine\"}, {\"time\": 200.00018518535666, \"values\": 4.65421564567195e-05, \"data_type\": \"sine\"}, {\"time\": 201.00018611128343, \"values\": 0.24873519224157883, \"data_type\": \"sine\"}, {\"time\": 202.0001870372102, \"values\": 0.4817948666240764, \"data_type\": \"sine\"}, {\"time\": 203.000187963137, \"values\": 0.6845815418533451, \"data_type\": \"sine\"}, {\"time\": 204.00018888906376, \"values\": 0.8443533618558063, \"data_type\": \"sine\"}, {\"time\": 205.00018981499053, \"values\": 0.9510712570881618, \"data_type\": \"sine\"}, {\"time\": 206.00019074091733, \"values\": 0.9980297373598621, \"data_type\": \"sine\"}, {\"time\": 207.0001916668441, \"values\": 0.9822782232189836, \"data_type\": \"sine\"}, {\"time\": 208.00019259277093, \"values\": 0.9048064420521852, \"data_type\": \"sine\"}, {\"time\": 209.0001935186977, \"values\": 0.770482239758478, \"data_type\": \"sine\"}, {\"time\": 210.00019444462447, \"values\": 0.5877457155252896, \"data_type\": \"sine\"}, {\"time\": 211.00019537055127, \"values\": 0.3680788983790783, \"data_type\": \"sine\"}, {\"time\": 212.00019629647804, \"values\": 0.12528428774466865, \"data_type\": \"sine\"}, {\"time\": 213.0001972224048, \"values\": -0.1253824099532411, \"data_type\": \"sine\"}, {\"time\": 214.0001981483316, \"values\": -0.36817085519705406, \"data_type\": \"sine\"}, {\"time\": 215.00019907425838, \"values\": -0.587825728956971, \"data_type\": \"sine\"}, {\"time\": 216.00020000018517, \"values\": -0.7705452822564112, \"data_type\": \"sine\"}, {\"time\": 217.00020092611194, \"values\": -0.90484855241708, \"data_type\": \"sine\"}, {\"time\": 218.0002018520387, \"values\": -0.9822967554968669, \"data_type\": \"sine\"}, {\"time\": 219.00020277796554, \"values\": -0.9980235270974148, \"data_type\": \"sine\"}, {\"time\": 220.0002037038923, \"values\": -0.9510406944997315, \"data_type\": \"sine\"}, {\"time\": 221.00020462981908, \"values\": -0.8443003673047588, \"data_type\": \"sine\"}, {\"time\": 222.00020555574588, \"values\": -0.6845094451883641, \"data_type\": \"sine\"}, {\"time\": 223.00020648167265, \"values\": -0.48170819795211683, \"data_type\": \"sine\"}, {\"time\": 224.00020740759945, \"values\": -0.24863939728407652, \"data_type\": \"sine\"}, {\"time\": 225.00020833352622, \"values\": 5.2359926011452744e-05, \"data_type\": \"sine\"}, {\"time\": 226.000209259453, \"values\": 0.24874082716331447, \"data_type\": \"sine\"}, {\"time\": 227.00021018537979, \"values\": 0.4817999646344976, \"data_type\": \"sine\"}, {\"time\": 228.00021111130656, \"values\": 0.6845857826251057, \"data_type\": \"sine\"}, {\"time\": 229.00021203723333, \"values\": 0.8443564789251395, \"data_type\": \"sine\"}, {\"time\": 230.00021296316015, \"values\": 0.9510730545977715, \"data_type\": \"sine\"}, {\"time\": 231.00021388908692, \"values\": 0.9980301023654007, \"data_type\": \"sine\"}, {\"time\": 232.0002148150137, \"values\": 0.9822771327857686, \"data_type\": \"sine\"}, {\"time\": 233.0002157409405, \"values\": 0.9048039646962749, \"data_type\": \"sine\"}, {\"time\": 234.00021666686726, \"values\": 0.7704785311415407, \"data_type\": \"sine\"}, {\"time\": 235.00021759279406, \"values\": 0.5877410086737963, \"data_type\": \"sine\"}, {\"time\": 236.00021851872083, \"values\": 0.36807348904236353, \"data_type\": \"sine\"}, {\"time\": 237.0002194446476, \"values\": 0.1252785158118785, \"data_type\": \"sine\"}, {\"time\": 238.0002203705744, \"values\": -0.12538818180967368, \"data_type\": \"sine\"}, {\"time\": 239.00022129650117, \"values\": -0.36817626430950057, \"data_type\": \"sine\"}, {\"time\": 240.00022222242794, \"values\": -0.5878304354503642, \"data_type\": \"sine\"}, {\"time\": 241.00022314835476, \"values\": -0.7705489904039328, \"data_type\": \"sine\"}, {\"time\": 242.00022407428153, \"values\": -0.9048510292217398, \"data_type\": \"sine\"}, {\"time\": 243.00022500020833, \"values\": -0.9822978453316384, \"data_type\": \"sine\"}, {\"time\": 244.0002259261351, \"values\": -0.9980231614838428, \"data_type\": \"sine\"}, {\"time\": 245.00022685206187, \"values\": -0.9510388964107065, \"data_type\": \"sine\"}, {\"time\": 246.00022777798867, \"values\": -0.8442972497210351, \"data_type\": \"sine\"}, {\"time\": 247.00022870391544, \"values\": -0.6845052039995537, \"data_type\": \"sine\"}, {\"time\": 248.0002296298422, \"values\": -0.4817030996482015, \"data_type\": \"sine\"}, {\"time\": 249.000230555769, \"values\": -0.24863376221083167, \"data_type\": \"sine\"}, {\"time\": 250.0002314816958, \"values\": 5.817769557151922e-05, \"data_type\": \"sine\"}, {\"time\": 251.0002324076226, \"values\": 0.24874646207663798, \"data_type\": \"sine\"}, {\"time\": 252.00023333354937, \"values\": 0.4818050626286178, \"data_type\": \"sine\"}, {\"time\": 253.00023425947614, \"values\": 0.6845900233737009, \"data_type\": \"sine\"}, {\"time\": 254.00023518540294, \"values\": 0.8443595959658942, \"data_type\": \"sine\"}, {\"time\": 255.0002361113297, \"values\": 0.9510748520751885, \"data_type\": \"sine\"}, {\"time\": 256.0002370372565, \"values\": 0.9980304673371596, \"data_type\": \"sine\"}, {\"time\": 257.0002379631833, \"values\": 0.9822760423193095, \"data_type\": \"sine\"}, {\"time\": 258.00023888911005, \"values\": 0.9048014873097372, \"data_type\": \"sine\"}, {\"time\": 259.0002398150368, \"values\": 0.77047482249853, \"data_type\": \"sine\"}, {\"time\": 260.0002407409636, \"values\": 0.5877363018024101, \"data_type\": \"sine\"}, {\"time\": 261.0002416668904, \"values\": 0.36806807969318417, \"data_type\": \"sine\"}, {\"time\": 262.0002425928172, \"values\": 0.1252727438748481, \"data_type\": \"sine\"}, {\"time\": 263.00024351874396, \"values\": -0.1253939536618623, \"data_type\": \"sine\"}, {\"time\": 264.0002444446707, \"values\": -0.36818167340948554, \"data_type\": \"sine\"}, {\"time\": 265.0002453705975, \"values\": -0.5878351419238613, \"data_type\": \"sine\"}, {\"time\": 266.0002462965243, \"values\": -0.7705526985253649, \"data_type\": \"sine\"}, {\"time\": 267.00024722245115, \"values\": -0.9048535059957736, \"data_type\": \"sine\"}, {\"time\": 268.0002481483779, \"values\": -0.98229893513316, \"data_type\": \"sine\"}, {\"time\": 269.0002490743047, \"values\": -0.9980227958364914, \"data_type\": \"sine\"}, {\"time\": 270.00025000023146, \"values\": -0.9510370982894878, \"data_type\": \"sine\"}, {\"time\": 271.0002509261583, \"values\": -0.844294132108735, \"data_type\": \"sine\"}, {\"time\": 272.00025185208506, \"values\": -0.6845009627875649, \"data_type\": \"sine\"}, {\"time\": 273.0002527780118, \"values\": -0.4816980013279698, \"data_type\": \"sine\"}, {\"time\": 274.0002537039386, \"values\": -0.24862812712915766, \"data_type\": \"sine\"}, {\"time\": 275.00025462986537, \"values\": 6.399546511540573e-05, \"data_type\": \"sine\"}, {\"time\": 276.00025555579214, \"values\": 0.24875209698153544, \"data_type\": \"sine\"}, {\"time\": 277.00025648171896, \"values\": 0.4818101606064181, \"data_type\": \"sine\"}, {\"time\": 278.00025740764573, \"values\": 0.6845942640991198, \"data_type\": \"sine\"}, {\"time\": 279.0002583335725, \"values\": 0.8443627129780665, \"data_type\": \"sine\"}, {\"time\": 280.0002592594993, \"values\": 0.9510766495204152, \"data_type\": \"sine\"}, {\"time\": 281.00026018542604, \"values\": 0.9980308322751382, \"data_type\": \"sine\"}, {\"time\": 282.00026111135287, \"values\": 0.9822749518196027, \"data_type\": \"sine\"}, {\"time\": 283.00026203727964, \"values\": 0.9047990098925781, \"data_type\": \"sine\"}, {\"time\": 284.0002629632064, \"values\": 0.770471113829428, \"data_type\": \"sine\"}, {\"time\": 285.0002638891332, \"values\": 0.5877315949111309, \"data_type\": \"sine\"}, {\"time\": 286.00026481505995, \"values\": 0.3680626703315536, \"data_type\": \"sine\"}, {\"time\": 287.0002657409868, \"values\": 0.12526697193356356, \"data_type\": \"sine\"}, {\"time\": 288.0002666669136, \"values\": -0.12539972550982087, \"data_type\": \"sine\"}, {\"time\": 289.0002675928404, \"values\": -0.36818708249701554, \"data_type\": \"sine\"}, {\"time\": 290.00026851876714, \"values\": -0.5878398483774739, \"data_type\": \"sine\"}, {\"time\": 291.0002694446939, \"values\": -0.7705564066207257, \"data_type\": \"sine\"}, {\"time\": 292.0002703706207, \"values\": -0.9048559827391784, \"data_type\": \"sine\"}, {\"time\": 293.0002712965475, \"values\": -0.982300024901437, \"data_type\": \"sine\"}, {\"time\": 294.0002722224743, \"values\": -0.9980224301553605, \"data_type\": \"sine\"}, {\"time\": 295.00027314840105, \"values\": -0.9510353001360843, \"data_type\": \"sine\"}, {\"time\": 296.0002740743278, \"values\": -0.8442910144678509, \"data_type\": \"sine\"}, {\"time\": 297.0002750002546, \"values\": -0.6844967215524185, \"data_type\": \"sine\"}, {\"time\": 298.0002759261814, \"values\": -0.4816929029914468, \"data_type\": \"sine\"}, {\"time\": 299.0002768521082, \"values\": -0.24862249203906847, \"data_type\": \"sine\"}, {\"time\": 300.00027777803496, \"values\": 6.981323465712623e-05, \"data_type\": \"sine\"}, {\"time\": 301.0002787039617, \"values\": 0.24875773187802727, \"data_type\": \"sine\"}, {\"time\": 302.0002796298885, \"values\": 0.4818152585679109, \"data_type\": \"sine\"}, {\"time\": 303.00028055581527, \"values\": 0.6845985048013781, \"data_type\": \"sine\"}, {\"time\": 304.0002814817421, \"values\": 0.8443658299616602, \"data_type\": \"sine\"}, {\"time\": 305.00028240766886, \"values\": 0.9510784469334556, \"data_type\": \"sine\"}, {\"time\": 306.00028333359563, \"values\": 0.9980311971793371, \"data_type\": \"sine\"}, {\"time\": 307.0002842595224, \"values\": 0.9822738612866466, \"data_type\": \"sine\"}, {\"time\": 308.0002851854492, \"values\": 0.9047965324447949, \"data_type\": \"sine\"}, {\"time\": 309.000286111376, \"values\": 0.7704674051342574, \"data_type\": \"sine\"}, {\"time\": 310.0002870373028, \"values\": 0.5877268879999363, \"data_type\": \"sine\"}, {\"time\": 311.0002879632296, \"values\": 0.3680572609574522, \"data_type\": \"sine\"}, {\"time\": 312.00028888915637, \"values\": 0.12526119998803922, \"data_type\": \"sine\"}, {\"time\": 313.00028981508314, \"values\": -0.12540549735352105, \"data_type\": \"sine\"}, {\"time\": 314.00029074100996, \"values\": -0.36819249157207046, \"data_type\": \"sine\"}, {\"time\": 315.00029166693673, \"values\": -0.5878445548111787, \"data_type\": \"sine\"}, {\"time\": 316.0002925928635, \"values\": -0.7705601146899967, \"data_type\": \"sine\"}, {\"time\": 317.0002935187903, \"values\": -0.9048584594519571, \"data_type\": \"sine\"}, {\"time\": 318.00029444471704, \"values\": -0.9823011146364639, \"data_type\": \"sine\"}, {\"time\": 319.0002953706438, \"values\": -0.9980220644404492, \"data_type\": \"sine\"}, {\"time\": 320.00029629657064, \"values\": -0.9510335019504916, \"data_type\": \"sine\"}, {\"time\": 321.0002972224974, \"values\": -0.8442878967984059, \"data_type\": \"sine\"}, {\"time\": 322.0002981484242, \"values\": -0.6844924802941043, \"data_type\": \"sine\"}, {\"time\": 323.00029907435095, \"values\": -0.48168780463862015, \"data_type\": \"sine\"}, {\"time\": 324.0003000002777, \"values\": -0.24861685694059182, \"data_type\": \"sine\"}, {\"time\": 325.00030092620455, \"values\": 7.56310041964838e-05, \"data_type\": \"sine\"}, {\"time\": 326.0003018521313, \"values\": 0.24876336676607202, \"data_type\": \"sine\"}, {\"time\": 327.0003027780581, \"values\": 0.481820356513096, \"data_type\": \"sine\"}, {\"time\": 328.00030370398486, \"values\": 0.6846027454804546, \"data_type\": \"sine\"}, {\"time\": 329.0003046299116, \"values\": 0.8443689469166751, \"data_type\": \"sine\"}, {\"time\": 330.00030555583845, \"values\": 0.9510802443142965, \"data_type\": \"sine\"}, {\"time\": 331.0003064817653, \"values\": 0.9980315620497578, \"data_type\": \"sine\"}, {\"time\": 332.00030740769205, \"values\": 0.982272770720444, \"data_type\": \"sine\"}, {\"time\": 333.0003083336188, \"values\": 0.9047940549663814, \"data_type\": \"sine\"}, {\"time\": 334.0003092595456, \"values\": 0.7704636964129999, \"data_type\": \"sine\"}, {\"time\": 335.00031018547236, \"values\": 0.5877221810688721, \"data_type\": \"sine\"}, {\"time\": 336.0003111113992, \"values\": 0.36805185157090664, \"data_type\": \"sine\"}, {\"time\": 337.00031203732595, \"values\": 0.1252554280382893, \"data_type\": \"sine\"}, {\"time\": 338.0003129632527, \"values\": -0.12541126919297665, \"data_type\": \"sine\"}, {\"time\": 339.0003138891795, \"values\": -0.3681979006346634, \"data_type\": \"sine\"}, {\"time\": 340.00031481510626, \"values\": -0.5878492612249985, \"data_type\": \"sine\"}, {\"time\": 341.0003157410331, \"values\": -0.7705638227331871, \"data_type\": \"sine\"}, {\"time\": 342.00031666695986, \"values\": -0.9048609361341095, \"data_type\": \"sine\"}, {\"time\": 343.00031759288663, \"values\": -0.982302204338246, \"data_type\": \"sine\"}, {\"time\": 344.0003185188134, \"values\": -0.9980216986917592, \"data_type\": \"sine\"}, {\"time\": 345.00031944474017, \"values\": -0.9510317037327098, \"data_type\": \"sine\"}, {\"time\": 346.00032037066694, \"values\": -0.8442847791003694, \"data_type\": \"sine\"}, {\"time\": 347.00032129659377, \"values\": -0.6844882390126121, \"data_type\": \"sine\"}, {\"time\": 348.00032222252054, \"values\": -0.4816827062694901, \"data_type\": \"sine\"}, {\"time\": 349.0003231484473, \"values\": -0.24861122183367287, \"data_type\": \"sine\"}, {\"time\": 350.0003240743741, \"values\": 8.144877373328153e-05, \"data_type\": \"sine\"}, {\"time\": 351.00032500030085, \"values\": 0.24876900164572455, \"data_type\": \"sine\"}, {\"time\": 352.0003259262277, \"values\": 0.4818254544419856, \"data_type\": \"sine\"}, {\"time\": 353.0003268521545, \"values\": 0.6846069861363703, \"data_type\": \"sine\"}, {\"time\": 354.00032777808127, \"values\": 0.8443720638431187, \"data_type\": \"sine\"}, {\"time\": 355.00032870400804, \"values\": 0.95108204166296, \"data_type\": \"sine\"}, {\"time\": 356.0003296299348, \"values\": 0.9980319268863971, \"data_type\": \"sine\"}, {\"time\": 357.00033055586164, \"values\": 0.9822716801209977, \"data_type\": \"sine\"}, {\"time\": 358.0003314817884, \"values\": 0.904791577457344, \"data_type\": \"sine\"}, {\"time\": 359.0003324077152, \"values\": 0.7704599876656743, \"data_type\": \"sine\"}, {\"time\": 360.00033333364195, \"values\": 0.5877174741179156, \"data_type\": \"sine\"}, {\"time\": 361.0003342595687, \"values\": 0.3680464421718906, \"data_type\": \"sine\"}, {\"time\": 362.0003351854955, \"values\": 0.12524965608429994, \"data_type\": \"sine\"}, {\"time\": 363.0003361114223, \"values\": -0.12541704102818757, \"data_type\": \"sine\"}, {\"time\": 364.0003370373491, \"values\": -0.36820330968480736, \"data_type\": \"sine\"}, {\"time\": 365.00033796327585, \"values\": -0.5878539676189102, \"data_type\": \"sine\"}, {\"time\": 366.0003388892026, \"values\": -0.7705675307502967, \"data_type\": \"sine\"}, {\"time\": 367.0003398151294, \"values\": -0.9048634127856355, \"data_type\": \"sine\"}, {\"time\": 368.0003407410562, \"values\": -0.9823032940067781, \"data_type\": \"sine\"}, {\"time\": 369.000341666983, \"values\": -0.9980213329092896, \"data_type\": \"sine\"}, {\"time\": 370.00034259290976, \"values\": -0.951029905482739, \"data_type\": \"sine\"}, {\"time\": 371.00034351883653, \"values\": -0.844281661373772, \"data_type\": \"sine\"}, {\"time\": 372.0003444447633, \"values\": -0.6844839977079628, \"data_type\": \"sine\"}, {\"time\": 373.0003453706901, \"values\": -0.48167760788405684, \"data_type\": \"sine\"}, {\"time\": 374.00034629661695, \"values\": -0.2486055867183393, \"data_type\": \"sine\"}, {\"time\": 375.0003472225437, \"values\": 8.726654328153335e-05, \"data_type\": \"sine\"}, {\"time\": 376.0003481484705, \"values\": 0.24877463651694337, \"data_type\": \"sine\"}, {\"time\": 377.00034907439726, \"values\": 0.4818305523545672, \"data_type\": \"sine\"}, {\"time\": 378.00035000032403, \"values\": 0.6846112267691041, \"data_type\": \"sine\"}, {\"time\": 379.00035092625086, \"values\": 0.8443751807409757, \"data_type\": \"sine\"}, {\"time\": 380.00035185217763, \"values\": 0.9510838389794284, \"data_type\": \"sine\"}, {\"time\": 381.0003527781044, \"values\": 0.9980322916892566, \"data_type\": \"sine\"}, {\"time\": 382.00035370403117, \"values\": 0.982270589488305, \"data_type\": \"sine\"}, {\"time\": 383.00035462995794, \"values\": 0.9047890999176946, \"data_type\": \"sine\"}, {\"time\": 384.00035555588477, \"values\": 0.7704562788922621, \"data_type\": \"sine\"}, {\"time\": 385.00035648181154, \"values\": 0.587712767147067, \"data_type\": \"sine\"}, {\"time\": 386.0003574077383, \"values\": 0.3680410327604439, \"data_type\": \"sine\"}, {\"time\": 387.0003583336651, \"values\": 0.12524388412607132, \"data_type\": \"sine\"}, {\"time\": 388.00035925959185, \"values\": -0.12542281285916765, \"data_type\": \"sine\"}, {\"time\": 389.0003601855187, \"values\": -0.3682087187224625, \"data_type\": \"sine\"}, {\"time\": 390.00036111144544, \"values\": -0.5878586739929251, \"data_type\": \"sine\"}, {\"time\": 391.0003620373722, \"values\": -0.7705712387413253, \"data_type\": \"sine\"}, {\"time\": 392.000362963299, \"values\": -0.9048658894065412, \"data_type\": \"sine\"}, {\"time\": 393.00036388922575, \"values\": -0.9823043836420627, \"data_type\": \"sine\"}, {\"time\": 394.0003648151525, \"values\": -0.9980209670930408, \"data_type\": \"sine\"}, {\"time\": 395.0003657410794, \"values\": -0.9510281072005747, \"data_type\": \"sine\"}, {\"time\": 396.0003666670062, \"values\": -0.844278543618576, \"data_type\": \"sine\"}, {\"time\": 397.00036759293295, \"values\": -0.6844797563801357, \"data_type\": \"sine\"}, {\"time\": 398.0003685188597, \"values\": -0.48167250948230805, \"data_type\": \"sine\"}, {\"time\": 399.0003694447865, \"values\": -0.24859995159460507, \"data_type\": \"sine\"}, {\"time\": 400.0003703707133, \"values\": 9.308431281262066e-05, \"data_type\": \"sine\"}, {\"time\": 401.0003712966401, \"values\": 0.2487802713797558, \"data_type\": \"sine\"}, {\"time\": 402.00037222256685, \"values\": 0.481835650250828, \"data_type\": \"sine\"}, {\"time\": 403.0003731484936, \"values\": 0.6846154673786662, \"data_type\": \"sine\"}, {\"time\": 404.0003740744204, \"values\": 0.8443782976102536, \"data_type\": \"sine\"}, {\"time\": 405.00037500034716, \"values\": 0.9510856362637016, \"data_type\": \"sine\"}, {\"time\": 406.000375926274, \"values\": 0.998032656458336, \"data_type\": \"sine\"}, {\"time\": 407.00037685220076, \"values\": 0.982269498822366, \"data_type\": \"sine\"}, {\"time\": 408.00037777812753, \"values\": 0.9047866223474093, \"data_type\": \"sine\"}, {\"time\": 409.0003787040543, \"values\": 0.7704525700927819, \"data_type\": \"sine\"}, {\"time\": 410.00037962998107, \"values\": 0.5877080601563265, \"data_type\": \"sine\"}, {\"time\": 411.0003805559079, \"values\": 0.36803562333651396, \"data_type\": \"sine\"}, {\"time\": 412.00038148183467, \"values\": 0.12523811216360364, \"data_type\": \"sine\"}, {\"time\": 413.00038240776144, \"values\": -0.1254285846858885, \"data_type\": \"sine\"}, {\"time\": 414.0003833336882, \"values\": -0.36821412774768153, \"data_type\": \"sine\"}, {\"time\": 415.000384259615, \"values\": -0.5878633803470431, \"data_type\": \"sine\"}, {\"time\": 416.00038518554186, \"values\": -0.7705749467062818, \"data_type\": \"sine\"}, {\"time\": 417.00038611146863, \"values\": -0.9048683659968205, \"data_type\": \"sine\"}, {\"time\": 418.0003870373954, \"values\": -0.9823054732441024, \"data_type\": \"sine\"}, {\"time\": 419.00038796332217, \"values\": -0.9980206012430115, \"data_type\": \"sine\"}, {\"time\": 420.00038888924894, \"values\": -0.9510263088862216, \"data_type\": \"sine\"}, {\"time\": 421.0003898151757, \"values\": -0.8442754258348194, \"data_type\": \"sine\"}, {\"time\": 422.00039074110254, \"values\": -0.6844755150291518, \"data_type\": \"sine\"}, {\"time\": 423.0003916670293, \"values\": -0.4816674110642563, \"data_type\": \"sine\"}, {\"time\": 424.0003925929561, \"values\": -0.24859431646245664, \"data_type\": \"sine\"}, {\"time\": 425.00039351888285, \"values\": 9.890208234055741e-05, \"data_type\": \"sine\"}, {\"time\": 426.0003944448096, \"values\": 0.24878590623414792, \"data_type\": \"sine\"}, {\"time\": 427.00039537073644, \"values\": 0.4818407481307804, \"data_type\": \"sine\"}, {\"time\": 428.0003962966632, \"values\": 0.6846197079650566, \"data_type\": \"sine\"}, {\"time\": 429.00039722259, \"values\": 0.8443814144509676, \"data_type\": \"sine\"}, {\"time\": 430.00039814851675, \"values\": 0.9510874335157838, \"data_type\": \"sine\"}, {\"time\": 431.0003990744435, \"values\": 0.9980330211936358, \"data_type\": \"sine\"}, {\"time\": 432.00040000037035, \"values\": 0.9822684081231806, \"data_type\": \"sine\"}, {\"time\": 433.0004009262971, \"values\": 0.9047841447465, \"data_type\": \"sine\"}, {\"time\": 434.0004018522239, \"values\": 0.7704488612672244, \"data_type\": \"sine\"}, {\"time\": 435.00040277815066, \"values\": 0.587703353145694, \"data_type\": \"sine\"}, {\"time\": 436.0004037040774, \"values\": 0.36803021390015367, \"data_type\": \"sine\"}, {\"time\": 437.0004046300042, \"values\": 0.12523234019688298, \"data_type\": \"sine\"}, {\"time\": 438.0004055559311, \"values\": -0.12543435650839224, \"data_type\": \"sine\"}, {\"time\": 439.00040648185785, \"values\": -0.36821953676043784, \"data_type\": \"sine\"}, {\"time\": 440.0004074077846, \"values\": -0.5878680866812755, \"data_type\": \"sine\"}, {\"time\": 441.0004083337114, \"values\": -0.7705786546451481, \"data_type\": \"sine\"}, {\"time\": 442.00040925963816, \"values\": -0.9048708425564731, \"data_type\": \"sine\"}, {\"time\": 443.000410185565, \"values\": -0.982306562812892, \"data_type\": \"sine\"}, {\"time\": 444.00041111149176, \"values\": -0.9980202353592036, \"data_type\": \"sine\"}, {\"time\": 445.0004120374185, \"values\": -0.9510245105396885, \"data_type\": \"sine\"}, {\"time\": 446.0004129633453, \"values\": -0.8442723080224793, \"data_type\": \"sine\"}, {\"time\": 447.00041388927207, \"values\": -0.6844712736550009, \"data_type\": \"sine\"}, {\"time\": 448.0004148151989, \"values\": -0.4816623126299268, \"data_type\": \"sine\"}, {\"time\": 449.00041574112566, \"values\": -0.24858868132189416, \"data_type\": \"sine\"}, {\"time\": 450.00041666705243, \"values\": 0.00010471985187935751, \"data_type\": \"sine\"}, {\"time\": 451.0004175929792, \"values\": 0.248791541080092, \"data_type\": \"sine\"}, {\"time\": 452.000418518906, \"values\": 0.4818458459944242, \"data_type\": \"sine\"}, {\"time\": 453.00041944483274, \"values\": 0.6846239485282749, \"data_type\": \"sine\"}, {\"time\": 454.00042037075957, \"values\": 0.8443845312630793, \"data_type\": \"sine\"}, {\"time\": 455.00042129668634, \"values\": 0.9510892307356752, \"data_type\": \"sine\"}, {\"time\": 456.0004222226131, \"values\": 0.9980333858951556, \"data_type\": \"sine\"}, {\"time\": 457.0004231485399, \"values\": 0.9822673173907489, \"data_type\": \"sine\"}, {\"time\": 458.00042407446665, \"values\": 0.9047816671149732, \"data_type\": \"sine\"}, {\"time\": 459.00042500039353, \"values\": 0.7704451524155811, \"data_type\": \"sine\"}, {\"time\": 460.0004259263203, \"values\": 0.5876986461151584, \"data_type\": \"sine\"}, {\"time\": 461.0004268522471, \"values\": 0.36802480445129726, \"data_type\": \"sine\"}, {\"time\": 462.00042777817384, \"values\": 0.12522656822593778, \"data_type\": \"sine\"}, {\"time\": 463.0004287041006, \"values\": -0.1254401283266082, \"data_type\": \"sine\"}, {\"time\": 464.0004296300274, \"values\": -0.368224945760718, \"data_type\": \"sine\"}, {\"time\": 465.0004305559542, \"values\": -0.5878727929955992, \"data_type\": \"sine\"}, {\"time\": 466.000431481881, \"values\": -0.770582362557933, \"data_type\": \"sine\"}, {\"time\": 467.00043240780775, \"values\": -0.9048733190854931, \"data_type\": \"sine\"}, {\"time\": 468.0004333337345, \"values\": -0.982307652348434, \"data_type\": \"sine\"}, {\"time\": 469.0004342596613, \"values\": -0.9980198694416164, \"data_type\": \"sine\"}, {\"time\": 470.0004351855881, \"values\": -0.9510227121609577, \"data_type\": \"sine\"}, {\"time\": 471.0004361115149, \"values\": -0.8442691901815714, \"data_type\": \"sine\"}, {\"time\": 472.00043703744166, \"values\": -0.6844670322576831, \"data_type\": \"sine\"}, {\"time\": 473.0004379633684, \"values\": -0.4816572141792698, \"data_type\": \"sine\"}, {\"time\": 474.0004388892952, \"values\": -0.24858304617291785, \"data_type\": \"sine\"}, {\"time\": 475.000439815222, \"values\": 0.00011053762140040238, \"data_type\": \"sine\"}, {\"time\": 476.0004407411488, \"values\": 0.24879717591764286, \"data_type\": \"sine\"}, {\"time\": 477.00044166707556, \"values\": 0.48185094384175925, \"data_type\": \"sine\"}, {\"time\": 478.00044259300233, \"values\": 0.6846281890683316, \"data_type\": \"sine\"}, {\"time\": 479.0004435189291, \"values\": 0.8443876480466269, \"data_type\": \"sine\"}, {\"time\": 480.0004444448559, \"values\": 0.9510910279233755, \"data_type\": \"sine\"}, {\"time\": 481.00044537078276, \"values\": 0.9980337505628964, \"data_type\": \"sine\"}, {\"time\": 482.0004462967095, \"values\": 0.9822662266250656, \"data_type\": \"sine\"}, {\"time\": 483.0004472226363, \"values\": 0.9047791894528167, \"data_type\": \"sine\"}, {\"time\": 484.00044814856307, \"values\": 0.77044144353787, \"data_type\": \"sine\"}, {\"time\": 485.00044907448984, \"values\": 0.5876939390647313, \"data_type\": \"sine\"}, {\"time\": 486.00045000041666, \"values\": 0.36801939499001096, \"data_type\": \"sine\"}, {\"time\": 487.00045092634343, \"values\": 0.12522079625074, \"data_type\": \"sine\"}, {\"time\": 488.0004518522702, \"values\": -0.12544590014060664, \"data_type\": \"sine\"}, {\"time\": 489.000452778197, \"values\": -0.36823035474853505, \"data_type\": \"sine\"}, {\"time\": 490.00045370412374, \"values\": -0.5878774992900255, \"data_type\": \"sine\"}, {\"time\": 491.00045463005057, \"values\": -0.7705860704446545, \"data_type\": \"sine\"}, {\"time\": 492.00045555597734, \"values\": -0.9048757955838863, \"data_type\": \"sine\"}, {\"time\": 493.0004564819041, \"values\": -0.9823087418507283, \"data_type\": \"sine\"}, {\"time\": 494.0004574078309, \"values\": -0.9980195034902497, \"data_type\": \"sine\"}, {\"time\": 495.00045833375765, \"values\": -0.9510209137500382, \"data_type\": \"sine\"}, {\"time\": 496.0004592596844, \"values\": -0.844266072312088, \"data_type\": \"sine\"}, {\"time\": 497.00046018561125, \"values\": -0.6844627908371985, \"data_type\": \"sine\"}, {\"time\": 498.000461111538, \"values\": -0.48165211571233535, \"data_type\": \"sine\"}, {\"time\": 499.0004620374648, \"values\": -0.2485774110155141, \"data_type\": \"sine\"}, {\"time\": 500.0004629633916, \"values\": 0.00011635539094612764, \"data_type\": \"sine\"}, {\"time\": 0.0, \"values\": -1.1807608357014958, \"data_type\": \"noisy hilbert\"}, {\"time\": 1.0000009259267832, \"values\": -1.2094239012737444, \"data_type\": \"noisy hilbert\"}, {\"time\": 2.0000018518535665, \"values\": -0.9926365059016581, \"data_type\": \"noisy hilbert\"}, {\"time\": 3.0000027777803497, \"values\": -0.5885951278163429, \"data_type\": \"noisy hilbert\"}, {\"time\": 4.000003703707133, \"values\": -0.10330013023791934, \"data_type\": \"noisy hilbert\"}, {\"time\": 5.000004629633916, \"values\": -0.10463461804331944, \"data_type\": \"noisy hilbert\"}, {\"time\": 6.0000055555606995, \"values\": -0.09994498675349546, \"data_type\": \"noisy hilbert\"}, {\"time\": 7.000006481487483, \"values\": 0.4472097884408279, \"data_type\": \"noisy hilbert\"}, {\"time\": 8.000007407414266, \"values\": 0.3333731735069898, \"data_type\": \"noisy hilbert\"}, {\"time\": 9.00000833334105, \"values\": 0.6972533966420609, \"data_type\": \"noisy hilbert\"}, {\"time\": 10.000009259267832, \"values\": 0.8322919230949979, \"data_type\": \"noisy hilbert\"}, {\"time\": 11.000010185194615, \"values\": 0.9534118670362508, \"data_type\": \"noisy hilbert\"}, {\"time\": 12.000011111121399, \"values\": 1.3403724837407351, \"data_type\": \"noisy hilbert\"}, {\"time\": 13.000012037048183, \"values\": 1.663170174073079, \"data_type\": \"noisy hilbert\"}, {\"time\": 14.000012962974965, \"values\": 1.842944093941148, \"data_type\": \"noisy hilbert\"}, {\"time\": 15.000013888901746, \"values\": 2.138634465312481, \"data_type\": \"noisy hilbert\"}, {\"time\": 16.000014814828532, \"values\": 2.1111066238859517, \"data_type\": \"noisy hilbert\"}, {\"time\": 17.000015740755316, \"values\": 2.468637261554252, \"data_type\": \"noisy hilbert\"}, {\"time\": 18.0000166666821, \"values\": 2.8153857548328656, \"data_type\": \"noisy hilbert\"}, {\"time\": 19.00001759260888, \"values\": 2.8256172014462084, \"data_type\": \"noisy hilbert\"}, {\"time\": 20.000018518535665, \"values\": -2.852724594972951, \"data_type\": \"noisy hilbert\"}, {\"time\": 21.00001944446245, \"values\": -2.230756133874907, \"data_type\": \"noisy hilbert\"}, {\"time\": 22.00002037038923, \"values\": -2.3332471019830288, \"data_type\": \"noisy hilbert\"}, {\"time\": 23.000021296316014, \"values\": -2.112489196399386, \"data_type\": \"noisy hilbert\"}, {\"time\": 24.000022222242798, \"values\": -1.3444363582230434, \"data_type\": \"noisy hilbert\"}, {\"time\": 25.000023148169582, \"values\": -1.985393181154243, \"data_type\": \"noisy hilbert\"}, {\"time\": 26.000024074096366, \"values\": -1.3612544482557034, \"data_type\": \"noisy hilbert\"}, {\"time\": 27.000025000023147, \"values\": -1.0869617060358683, \"data_type\": \"noisy hilbert\"}, {\"time\": 28.00002592594993, \"values\": -0.7938249053977222, \"data_type\": \"noisy hilbert\"}, {\"time\": 29.00002685187671, \"values\": -0.13295512456360833, \"data_type\": \"noisy hilbert\"}, {\"time\": 30.000027777803492, \"values\": -0.1750001765127728, \"data_type\": \"noisy hilbert\"}, {\"time\": 31.000028703730276, \"values\": 0.26764968344802154, \"data_type\": \"noisy hilbert\"}, {\"time\": 32.000029629657064, \"values\": 0.5266442816110567, \"data_type\": \"noisy hilbert\"}, {\"time\": 33.00003055558384, \"values\": 0.8077578630439967, \"data_type\": \"noisy hilbert\"}, {\"time\": 34.00003148151063, \"values\": 0.444688872261111, \"data_type\": \"noisy hilbert\"}, {\"time\": 35.00003240743741, \"values\": 0.9149956152797611, \"data_type\": \"noisy hilbert\"}, {\"time\": 36.0000333333642, \"values\": 0.8700658463482771, \"data_type\": \"noisy hilbert\"}, {\"time\": 37.00003425929098, \"values\": 1.3163162763723457, \"data_type\": \"noisy hilbert\"}, {\"time\": 38.00003518521776, \"values\": 1.7456646709615204, \"data_type\": \"noisy hilbert\"}, {\"time\": 39.000036111144546, \"values\": 1.8942629817397691, \"data_type\": \"noisy hilbert\"}, {\"time\": 40.00003703707133, \"values\": 2.305110662150396, \"data_type\": \"noisy hilbert\"}, {\"time\": 41.00003796299811, \"values\": 2.432770654484161, \"data_type\": \"noisy hilbert\"}, {\"time\": 42.0000388889249, \"values\": -3.1312306125001346, \"data_type\": \"noisy hilbert\"}, {\"time\": 43.000039814851675, \"values\": 2.8344866874904104, \"data_type\": \"noisy hilbert\"}, {\"time\": 44.00004074077846, \"values\": 3.012766100277613, \"data_type\": \"noisy hilbert\"}, {\"time\": 45.00004166670524, \"values\": -3.01236817391836, \"data_type\": \"noisy hilbert\"}, {\"time\": 46.00004259263203, \"values\": -2.6096309090581666, \"data_type\": \"noisy hilbert\"}, {\"time\": 47.00004351855881, \"values\": -2.262857526236008, \"data_type\": \"noisy hilbert\"}, {\"time\": 48.000044444485596, \"values\": -2.3893782317933714, \"data_type\": \"noisy hilbert\"}, {\"time\": 49.00004537041237, \"values\": -1.8363100258622036, \"data_type\": \"noisy hilbert\"}, {\"time\": 50.000046296339164, \"values\": -1.7460068286192434, \"data_type\": \"noisy hilbert\"}, {\"time\": 51.00004722226594, \"values\": -1.2775304427083376, \"data_type\": \"noisy hilbert\"}, {\"time\": 52.00004814819273, \"values\": -1.0677538649806653, \"data_type\": \"noisy hilbert\"}, {\"time\": 53.00004907411951, \"values\": -1.0802313188275368, \"data_type\": \"noisy hilbert\"}, {\"time\": 54.00005000004629, \"values\": -0.708674738586717, \"data_type\": \"noisy hilbert\"}, {\"time\": 55.00005092597308, \"values\": -0.31022257571097234, \"data_type\": \"noisy hilbert\"}, {\"time\": 56.00005185189986, \"values\": -0.0547018171969471, \"data_type\": \"noisy hilbert\"}, {\"time\": 57.00005277782664, \"values\": 0.26677628179911184, \"data_type\": \"noisy hilbert\"}, {\"time\": 58.00005370375342, \"values\": 0.6061240004348742, \"data_type\": \"noisy hilbert\"}, {\"time\": 59.00005462968021, \"values\": 0.757076019322792, \"data_type\": \"noisy hilbert\"}, {\"time\": 60.000055555606984, \"values\": 1.0876344442651422, \"data_type\": \"noisy hilbert\"}, {\"time\": 61.000056481533775, \"values\": 1.259732434825933, \"data_type\": \"noisy hilbert\"}, {\"time\": 62.00005740746055, \"values\": 1.6037607863433796, \"data_type\": \"noisy hilbert\"}, {\"time\": 63.000058333387344, \"values\": 2.069220927914989, \"data_type\": \"noisy hilbert\"}, {\"time\": 64.00005925931413, \"values\": 2.0192730485804122, \"data_type\": \"noisy hilbert\"}, {\"time\": 65.0000601852409, \"values\": 2.178307032375201, \"data_type\": \"noisy hilbert\"}, {\"time\": 66.00006111116768, \"values\": 2.7807811428482507, \"data_type\": \"noisy hilbert\"}, {\"time\": 67.00006203709448, \"values\": 2.8659866810984647, \"data_type\": \"noisy hilbert\"}, {\"time\": 68.00006296302126, \"values\": 3.012868393585011, \"data_type\": \"noisy hilbert\"}, {\"time\": 69.00006388894803, \"values\": -2.738119934972313, \"data_type\": \"noisy hilbert\"}, {\"time\": 70.00006481487482, \"values\": -2.7437276603704777, \"data_type\": \"noisy hilbert\"}, {\"time\": 71.0000657408016, \"values\": -2.4387743456067876, \"data_type\": \"noisy hilbert\"}, {\"time\": 72.0000666667284, \"values\": -2.2114577668597293, \"data_type\": \"noisy hilbert\"}, {\"time\": 73.00006759265517, \"values\": -2.3158389352026307, \"data_type\": \"noisy hilbert\"}, {\"time\": 74.00006851858195, \"values\": -1.7204829684926453, \"data_type\": \"noisy hilbert\"}, {\"time\": 75.00006944450874, \"values\": -1.735846647421551, \"data_type\": \"noisy hilbert\"}, {\"time\": 76.00007037043552, \"values\": -1.5059288071367347, \"data_type\": \"noisy hilbert\"}, {\"time\": 77.0000712963623, \"values\": -1.1968332685981053, \"data_type\": \"noisy hilbert\"}, {\"time\": 78.00007222228909, \"values\": -1.013809708506092, \"data_type\": \"noisy hilbert\"}, {\"time\": 79.00007314821588, \"values\": -0.5547259438515725, \"data_type\": \"noisy hilbert\"}, {\"time\": 80.00007407414266, \"values\": -0.6690475938750037, \"data_type\": \"noisy hilbert\"}, {\"time\": 81.00007500006943, \"values\": -0.31633292811347863, \"data_type\": \"noisy hilbert\"}, {\"time\": 82.00007592599621, \"values\": 0.23678165544341484, \"data_type\": \"noisy hilbert\"}, {\"time\": 83.00007685192301, \"values\": 0.31051102036128825, \"data_type\": \"noisy hilbert\"}, {\"time\": 84.0000777778498, \"values\": 0.06802405726449412, \"data_type\": \"noisy hilbert\"}, {\"time\": 85.00007870377657, \"values\": 0.7256420280447028, \"data_type\": \"noisy hilbert\"}, {\"time\": 86.00007962970335, \"values\": 1.0027393383203713, \"data_type\": \"noisy hilbert\"}, {\"time\": 87.00008055563013, \"values\": 1.5028182803689296, \"data_type\": \"noisy hilbert\"}, {\"time\": 88.00008148155692, \"values\": 2.0237346816505846, \"data_type\": \"noisy hilbert\"}, {\"time\": 89.0000824074837, \"values\": 1.7473294196372473, \"data_type\": \"noisy hilbert\"}, {\"time\": 90.00008333341049, \"values\": 2.3778220758268542, \"data_type\": \"noisy hilbert\"}, {\"time\": 91.00008425933727, \"values\": 2.3594571361949415, \"data_type\": \"noisy hilbert\"}, {\"time\": 92.00008518526406, \"values\": 2.7451434730936857, \"data_type\": \"noisy hilbert\"}, {\"time\": 93.00008611119083, \"values\": 2.9777201174783574, \"data_type\": \"noisy hilbert\"}, {\"time\": 94.00008703711762, \"values\": -3.0349025744427984, \"data_type\": \"noisy hilbert\"}, {\"time\": 95.00008796304441, \"values\": -2.7904635752069242, \"data_type\": \"noisy hilbert\"}, {\"time\": 96.00008888897119, \"values\": -2.4722802318861317, \"data_type\": \"noisy hilbert\"}, {\"time\": 97.00008981489796, \"values\": -1.9694815905916394, \"data_type\": \"noisy hilbert\"}, {\"time\": 98.00009074082475, \"values\": -2.1662806913398276, \"data_type\": \"noisy hilbert\"}, {\"time\": 99.00009166675154, \"values\": -1.719079763279613, \"data_type\": \"noisy hilbert\"}, {\"time\": 100.00009259267833, \"values\": -1.1289750804922496, \"data_type\": \"noisy hilbert\"}, {\"time\": 101.0000935186051, \"values\": -1.6093153547401697, \"data_type\": \"noisy hilbert\"}, {\"time\": 102.00009444453188, \"values\": -1.3860390977684018, \"data_type\": \"noisy hilbert\"}, {\"time\": 103.00009537045867, \"values\": -0.6736412281706821, \"data_type\": \"noisy hilbert\"}, {\"time\": 104.00009629638546, \"values\": -0.8680478536346297, \"data_type\": \"noisy hilbert\"}, {\"time\": 105.00009722231223, \"values\": -0.36651706629435815, \"data_type\": \"noisy hilbert\"}, {\"time\": 106.00009814823902, \"values\": 0.20717870254784554, \"data_type\": \"noisy hilbert\"}, {\"time\": 107.0000990741658, \"values\": -0.24355997186456804, \"data_type\": \"noisy hilbert\"}, {\"time\": 108.00010000009259, \"values\": 0.11393689982425038, \"data_type\": \"noisy hilbert\"}, {\"time\": 109.00010092601936, \"values\": 0.5420730095885425, \"data_type\": \"noisy hilbert\"}, {\"time\": 110.00010185194616, \"values\": 0.7005042520387965, \"data_type\": \"noisy hilbert\"}, {\"time\": 111.00010277787294, \"values\": 1.179550146283469, \"data_type\": \"noisy hilbert\"}, {\"time\": 112.00010370379972, \"values\": 1.6222870121072865, \"data_type\": \"noisy hilbert\"}, {\"time\": 113.0001046297265, \"values\": 1.3180322110596256, \"data_type\": \"noisy hilbert\"}, {\"time\": 114.00010555565328, \"values\": 1.9218712027772065, \"data_type\": \"noisy hilbert\"}, {\"time\": 115.00010648158008, \"values\": 2.1298446956443082, \"data_type\": \"noisy hilbert\"}, {\"time\": 116.00010740750685, \"values\": 2.161965101431225, \"data_type\": \"noisy hilbert\"}, {\"time\": 117.00010833343363, \"values\": 2.6472596368718517, \"data_type\": \"noisy hilbert\"}, {\"time\": 118.00010925936041, \"values\": 2.9312934896468783, \"data_type\": \"noisy hilbert\"}, {\"time\": 119.0001101852872, \"values\": 3.063883558066727, \"data_type\": \"noisy hilbert\"}, {\"time\": 120.00011111121397, \"values\": -3.0941538293066153, \"data_type\": \"noisy hilbert\"}, {\"time\": 121.00011203714077, \"values\": -2.7885244634566133, \"data_type\": \"noisy hilbert\"}, {\"time\": 122.00011296306755, \"values\": -2.1450433250770553, \"data_type\": \"noisy hilbert\"}, {\"time\": 123.00011388899433, \"values\": -1.897038092010903, \"data_type\": \"noisy hilbert\"}, {\"time\": 124.0001148149211, \"values\": -2.0086166744530782, \"data_type\": \"noisy hilbert\"}, {\"time\": 125.0001157408479, \"values\": -1.60238849423366, \"data_type\": \"noisy hilbert\"}, {\"time\": 126.00011666677469, \"values\": -1.4305876140287466, \"data_type\": \"noisy hilbert\"}, {\"time\": 127.00011759270147, \"values\": -0.8265537615259247, \"data_type\": \"noisy hilbert\"}, {\"time\": 128.00011851862826, \"values\": -0.5429614821029777, \"data_type\": \"noisy hilbert\"}, {\"time\": 129.00011944455503, \"values\": -0.3052447259154915, \"data_type\": \"noisy hilbert\"}, {\"time\": 130.0001203704818, \"values\": -0.23253922913476952, \"data_type\": \"noisy hilbert\"}, {\"time\": 131.0001212964086, \"values\": 0.0007911250166677616, \"data_type\": \"noisy hilbert\"}, {\"time\": 132.00012222233536, \"values\": 0.4006317913460496, \"data_type\": \"noisy hilbert\"}, {\"time\": 133.00012314826216, \"values\": 0.43189003535707476, \"data_type\": \"noisy hilbert\"}, {\"time\": 134.00012407418896, \"values\": 0.8226257960543782, \"data_type\": \"noisy hilbert\"}, {\"time\": 135.00012500011573, \"values\": 0.7399851182941495, \"data_type\": \"noisy hilbert\"}, {\"time\": 136.00012592604253, \"values\": 1.1751363234492995, \"data_type\": \"noisy hilbert\"}, {\"time\": 137.0001268519693, \"values\": 1.4909514027078097, \"data_type\": \"noisy hilbert\"}, {\"time\": 138.00012777789607, \"values\": 1.6102603063294434, \"data_type\": \"noisy hilbert\"}, {\"time\": 139.00012870382287, \"values\": 2.036727403008645, \"data_type\": \"noisy hilbert\"}, {\"time\": 140.00012962974964, \"values\": 2.5122449920858125, \"data_type\": \"noisy hilbert\"}, {\"time\": 141.00013055567644, \"values\": 2.5915325387015313, \"data_type\": \"noisy hilbert\"}, {\"time\": 142.0001314816032, \"values\": 2.7299463877140235, \"data_type\": \"noisy hilbert\"}, {\"time\": 143.00013240752997, \"values\": -3.0909686482339493, \"data_type\": \"noisy hilbert\"}, {\"time\": 144.0001333334568, \"values\": -3.007500588922108, \"data_type\": \"noisy hilbert\"}, {\"time\": 145.00013425938357, \"values\": 2.909887986403273, \"data_type\": \"noisy hilbert\"}, {\"time\": 146.00013518531034, \"values\": -2.7247043627637932, \"data_type\": \"noisy hilbert\"}, {\"time\": 147.00013611123714, \"values\": -2.269233545165321, \"data_type\": \"noisy hilbert\"}, {\"time\": 148.0001370371639, \"values\": -2.476526026974291, \"data_type\": \"noisy hilbert\"}, {\"time\": 149.0001379630907, \"values\": -1.8809243288328132, \"data_type\": \"noisy hilbert\"}, {\"time\": 150.00013888901748, \"values\": -1.58355389491837, \"data_type\": \"noisy hilbert\"}, {\"time\": 151.00013981494425, \"values\": -0.9924445526452312, \"data_type\": \"noisy hilbert\"}, {\"time\": 152.00014074087105, \"values\": -0.8904718219171935, \"data_type\": \"noisy hilbert\"}, {\"time\": 153.00014166679782, \"values\": -1.0112922289590245, \"data_type\": \"noisy hilbert\"}, {\"time\": 154.0001425927246, \"values\": -0.41483803022143445, \"data_type\": \"noisy hilbert\"}, {\"time\": 155.0001435186514, \"values\": -0.48778368611206296, \"data_type\": \"noisy hilbert\"}, {\"time\": 156.00014444457818, \"values\": 0.05050041973989136, \"data_type\": \"noisy hilbert\"}, {\"time\": 157.00014537050498, \"values\": 0.5591569178801501, \"data_type\": \"noisy hilbert\"}, {\"time\": 158.00014629643175, \"values\": 0.45891863674494554, \"data_type\": \"noisy hilbert\"}, {\"time\": 159.00014722235852, \"values\": 0.7106213295107113, \"data_type\": \"noisy hilbert\"}, {\"time\": 160.00014814828532, \"values\": 0.8352436544727209, \"data_type\": \"noisy hilbert\"}, {\"time\": 161.0001490742121, \"values\": 0.8019048809210279, \"data_type\": \"noisy hilbert\"}, {\"time\": 162.00015000013886, \"values\": 1.325753771814347, \"data_type\": \"noisy hilbert\"}, {\"time\": 163.00015092606566, \"values\": 1.6567785203301006, \"data_type\": \"noisy hilbert\"}, {\"time\": 164.00015185199243, \"values\": 2.10956463920587, \"data_type\": \"noisy hilbert\"}, {\"time\": 165.00015277791923, \"values\": 2.079734226727781, \"data_type\": \"noisy hilbert\"}, {\"time\": 166.00015370384602, \"values\": 2.319984978416811, \"data_type\": \"noisy hilbert\"}, {\"time\": 167.0001546297728, \"values\": 3.0644233365144036, \"data_type\": \"noisy hilbert\"}, {\"time\": 168.0001555556996, \"values\": 3.018738414530608, \"data_type\": \"noisy hilbert\"}, {\"time\": 169.00015648162636, \"values\": -3.069113684410307, \"data_type\": \"noisy hilbert\"}, {\"time\": 170.00015740755313, \"values\": -2.8551201385925817, \"data_type\": \"noisy hilbert\"}, {\"time\": 171.00015833347993, \"values\": -2.6409290091260464, \"data_type\": \"noisy hilbert\"}, {\"time\": 172.0001592594067, \"values\": -2.3507096166012995, \"data_type\": \"noisy hilbert\"}, {\"time\": 173.00016018533347, \"values\": -2.430395111349196, \"data_type\": \"noisy hilbert\"}, {\"time\": 174.00016111126027, \"values\": -2.0037298968457358, \"data_type\": \"noisy hilbert\"}, {\"time\": 175.00016203718704, \"values\": -1.423986459877405, \"data_type\": \"noisy hilbert\"}, {\"time\": 176.00016296311384, \"values\": -1.4426496046503516, \"data_type\": \"noisy hilbert\"}, {\"time\": 177.00016388904064, \"values\": -1.2005305102576316, \"data_type\": \"noisy hilbert\"}, {\"time\": 178.0001648149674, \"values\": -0.8130491013668367, \"data_type\": \"noisy hilbert\"}, {\"time\": 179.0001657408942, \"values\": -0.5694263172299469, \"data_type\": \"noisy hilbert\"}, {\"time\": 180.00016666682097, \"values\": 0.010396891562591834, \"data_type\": \"noisy hilbert\"}, {\"time\": 181.00016759274774, \"values\": -0.0695486288473104, \"data_type\": \"noisy hilbert\"}, {\"time\": 182.00016851867454, \"values\": 0.4106388804302652, \"data_type\": \"noisy hilbert\"}, {\"time\": 183.0001694446013, \"values\": 0.5633357835909142, \"data_type\": \"noisy hilbert\"}, {\"time\": 184.0001703705281, \"values\": 0.5085846869119223, \"data_type\": \"noisy hilbert\"}, {\"time\": 185.00017129645488, \"values\": 1.3121250049556055, \"data_type\": \"noisy hilbert\"}, {\"time\": 186.00017222238165, \"values\": 1.316918745934712, \"data_type\": \"noisy hilbert\"}, {\"time\": 187.00017314830848, \"values\": 1.4293216415799144, \"data_type\": \"noisy hilbert\"}, {\"time\": 188.00017407423525, \"values\": 1.9440755628655146, \"data_type\": \"noisy hilbert\"}, {\"time\": 189.00017500016202, \"values\": 1.6375535902565563, \"data_type\": \"noisy hilbert\"}, {\"time\": 190.00017592608882, \"values\": 2.3007575324946954, \"data_type\": \"noisy hilbert\"}, {\"time\": 191.00017685201558, \"values\": 2.7102448074765326, \"data_type\": \"noisy hilbert\"}, {\"time\": 192.00017777794238, \"values\": 2.547808367221548, \"data_type\": \"noisy hilbert\"}, {\"time\": 193.00017870386915, \"values\": -3.08059371921317, \"data_type\": \"noisy hilbert\"}, {\"time\": 194.00017962979592, \"values\": -2.9103962608569347, \"data_type\": \"noisy hilbert\"}, {\"time\": 195.00018055572272, \"values\": -2.6662946994175267, \"data_type\": \"noisy hilbert\"}, {\"time\": 196.0001814816495, \"values\": -2.333685815257028, \"data_type\": \"noisy hilbert\"}, {\"time\": 197.00018240757626, \"values\": -2.0729372490858493, \"data_type\": \"noisy hilbert\"}, {\"time\": 198.0001833335031, \"values\": -1.6238111709980279, \"data_type\": \"noisy hilbert\"}, {\"time\": 199.00018425942986, \"values\": -1.5438722818863513, \"data_type\": \"noisy hilbert\"}, {\"time\": 200.00018518535666, \"values\": -1.669946277741842, \"data_type\": \"noisy hilbert\"}, {\"time\": 201.00018611128343, \"values\": -1.3880966680738063, \"data_type\": \"noisy hilbert\"}, {\"time\": 202.0001870372102, \"values\": -0.8640836317121724, \"data_type\": \"noisy hilbert\"}, {\"time\": 203.000187963137, \"values\": -0.6611343690839506, \"data_type\": \"noisy hilbert\"}, {\"time\": 204.00018888906376, \"values\": -0.17053838506000263, \"data_type\": \"noisy hilbert\"}, {\"time\": 205.00018981499053, \"values\": -0.2556882019823153, \"data_type\": \"noisy hilbert\"}, {\"time\": 206.00019074091733, \"values\": -0.10316938701667558, \"data_type\": \"noisy hilbert\"}, {\"time\": 207.0001916668441, \"values\": 0.2428155960530523, \"data_type\": \"noisy hilbert\"}, {\"time\": 208.00019259277093, \"values\": 0.32918441207214316, \"data_type\": \"noisy hilbert\"}, {\"time\": 209.0001935186977, \"values\": 0.6933367555068987, \"data_type\": \"noisy hilbert\"}, {\"time\": 210.00019444462447, \"values\": 0.7743634831414634, \"data_type\": \"noisy hilbert\"}, {\"time\": 211.00019537055127, \"values\": 1.184525158331108, \"data_type\": \"noisy hilbert\"}, {\"time\": 212.00019629647804, \"values\": 1.3172274131022585, \"data_type\": \"noisy hilbert\"}, {\"time\": 213.0001972224048, \"values\": 1.736296684319917, \"data_type\": \"noisy hilbert\"}, {\"time\": 214.0001981483316, \"values\": 2.1138026299623127, \"data_type\": \"noisy hilbert\"}, {\"time\": 215.00019907425838, \"values\": 2.2830885160230987, \"data_type\": \"noisy hilbert\"}, {\"time\": 216.00020000018517, \"values\": 2.535319100119465, \"data_type\": \"noisy hilbert\"}, {\"time\": 217.00020092611194, \"values\": 2.8138995184099582, \"data_type\": \"noisy hilbert\"}, {\"time\": 218.0002018520387, \"values\": 2.7252965335604817, \"data_type\": \"noisy hilbert\"}, {\"time\": 219.00020277796554, \"values\": 2.697599347047737, \"data_type\": \"noisy hilbert\"}, {\"time\": 220.0002037038923, \"values\": -2.908868430070139, \"data_type\": \"noisy hilbert\"}, {\"time\": 221.00020462981908, \"values\": -2.7682582446824098, \"data_type\": \"noisy hilbert\"}, {\"time\": 222.00020555574588, \"values\": -2.3319616975459323, \"data_type\": \"noisy hilbert\"}, {\"time\": 223.00020648167265, \"values\": -2.116785385825661, \"data_type\": \"noisy hilbert\"}, {\"time\": 224.00020740759945, \"values\": -2.121833386854582, \"data_type\": \"noisy hilbert\"}, {\"time\": 225.00020833352622, \"values\": -1.5592672060986037, \"data_type\": \"noisy hilbert\"}, {\"time\": 226.000209259453, \"values\": -1.2796157565271509, \"data_type\": \"noisy hilbert\"}, {\"time\": 227.00021018537979, \"values\": -0.9394309230674263, \"data_type\": \"noisy hilbert\"}, {\"time\": 228.00021111130656, \"values\": -0.8288177855021107, \"data_type\": \"noisy hilbert\"}, {\"time\": 229.00021203723333, \"values\": -0.45236505891980944, \"data_type\": \"noisy hilbert\"}, {\"time\": 230.00021296316015, \"values\": -0.34574231591696103, \"data_type\": \"noisy hilbert\"}, {\"time\": 231.00021388908692, \"values\": -0.17841494331380786, \"data_type\": \"noisy hilbert\"}, {\"time\": 232.0002148150137, \"values\": 0.13018195870494248, \"data_type\": \"noisy hilbert\"}, {\"time\": 233.0002157409405, \"values\": 0.3821123205127097, \"data_type\": \"noisy hilbert\"}, {\"time\": 234.00021666686726, \"values\": 0.9034279735655788, \"data_type\": \"noisy hilbert\"}, {\"time\": 235.00021759279406, \"values\": 0.5292075861134912, \"data_type\": \"noisy hilbert\"}, {\"time\": 236.00021851872083, \"values\": 1.1038096358928686, \"data_type\": \"noisy hilbert\"}, {\"time\": 237.0002194446476, \"values\": 1.828107919759771, \"data_type\": \"noisy hilbert\"}, {\"time\": 238.0002203705744, \"values\": 1.6244113658770296, \"data_type\": \"noisy hilbert\"}, {\"time\": 239.00022129650117, \"values\": 1.7782651333783726, \"data_type\": \"noisy hilbert\"}, {\"time\": 240.00022222242794, \"values\": 2.2158249851133083, \"data_type\": \"noisy hilbert\"}, {\"time\": 241.00022314835476, \"values\": 2.5124730439761005, \"data_type\": \"noisy hilbert\"}, {\"time\": 242.00022407428153, \"values\": 2.6555649537961346, \"data_type\": \"noisy hilbert\"}, {\"time\": 243.00022500020833, \"values\": 2.957147595163404, \"data_type\": \"noisy hilbert\"}, {\"time\": 244.0002259261351, \"values\": 3.047825573067581, \"data_type\": \"noisy hilbert\"}, {\"time\": 245.00022685206187, \"values\": -2.808584747828118, \"data_type\": \"noisy hilbert\"}, {\"time\": 246.00022777798867, \"values\": -2.2088719271987367, \"data_type\": \"noisy hilbert\"}, {\"time\": 247.00022870391544, \"values\": -2.3501893759898618, \"data_type\": \"noisy hilbert\"}, {\"time\": 248.0002296298422, \"values\": -2.387570254584937, \"data_type\": \"noisy hilbert\"}, {\"time\": 249.000230555769, \"values\": -2.0472673530590173, \"data_type\": \"noisy hilbert\"}, {\"time\": 250.0002314816958, \"values\": -1.476857838785958, \"data_type\": \"noisy hilbert\"}, {\"time\": 251.0002324076226, \"values\": -1.418232186541808, \"data_type\": \"noisy hilbert\"}, {\"time\": 252.00023333354937, \"values\": -1.0925771360471797, \"data_type\": \"noisy hilbert\"}, {\"time\": 253.00023425947614, \"values\": -0.8117306025556481, \"data_type\": \"noisy hilbert\"}, {\"time\": 254.00023518540294, \"values\": -0.6110394129929314, \"data_type\": \"noisy hilbert\"}, {\"time\": 255.0002361113297, \"values\": 0.025765297566966223, \"data_type\": \"noisy hilbert\"}, {\"time\": 256.0002370372565, \"values\": 0.1413780028525363, \"data_type\": \"noisy hilbert\"}, {\"time\": 257.0002379631833, \"values\": 0.5599107826499918, \"data_type\": \"noisy hilbert\"}, {\"time\": 258.00023888911005, \"values\": 0.2854408443694281, \"data_type\": \"noisy hilbert\"}, {\"time\": 259.0002398150368, \"values\": 0.6369014558279771, \"data_type\": \"noisy hilbert\"}, {\"time\": 260.0002407409636, \"values\": 1.1884146933624598, \"data_type\": \"noisy hilbert\"}, {\"time\": 261.0002416668904, \"values\": 1.2733134941882012, \"data_type\": \"noisy hilbert\"}, {\"time\": 262.0002425928172, \"values\": 1.5641232567244472, \"data_type\": \"noisy hilbert\"}, {\"time\": 263.00024351874396, \"values\": 1.6977376383102856, \"data_type\": \"noisy hilbert\"}, {\"time\": 264.0002444446707, \"values\": 2.293061828079652, \"data_type\": \"noisy hilbert\"}, {\"time\": 265.0002453705975, \"values\": 2.4820079825371404, \"data_type\": \"noisy hilbert\"}, {\"time\": 266.0002462965243, \"values\": 2.3809881525726126, \"data_type\": \"noisy hilbert\"}, {\"time\": 267.00024722245115, \"values\": 2.73832286019343, \"data_type\": \"noisy hilbert\"}, {\"time\": 268.0002481483779, \"values\": 2.9276097109325967, \"data_type\": \"noisy hilbert\"}, {\"time\": 269.0002490743047, \"values\": -2.8965680412402857, \"data_type\": \"noisy hilbert\"}, {\"time\": 270.00025000023146, \"values\": -3.1075034519279314, \"data_type\": \"noisy hilbert\"}, {\"time\": 271.0002509261583, \"values\": -2.663880533332925, \"data_type\": \"noisy hilbert\"}, {\"time\": 272.00025185208506, \"values\": -1.8095114090858757, \"data_type\": \"noisy hilbert\"}, {\"time\": 273.0002527780118, \"values\": -2.230371545736583, \"data_type\": \"noisy hilbert\"}, {\"time\": 274.0002537039386, \"values\": -1.902128761886139, \"data_type\": \"noisy hilbert\"}, {\"time\": 275.00025462986537, \"values\": -1.650601844061766, \"data_type\": \"noisy hilbert\"}, {\"time\": 276.00025555579214, \"values\": -1.2955927558227722, \"data_type\": \"noisy hilbert\"}, {\"time\": 277.00025648171896, \"values\": -0.8495157562410883, \"data_type\": \"noisy hilbert\"}, {\"time\": 278.00025740764573, \"values\": -1.3398059203918626, \"data_type\": \"noisy hilbert\"}, {\"time\": 279.0002583335725, \"values\": -0.5189128938048182, \"data_type\": \"noisy hilbert\"}, {\"time\": 280.0002592594993, \"values\": -0.34805957812882027, \"data_type\": \"noisy hilbert\"}, {\"time\": 281.00026018542604, \"values\": -0.04218754862691501, \"data_type\": \"noisy hilbert\"}, {\"time\": 282.00026111135287, \"values\": 0.11966398433686647, \"data_type\": \"noisy hilbert\"}, {\"time\": 283.00026203727964, \"values\": 0.23473159440877317, \"data_type\": \"noisy hilbert\"}, {\"time\": 284.0002629632064, \"values\": 0.7351184820832019, \"data_type\": \"noisy hilbert\"}, {\"time\": 285.0002638891332, \"values\": 0.900743538486301, \"data_type\": \"noisy hilbert\"}, {\"time\": 286.00026481505995, \"values\": 1.3990851691128021, \"data_type\": \"noisy hilbert\"}, {\"time\": 287.0002657409868, \"values\": 1.113954292531598, \"data_type\": \"noisy hilbert\"}, {\"time\": 288.0002666669136, \"values\": 1.5593423146127976, \"data_type\": \"noisy hilbert\"}, {\"time\": 289.0002675928404, \"values\": 1.6809160483262686, \"data_type\": \"noisy hilbert\"}, {\"time\": 290.00026851876714, \"values\": 2.121520880239685, \"data_type\": \"noisy hilbert\"}, {\"time\": 291.0002694446939, \"values\": 2.8087954367199175, \"data_type\": \"noisy hilbert\"}, {\"time\": 292.0002703706207, \"values\": 2.2284820714185747, \"data_type\": \"noisy hilbert\"}, {\"time\": 293.0002712965475, \"values\": 2.738412342557369, \"data_type\": \"noisy hilbert\"}, {\"time\": 294.0002722224743, \"values\": -2.862863385781587, \"data_type\": \"noisy hilbert\"}, {\"time\": 295.00027314840105, \"values\": -2.8801322466265145, \"data_type\": \"noisy hilbert\"}, {\"time\": 296.0002740743278, \"values\": -2.6328435191469266, \"data_type\": \"noisy hilbert\"}, {\"time\": 297.0002750002546, \"values\": -2.372272063943344, \"data_type\": \"noisy hilbert\"}, {\"time\": 298.0002759261814, \"values\": -2.1897995195764253, \"data_type\": \"noisy hilbert\"}, {\"time\": 299.0002768521082, \"values\": -1.7872744688758373, \"data_type\": \"noisy hilbert\"}, {\"time\": 300.00027777803496, \"values\": -1.825020343390474, \"data_type\": \"noisy hilbert\"}, {\"time\": 301.0002787039617, \"values\": -1.08108707990184, \"data_type\": \"noisy hilbert\"}, {\"time\": 302.0002796298885, \"values\": -0.7582582550376803, \"data_type\": \"noisy hilbert\"}, {\"time\": 303.00028055581527, \"values\": -0.9683146038142131, \"data_type\": \"noisy hilbert\"}, {\"time\": 304.0002814817421, \"values\": -0.35429957730372097, \"data_type\": \"noisy hilbert\"}, {\"time\": 305.00028240766886, \"values\": -0.07439928566897197, \"data_type\": \"noisy hilbert\"}, {\"time\": 306.00028333359563, \"values\": 0.17372783473318615, \"data_type\": \"noisy hilbert\"}, {\"time\": 307.0002842595224, \"values\": 0.006252754504223808, \"data_type\": \"noisy hilbert\"}, {\"time\": 308.0002851854492, \"values\": 0.2879397489398997, \"data_type\": \"noisy hilbert\"}, {\"time\": 309.000286111376, \"values\": 0.8107567335798239, \"data_type\": \"noisy hilbert\"}, {\"time\": 310.0002870373028, \"values\": 0.8890323744749075, \"data_type\": \"noisy hilbert\"}, {\"time\": 311.0002879632296, \"values\": 1.0852429829735233, \"data_type\": \"noisy hilbert\"}, {\"time\": 312.00028888915637, \"values\": 1.6507581956919033, \"data_type\": \"noisy hilbert\"}, {\"time\": 313.00028981508314, \"values\": 1.854491109129645, \"data_type\": \"noisy hilbert\"}, {\"time\": 314.00029074100996, \"values\": 2.020807478447099, \"data_type\": \"noisy hilbert\"}, {\"time\": 315.00029166693673, \"values\": 2.211158252841295, \"data_type\": \"noisy hilbert\"}, {\"time\": 316.0002925928635, \"values\": 2.3852228020136375, \"data_type\": \"noisy hilbert\"}, {\"time\": 317.0002935187903, \"values\": 2.7064063140458052, \"data_type\": \"noisy hilbert\"}, {\"time\": 318.00029444471704, \"values\": 2.90793430896416, \"data_type\": \"noisy hilbert\"}, {\"time\": 319.0002953706438, \"values\": 3.1095424012425377, \"data_type\": \"noisy hilbert\"}, {\"time\": 320.00029629657064, \"values\": -2.9753926484434623, \"data_type\": \"noisy hilbert\"}, {\"time\": 321.0002972224974, \"values\": -2.599867454807906, \"data_type\": \"noisy hilbert\"}, {\"time\": 322.0002981484242, \"values\": -2.281759067022238, \"data_type\": \"noisy hilbert\"}, {\"time\": 323.00029907435095, \"values\": -2.32704276602717, \"data_type\": \"noisy hilbert\"}, {\"time\": 324.0003000002777, \"values\": -1.9705335716367895, \"data_type\": \"noisy hilbert\"}, {\"time\": 325.00030092620455, \"values\": -1.6276235694278878, \"data_type\": \"noisy hilbert\"}, {\"time\": 326.0003018521313, \"values\": -1.4077423016279216, \"data_type\": \"noisy hilbert\"}, {\"time\": 327.0003027780581, \"values\": -0.7403990029608969, \"data_type\": \"noisy hilbert\"}, {\"time\": 328.00030370398486, \"values\": -0.7554049035215553, \"data_type\": \"noisy hilbert\"}, {\"time\": 329.0003046299116, \"values\": -0.5978938513568761, \"data_type\": \"noisy hilbert\"}, {\"time\": 330.00030555583845, \"values\": 0.07892854501868303, \"data_type\": \"noisy hilbert\"}, {\"time\": 331.0003064817653, \"values\": 0.03711220216704268, \"data_type\": \"noisy hilbert\"}, {\"time\": 332.00030740769205, \"values\": 0.2217538519741975, \"data_type\": \"noisy hilbert\"}, {\"time\": 333.0003083336188, \"values\": 0.9477995342311129, \"data_type\": \"noisy hilbert\"}, {\"time\": 334.0003092595456, \"values\": 1.048898390613539, \"data_type\": \"noisy hilbert\"}, {\"time\": 335.00031018547236, \"values\": 0.7971581925496777, \"data_type\": \"noisy hilbert\"}, {\"time\": 336.0003111113992, \"values\": 1.5523546298171995, \"data_type\": \"noisy hilbert\"}, {\"time\": 337.00031203732595, \"values\": 1.2814408947479135, \"data_type\": \"noisy hilbert\"}, {\"time\": 338.0003129632527, \"values\": 1.8422822616284698, \"data_type\": \"noisy hilbert\"}, {\"time\": 339.0003138891795, \"values\": 1.6308735174050308, \"data_type\": \"noisy hilbert\"}, {\"time\": 340.00031481510626, \"values\": 1.871497522558255, \"data_type\": \"noisy hilbert\"}, {\"time\": 341.0003157410331, \"values\": 2.4204303751772067, \"data_type\": \"noisy hilbert\"}, {\"time\": 342.00031666695986, \"values\": 2.5691773529319053, \"data_type\": \"noisy hilbert\"}, {\"time\": 343.00031759288663, \"values\": 3.045331746139237, \"data_type\": \"noisy hilbert\"}, {\"time\": 344.0003185188134, \"values\": -3.058897924614324, \"data_type\": \"noisy hilbert\"}, {\"time\": 345.00031944474017, \"values\": -2.7589062070295265, \"data_type\": \"noisy hilbert\"}, {\"time\": 346.00032037066694, \"values\": -2.6092971015163866, \"data_type\": \"noisy hilbert\"}, {\"time\": 347.00032129659377, \"values\": -2.1965800046823647, \"data_type\": \"noisy hilbert\"}, {\"time\": 348.00032222252054, \"values\": -2.001315364038129, \"data_type\": \"noisy hilbert\"}, {\"time\": 349.0003231484473, \"values\": -1.7678398901530656, \"data_type\": \"noisy hilbert\"}, {\"time\": 350.0003240743741, \"values\": -1.7873361317584688, \"data_type\": \"noisy hilbert\"}, {\"time\": 351.00032500030085, \"values\": -1.6027106101221806, \"data_type\": \"noisy hilbert\"}, {\"time\": 352.0003259262277, \"values\": -0.8694924121472778, \"data_type\": \"noisy hilbert\"}, {\"time\": 353.0003268521545, \"values\": -0.7182767986063959, \"data_type\": \"noisy hilbert\"}, {\"time\": 354.00032777808127, \"values\": -0.6657798242151449, \"data_type\": \"noisy hilbert\"}, {\"time\": 355.00032870400804, \"values\": -0.1958107700700217, \"data_type\": \"noisy hilbert\"}, {\"time\": 356.0003296299348, \"values\": -0.16696668809905696, \"data_type\": \"noisy hilbert\"}, {\"time\": 357.00033055586164, \"values\": -0.08719994167638147, \"data_type\": \"noisy hilbert\"}, {\"time\": 358.0003314817884, \"values\": 0.32960744244276113, \"data_type\": \"noisy hilbert\"}, {\"time\": 359.0003324077152, \"values\": 0.3628598025372823, \"data_type\": \"noisy hilbert\"}, {\"time\": 360.00033333364195, \"values\": 0.8793907933651212, \"data_type\": \"noisy hilbert\"}, {\"time\": 361.0003342595687, \"values\": 1.1426442495873985, \"data_type\": \"noisy hilbert\"}, {\"time\": 362.0003351854955, \"values\": 1.2713206091561795, \"data_type\": \"noisy hilbert\"}, {\"time\": 363.0003361114223, \"values\": 1.6240481929849, \"data_type\": \"noisy hilbert\"}, {\"time\": 364.0003370373491, \"values\": 1.9135228900491492, \"data_type\": \"noisy hilbert\"}, {\"time\": 365.00033796327585, \"values\": 2.1610170257181354, \"data_type\": \"noisy hilbert\"}, {\"time\": 366.0003388892026, \"values\": 2.345585944350596, \"data_type\": \"noisy hilbert\"}, {\"time\": 367.0003398151294, \"values\": 2.754725768481905, \"data_type\": \"noisy hilbert\"}, {\"time\": 368.0003407410562, \"values\": 2.793424637833535, \"data_type\": \"noisy hilbert\"}, {\"time\": 369.000341666983, \"values\": -2.9969067011938297, \"data_type\": \"noisy hilbert\"}, {\"time\": 370.00034259290976, \"values\": -2.8336098920764763, \"data_type\": \"noisy hilbert\"}, {\"time\": 371.00034351883653, \"values\": -2.6028756034247036, \"data_type\": \"noisy hilbert\"}, {\"time\": 372.0003444447633, \"values\": -2.126921459829736, \"data_type\": \"noisy hilbert\"}, {\"time\": 373.0003453706901, \"values\": -2.175508646200529, \"data_type\": \"noisy hilbert\"}, {\"time\": 374.00034629661695, \"values\": -1.7959039904685838, \"data_type\": \"noisy hilbert\"}, {\"time\": 375.0003472225437, \"values\": -1.4706789364480755, \"data_type\": \"noisy hilbert\"}, {\"time\": 376.0003481484705, \"values\": -1.0998069925111964, \"data_type\": \"noisy hilbert\"}, {\"time\": 377.00034907439726, \"values\": -1.3196093775965259, \"data_type\": \"noisy hilbert\"}, {\"time\": 378.00035000032403, \"values\": -0.9938432440325535, \"data_type\": \"noisy hilbert\"}, {\"time\": 379.00035092625086, \"values\": -0.23664431583226817, \"data_type\": \"noisy hilbert\"}, {\"time\": 380.00035185217763, \"values\": -0.3241550100765892, \"data_type\": \"noisy hilbert\"}, {\"time\": 381.0003527781044, \"values\": -0.011470774901251275, \"data_type\": \"noisy hilbert\"}, {\"time\": 382.00035370403117, \"values\": 0.7267094737010188, \"data_type\": \"noisy hilbert\"}, {\"time\": 383.00035462995794, \"values\": 0.0598832984540966, \"data_type\": \"noisy hilbert\"}, {\"time\": 384.00035555588477, \"values\": 0.7972926193637447, \"data_type\": \"noisy hilbert\"}, {\"time\": 385.00035648181154, \"values\": 1.2218037129234893, \"data_type\": \"noisy hilbert\"}, {\"time\": 386.0003574077383, \"values\": 1.3787977583592368, \"data_type\": \"noisy hilbert\"}, {\"time\": 387.0003583336651, \"values\": 1.8779284651962107, \"data_type\": \"noisy hilbert\"}, {\"time\": 388.00035925959185, \"values\": 1.2963507905828788, \"data_type\": \"noisy hilbert\"}, {\"time\": 389.0003601855187, \"values\": 1.9101060757162023, \"data_type\": \"noisy hilbert\"}, {\"time\": 390.00036111144544, \"values\": 2.110962171957177, \"data_type\": \"noisy hilbert\"}, {\"time\": 391.0003620373722, \"values\": 2.4205167680718076, \"data_type\": \"noisy hilbert\"}, {\"time\": 392.000362963299, \"values\": 2.652488779216905, \"data_type\": \"noisy hilbert\"}, {\"time\": 393.00036388922575, \"values\": 3.051313680649035, \"data_type\": \"noisy hilbert\"}, {\"time\": 394.0003648151525, \"values\": -2.86304375283158, \"data_type\": \"noisy hilbert\"}, {\"time\": 395.0003657410794, \"values\": -2.695899649498087, \"data_type\": \"noisy hilbert\"}, {\"time\": 396.0003666670062, \"values\": -2.201037345282905, \"data_type\": \"noisy hilbert\"}, {\"time\": 397.00036759293295, \"values\": -2.080755250450161, \"data_type\": \"noisy hilbert\"}, {\"time\": 398.0003685188597, \"values\": -1.7710839298642231, \"data_type\": \"noisy hilbert\"}, {\"time\": 399.0003694447865, \"values\": -1.6818928714527555, \"data_type\": \"noisy hilbert\"}, {\"time\": 400.0003703707133, \"values\": -1.716777022221702, \"data_type\": \"noisy hilbert\"}, {\"time\": 401.0003712966401, \"values\": -1.5458810601163708, \"data_type\": \"noisy hilbert\"}, {\"time\": 402.00037222256685, \"values\": -1.041149747612001, \"data_type\": \"noisy hilbert\"}, {\"time\": 403.0003731484936, \"values\": -0.5177785692238288, \"data_type\": \"noisy hilbert\"}, {\"time\": 404.0003740744204, \"values\": -0.8854794330006734, \"data_type\": \"noisy hilbert\"}, {\"time\": 405.00037500034716, \"values\": -0.5225499629258524, \"data_type\": \"noisy hilbert\"}, {\"time\": 406.000375926274, \"values\": -0.042723348802406774, \"data_type\": \"noisy hilbert\"}, {\"time\": 407.00037685220076, \"values\": 0.27703564094939837, \"data_type\": \"noisy hilbert\"}, {\"time\": 408.00037777812753, \"values\": 0.5032145848614641, \"data_type\": \"noisy hilbert\"}, {\"time\": 409.0003787040543, \"values\": 0.8890608457048165, \"data_type\": \"noisy hilbert\"}, {\"time\": 410.00037962998107, \"values\": 1.0918105222558163, \"data_type\": \"noisy hilbert\"}, {\"time\": 411.0003805559079, \"values\": 0.9062453108176427, \"data_type\": \"noisy hilbert\"}, {\"time\": 412.00038148183467, \"values\": 1.5093608677826624, \"data_type\": \"noisy hilbert\"}, {\"time\": 413.00038240776144, \"values\": 1.8419614289121384, \"data_type\": \"noisy hilbert\"}, {\"time\": 414.0003833336882, \"values\": 1.5984296489736576, \"data_type\": \"noisy hilbert\"}, {\"time\": 415.000384259615, \"values\": 2.04769878017197, \"data_type\": \"noisy hilbert\"}, {\"time\": 416.00038518554186, \"values\": 2.399365856219038, \"data_type\": \"noisy hilbert\"}, {\"time\": 417.00038611146863, \"values\": 2.7885768605989285, \"data_type\": \"noisy hilbert\"}, {\"time\": 418.0003870373954, \"values\": 3.1112925618421854, \"data_type\": \"noisy hilbert\"}, {\"time\": 419.00038796332217, \"values\": 2.9535371318273422, \"data_type\": \"noisy hilbert\"}, {\"time\": 420.00038888924894, \"values\": -3.012537076316416, \"data_type\": \"noisy hilbert\"}, {\"time\": 421.0003898151757, \"values\": -3.0337657502181568, \"data_type\": \"noisy hilbert\"}, {\"time\": 422.00039074110254, \"values\": -2.706664142375726, \"data_type\": \"noisy hilbert\"}, {\"time\": 423.0003916670293, \"values\": -1.9764821164204216, \"data_type\": \"noisy hilbert\"}, {\"time\": 424.0003925929561, \"values\": -1.917588660164627, \"data_type\": \"noisy hilbert\"}, {\"time\": 425.00039351888285, \"values\": -1.5542635372481302, \"data_type\": \"noisy hilbert\"}, {\"time\": 426.0003944448096, \"values\": -0.883081287171676, \"data_type\": \"noisy hilbert\"}, {\"time\": 427.00039537073644, \"values\": -1.665555814345012, \"data_type\": \"noisy hilbert\"}, {\"time\": 428.0003962966632, \"values\": -1.0576252579914456, \"data_type\": \"noisy hilbert\"}, {\"time\": 429.00039722259, \"values\": -0.5441257618757022, \"data_type\": \"noisy hilbert\"}, {\"time\": 430.00039814851675, \"values\": -0.21319602388873105, \"data_type\": \"noisy hilbert\"}, {\"time\": 431.0003990744435, \"values\": -0.2967731894316789, \"data_type\": \"noisy hilbert\"}, {\"time\": 432.00040000037035, \"values\": -0.05028418165279563, \"data_type\": \"noisy hilbert\"}, {\"time\": 433.0004009262971, \"values\": 0.558583588696879, \"data_type\": \"noisy hilbert\"}, {\"time\": 434.0004018522239, \"values\": 0.7814886799066965, \"data_type\": \"noisy hilbert\"}, {\"time\": 435.00040277815066, \"values\": 0.737454742843817, \"data_type\": \"noisy hilbert\"}, {\"time\": 436.0004037040774, \"values\": 1.0636767023453668, \"data_type\": \"noisy hilbert\"}, {\"time\": 437.0004046300042, \"values\": 1.4443071686380737, \"data_type\": \"noisy hilbert\"}, {\"time\": 438.0004055559311, \"values\": 1.5367457352473273, \"data_type\": \"noisy hilbert\"}, {\"time\": 439.00040648185785, \"values\": 1.8787252979001803, \"data_type\": \"noisy hilbert\"}, {\"time\": 440.0004074077846, \"values\": 2.181079932111699, \"data_type\": \"noisy hilbert\"}, {\"time\": 441.0004083337114, \"values\": 2.57752446753657, \"data_type\": \"noisy hilbert\"}, {\"time\": 442.00040925963816, \"values\": 2.866122487975372, \"data_type\": \"noisy hilbert\"}, {\"time\": 443.000410185565, \"values\": 3.0283471059233307, \"data_type\": \"noisy hilbert\"}, {\"time\": 444.00041111149176, \"values\": -3.0724210361632966, \"data_type\": \"noisy hilbert\"}, {\"time\": 445.0004120374185, \"values\": -2.9616583508480665, \"data_type\": \"noisy hilbert\"}, {\"time\": 446.0004129633453, \"values\": -2.5745395391719406, \"data_type\": \"noisy hilbert\"}, {\"time\": 447.00041388927207, \"values\": -2.6485903138166256, \"data_type\": \"noisy hilbert\"}, {\"time\": 448.0004148151989, \"values\": -2.1134790110673247, \"data_type\": \"noisy hilbert\"}, {\"time\": 449.00041574112566, \"values\": -1.8692057055854425, \"data_type\": \"noisy hilbert\"}, {\"time\": 450.00041666705243, \"values\": -1.7444847291155474, \"data_type\": \"noisy hilbert\"}, {\"time\": 451.0004175929792, \"values\": -1.2216316282928414, \"data_type\": \"noisy hilbert\"}, {\"time\": 452.000418518906, \"values\": -0.9927177019608011, \"data_type\": \"noisy hilbert\"}, {\"time\": 453.00041944483274, \"values\": -0.7542997569361962, \"data_type\": \"noisy hilbert\"}, {\"time\": 454.00042037075957, \"values\": -0.6260934381930037, \"data_type\": \"noisy hilbert\"}, {\"time\": 455.00042129668634, \"values\": -0.1189844104636365, \"data_type\": \"noisy hilbert\"}, {\"time\": 456.0004222226131, \"values\": 0.49449643291073486, \"data_type\": \"noisy hilbert\"}, {\"time\": 457.0004231485399, \"values\": 0.3364945984728379, \"data_type\": \"noisy hilbert\"}, {\"time\": 458.00042407446665, \"values\": 0.25958386474822626, \"data_type\": \"noisy hilbert\"}, {\"time\": 459.00042500039353, \"values\": 0.8045068895635135, \"data_type\": \"noisy hilbert\"}, {\"time\": 460.0004259263203, \"values\": 1.0472529804910906, \"data_type\": \"noisy hilbert\"}, {\"time\": 461.0004268522471, \"values\": 1.4005983115676353, \"data_type\": \"noisy hilbert\"}, {\"time\": 462.00042777817384, \"values\": 1.5209787281991294, \"data_type\": \"noisy hilbert\"}, {\"time\": 463.0004287041006, \"values\": 1.6536681414554473, \"data_type\": \"noisy hilbert\"}, {\"time\": 464.0004296300274, \"values\": 2.2060102733262674, \"data_type\": \"noisy hilbert\"}, {\"time\": 465.0004305559542, \"values\": 1.6830086288536168, \"data_type\": \"noisy hilbert\"}, {\"time\": 466.000431481881, \"values\": 2.321232566401573, \"data_type\": \"noisy hilbert\"}, {\"time\": 467.00043240780775, \"values\": 2.64378433218373, \"data_type\": \"noisy hilbert\"}, {\"time\": 468.0004333337345, \"values\": 3.021630435913888, \"data_type\": \"noisy hilbert\"}, {\"time\": 469.0004342596613, \"values\": -2.888716333083474, \"data_type\": \"noisy hilbert\"}, {\"time\": 470.0004351855881, \"values\": -3.013774208642747, \"data_type\": \"noisy hilbert\"}, {\"time\": 471.0004361115149, \"values\": -2.3136115874642753, \"data_type\": \"noisy hilbert\"}, {\"time\": 472.00043703744166, \"values\": -2.380282195212835, \"data_type\": \"noisy hilbert\"}, {\"time\": 473.0004379633684, \"values\": -1.9875806914915712, \"data_type\": \"noisy hilbert\"}, {\"time\": 474.0004388892952, \"values\": -1.485297499009931, \"data_type\": \"noisy hilbert\"}, {\"time\": 475.000439815222, \"values\": -1.3988906341296554, \"data_type\": \"noisy hilbert\"}, {\"time\": 476.0004407411488, \"values\": -0.9841393677602509, \"data_type\": \"noisy hilbert\"}, {\"time\": 477.00044166707556, \"values\": -1.2471625575148348, \"data_type\": \"noisy hilbert\"}, {\"time\": 478.00044259300233, \"values\": -0.7649538304745445, \"data_type\": \"noisy hilbert\"}, {\"time\": 479.0004435189291, \"values\": -0.4595356162256472, \"data_type\": \"noisy hilbert\"}, {\"time\": 480.0004444448559, \"values\": -0.2875717083985087, \"data_type\": \"noisy hilbert\"}, {\"time\": 481.00044537078276, \"values\": 0.11256061989785741, \"data_type\": \"noisy hilbert\"}, {\"time\": 482.0004462967095, \"values\": 0.537273979603171, \"data_type\": \"noisy hilbert\"}, {\"time\": 483.0004472226363, \"values\": 0.24199098347242598, \"data_type\": \"noisy hilbert\"}, {\"time\": 484.00044814856307, \"values\": 0.7848327930948328, \"data_type\": \"noisy hilbert\"}, {\"time\": 485.00044907448984, \"values\": 1.4935229955677616, \"data_type\": \"noisy hilbert\"}, {\"time\": 486.00045000041666, \"values\": 0.6634521232213404, \"data_type\": \"noisy hilbert\"}, {\"time\": 487.00045092634343, \"values\": 1.382477735318728, \"data_type\": \"noisy hilbert\"}, {\"time\": 488.0004518522702, \"values\": 1.7140802964664767, \"data_type\": \"noisy hilbert\"}, {\"time\": 489.000452778197, \"values\": 1.8631863008306537, \"data_type\": \"noisy hilbert\"}, {\"time\": 490.00045370412374, \"values\": 2.3432225184634325, \"data_type\": \"noisy hilbert\"}, {\"time\": 491.00045463005057, \"values\": 2.7318064887128823, \"data_type\": \"noisy hilbert\"}, {\"time\": 492.00045555597734, \"values\": 2.8181254646128164, \"data_type\": \"noisy hilbert\"}, {\"time\": 493.0004564819041, \"values\": 3.0592094851450753, \"data_type\": \"noisy hilbert\"}, {\"time\": 494.0004574078309, \"values\": 2.882612948670326, \"data_type\": \"noisy hilbert\"}, {\"time\": 495.00045833375765, \"values\": 2.899039796946629, \"data_type\": \"noisy hilbert\"}, {\"time\": 496.0004592596844, \"values\": -2.732185904454428, \"data_type\": \"noisy hilbert\"}, {\"time\": 497.00046018561125, \"values\": -2.5647173455947456, \"data_type\": \"noisy hilbert\"}, {\"time\": 498.000461111538, \"values\": -2.225051582601916, \"data_type\": \"noisy hilbert\"}, {\"time\": 499.0004620374648, \"values\": -1.8183433637794737, \"data_type\": \"noisy hilbert\"}, {\"time\": 500.0004629633916, \"values\": -1.4931262362967304, \"data_type\": \"noisy hilbert\"}]}}, {\"mode\": \"vega-lite\"});\n",
       "</script>"
      ],
      "text/plain": [
       "alt.Chart(...)"
      ]
     },
     "execution_count": 503,
     "metadata": {},
     "output_type": "execute_result"
    }
   ],
   "source": [
    "sineplot(data, 500, [\"sine\", \"noisy hilbert\"])"
   ]
  },
  {
   "cell_type": "markdown",
   "metadata": {},
   "source": [
    "![alt text](https://github.com/dormanh/gamma-project/blob/master/plots/noisy_sine_gamma.png)"
   ]
  },
  {
   "cell_type": "markdown",
   "metadata": {},
   "source": [
    "### Mintavétel <a id=\"sampling\"></a>"
   ]
  },
  {
   "cell_type": "markdown",
   "metadata": {},
   "source": [
    "#### [vissza](#top)"
   ]
  },
  {
   "cell_type": "markdown",
   "metadata": {},
   "source": [
    "Beosztom az adatot 18 trial-re, és mindegyikből random fázisértékről indítva veszek egy 8 $\\times$ 48 ms-os mintát."
   ]
  },
  {
   "cell_type": "code",
   "execution_count": 899,
   "metadata": {},
   "outputs": [],
   "source": [
    "def sampler(data, phase=25, trials=18, sample_size=8, sample_length=48):\n",
    "\n",
    "    sections = data.reshape(trials, -1)\n",
    "    start_from = np.random.choice(\n",
    "        np.arange(sections.shape[1] - sample_size * sample_length), trials\n",
    "    )\n",
    "\n",
    "    return {\n",
    "        \"starting phases\": np.array(\n",
    "            [[(s + 48 * n) % 25 for n in range(sample_size)] for s in start_from]\n",
    "        ),\n",
    "        \"samples\": np.array(\n",
    "            [\n",
    "                sections[trial, s : s + sample_size * sample_length].reshape(\n",
    "                    sample_size, sample_length\n",
    "                )\n",
    "                for trial, s in enumerate(start_from)\n",
    "            ]\n",
    "        ),\n",
    "    }"
   ]
  },
  {
   "cell_type": "code",
   "execution_count": 900,
   "metadata": {},
   "outputs": [],
   "source": [
    "np.random.seed(0)\n",
    "samples = sampler(data[\"hilbert\"].values)\n",
    "noisy_samples = sampler(data[\"noisy hilbert\"].values)"
   ]
  },
  {
   "cell_type": "markdown",
   "metadata": {},
   "source": [
    "Az alábbi két függvény kiválasztja a felismert és nem felismert képekhez tartozó szakaszokat.\n",
    "- A ```random_split``` véletlenszerűen választ és várható értéken 4-4 (felismert-nem felismert) szakaszra osztja a mintát. Hogy megfeleljen a kísérleti design-nak, ez nem determinisztikus, hanem minden szakasz 50% valószínűséggel kerül a felismertek közé (tehát lehet olyan trial, ahol több, mint 4 vagy kevesebb, mint 4 felismert kép van).\n",
    "- A ```synced_split``` azokat a szakaszokat sorolja be a felismert képekhez, amelyek kezdőértéke a fázis adott tartományába esik. Ez hivatott szimulálni azt az esetet, mikor a felismert képek egybeesnek a gamma fázisával. Az egybeesés nem teljes, mert úgy nem minden trial-ben lennének mindkét esetre minták, és összességében a felismert képek aránya jóval kisebb lenne, mint az előző esetben.\n",
    "\n",
    "A függvények ezután minden trial-re kiszámolják a két csoport (felismert és nem felismert) átlagának különbségét. Így egy 18 $\\times$ 48-as mátrixot kapunk."
   ]
  },
  {
   "cell_type": "code",
   "execution_count": 885,
   "metadata": {},
   "outputs": [],
   "source": [
    "def random_split(samples):\n",
    "\n",
    "    recognized = np.random.binomial(1, 0.5, size=samples[\"samples\"].shape[:2]).astype(bool)\n",
    "\n",
    "    return np.array(\n",
    "        [\n",
    "            sample[np.where(recognized[trial])].mean(axis=0)\n",
    "            - sample[np.where(~recognized[trial])].mean(axis=0)\n",
    "            for trial, sample in enumerate(samples[\"samples\"])\n",
    "        ]\n",
    "    )"
   ]
  },
  {
   "cell_type": "code",
   "execution_count": 902,
   "metadata": {},
   "outputs": [],
   "source": [
    "def synced_split(samples):\n",
    "\n",
    "    return np.array(\n",
    "        [\n",
    "            np.array(\n",
    "                [\n",
    "                    s\n",
    "                    for k, s in enumerate(sample)\n",
    "                    if samples[\"starting phases\"][trial, k] <= 12\n",
    "                ]\n",
    "            ).mean(axis=0)\n",
    "            - np.array(\n",
    "                [\n",
    "                    s\n",
    "                    for k, s in enumerate(sample)\n",
    "                    if samples[\"starting phases\"][trial, k] > 12\n",
    "                ]\n",
    "            ).mean(axis=0)\n",
    "            for trial, sample in enumerate(samples[\"samples\"])\n",
    "        ]\n",
    "    )"
   ]
  },
  {
   "cell_type": "markdown",
   "metadata": {},
   "source": [
    "### Eredmények <a id=\"result\"></a>"
   ]
  },
  {
   "cell_type": "markdown",
   "metadata": {},
   "source": [
    "#### [vissza](#top)"
   ]
  },
  {
   "cell_type": "markdown",
   "metadata": {},
   "source": [
    "Kiszámolom a fáizskülönbségek átlagát, standard hibáját és szórását az összes trial-re. Az ábrákhoz megfelelő formátumúvá alakítom az adatot és ábrázolom az eredményeket."
   ]
  },
  {
   "cell_type": "code",
   "execution_count": 926,
   "metadata": {},
   "outputs": [],
   "source": [
    "def result_df(diffs):\n",
    "\n",
    "    return (\n",
    "        pd.DataFrame(\n",
    "            {\n",
    "                \"MEAN\": diffs.mean(axis=0),\n",
    "                \"SE\": diffs.std(axis=0) / np.sqrt(diffs.shape[0]),\n",
    "                \"STD\": diffs.std(axis=0),\n",
    "            }\n",
    "        )\n",
    "        .reset_index()\n",
    "        .assign(\n",
    "            SE_bottom=lambda df: df[\"MEAN\"] - df[\"SE\"],\n",
    "            SE_top=lambda df: df[\"MEAN\"] + df[\"SE\"],\n",
    "            STD_bottom=lambda df: df[\"MEAN\"] - df[\"STD\"],\n",
    "            STD_top=lambda df: df[\"MEAN\"] + df[\"STD\"],\n",
    "            NULL=0,\n",
    "        )\n",
    "    )"
   ]
  },
  {
   "cell_type": "code",
   "execution_count": 956,
   "metadata": {
    "scrolled": true
   },
   "outputs": [],
   "source": [
    "np.random.seed(0)\n",
    "result_rand = result_df(random_split(samples))\n",
    "result_synced = result_df(synced_split(samples))\n",
    "noisy_result_rand = result_df(random_split(noisy_samples))\n",
    "noisy_result_synced = result_df(synced_split(noisy_samples))"
   ]
  },
  {
   "cell_type": "code",
   "execution_count": 928,
   "metadata": {},
   "outputs": [
    {
     "data": {
      "text/html": [
       "<div>\n",
       "<style scoped>\n",
       "    .dataframe tbody tr th:only-of-type {\n",
       "        vertical-align: middle;\n",
       "    }\n",
       "\n",
       "    .dataframe tbody tr th {\n",
       "        vertical-align: top;\n",
       "    }\n",
       "\n",
       "    .dataframe thead th {\n",
       "        text-align: right;\n",
       "    }\n",
       "</style>\n",
       "<table border=\"1\" class=\"dataframe\">\n",
       "  <thead>\n",
       "    <tr style=\"text-align: right;\">\n",
       "      <th></th>\n",
       "      <th>index</th>\n",
       "      <th>MEAN</th>\n",
       "      <th>SE</th>\n",
       "      <th>STD</th>\n",
       "      <th>SE_bottom</th>\n",
       "      <th>SE_top</th>\n",
       "      <th>STD_bottom</th>\n",
       "      <th>STD_top</th>\n",
       "      <th>NULL</th>\n",
       "    </tr>\n",
       "  </thead>\n",
       "  <tbody>\n",
       "    <tr>\n",
       "      <th>0</th>\n",
       "      <td>0</td>\n",
       "      <td>-0.307180</td>\n",
       "      <td>0.349055</td>\n",
       "      <td>1.480917</td>\n",
       "      <td>-0.656235</td>\n",
       "      <td>0.041876</td>\n",
       "      <td>-1.788097</td>\n",
       "      <td>1.173737</td>\n",
       "      <td>0</td>\n",
       "    </tr>\n",
       "    <tr>\n",
       "      <th>1</th>\n",
       "      <td>1</td>\n",
       "      <td>0.449128</td>\n",
       "      <td>0.318098</td>\n",
       "      <td>1.349575</td>\n",
       "      <td>0.131031</td>\n",
       "      <td>0.767226</td>\n",
       "      <td>-0.900446</td>\n",
       "      <td>1.798703</td>\n",
       "      <td>0</td>\n",
       "    </tr>\n",
       "    <tr>\n",
       "      <th>2</th>\n",
       "      <td>2</td>\n",
       "      <td>0.722564</td>\n",
       "      <td>0.316602</td>\n",
       "      <td>1.343229</td>\n",
       "      <td>0.405962</td>\n",
       "      <td>1.039166</td>\n",
       "      <td>-0.620664</td>\n",
       "      <td>2.065793</td>\n",
       "      <td>0</td>\n",
       "    </tr>\n",
       "    <tr>\n",
       "      <th>3</th>\n",
       "      <td>3</td>\n",
       "      <td>1.653406</td>\n",
       "      <td>0.173696</td>\n",
       "      <td>0.736930</td>\n",
       "      <td>1.479709</td>\n",
       "      <td>1.827102</td>\n",
       "      <td>0.916475</td>\n",
       "      <td>2.390336</td>\n",
       "      <td>0</td>\n",
       "    </tr>\n",
       "    <tr>\n",
       "      <th>4</th>\n",
       "      <td>4</td>\n",
       "      <td>1.857028</td>\n",
       "      <td>0.197217</td>\n",
       "      <td>0.836719</td>\n",
       "      <td>1.659812</td>\n",
       "      <td>2.054245</td>\n",
       "      <td>1.020309</td>\n",
       "      <td>2.693748</td>\n",
       "      <td>0</td>\n",
       "    </tr>\n",
       "  </tbody>\n",
       "</table>\n",
       "</div>"
      ],
      "text/plain": [
       "   index      MEAN        SE       STD  SE_bottom    SE_top  STD_bottom  \\\n",
       "0      0 -0.307180  0.349055  1.480917  -0.656235  0.041876   -1.788097   \n",
       "1      1  0.449128  0.318098  1.349575   0.131031  0.767226   -0.900446   \n",
       "2      2  0.722564  0.316602  1.343229   0.405962  1.039166   -0.620664   \n",
       "3      3  1.653406  0.173696  0.736930   1.479709  1.827102    0.916475   \n",
       "4      4  1.857028  0.197217  0.836719   1.659812  2.054245    1.020309   \n",
       "\n",
       "    STD_top  NULL  \n",
       "0  1.173737     0  \n",
       "1  1.798703     0  \n",
       "2  2.065793     0  \n",
       "3  2.390336     0  \n",
       "4  2.693748     0  "
      ]
     },
     "execution_count": 928,
     "metadata": {},
     "output_type": "execute_result"
    }
   ],
   "source": [
    "result_synced.head(5)"
   ]
  },
  {
   "cell_type": "code",
   "execution_count": 959,
   "metadata": {
    "scrolled": true
   },
   "outputs": [],
   "source": [
    "def plot_result(result, condition):\n",
    "\n",
    "    title = \"Mean phase difference between recognized and unrecognized pictures ({} condition)\".format(\n",
    "        condition\n",
    "    )\n",
    "\n",
    "    dfs = [\n",
    "        format_data(result[[\"index\", \"SE_bottom\", \"STD_bottom\"]], \"index\")\n",
    "        .rename(columns={\"values\": \"bottom\", \"data_type\": \"type\"})\n",
    "        .assign(data_type=lambda df: df[\"type\"].apply(lambda x: x.strip(\"_bottom\")))\n",
    "        .drop(\"type\", axis=1)\n",
    "        .merge(\n",
    "            format_data(result[[\"index\", \"SE_top\", \"STD_top\"]], \"index\")\n",
    "            .rename(columns={\"values\": \"top\", \"data_type\": \"type\"})\n",
    "            .assign(data_type=lambda df: df[\"type\"].apply(lambda x: x.strip(\"_top\")))\n",
    "            .drop(\"type\", axis=1),\n",
    "            on=[\"index\", \"data_type\"],\n",
    "            how=\"outer\",\n",
    "        ),\n",
    "        format_data(result[[\"index\", \"MEAN\", \"NULL\"]], \"index\"),\n",
    "    ]\n",
    "\n",
    "    bases = [\n",
    "        alt.Chart(df, title=title,)\n",
    "        .encode(\n",
    "            alt.X(\n",
    "                \"index\",\n",
    "                title=\"Time (in millisecconds)\",\n",
    "                scale=alt.Scale(domain=(0, result.shape[0] - 1), nice=False),\n",
    "            )\n",
    "        )\n",
    "        .properties(width=800, height=400)\n",
    "        for df in dfs\n",
    "    ]\n",
    "\n",
    "    yscale = max(abs(result[\"STD_bottom\"].min()), result[\"STD_top\"].max())\n",
    "\n",
    "    return bases[0].mark_area(opacity=0.5).encode(\n",
    "        alt.Y(\"bottom\", title=None, scale=alt.Scale(domain=(-yscale, yscale))),\n",
    "        alt.Y2(\"top\"),\n",
    "        color=\"data_type\",\n",
    "    ) + bases[1].mark_line().encode(alt.Y(\"values\"), color=\"data_type\")"
   ]
  },
  {
   "cell_type": "markdown",
   "metadata": {},
   "source": [
    "Ha minden igaz, az alábbi két ábra szemlélteti a kísérleti eredményt. Véletlenszerű választás esetén a fáziskülönbség alig tér el nullától, míg a szinkronizált kondícióban szisztematikus különbség figyelhető meg. "
   ]
  },
  {
   "cell_type": "code",
   "execution_count": 960,
   "metadata": {},
   "outputs": [
    {
     "data": {
      "text/html": [
       "\n",
       "<div id=\"altair-viz-4502fd8ae09d461eb2545df66f00fe78\"></div>\n",
       "<script type=\"text/javascript\">\n",
       "  (function(spec, embedOpt){\n",
       "    let outputDiv = document.currentScript.previousElementSibling;\n",
       "    if (outputDiv.id !== \"altair-viz-4502fd8ae09d461eb2545df66f00fe78\") {\n",
       "      outputDiv = document.getElementById(\"altair-viz-4502fd8ae09d461eb2545df66f00fe78\");\n",
       "    }\n",
       "    const paths = {\n",
       "      \"vega\": \"https://cdn.jsdelivr.net/npm//vega@5?noext\",\n",
       "      \"vega-lib\": \"https://cdn.jsdelivr.net/npm//vega-lib?noext\",\n",
       "      \"vega-lite\": \"https://cdn.jsdelivr.net/npm//vega-lite@4.8.1?noext\",\n",
       "      \"vega-embed\": \"https://cdn.jsdelivr.net/npm//vega-embed@6?noext\",\n",
       "    };\n",
       "\n",
       "    function loadScript(lib) {\n",
       "      return new Promise(function(resolve, reject) {\n",
       "        var s = document.createElement('script');\n",
       "        s.src = paths[lib];\n",
       "        s.async = true;\n",
       "        s.onload = () => resolve(paths[lib]);\n",
       "        s.onerror = () => reject(`Error loading script: ${paths[lib]}`);\n",
       "        document.getElementsByTagName(\"head\")[0].appendChild(s);\n",
       "      });\n",
       "    }\n",
       "\n",
       "    function showError(err) {\n",
       "      outputDiv.innerHTML = `<div class=\"error\" style=\"color:red;\">${err}</div>`;\n",
       "      throw err;\n",
       "    }\n",
       "\n",
       "    function displayChart(vegaEmbed) {\n",
       "      vegaEmbed(outputDiv, spec, embedOpt)\n",
       "        .catch(err => showError(`Javascript Error: ${err.message}<br>This usually means there's a typo in your chart specification. See the javascript console for the full traceback.`));\n",
       "    }\n",
       "\n",
       "    if(typeof define === \"function\" && define.amd) {\n",
       "      requirejs.config({paths});\n",
       "      require([\"vega-embed\"], displayChart, err => showError(`Error loading script: ${err.message}`));\n",
       "    } else if (typeof vegaEmbed === \"function\") {\n",
       "      displayChart(vegaEmbed);\n",
       "    } else {\n",
       "      loadScript(\"vega\")\n",
       "        .then(() => loadScript(\"vega-lite\"))\n",
       "        .then(() => loadScript(\"vega-embed\"))\n",
       "        .catch(showError)\n",
       "        .then(() => displayChart(vegaEmbed));\n",
       "    }\n",
       "  })({\"config\": {\"view\": {\"continuousWidth\": 400, \"continuousHeight\": 300}}, \"layer\": [{\"data\": {\"name\": \"data-1c4e40c56ec605afa154dfd6a8d4fd37\"}, \"mark\": {\"type\": \"area\", \"opacity\": 0.5}, \"encoding\": {\"color\": {\"type\": \"nominal\", \"field\": \"data_type\"}, \"x\": {\"type\": \"quantitative\", \"field\": \"index\", \"scale\": {\"domain\": [0, 47], \"nice\": false}, \"title\": \"Time (in millisecconds)\"}, \"y\": {\"type\": \"quantitative\", \"field\": \"bottom\", \"scale\": {\"domain\": [-2.1107469002790333, 2.1107469002790333]}, \"title\": null}, \"y2\": {\"field\": \"top\"}}, \"height\": 400, \"title\": \"Mean phase difference between recognized and unrecognized pictures (random condition)\", \"width\": 800}, {\"data\": {\"name\": \"data-04f227f93d96d2da7f70f7e0d1f3a0f9\"}, \"mark\": \"line\", \"encoding\": {\"color\": {\"type\": \"nominal\", \"field\": \"data_type\"}, \"x\": {\"type\": \"quantitative\", \"field\": \"index\", \"scale\": {\"domain\": [0, 47], \"nice\": false}, \"title\": \"Time (in millisecconds)\"}, \"y\": {\"type\": \"quantitative\", \"field\": \"values\"}}, \"height\": 400, \"title\": \"Mean phase difference between recognized and unrecognized pictures (random condition)\", \"width\": 800}], \"$schema\": \"https://vega.github.io/schema/vega-lite/v4.8.1.json\", \"datasets\": {\"data-1c4e40c56ec605afa154dfd6a8d4fd37\": [{\"index\": 0, \"bottom\": -0.48010821806200615, \"data_type\": \"SE\", \"top\": 0.308650141224386}, {\"index\": 1, \"bottom\": -0.6897305082697592, \"data_type\": \"SE\", \"top\": 0.0693092769295569}, {\"index\": 2, \"bottom\": -0.6365946275117619, \"data_type\": \"SE\", \"top\": 0.27263486474930454}, {\"index\": 3, \"bottom\": -0.5458668361828098, \"data_type\": \"SE\", \"top\": 0.2669562164915357}, {\"index\": 4, \"bottom\": -0.5522474640530043, \"data_type\": \"SE\", \"top\": 0.21943092320488786}, {\"index\": 5, \"bottom\": -0.23492221277599107, \"data_type\": \"SE\", \"top\": 0.33168665473511455}, {\"index\": 6, \"bottom\": -0.08128022157935574, \"data_type\": \"SE\", \"top\": 0.5731090934999435}, {\"index\": 7, \"bottom\": -0.19285144332939913, \"data_type\": \"SE\", \"top\": 0.40345282742547733}, {\"index\": 8, \"bottom\": -0.26364854248107683, \"data_type\": \"SE\", \"top\": 0.4106072666495485}, {\"index\": 9, \"bottom\": -0.103202727841295, \"data_type\": \"SE\", \"top\": 0.42264592449674454}, {\"index\": 10, \"bottom\": -0.49539305507065756, \"data_type\": \"SE\", \"top\": 0.23461125970165986}, {\"index\": 11, \"bottom\": -0.39184799227309414, \"data_type\": \"SE\", \"top\": 0.2714628055467236}, {\"index\": 12, \"bottom\": -0.4518962561423826, \"data_type\": \"SE\", \"top\": 0.16062757229543215}, {\"index\": 13, \"bottom\": -0.41712595950026965, \"data_type\": \"SE\", \"top\": 0.18140693223245227}, {\"index\": 14, \"bottom\": -0.37121135727677457, \"data_type\": \"SE\", \"top\": 0.1678663386672049}, {\"index\": 15, \"bottom\": -0.24482322652073227, \"data_type\": \"SE\", \"top\": 0.3572931073211819}, {\"index\": 16, \"bottom\": -0.03747345367088112, \"data_type\": \"SE\", \"top\": 0.5843601623560504}, {\"index\": 17, \"bottom\": 0.3091007722410908, \"data_type\": \"SE\", \"top\": 0.9485580051456668}, {\"index\": 18, \"bottom\": 0.1861856050506192, \"data_type\": \"SE\", \"top\": 0.8167064760107821}, {\"index\": 19, \"bottom\": -0.35820907140770314, \"data_type\": \"SE\", \"top\": 0.39305681141259546}, {\"index\": 20, \"bottom\": -0.2331576870817771, \"data_type\": \"SE\", \"top\": 0.5644456072180175}, {\"index\": 21, \"bottom\": -0.4337322224149059, \"data_type\": \"SE\", \"top\": 0.1860270697579562}, {\"index\": 22, \"bottom\": -0.6690853788790933, \"data_type\": \"SE\", \"top\": 0.1399040710068281}, {\"index\": 23, \"bottom\": -0.4555444388553843, \"data_type\": \"SE\", \"top\": 0.1258477743025804}, {\"index\": 24, \"bottom\": -0.5244680789061297, \"data_type\": \"SE\", \"top\": 0.15519352215265306}, {\"index\": 25, \"bottom\": -0.14616255536456307, \"data_type\": \"SE\", \"top\": 0.5332835086330008}, {\"index\": 26, \"bottom\": -0.29611975702319043, \"data_type\": \"SE\", \"top\": 0.3696421544260418}, {\"index\": 27, \"bottom\": -0.5373775555511545, \"data_type\": \"SE\", \"top\": 0.2202540975551169}, {\"index\": 28, \"bottom\": -0.5254451430478, \"data_type\": \"SE\", \"top\": 0.3038662101444904}, {\"index\": 29, \"bottom\": -0.48809493088686196, \"data_type\": \"SE\", \"top\": 0.2422186668959384}, {\"index\": 30, \"bottom\": -0.351163589685814, \"data_type\": \"SE\", \"top\": 0.32203953671732705}, {\"index\": 31, \"bottom\": -0.46379049101610526, \"data_type\": \"SE\", \"top\": 0.19547150533166927}, {\"index\": 32, \"bottom\": -0.2440694802554418, \"data_type\": \"SE\", \"top\": 0.3135037855636129}, {\"index\": 33, \"bottom\": 0.00561227341668652, \"data_type\": \"SE\", \"top\": 0.5626104227723885}, {\"index\": 34, \"bottom\": -0.3807283017486175, \"data_type\": \"SE\", \"top\": 0.24744914864374135}, {\"index\": 35, \"bottom\": -0.5722904178068755, \"data_type\": \"SE\", \"top\": 0.19587293534376046}, {\"index\": 36, \"bottom\": -0.5853008809133612, \"data_type\": \"SE\", \"top\": 0.10078337763096415}, {\"index\": 37, \"bottom\": -0.4013290204146004, \"data_type\": \"SE\", \"top\": 0.20185143222149915}, {\"index\": 38, \"bottom\": -0.5161638074904779, \"data_type\": \"SE\", \"top\": 0.020712781644365186}, {\"index\": 39, \"bottom\": -0.221139987687087, \"data_type\": \"SE\", \"top\": 0.3275286311566864}, {\"index\": 40, \"bottom\": -0.1790899442520136, \"data_type\": \"SE\", \"top\": 0.38346084209458897}, {\"index\": 41, \"bottom\": -0.0040626773693507034, \"data_type\": \"SE\", \"top\": 0.47031192823024315}, {\"index\": 42, \"bottom\": -0.2807666838135592, \"data_type\": \"SE\", \"top\": 0.40807513338599066}, {\"index\": 43, \"bottom\": 0.20243421094065656, \"data_type\": \"SE\", \"top\": 0.8529453316834195}, {\"index\": 44, \"bottom\": -0.03902655131989202, \"data_type\": \"SE\", \"top\": 0.5518170607041983}, {\"index\": 45, \"bottom\": -0.06147080709113442, \"data_type\": \"SE\", \"top\": 0.4264459119540214}, {\"index\": 46, \"bottom\": -0.537104257257986, \"data_type\": \"SE\", \"top\": 0.19102959194316993}, {\"index\": 47, \"bottom\": -0.6968667656658022, \"data_type\": \"SE\", \"top\": 0.0742992817163679}, {\"index\": 0, \"bottom\": -1.7589381921257594, \"data_type\": \"STD\", \"top\": 1.5874801152881393}, {\"index\": 1, \"bottom\": -1.9203771535845517, \"data_type\": \"STD\", \"top\": 1.2999559222443493}, {\"index\": 2, \"bottom\": -2.1107469002790333, \"data_type\": \"STD\", \"top\": 1.7467871375165758}, {\"index\": 3, \"bottom\": -1.8637133871979772, \"data_type\": \"STD\", \"top\": 1.5848027675067031}, {\"index\": 4, \"bottom\": -1.8033853319995208, \"data_type\": \"STD\", \"top\": 1.4705687911514045}, {\"index\": 5, \"bottom\": -1.1535766965130367, \"data_type\": \"STD\", \"top\": 1.25034113847216}, {\"index\": 6, \"bottom\": -1.1422549307254846, \"data_type\": \"STD\", \"top\": 1.6340838026460722}, {\"index\": 7, \"bottom\": -1.1596516884557775, \"data_type\": \"STD\", \"top\": 1.3702530725518556}, {\"index\": 8, \"bottom\": -1.356833202587827, \"data_type\": \"STD\", \"top\": 1.5037919267562985}, {\"index\": 9, \"bottom\": -0.9557718455103802, \"data_type\": \"STD\", \"top\": 1.2752150421658297}, {\"index\": 10, \"bottom\": -1.6789639014973328, \"data_type\": \"STD\", \"top\": 1.4181821061283348}, {\"index\": 11, \"bottom\": -1.4672872828811414, \"data_type\": \"STD\", \"top\": 1.3469020961547709}, {\"index\": 12, \"bottom\": -1.4449936001036476, \"data_type\": \"STD\", \"top\": 1.1537249162566974}, {\"index\": 13, \"bottom\": -1.3875395131561126, \"data_type\": \"STD\", \"top\": 1.1518204858882952}, {\"index\": 14, \"bottom\": -1.2452289924700077, \"data_type\": \"STD\", \"top\": 1.0418839738604382}, {\"index\": 15, \"bottom\": -1.221046687768177, \"data_type\": \"STD\", \"top\": 1.3335165685686268}, {\"index\": 16, \"bottom\": -1.0456649456446006, \"data_type\": \"STD\", \"top\": 1.59255165432977}, {\"index\": 17, \"bottom\": -0.7276642483034547, \"data_type\": \"STD\", \"top\": 1.9853230256902124}, {\"index\": 18, \"bottom\": -0.8360907100760369, \"data_type\": \"STD\", \"top\": 1.8389827911374381}, {\"index\": 19, \"bottom\": -1.5762517306465478, \"data_type\": \"STD\", \"top\": 1.6110994706514399}, {\"index\": 20, \"bottom\": -1.5263281342202228, \"data_type\": \"STD\", \"top\": 1.857616054356463}, {\"index\": 21, \"bottom\": -1.4385605709248914, \"data_type\": \"STD\", \"top\": 1.1908554182679418}, {\"index\": 22, \"bottom\": -1.9807164317042614, \"data_type\": \"STD\", \"top\": 1.4515351238319965}, {\"index\": 23, \"bottom\": -1.3981674616355566, \"data_type\": \"STD\", \"top\": 1.0684707970827525}, {\"index\": 24, \"bottom\": -1.6264172594390518, \"data_type\": \"STD\", \"top\": 1.2571427026855753}, {\"index\": 25, \"bottom\": -1.2477622812753402, \"data_type\": \"STD\", \"top\": 1.6348832345437776}, {\"index\": 26, \"bottom\": -1.3755330880229837, \"data_type\": \"STD\", \"top\": 1.4490554854258353}, {\"index\": 27, \"bottom\": -1.7657411676570745, \"data_type\": \"STD\", \"top\": 1.4486177096610369}, {\"index\": 28, \"bottom\": -1.8700245111234364, \"data_type\": \"STD\", \"top\": 1.6484455782201266}, {\"index\": 29, \"bottom\": -1.6721672241503505, \"data_type\": \"STD\", \"top\": 1.4262909601594267}, {\"index\": 30, \"bottom\": -1.44264151387118, \"data_type\": \"STD\", \"top\": 1.413517460902693}, {\"index\": 31, \"bottom\": -1.5326653774304948, \"data_type\": \"STD\", \"top\": 1.2643463917460587}, {\"index\": 32, \"bottom\": -1.1480743591528635, \"data_type\": \"STD\", \"top\": 1.2175086644610345}, {\"index\": 33, \"bottom\": -0.897460157458785, \"data_type\": \"STD\", \"top\": 1.4656828536478599}, {\"index\": 34, \"bottom\": -1.399205181435177, \"data_type\": \"STD\", \"top\": 1.2659260283303007}, {\"index\": 35, \"bottom\": -1.8177292894469916, \"data_type\": \"STD\", \"top\": 1.4413118069838764}, {\"index\": 36, \"bottom\": -1.6976632466873092, \"data_type\": \"STD\", \"top\": 1.2131457434049122}, {\"index\": 37, \"bottom\": -1.379277759111022, \"data_type\": \"STD\", \"top\": 1.1798001709179207}, {\"index\": 38, \"bottom\": -1.3866127434357107, \"data_type\": \"STD\", \"top\": 0.891161717589598}, {\"index\": 39, \"bottom\": -1.1107075812912681, \"data_type\": \"STD\", \"top\": 1.2170962247608674}, {\"index\": 40, \"bottom\": -1.0911649784412343, \"data_type\": \"STD\", \"top\": 1.2955358762838096}, {\"index\": 41, \"bottom\": -0.7731758758960541, \"data_type\": \"STD\", \"top\": 1.2394251267569465}, {\"index\": 42, \"bottom\": -1.3975999355337818, \"data_type\": \"STD\", \"top\": 1.5249083851062133}, {\"index\": 43, \"bottom\": -0.8522527028313677, \"data_type\": \"STD\", \"top\": 1.9076322454554435}, {\"index\": 44, \"bottom\": -0.9969733193568103, \"data_type\": \"STD\", \"top\": 1.5097638287411166}, {\"index\": 45, \"bottom\": -0.85254010964192, \"data_type\": \"STD\", \"top\": 1.217515214504807}, {\"index\": 46, \"bottom\": -1.7176424798022092, \"data_type\": \"STD\", \"top\": 1.3715678144873928}, {\"index\": 47, \"bottom\": -1.9471739665489938, \"data_type\": \"STD\", \"top\": 1.3246064825995594}], \"data-04f227f93d96d2da7f70f7e0d1f3a0f9\": [{\"index\": 0, \"values\": -0.08572903841881008, \"data_type\": \"MEAN\"}, {\"index\": 1, \"values\": -0.31021061567010116, \"data_type\": \"MEAN\"}, {\"index\": 2, \"values\": -0.18197988138122867, \"data_type\": \"MEAN\"}, {\"index\": 3, \"values\": -0.1394553098456371, \"data_type\": \"MEAN\"}, {\"index\": 4, \"values\": -0.16640827042405823, \"data_type\": \"MEAN\"}, {\"index\": 5, \"values\": 0.04838222097956175, \"data_type\": \"MEAN\"}, {\"index\": 6, \"values\": 0.24591443596029391, \"data_type\": \"MEAN\"}, {\"index\": 7, \"values\": 0.1053006920480391, \"data_type\": \"MEAN\"}, {\"index\": 8, \"values\": 0.07347936208423582, \"data_type\": \"MEAN\"}, {\"index\": 9, \"values\": 0.15972159832772478, \"data_type\": \"MEAN\"}, {\"index\": 10, \"values\": -0.13039089768449885, \"data_type\": \"MEAN\"}, {\"index\": 11, \"values\": -0.060192593363185276, \"data_type\": \"MEAN\"}, {\"index\": 12, \"values\": -0.1456343419234752, \"data_type\": \"MEAN\"}, {\"index\": 13, \"values\": -0.1178595136339087, \"data_type\": \"MEAN\"}, {\"index\": 14, \"values\": -0.10167250930478483, \"data_type\": \"MEAN\"}, {\"index\": 15, \"values\": 0.05623494040022484, \"data_type\": \"MEAN\"}, {\"index\": 16, \"values\": 0.27344335434258465, \"data_type\": \"MEAN\"}, {\"index\": 17, \"values\": 0.6288293886933788, \"data_type\": \"MEAN\"}, {\"index\": 18, \"values\": 0.5014460405307006, \"data_type\": \"MEAN\"}, {\"index\": 19, \"values\": 0.01742387000244616, \"data_type\": \"MEAN\"}, {\"index\": 20, \"values\": 0.1656439600681202, \"data_type\": \"MEAN\"}, {\"index\": 21, \"values\": -0.12385257632847486, \"data_type\": \"MEAN\"}, {\"index\": 22, \"values\": -0.26459065393613257, \"data_type\": \"MEAN\"}, {\"index\": 23, \"values\": -0.16484833227640197, \"data_type\": \"MEAN\"}, {\"index\": 24, \"values\": -0.1846372783767383, \"data_type\": \"MEAN\"}, {\"index\": 25, \"values\": 0.19356047663421883, \"data_type\": \"MEAN\"}, {\"index\": 26, \"values\": 0.036761198701425704, \"data_type\": \"MEAN\"}, {\"index\": 27, \"values\": -0.15856172899801882, \"data_type\": \"MEAN\"}, {\"index\": 28, \"values\": -0.11078946645165483, \"data_type\": \"MEAN\"}, {\"index\": 29, \"values\": -0.12293813199546179, \"data_type\": \"MEAN\"}, {\"index\": 30, \"values\": -0.014562026484243503, \"data_type\": \"MEAN\"}, {\"index\": 31, \"values\": -0.13415949284221798, \"data_type\": \"MEAN\"}, {\"index\": 32, \"values\": 0.034717152654085565, \"data_type\": \"MEAN\"}, {\"index\": 33, \"values\": 0.2841113480945375, \"data_type\": \"MEAN\"}, {\"index\": 34, \"values\": -0.06663957655243809, \"data_type\": \"MEAN\"}, {\"index\": 35, \"values\": -0.18820874123155754, \"data_type\": \"MEAN\"}, {\"index\": 36, \"values\": -0.2422587516411985, \"data_type\": \"MEAN\"}, {\"index\": 37, \"values\": -0.0997387940965506, \"data_type\": \"MEAN\"}, {\"index\": 38, \"values\": -0.24772551292305633, \"data_type\": \"MEAN\"}, {\"index\": 39, \"values\": 0.05319432173479968, \"data_type\": \"MEAN\"}, {\"index\": 40, \"values\": 0.1021854489212877, \"data_type\": \"MEAN\"}, {\"index\": 41, \"values\": 0.2331246254304462, \"data_type\": \"MEAN\"}, {\"index\": 42, \"values\": 0.06365422478621571, \"data_type\": \"MEAN\"}, {\"index\": 43, \"values\": 0.527689771312038, \"data_type\": \"MEAN\"}, {\"index\": 44, \"values\": 0.2563952546921532, \"data_type\": \"MEAN\"}, {\"index\": 45, \"values\": 0.18248755243144346, \"data_type\": \"MEAN\"}, {\"index\": 46, \"values\": -0.17303733265740806, \"data_type\": \"MEAN\"}, {\"index\": 47, \"values\": -0.31128374197471714, \"data_type\": \"MEAN\"}, {\"index\": 0, \"values\": 0.0, \"data_type\": \"NULL\"}, {\"index\": 1, \"values\": 0.0, \"data_type\": \"NULL\"}, {\"index\": 2, \"values\": 0.0, \"data_type\": \"NULL\"}, {\"index\": 3, \"values\": 0.0, \"data_type\": \"NULL\"}, {\"index\": 4, \"values\": 0.0, \"data_type\": \"NULL\"}, {\"index\": 5, \"values\": 0.0, \"data_type\": \"NULL\"}, {\"index\": 6, \"values\": 0.0, \"data_type\": \"NULL\"}, {\"index\": 7, \"values\": 0.0, \"data_type\": \"NULL\"}, {\"index\": 8, \"values\": 0.0, \"data_type\": \"NULL\"}, {\"index\": 9, \"values\": 0.0, \"data_type\": \"NULL\"}, {\"index\": 10, \"values\": 0.0, \"data_type\": \"NULL\"}, {\"index\": 11, \"values\": 0.0, \"data_type\": \"NULL\"}, {\"index\": 12, \"values\": 0.0, \"data_type\": \"NULL\"}, {\"index\": 13, \"values\": 0.0, \"data_type\": \"NULL\"}, {\"index\": 14, \"values\": 0.0, \"data_type\": \"NULL\"}, {\"index\": 15, \"values\": 0.0, \"data_type\": \"NULL\"}, {\"index\": 16, \"values\": 0.0, \"data_type\": \"NULL\"}, {\"index\": 17, \"values\": 0.0, \"data_type\": \"NULL\"}, {\"index\": 18, \"values\": 0.0, \"data_type\": \"NULL\"}, {\"index\": 19, \"values\": 0.0, \"data_type\": \"NULL\"}, {\"index\": 20, \"values\": 0.0, \"data_type\": \"NULL\"}, {\"index\": 21, \"values\": 0.0, \"data_type\": \"NULL\"}, {\"index\": 22, \"values\": 0.0, \"data_type\": \"NULL\"}, {\"index\": 23, \"values\": 0.0, \"data_type\": \"NULL\"}, {\"index\": 24, \"values\": 0.0, \"data_type\": \"NULL\"}, {\"index\": 25, \"values\": 0.0, \"data_type\": \"NULL\"}, {\"index\": 26, \"values\": 0.0, \"data_type\": \"NULL\"}, {\"index\": 27, \"values\": 0.0, \"data_type\": \"NULL\"}, {\"index\": 28, \"values\": 0.0, \"data_type\": \"NULL\"}, {\"index\": 29, \"values\": 0.0, \"data_type\": \"NULL\"}, {\"index\": 30, \"values\": 0.0, \"data_type\": \"NULL\"}, {\"index\": 31, \"values\": 0.0, \"data_type\": \"NULL\"}, {\"index\": 32, \"values\": 0.0, \"data_type\": \"NULL\"}, {\"index\": 33, \"values\": 0.0, \"data_type\": \"NULL\"}, {\"index\": 34, \"values\": 0.0, \"data_type\": \"NULL\"}, {\"index\": 35, \"values\": 0.0, \"data_type\": \"NULL\"}, {\"index\": 36, \"values\": 0.0, \"data_type\": \"NULL\"}, {\"index\": 37, \"values\": 0.0, \"data_type\": \"NULL\"}, {\"index\": 38, \"values\": 0.0, \"data_type\": \"NULL\"}, {\"index\": 39, \"values\": 0.0, \"data_type\": \"NULL\"}, {\"index\": 40, \"values\": 0.0, \"data_type\": \"NULL\"}, {\"index\": 41, \"values\": 0.0, \"data_type\": \"NULL\"}, {\"index\": 42, \"values\": 0.0, \"data_type\": \"NULL\"}, {\"index\": 43, \"values\": 0.0, \"data_type\": \"NULL\"}, {\"index\": 44, \"values\": 0.0, \"data_type\": \"NULL\"}, {\"index\": 45, \"values\": 0.0, \"data_type\": \"NULL\"}, {\"index\": 46, \"values\": 0.0, \"data_type\": \"NULL\"}, {\"index\": 47, \"values\": 0.0, \"data_type\": \"NULL\"}]}}, {\"mode\": \"vega-lite\"});\n",
       "</script>"
      ],
      "text/plain": [
       "alt.LayerChart(...)"
      ]
     },
     "execution_count": 960,
     "metadata": {},
     "output_type": "execute_result"
    }
   ],
   "source": [
    "plot_result(noisy_result_rand, \"random\")"
   ]
  },
  {
   "cell_type": "markdown",
   "metadata": {},
   "source": [
    "![alt text](https://github.com/dormanh/gamma-project/blob/master/plots/random_result.png)"
   ]
  },
  {
   "cell_type": "code",
   "execution_count": 961,
   "metadata": {
    "scrolled": false
   },
   "outputs": [
    {
     "data": {
      "text/html": [
       "\n",
       "<div id=\"altair-viz-328d8ce7d2744defb0b3e0fdf4cab768\"></div>\n",
       "<script type=\"text/javascript\">\n",
       "  (function(spec, embedOpt){\n",
       "    let outputDiv = document.currentScript.previousElementSibling;\n",
       "    if (outputDiv.id !== \"altair-viz-328d8ce7d2744defb0b3e0fdf4cab768\") {\n",
       "      outputDiv = document.getElementById(\"altair-viz-328d8ce7d2744defb0b3e0fdf4cab768\");\n",
       "    }\n",
       "    const paths = {\n",
       "      \"vega\": \"https://cdn.jsdelivr.net/npm//vega@5?noext\",\n",
       "      \"vega-lib\": \"https://cdn.jsdelivr.net/npm//vega-lib?noext\",\n",
       "      \"vega-lite\": \"https://cdn.jsdelivr.net/npm//vega-lite@4.8.1?noext\",\n",
       "      \"vega-embed\": \"https://cdn.jsdelivr.net/npm//vega-embed@6?noext\",\n",
       "    };\n",
       "\n",
       "    function loadScript(lib) {\n",
       "      return new Promise(function(resolve, reject) {\n",
       "        var s = document.createElement('script');\n",
       "        s.src = paths[lib];\n",
       "        s.async = true;\n",
       "        s.onload = () => resolve(paths[lib]);\n",
       "        s.onerror = () => reject(`Error loading script: ${paths[lib]}`);\n",
       "        document.getElementsByTagName(\"head\")[0].appendChild(s);\n",
       "      });\n",
       "    }\n",
       "\n",
       "    function showError(err) {\n",
       "      outputDiv.innerHTML = `<div class=\"error\" style=\"color:red;\">${err}</div>`;\n",
       "      throw err;\n",
       "    }\n",
       "\n",
       "    function displayChart(vegaEmbed) {\n",
       "      vegaEmbed(outputDiv, spec, embedOpt)\n",
       "        .catch(err => showError(`Javascript Error: ${err.message}<br>This usually means there's a typo in your chart specification. See the javascript console for the full traceback.`));\n",
       "    }\n",
       "\n",
       "    if(typeof define === \"function\" && define.amd) {\n",
       "      requirejs.config({paths});\n",
       "      require([\"vega-embed\"], displayChart, err => showError(`Error loading script: ${err.message}`));\n",
       "    } else if (typeof vegaEmbed === \"function\") {\n",
       "      displayChart(vegaEmbed);\n",
       "    } else {\n",
       "      loadScript(\"vega\")\n",
       "        .then(() => loadScript(\"vega-lite\"))\n",
       "        .then(() => loadScript(\"vega-embed\"))\n",
       "        .catch(showError)\n",
       "        .then(() => displayChart(vegaEmbed));\n",
       "    }\n",
       "  })({\"config\": {\"view\": {\"continuousWidth\": 400, \"continuousHeight\": 300}}, \"layer\": [{\"data\": {\"name\": \"data-1f6dfac16384d6d441bbb9ef5edbdb53\"}, \"mark\": {\"type\": \"area\", \"opacity\": 0.5}, \"encoding\": {\"color\": {\"type\": \"nominal\", \"field\": \"data_type\"}, \"x\": {\"type\": \"quantitative\", \"field\": \"index\", \"scale\": {\"domain\": [0, 47], \"nice\": false}, \"title\": \"Time (in millisecconds)\"}, \"y\": {\"type\": \"quantitative\", \"field\": \"bottom\", \"scale\": {\"domain\": [-4.464501004320372, 4.464501004320372]}, \"title\": null}, \"y2\": {\"field\": \"top\"}}, \"height\": 400, \"title\": \"Mean phase difference between recognized and unrecognized pictures (synchronized condition)\", \"width\": 800}, {\"data\": {\"name\": \"data-3fd53bd85964de07e05c87022e051cee\"}, \"mark\": \"line\", \"encoding\": {\"color\": {\"type\": \"nominal\", \"field\": \"data_type\"}, \"x\": {\"type\": \"quantitative\", \"field\": \"index\", \"scale\": {\"domain\": [0, 47], \"nice\": false}, \"title\": \"Time (in millisecconds)\"}, \"y\": {\"type\": \"quantitative\", \"field\": \"values\"}}, \"height\": 400, \"title\": \"Mean phase difference between recognized and unrecognized pictures (synchronized condition)\", \"width\": 800}], \"$schema\": \"https://vega.github.io/schema/vega-lite/v4.8.1.json\", \"datasets\": {\"data-1f6dfac16384d6d441bbb9ef5edbdb53\": [{\"index\": 0, \"bottom\": -0.14997038114285138, \"data_type\": \"SE\", \"top\": 0.3893613371593903}, {\"index\": 1, \"bottom\": 0.20747828580443883, \"data_type\": \"SE\", \"top\": 0.770837377195376}, {\"index\": 2, \"bottom\": 0.5066846231448989, \"data_type\": \"SE\", \"top\": 1.1727054250458062}, {\"index\": 3, \"bottom\": 0.9450875229756401, \"data_type\": \"SE\", \"top\": 1.8028292956811494}, {\"index\": 4, \"bottom\": 1.6630059164755349, \"data_type\": \"SE\", \"top\": 2.2738166857076307}, {\"index\": 5, \"bottom\": 3.0485166175765523, \"data_type\": \"SE\", \"top\": 3.5886964510802177}, {\"index\": 6, \"bottom\": 2.972968311714878, \"data_type\": \"SE\", \"top\": 3.4692824436592047}, {\"index\": 7, \"bottom\": 2.4695641172627365, \"data_type\": \"SE\", \"top\": 2.9791762738081013}, {\"index\": 8, \"bottom\": 1.5570295672098438, \"data_type\": \"SE\", \"top\": 2.203042371026005}, {\"index\": 9, \"bottom\": 1.3114512119402069, \"data_type\": \"SE\", \"top\": 1.6697151494306868}, {\"index\": 10, \"bottom\": 0.6784767140924732, \"data_type\": \"SE\", \"top\": 1.269690518633199}, {\"index\": 11, \"bottom\": 0.1659908368893851, \"data_type\": \"SE\", \"top\": 0.8042943735893104}, {\"index\": 12, \"bottom\": -0.3993015428842935, \"data_type\": \"SE\", \"top\": 0.2689174921384982}, {\"index\": 13, \"bottom\": -0.5070542203547818, \"data_type\": \"SE\", \"top\": 0.1996375765769979}, {\"index\": 14, \"bottom\": -0.8932346971918654, \"data_type\": \"SE\", \"top\": -0.18547774089372487}, {\"index\": 15, \"bottom\": -1.5780350211539491, \"data_type\": \"SE\", \"top\": -0.9186519954685551}, {\"index\": 16, \"bottom\": -1.868338096731101, \"data_type\": \"SE\", \"top\": -1.3538933460941127}, {\"index\": 17, \"bottom\": -2.0590966317486044, \"data_type\": \"SE\", \"top\": -1.6553406845906622}, {\"index\": 18, \"bottom\": -2.8127921531469773, \"data_type\": \"SE\", \"top\": -2.2786459839987905}, {\"index\": 19, \"bottom\": -2.542913492381315, \"data_type\": \"SE\", \"top\": -2.062626498818557}, {\"index\": 20, \"bottom\": -2.5090686397103026, \"data_type\": \"SE\", \"top\": -2.0422206994776957}, {\"index\": 21, \"bottom\": -2.2963220927106174, \"data_type\": \"SE\", \"top\": -1.703387740038738}, {\"index\": 22, \"bottom\": -1.930874005892222, \"data_type\": \"SE\", \"top\": -1.4653362391645062}, {\"index\": 23, \"bottom\": -1.2461081852425744, \"data_type\": \"SE\", \"top\": -0.7634671855040029}, {\"index\": 24, \"bottom\": -0.8059002642670825, \"data_type\": \"SE\", \"top\": -0.3140311715107216}, {\"index\": 25, \"bottom\": -0.3377902734289119, \"data_type\": \"SE\", \"top\": 0.17735246456812903}, {\"index\": 26, \"bottom\": 0.07592386996346884, \"data_type\": \"SE\", \"top\": 0.7043981197559703}, {\"index\": 27, \"bottom\": 0.8080480672463326, \"data_type\": \"SE\", \"top\": 1.4488447391227905}, {\"index\": 28, \"bottom\": 1.0775320840344063, \"data_type\": \"SE\", \"top\": 1.7617759387124576}, {\"index\": 29, \"bottom\": 1.7148000416181568, \"data_type\": \"SE\", \"top\": 2.4168616609830846}, {\"index\": 30, \"bottom\": 1.9137166292240904, \"data_type\": \"SE\", \"top\": 2.5779388958619425}, {\"index\": 31, \"bottom\": 2.6304409691768855, \"data_type\": \"SE\", \"top\": 3.067749600363004}, {\"index\": 32, \"bottom\": 2.406242749930597, \"data_type\": \"SE\", \"top\": 2.8239576776199375}, {\"index\": 33, \"bottom\": 2.1671461005074746, \"data_type\": \"SE\", \"top\": 2.7088783262771527}, {\"index\": 34, \"bottom\": 1.1266373266435366, \"data_type\": \"SE\", \"top\": 1.7025036106593239}, {\"index\": 35, \"bottom\": 0.7262331506449393, \"data_type\": \"SE\", \"top\": 1.2744066916768504}, {\"index\": 36, \"bottom\": 0.04062116493271334, \"data_type\": \"SE\", \"top\": 0.7345107349569999}, {\"index\": 37, \"bottom\": -0.40777232014142856, \"data_type\": \"SE\", \"top\": 0.31868792202328516}, {\"index\": 38, \"bottom\": -0.7015044600279545, \"data_type\": \"SE\", \"top\": 0.031127104115496518}, {\"index\": 39, \"bottom\": -1.1952486329741245, \"data_type\": \"SE\", \"top\": -0.5029285694153074}, {\"index\": 40, \"bottom\": -1.2615623498505415, \"data_type\": \"SE\", \"top\": -0.6036882110233797}, {\"index\": 41, \"bottom\": -1.6552693236230223, \"data_type\": \"SE\", \"top\": -1.0006331930811596}, {\"index\": 42, \"bottom\": -1.812677066624823, \"data_type\": \"SE\", \"top\": -1.4745805725470789}, {\"index\": 43, \"bottom\": -2.553693307539507, \"data_type\": \"SE\", \"top\": -2.0709078051747922}, {\"index\": 44, \"bottom\": -2.7499065851063498, \"data_type\": \"SE\", \"top\": -2.1189246792934475}, {\"index\": 45, \"bottom\": -2.653212642088915, \"data_type\": \"SE\", \"top\": -2.144787022996305}, {\"index\": 46, \"bottom\": -2.259649658956147, \"data_type\": \"SE\", \"top\": -1.7828469609262776}, {\"index\": 47, \"bottom\": -1.8663869893937037, \"data_type\": \"SE\", \"top\": -1.3265923676821}, {\"index\": 0, \"bottom\": -1.024399867953254, \"data_type\": \"STD\", \"top\": 1.263790823969793}, {\"index\": 1, \"bottom\": -0.7059072697969635, \"data_type\": \"STD\", \"top\": 1.6842229327967784}, {\"index\": 2, \"bottom\": -0.5731484522109483, \"data_type\": \"STD\", \"top\": 2.2525385004016534}, {\"index\": 3, \"bottom\": -0.4455866626327125, \"data_type\": \"STD\", \"top\": 3.1935034812895022}, {\"index\": 4, \"bottom\": 0.6726859902542239, \"data_type\": \"STD\", \"top\": 3.2641366119289414}, {\"index\": 5, \"bottom\": 2.1727120643363986, \"data_type\": \"STD\", \"top\": 4.464501004320372}, {\"index\": 6, \"bottom\": 2.168284112797397, \"data_type\": \"STD\", \"top\": 4.273966642576686}, {\"index\": 7, \"bottom\": 1.6433195605304356, \"data_type\": \"STD\", \"top\": 3.8054208305404025}, {\"index\": 8, \"bottom\": 0.5096358661826976, \"data_type\": \"STD\", \"top\": 3.2504360720531507}, {\"index\": 9, \"bottom\": 0.7305906017231119, \"data_type\": \"STD\", \"top\": 2.2505757596477816}, {\"index\": 10, \"bottom\": -0.28007025460269963, \"data_type\": \"STD\", \"top\": 2.228237487328372}, {\"index\": 11, \"bottom\": -0.8689036725282726, \"data_type\": \"STD\", \"top\": 1.839188883006968}, {\"index\": 12, \"bottom\": -1.4826986583205388, \"data_type\": \"STD\", \"top\": 1.3523146075747434}, {\"index\": 13, \"bottom\": -1.6528280073469959, \"data_type\": \"STD\", \"top\": 1.345411363569212}, {\"index\": 14, \"bottom\": -2.0407354487338933, \"data_type\": \"STD\", \"top\": 0.9620230106483032}, {\"index\": 15, \"bottom\": -2.647106134895589, \"data_type\": \"STD\", \"top\": 0.15041911827308452}, {\"index\": 16, \"bottom\": -2.702417836576317, \"data_type\": \"STD\", \"top\": -0.5198136062488965}, {\"index\": 17, \"bottom\": -2.7137143627089677, \"data_type\": \"STD\", \"top\": -1.0007229536302988}, {\"index\": 18, \"bottom\": -3.6788142036213825, \"data_type\": \"STD\", \"top\": -1.4126239335243853}, {\"index\": 19, \"bottom\": -3.321612565791712, \"data_type\": \"STD\", \"top\": -1.2839274254081594}, {\"index\": 20, \"bottom\": -3.265978702558344, \"data_type\": \"STD\", \"top\": -1.2853106366296543}, {\"index\": 21, \"bottom\": -3.2576586210929035, \"data_type\": \"STD\", \"top\": -0.7420512116564522}, {\"index\": 22, \"bottom\": -2.6856598577831914, \"data_type\": \"STD\", \"top\": -0.710550387273537}, {\"index\": 23, \"bottom\": -2.0286238567546846, \"data_type\": \"STD\", \"top\": 0.019048486008107046}, {\"index\": 24, \"bottom\": -1.6033776307211953, \"data_type\": \"STD\", \"top\": 0.48344619494339114}, {\"index\": 25, \"bottom\": -1.173001674380529, \"data_type\": \"STD\", \"top\": 1.0125638655197462}, {\"index\": 26, \"bottom\": -0.9430342166284982, \"data_type\": \"STD\", \"top\": 1.7233562063479373}, {\"index\": 27, \"bottom\": -0.23088861295228136, \"data_type\": \"STD\", \"top\": 2.4877814193214043}, {\"index\": 28, \"bottom\": -0.031846397510785884, \"data_type\": \"STD\", \"top\": 2.8711544202576498}, {\"index\": 29, \"bottom\": 0.5765332557093727, \"data_type\": \"STD\", \"top\": 3.5551284468918687}, {\"index\": 30, \"bottom\": 0.8367995556788432, \"data_type\": \"STD\", \"top\": 3.6548559694071896}, {\"index\": 31, \"bottom\": 1.9214235890206117, \"data_type\": \"STD\", \"top\": 3.7767669805192776}, {\"index\": 32, \"bottom\": 1.7289930398593247, \"data_type\": \"STD\", \"top\": 3.5012073876912098}, {\"index\": 33, \"bottom\": 1.2888246221052508, \"data_type\": \"STD\", \"top\": 3.5871998046793765}, {\"index\": 34, \"bottom\": 0.19297360519864548, \"data_type\": \"STD\", \"top\": 2.6361673321042147}, {\"index\": 35, \"bottom\": -0.1625317632312242, \"data_type\": \"STD\", \"top\": 2.163171605553014}, {\"index\": 36, \"bottom\": -1.0843961111315155, \"data_type\": \"STD\", \"top\": 1.8595280110212284}, {\"index\": 37, \"bottom\": -1.5855970895503433, \"data_type\": \"STD\", \"top\": 1.4965126914321998}, {\"index\": 38, \"bottom\": -1.8893349193076527, \"data_type\": \"STD\", \"top\": 1.2189575633951948}, {\"index\": 39, \"bottom\": -2.31772123627654, \"data_type\": \"STD\", \"top\": 0.6195440338871078}, {\"index\": 40, \"bottom\": -2.3281870746327993, \"data_type\": \"STD\", \"top\": 0.4629365137588781}, {\"index\": 41, \"bottom\": -2.7166441996997106, \"data_type\": \"STD\", \"top\": 0.06074168299552851}, {\"index\": 42, \"bottom\": -2.3608397905592624, \"data_type\": \"STD\", \"top\": -0.9264178486126396}, {\"index\": 43, \"bottom\": -3.336443264099081, \"data_type\": \"STD\", \"top\": -1.2881578486152185}, {\"index\": 44, \"bottom\": -3.7729303854188427, \"data_type\": \"STD\", \"top\": -1.0959008789809546}, {\"index\": 45, \"bottom\": -3.47753344151067, \"data_type\": \"STD\", \"top\": -1.32046622357455}, {\"index\": 46, \"bottom\": -3.0326995731360986, \"data_type\": \"STD\", \"top\": -1.0097970467463255}, {\"index\": 47, \"bottom\": -2.741566990918808, \"data_type\": \"STD\", \"top\": -0.45141236615699554}], \"data-3fd53bd85964de07e05c87022e051cee\": [{\"index\": 0, \"values\": 0.11969547800826946, \"data_type\": \"MEAN\"}, {\"index\": 1, \"values\": 0.48915783149990744, \"data_type\": \"MEAN\"}, {\"index\": 2, \"values\": 0.8396950240953526, \"data_type\": \"MEAN\"}, {\"index\": 3, \"values\": 1.3739584093283947, \"data_type\": \"MEAN\"}, {\"index\": 4, \"values\": 1.9684113010915827, \"data_type\": \"MEAN\"}, {\"index\": 5, \"values\": 3.318606534328385, \"data_type\": \"MEAN\"}, {\"index\": 6, \"values\": 3.2211253776870414, \"data_type\": \"MEAN\"}, {\"index\": 7, \"values\": 2.724370195535419, \"data_type\": \"MEAN\"}, {\"index\": 8, \"values\": 1.8800359691179243, \"data_type\": \"MEAN\"}, {\"index\": 9, \"values\": 1.4905831806854468, \"data_type\": \"MEAN\"}, {\"index\": 10, \"values\": 0.9740836163628361, \"data_type\": \"MEAN\"}, {\"index\": 11, \"values\": 0.48514260523934777, \"data_type\": \"MEAN\"}, {\"index\": 12, \"values\": -0.06519202537289763, \"data_type\": \"MEAN\"}, {\"index\": 13, \"values\": -0.1537083218888919, \"data_type\": \"MEAN\"}, {\"index\": 14, \"values\": -0.5393562190427952, \"data_type\": \"MEAN\"}, {\"index\": 15, \"values\": -1.2483435083112522, \"data_type\": \"MEAN\"}, {\"index\": 16, \"values\": -1.6111157214126068, \"data_type\": \"MEAN\"}, {\"index\": 17, \"values\": -1.8572186581696333, \"data_type\": \"MEAN\"}, {\"index\": 18, \"values\": -2.545719068572884, \"data_type\": \"MEAN\"}, {\"index\": 19, \"values\": -2.302769995599936, \"data_type\": \"MEAN\"}, {\"index\": 20, \"values\": -2.275644669593999, \"data_type\": \"MEAN\"}, {\"index\": 21, \"values\": -1.9998549163746777, \"data_type\": \"MEAN\"}, {\"index\": 22, \"values\": -1.698105122528364, \"data_type\": \"MEAN\"}, {\"index\": 23, \"values\": -1.0047876853732887, \"data_type\": \"MEAN\"}, {\"index\": 24, \"values\": -0.559965717888902, \"data_type\": \"MEAN\"}, {\"index\": 25, \"values\": -0.08021890443039141, \"data_type\": \"MEAN\"}, {\"index\": 26, \"values\": 0.39016099485971956, \"data_type\": \"MEAN\"}, {\"index\": 27, \"values\": 1.1284464031845616, \"data_type\": \"MEAN\"}, {\"index\": 28, \"values\": 1.419654011373432, \"data_type\": \"MEAN\"}, {\"index\": 29, \"values\": 2.0658308513006207, \"data_type\": \"MEAN\"}, {\"index\": 30, \"values\": 2.2458277625430165, \"data_type\": \"MEAN\"}, {\"index\": 31, \"values\": 2.8490952847699447, \"data_type\": \"MEAN\"}, {\"index\": 32, \"values\": 2.6151002137752672, \"data_type\": \"MEAN\"}, {\"index\": 33, \"values\": 2.4380122133923137, \"data_type\": \"MEAN\"}, {\"index\": 34, \"values\": 1.4145704686514302, \"data_type\": \"MEAN\"}, {\"index\": 35, \"values\": 1.0003199211608949, \"data_type\": \"MEAN\"}, {\"index\": 36, \"values\": 0.3875659499448566, \"data_type\": \"MEAN\"}, {\"index\": 37, \"values\": -0.044542199059071676, \"data_type\": \"MEAN\"}, {\"index\": 38, \"values\": -0.33518867795622903, \"data_type\": \"MEAN\"}, {\"index\": 39, \"values\": -0.849088601194716, \"data_type\": \"MEAN\"}, {\"index\": 40, \"values\": -0.9326252804369606, \"data_type\": \"MEAN\"}, {\"index\": 41, \"values\": -1.327951258352091, \"data_type\": \"MEAN\"}, {\"index\": 42, \"values\": -1.643628819585951, \"data_type\": \"MEAN\"}, {\"index\": 43, \"values\": -2.3123005563571497, \"data_type\": \"MEAN\"}, {\"index\": 44, \"values\": -2.4344156321998986, \"data_type\": \"MEAN\"}, {\"index\": 45, \"values\": -2.39899983254261, \"data_type\": \"MEAN\"}, {\"index\": 46, \"values\": -2.021248309941212, \"data_type\": \"MEAN\"}, {\"index\": 47, \"values\": -1.596489678537902, \"data_type\": \"MEAN\"}, {\"index\": 0, \"values\": 0.0, \"data_type\": \"NULL\"}, {\"index\": 1, \"values\": 0.0, \"data_type\": \"NULL\"}, {\"index\": 2, \"values\": 0.0, \"data_type\": \"NULL\"}, {\"index\": 3, \"values\": 0.0, \"data_type\": \"NULL\"}, {\"index\": 4, \"values\": 0.0, \"data_type\": \"NULL\"}, {\"index\": 5, \"values\": 0.0, \"data_type\": \"NULL\"}, {\"index\": 6, \"values\": 0.0, \"data_type\": \"NULL\"}, {\"index\": 7, \"values\": 0.0, \"data_type\": \"NULL\"}, {\"index\": 8, \"values\": 0.0, \"data_type\": \"NULL\"}, {\"index\": 9, \"values\": 0.0, \"data_type\": \"NULL\"}, {\"index\": 10, \"values\": 0.0, \"data_type\": \"NULL\"}, {\"index\": 11, \"values\": 0.0, \"data_type\": \"NULL\"}, {\"index\": 12, \"values\": 0.0, \"data_type\": \"NULL\"}, {\"index\": 13, \"values\": 0.0, \"data_type\": \"NULL\"}, {\"index\": 14, \"values\": 0.0, \"data_type\": \"NULL\"}, {\"index\": 15, \"values\": 0.0, \"data_type\": \"NULL\"}, {\"index\": 16, \"values\": 0.0, \"data_type\": \"NULL\"}, {\"index\": 17, \"values\": 0.0, \"data_type\": \"NULL\"}, {\"index\": 18, \"values\": 0.0, \"data_type\": \"NULL\"}, {\"index\": 19, \"values\": 0.0, \"data_type\": \"NULL\"}, {\"index\": 20, \"values\": 0.0, \"data_type\": \"NULL\"}, {\"index\": 21, \"values\": 0.0, \"data_type\": \"NULL\"}, {\"index\": 22, \"values\": 0.0, \"data_type\": \"NULL\"}, {\"index\": 23, \"values\": 0.0, \"data_type\": \"NULL\"}, {\"index\": 24, \"values\": 0.0, \"data_type\": \"NULL\"}, {\"index\": 25, \"values\": 0.0, \"data_type\": \"NULL\"}, {\"index\": 26, \"values\": 0.0, \"data_type\": \"NULL\"}, {\"index\": 27, \"values\": 0.0, \"data_type\": \"NULL\"}, {\"index\": 28, \"values\": 0.0, \"data_type\": \"NULL\"}, {\"index\": 29, \"values\": 0.0, \"data_type\": \"NULL\"}, {\"index\": 30, \"values\": 0.0, \"data_type\": \"NULL\"}, {\"index\": 31, \"values\": 0.0, \"data_type\": \"NULL\"}, {\"index\": 32, \"values\": 0.0, \"data_type\": \"NULL\"}, {\"index\": 33, \"values\": 0.0, \"data_type\": \"NULL\"}, {\"index\": 34, \"values\": 0.0, \"data_type\": \"NULL\"}, {\"index\": 35, \"values\": 0.0, \"data_type\": \"NULL\"}, {\"index\": 36, \"values\": 0.0, \"data_type\": \"NULL\"}, {\"index\": 37, \"values\": 0.0, \"data_type\": \"NULL\"}, {\"index\": 38, \"values\": 0.0, \"data_type\": \"NULL\"}, {\"index\": 39, \"values\": 0.0, \"data_type\": \"NULL\"}, {\"index\": 40, \"values\": 0.0, \"data_type\": \"NULL\"}, {\"index\": 41, \"values\": 0.0, \"data_type\": \"NULL\"}, {\"index\": 42, \"values\": 0.0, \"data_type\": \"NULL\"}, {\"index\": 43, \"values\": 0.0, \"data_type\": \"NULL\"}, {\"index\": 44, \"values\": 0.0, \"data_type\": \"NULL\"}, {\"index\": 45, \"values\": 0.0, \"data_type\": \"NULL\"}, {\"index\": 46, \"values\": 0.0, \"data_type\": \"NULL\"}, {\"index\": 47, \"values\": 0.0, \"data_type\": \"NULL\"}]}}, {\"mode\": \"vega-lite\"});\n",
       "</script>"
      ],
      "text/plain": [
       "alt.LayerChart(...)"
      ]
     },
     "execution_count": 961,
     "metadata": {},
     "output_type": "execute_result"
    }
   ],
   "source": [
    "plot_result(noisy_result_synced, \"synchronized\")"
   ]
  },
  {
   "cell_type": "markdown",
   "metadata": {},
   "source": [
    "![alt text](https://github.com/dormanh/gamma-project/blob/master/plots/synced_result.png)"
   ]
  },
  {
   "cell_type": "code",
   "execution_count": null,
   "metadata": {},
   "outputs": [],
   "source": []
  }
 ],
 "metadata": {
  "kernelspec": {
   "display_name": "Python 3",
   "language": "python",
   "name": "python3"
  },
  "language_info": {
   "codemirror_mode": {
    "name": "ipython",
    "version": 3
   },
   "file_extension": ".py",
   "mimetype": "text/x-python",
   "name": "python",
   "nbconvert_exporter": "python",
   "pygments_lexer": "ipython3",
   "version": "3.7.3"
  }
 },
 "nbformat": 4,
 "nbformat_minor": 2
}
