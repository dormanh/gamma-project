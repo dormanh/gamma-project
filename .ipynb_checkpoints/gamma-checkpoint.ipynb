{
 "cells": [
  {
   "cell_type": "markdown",
   "metadata": {},
   "source": [
    "### Ugrás ide: <a id=\"top\"></a>\n",
    "    \n",
    "#### [Adatgenerálás](#data)\n",
    "\n",
    "#### [Ábrázolás](#plot)\n",
    "\n",
    "#### [Mintavétel](#sampling)\n",
    "\n",
    "#### [Eredmények](#result)"
   ]
  },
  {
   "cell_type": "code",
   "execution_count": 1,
   "metadata": {},
   "outputs": [],
   "source": [
    "import numpy as np\n",
    "from scipy.signal import hilbert\n",
    "\n",
    "import pandas as pd\n",
    "\n",
    "import altair as alt\n",
    "import matplotlib\n",
    "from matplotlib import pyplot as plt"
   ]
  },
  {
   "cell_type": "code",
   "execution_count": 19,
   "metadata": {},
   "outputs": [],
   "source": [
    "matplotlib.rcParams[\"figure.figsize\"] = [10, 5]"
   ]
  },
  {
   "cell_type": "markdown",
   "metadata": {},
   "source": [
    "### Adatgenerálás <a id=\"data\"></a>"
   ]
  },
  {
   "cell_type": "markdown",
   "metadata": {},
   "source": [
    "#### [vissza](#top)"
   ]
  },
  {
   "cell_type": "markdown",
   "metadata": {},
   "source": [
    "- theta: $4-8$ $Hz$\n",
    "- alpha: $8-12$ $Hz$\n",
    "- gamma: $>30$ $Hz$"
   ]
  },
  {
   "cell_type": "markdown",
   "metadata": {},
   "source": [
    "Megadom a paramétereket (időintervallum, mintavételezési frekvencia, agyhullámok frekvenciája). 1080 másodperc (18 perc) hosszúságú szakaszt veszek, így minden trial-re pont egy perc jut. Most rendre 6, illetve 10 Hz-es frekvenciát választok a thétának és a gammának, de ezt lehet alakítani."
   ]
  },
  {
   "cell_type": "code",
   "execution_count": 3,
   "metadata": {},
   "outputs": [],
   "source": [
    "sfreq = 1000\n",
    "interval = 1080\n",
    "theta = 6\n",
    "alpha = 10\n",
    "gamma = 40"
   ]
  },
  {
   "cell_type": "markdown",
   "metadata": {},
   "source": [
    "Ezek lesznek a mintavételt kijelölő milliszekundumok:"
   ]
  },
  {
   "cell_type": "code",
   "execution_count": 4,
   "metadata": {},
   "outputs": [],
   "source": [
    "time = np.linspace(0, interval, interval * sfreq)"
   ]
  },
  {
   "cell_type": "markdown",
   "metadata": {},
   "source": [
    "Az alábbi függvény adott frenkvenciájú színusz hullámokat mintavételez a megadott milliszekundumokban. A következő függvény zajt ad a hullámhoz, illetve veszi a tiszta és zajos jel hilbert transzformáltját. (A zaj normális eloszlású, nulla várhatóértékű, a szórását meg lehet adni paraméterként, a default itt 0.2)."
   ]
  },
  {
   "cell_type": "code",
   "execution_count": 5,
   "metadata": {},
   "outputs": [],
   "source": [
    "def sinewave(time, frequency):\n",
    "\n",
    "    return np.sin(time * 2 * np.pi * frequency)"
   ]
  },
  {
   "cell_type": "code",
   "execution_count": 6,
   "metadata": {},
   "outputs": [],
   "source": [
    "def add_noise_hilbert(time, sine, noise_scale=0.2):\n",
    "\n",
    "    noisy_sine = sine + np.random.normal(0, noise_scale, size=sine.shape[0])\n",
    "    hilbert_trans = np.angle(hilbert(sine))\n",
    "    noisy_hilbert = np.angle(hilbert(noisy_sine))\n",
    "\n",
    "    return pd.DataFrame(\n",
    "        {\n",
    "            \"time\": time * 1000,\n",
    "            \"sine\": sine,\n",
    "            \"noisy sine\": noisy_sine,\n",
    "            \"hilbert\": hilbert_trans,\n",
    "            \"noisy hilbert\": noisy_hilbert,\n",
    "        }\n",
    "    )"
   ]
  },
  {
   "cell_type": "markdown",
   "metadata": {},
   "source": [
    "#### Tiszta gamma"
   ]
  },
  {
   "cell_type": "code",
   "execution_count": 9,
   "metadata": {},
   "outputs": [],
   "source": [
    "np.random.seed(0)\n",
    "clear_data = add_noise_hilbert(time, sinewave(time, gamma))"
   ]
  },
  {
   "cell_type": "markdown",
   "metadata": {},
   "source": [
    "Így néz ki az adat:"
   ]
  },
  {
   "cell_type": "code",
   "execution_count": 10,
   "metadata": {},
   "outputs": [
    {
     "data": {
      "text/html": [
       "<div>\n",
       "<style scoped>\n",
       "    .dataframe tbody tr th:only-of-type {\n",
       "        vertical-align: middle;\n",
       "    }\n",
       "\n",
       "    .dataframe tbody tr th {\n",
       "        vertical-align: top;\n",
       "    }\n",
       "\n",
       "    .dataframe thead th {\n",
       "        text-align: right;\n",
       "    }\n",
       "</style>\n",
       "<table border=\"1\" class=\"dataframe\">\n",
       "  <thead>\n",
       "    <tr style=\"text-align: right;\">\n",
       "      <th></th>\n",
       "      <th>time</th>\n",
       "      <th>sine</th>\n",
       "      <th>noisy sine</th>\n",
       "      <th>hilbert</th>\n",
       "      <th>noisy hilbert</th>\n",
       "    </tr>\n",
       "  </thead>\n",
       "  <tbody>\n",
       "    <tr>\n",
       "      <th>0</th>\n",
       "      <td>0.000000</td>\n",
       "      <td>0.000000</td>\n",
       "      <td>0.352810</td>\n",
       "      <td>-1.570796</td>\n",
       "      <td>-1.180761</td>\n",
       "    </tr>\n",
       "    <tr>\n",
       "      <th>1</th>\n",
       "      <td>1.000001</td>\n",
       "      <td>0.248690</td>\n",
       "      <td>0.328722</td>\n",
       "      <td>-1.308770</td>\n",
       "      <td>-1.209424</td>\n",
       "    </tr>\n",
       "    <tr>\n",
       "      <th>2</th>\n",
       "      <td>2.000002</td>\n",
       "      <td>0.481754</td>\n",
       "      <td>0.677502</td>\n",
       "      <td>-1.038261</td>\n",
       "      <td>-0.992637</td>\n",
       "    </tr>\n",
       "    <tr>\n",
       "      <th>3</th>\n",
       "      <td>3.000003</td>\n",
       "      <td>0.684548</td>\n",
       "      <td>1.132726</td>\n",
       "      <td>-0.802979</td>\n",
       "      <td>-0.588595</td>\n",
       "    </tr>\n",
       "    <tr>\n",
       "      <th>4</th>\n",
       "      <td>4.000004</td>\n",
       "      <td>0.844328</td>\n",
       "      <td>1.217840</td>\n",
       "      <td>-0.537555</td>\n",
       "      <td>-0.103300</td>\n",
       "    </tr>\n",
       "  </tbody>\n",
       "</table>\n",
       "</div>"
      ],
      "text/plain": [
       "       time      sine  noisy sine   hilbert  noisy hilbert\n",
       "0  0.000000  0.000000    0.352810 -1.570796      -1.180761\n",
       "1  1.000001  0.248690    0.328722 -1.308770      -1.209424\n",
       "2  2.000002  0.481754    0.677502 -1.038261      -0.992637\n",
       "3  3.000003  0.684548    1.132726 -0.802979      -0.588595\n",
       "4  4.000004  0.844328    1.217840 -0.537555      -0.103300"
      ]
     },
     "execution_count": 10,
     "metadata": {},
     "output_type": "execute_result"
    }
   ],
   "source": [
    "clear_data.head(5)"
   ]
  },
  {
   "cell_type": "markdown",
   "metadata": {},
   "source": [
    "Az alábbi átalakítás csak az ábrázoláshoz kell. Egy oszlopba rendezi az eredeti jelet és a transzformáltakat, és hozzárendeli a típusukat egy plusz oszlopban."
   ]
  },
  {
   "cell_type": "code",
   "execution_count": 11,
   "metadata": {},
   "outputs": [],
   "source": [
    "def format_data(data, index_col):\n",
    "\n",
    "    return pd.concat(\n",
    "        [\n",
    "            data[[index_col, c]].assign(data_type=c).rename(columns={c: \"values\"})\n",
    "            for c in data.columns\n",
    "            if c != index_col\n",
    "        ]\n",
    "    ).reset_index(drop=True)"
   ]
  },
  {
   "cell_type": "markdown",
   "metadata": {},
   "source": [
    "Ez így néz ki:"
   ]
  },
  {
   "cell_type": "code",
   "execution_count": 12,
   "metadata": {},
   "outputs": [
    {
     "data": {
      "text/html": [
       "<div>\n",
       "<style scoped>\n",
       "    .dataframe tbody tr th:only-of-type {\n",
       "        vertical-align: middle;\n",
       "    }\n",
       "\n",
       "    .dataframe tbody tr th {\n",
       "        vertical-align: top;\n",
       "    }\n",
       "\n",
       "    .dataframe thead th {\n",
       "        text-align: right;\n",
       "    }\n",
       "</style>\n",
       "<table border=\"1\" class=\"dataframe\">\n",
       "  <thead>\n",
       "    <tr style=\"text-align: right;\">\n",
       "      <th></th>\n",
       "      <th>time</th>\n",
       "      <th>values</th>\n",
       "      <th>data_type</th>\n",
       "    </tr>\n",
       "  </thead>\n",
       "  <tbody>\n",
       "    <tr>\n",
       "      <th>3976634</th>\n",
       "      <td>7.366347e+05</td>\n",
       "      <td>0.300612</td>\n",
       "      <td>noisy hilbert</td>\n",
       "    </tr>\n",
       "    <tr>\n",
       "      <th>940632</th>\n",
       "      <td>9.406329e+05</td>\n",
       "      <td>0.918158</td>\n",
       "      <td>sine</td>\n",
       "    </tr>\n",
       "    <tr>\n",
       "      <th>3572012</th>\n",
       "      <td>3.320123e+05</td>\n",
       "      <td>1.665371</td>\n",
       "      <td>noisy hilbert</td>\n",
       "    </tr>\n",
       "    <tr>\n",
       "      <th>2107689</th>\n",
       "      <td>1.027690e+06</td>\n",
       "      <td>-0.640072</td>\n",
       "      <td>noisy sine</td>\n",
       "    </tr>\n",
       "    <tr>\n",
       "      <th>2637006</th>\n",
       "      <td>4.770064e+05</td>\n",
       "      <td>0.048173</td>\n",
       "      <td>hilbert</td>\n",
       "    </tr>\n",
       "  </tbody>\n",
       "</table>\n",
       "</div>"
      ],
      "text/plain": [
       "                 time    values      data_type\n",
       "3976634  7.366347e+05  0.300612  noisy hilbert\n",
       "940632   9.406329e+05  0.918158           sine\n",
       "3572012  3.320123e+05  1.665371  noisy hilbert\n",
       "2107689  1.027690e+06 -0.640072     noisy sine\n",
       "2637006  4.770064e+05  0.048173        hilbert"
      ]
     },
     "execution_count": 12,
     "metadata": {},
     "output_type": "execute_result"
    }
   ],
   "source": [
    "format_data(clear_data, \"time\").sample(5)"
   ]
  },
  {
   "cell_type": "markdown",
   "metadata": {},
   "source": [
    "#### Théta, alpha és gamma frekvenciák keverése"
   ]
  },
  {
   "cell_type": "markdown",
   "metadata": {},
   "source": [
    "Az alábbi hullámokat fogom összeadni a kevert jelhez:"
   ]
  },
  {
   "cell_type": "code",
   "execution_count": 20,
   "metadata": {},
   "outputs": [
    {
     "data": {
      "text/plain": [
       "<matplotlib.legend.Legend at 0x7f9c61d46ba8>"
      ]
     },
     "execution_count": 20,
     "metadata": {},
     "output_type": "execute_result"
    },
    {
     "data": {
      "image/png": "[encoded data removed]",
      "text/plain": [
       "<Figure size 720x360 with 1 Axes>"
      ]
     },
     "metadata": {
      "needs_background": "light"
     },
     "output_type": "display_data"
    }
   ],
   "source": [
    "for n, f in {\"theta\": theta, \"alpha\": alpha, \"gamma\": gamma}.items():\n",
    "    plt.plot(sinewave(time[:200], f), label=n)\n",
    "plt.legend()"
   ]
  },
  {
   "cell_type": "code",
   "execution_count": 13,
   "metadata": {},
   "outputs": [],
   "source": [
    "np.random.seed(0)\n",
    "mixed = np.concatenate(\n",
    "    [sinewave(time, f).reshape(-1, 1) for f in [theta, alpha, gamma]], axis=1,\n",
    ").sum(axis=1)"
   ]
  },
  {
   "cell_type": "code",
   "execution_count": 16,
   "metadata": {},
   "outputs": [],
   "source": [
    "mixed_data = add_noise_hilbert(time, mixed)"
   ]
  },
  {
   "cell_type": "code",
   "execution_count": 17,
   "metadata": {},
   "outputs": [
    {
     "data": {
      "text/html": [
       "<div>\n",
       "<style scoped>\n",
       "    .dataframe tbody tr th:only-of-type {\n",
       "        vertical-align: middle;\n",
       "    }\n",
       "\n",
       "    .dataframe tbody tr th {\n",
       "        vertical-align: top;\n",
       "    }\n",
       "\n",
       "    .dataframe thead th {\n",
       "        text-align: right;\n",
       "    }\n",
       "</style>\n",
       "<table border=\"1\" class=\"dataframe\">\n",
       "  <thead>\n",
       "    <tr style=\"text-align: right;\">\n",
       "      <th></th>\n",
       "      <th>time</th>\n",
       "      <th>sine</th>\n",
       "      <th>noisy sine</th>\n",
       "      <th>hilbert</th>\n",
       "      <th>noisy hilbert</th>\n",
       "    </tr>\n",
       "  </thead>\n",
       "  <tbody>\n",
       "    <tr>\n",
       "      <th>0</th>\n",
       "      <td>0.000000</td>\n",
       "      <td>0.000000</td>\n",
       "      <td>0.352810</td>\n",
       "      <td>-1.570796</td>\n",
       "      <td>-1.442742</td>\n",
       "    </tr>\n",
       "    <tr>\n",
       "      <th>1</th>\n",
       "      <td>1.000001</td>\n",
       "      <td>0.349171</td>\n",
       "      <td>0.429202</td>\n",
       "      <td>-1.449649</td>\n",
       "      <td>-1.419254</td>\n",
       "    </tr>\n",
       "    <tr>\n",
       "      <th>2</th>\n",
       "      <td>2.000002</td>\n",
       "      <td>0.682414</td>\n",
       "      <td>0.878162</td>\n",
       "      <td>-1.327393</td>\n",
       "      <td>-1.283203</td>\n",
       "    </tr>\n",
       "    <tr>\n",
       "      <th>3</th>\n",
       "      <td>3.000003</td>\n",
       "      <td>0.984786</td>\n",
       "      <td>1.432964</td>\n",
       "      <td>-1.214448</td>\n",
       "      <td>-1.081739</td>\n",
       "    </tr>\n",
       "    <tr>\n",
       "      <th>4</th>\n",
       "      <td>4.000004</td>\n",
       "      <td>1.243244</td>\n",
       "      <td>1.616756</td>\n",
       "      <td>-1.096097</td>\n",
       "      <td>-0.901156</td>\n",
       "    </tr>\n",
       "  </tbody>\n",
       "</table>\n",
       "</div>"
      ],
      "text/plain": [
       "       time      sine  noisy sine   hilbert  noisy hilbert\n",
       "0  0.000000  0.000000    0.352810 -1.570796      -1.442742\n",
       "1  1.000001  0.349171    0.429202 -1.449649      -1.419254\n",
       "2  2.000002  0.682414    0.878162 -1.327393      -1.283203\n",
       "3  3.000003  0.984786    1.432964 -1.214448      -1.081739\n",
       "4  4.000004  1.243244    1.616756 -1.096097      -0.901156"
      ]
     },
     "execution_count": 17,
     "metadata": {},
     "output_type": "execute_result"
    }
   ],
   "source": [
    "mixed_data.head(5)"
   ]
  },
  {
   "cell_type": "markdown",
   "metadata": {},
   "source": [
    "### Ábrázolás <a id=\"plot\"></a>"
   ]
  },
  {
   "cell_type": "markdown",
   "metadata": {},
   "source": [
    "#### [vissza](#top)"
   ]
  },
  {
   "cell_type": "markdown",
   "metadata": {},
   "source": [
    "Az alábbi függvény tetszőleges intervallumon ábrázolja a kért hullámokat."
   ]
  },
  {
   "cell_type": "code",
   "execution_count": 21,
   "metadata": {
    "scrolled": false
   },
   "outputs": [],
   "source": [
    "def sineplot(data, interval, signals):\n",
    "\n",
    "    filtered = format_data(data, \"time\").loc[\n",
    "        lambda df: df[\"data_type\"].isin(signals) & (df[\"time\"] <= interval + 1)\n",
    "    ]\n",
    "\n",
    "    base = (\n",
    "        alt.Chart(\n",
    "            filtered,\n",
    "            title=\"First {} milliseconds of the generated wave\\n\\n\".format(interval),\n",
    "        )\n",
    "        .encode(\n",
    "            alt.X(\n",
    "                \"time\",\n",
    "                title=\"Time (in milliseconds)\",\n",
    "                scale=alt.Scale(domain=(0, interval), nice=False),\n",
    "            )\n",
    "        )\n",
    "        .properties(width=800, height=400)\n",
    "    )\n",
    "\n",
    "    yscale = max(abs(filtered[\"values\"].min()), filtered[\"values\"].max(),) * 2\n",
    "\n",
    "    lines = base.mark_line().encode(\n",
    "        alt.Y(\"values\", title=None, scale=alt.Scale(domain=(-yscale, yscale)),),\n",
    "        color=\"data_type\",\n",
    "    )\n",
    "\n",
    "    return lines"
   ]
  },
  {
   "cell_type": "code",
   "execution_count": 25,
   "metadata": {
    "scrolled": false
   },
   "outputs": [
    {
     "data": {
      "text/html": [
       "\n",
       "<div id=\"altair-viz-adac9627bf26458fa5cce699c537f0e1\"></div>\n",
       "<script type=\"text/javascript\">\n",
       "  (function(spec, embedOpt){\n",
       "    let outputDiv = document.currentScript.previousElementSibling;\n",
       "    if (outputDiv.id !== \"altair-viz-adac9627bf26458fa5cce699c537f0e1\") {\n",
       "      outputDiv = document.getElementById(\"altair-viz-adac9627bf26458fa5cce699c537f0e1\");\n",
       "    }\n",
       "    const paths = {\n",
       "      \"vega\": \"https://cdn.jsdelivr.net/npm//vega@5?noext\",\n",
       "      \"vega-lib\": \"https://cdn.jsdelivr.net/npm//vega-lib?noext\",\n",
       "      \"vega-lite\": \"https://cdn.jsdelivr.net/npm//vega-lite@4.8.1?noext\",\n",
       "      \"vega-embed\": \"https://cdn.jsdelivr.net/npm//vega-embed@6?noext\",\n",
       "    };\n",
       "\n",
       "    function loadScript(lib) {\n",
       "      return new Promise(function(resolve, reject) {\n",
       "        var s = document.createElement('script');\n",
       "        s.src = paths[lib];\n",
       "        s.async = true;\n",
       "        s.onload = () => resolve(paths[lib]);\n",
       "        s.onerror = () => reject(`Error loading script: ${paths[lib]}`);\n",
       "        document.getElementsByTagName(\"head\")[0].appendChild(s);\n",
       "      });\n",
       "    }\n",
       "\n",
       "    function showError(err) {\n",
       "      outputDiv.innerHTML = `<div class=\"error\" style=\"color:red;\">${err}</div>`;\n",
       "      throw err;\n",
       "    }\n",
       "\n",
       "    function displayChart(vegaEmbed) {\n",
       "      vegaEmbed(outputDiv, spec, embedOpt)\n",
       "        .catch(err => showError(`Javascript Error: ${err.message}<br>This usually means there's a typo in your chart specification. See the javascript console for the full traceback.`));\n",
       "    }\n",
       "\n",
       "    if(typeof define === \"function\" && define.amd) {\n",
       "      requirejs.config({paths});\n",
       "      require([\"vega-embed\"], displayChart, err => showError(`Error loading script: ${err.message}`));\n",
       "    } else if (typeof vegaEmbed === \"function\") {\n",
       "      displayChart(vegaEmbed);\n",
       "    } else {\n",
       "      loadScript(\"vega\")\n",
       "        .then(() => loadScript(\"vega-lite\"))\n",
       "        .then(() => loadScript(\"vega-embed\"))\n",
       "        .catch(showError)\n",
       "        .then(() => displayChart(vegaEmbed));\n",
       "    }\n",
       "  })({\"config\": {\"view\": {\"continuousWidth\": 400, \"continuousHeight\": 300}}, \"data\": {\"name\": \"data-36e47bd9adc8b9610d4cdb71e9c264b8\"}, \"mark\": \"line\", \"encoding\": {\"color\": {\"type\": \"nominal\", \"field\": \"data_type\"}, \"x\": {\"type\": \"quantitative\", \"field\": \"time\", \"scale\": {\"domain\": [0, 50], \"nice\": false}, \"title\": \"Time (in milliseconds)\"}, \"y\": {\"type\": \"quantitative\", \"field\": \"values\", \"scale\": {\"domain\": [-5.696070548438008, 5.696070548438008]}, \"title\": null}}, \"height\": 400, \"title\": \"First 50 milliseconds of the generated wave\\n\\n\", \"width\": 800, \"$schema\": \"https://vega.github.io/schema/vega-lite/v4.8.1.json\", \"datasets\": {\"data-36e47bd9adc8b9610d4cdb71e9c264b8\": [{\"time\": 0.0, \"values\": 0.0, \"data_type\": \"sine\"}, {\"time\": 1.0000009259267832, \"values\": 0.3491709077085515, \"data_type\": \"sine\"}, {\"time\": 2.0000018518535665, \"values\": 0.6824143060987078, \"data_type\": \"sine\"}, {\"time\": 3.0000027777803497, \"values\": 0.984785589796759, \"data_type\": \"sine\"}, {\"time\": 4.000003703707133, \"values\": 1.2432442639996415, \"data_type\": \"sine\"}, {\"time\": 5.000004629633916, \"values\": 1.447455632906107, \"data_type\": \"sine\"}, {\"time\": 6.0000055555606995, \"values\": 1.5904226583916563, \"data_type\": \"sine\"}, {\"time\": 7.000006481487483, \"values\": 1.6689083477154676, \"data_type\": \"sine\"}, {\"time\": 8.000007407414266, \"values\": 1.683622189976438, \"data_type\": \"sine\"}, {\"time\": 9.00000833334105, \"values\": 1.63915898559604, \"data_type\": \"sine\"}, {\"time\": 10.000009259267832, \"values\": 1.5436939698190981, \"data_type\": \"sine\"}, {\"time\": 11.000010185194615, \"values\": 1.4084534426077568, \"data_type\": \"sine\"}, {\"time\": 12.000011111121399, \"values\": 1.2469942212926899, \"data_type\": \"sine\"}, {\"time\": 13.000012037048183, \"values\": 1.0743372427387878, \"data_type\": \"sine\"}, {\"time\": 14.000012962974965, \"values\": 0.9060098039293636, \"data_type\": \"sine\"}, {\"time\": 15.000013888901746, \"values\": 0.7570566680893541, \"data_type\": \"sine\"}, {\"time\": 16.000014814828532, \"values\": 0.6410822172093904, \"data_type\": \"sine\"}, {\"time\": 17.000015740755316, \"values\": 0.5693838783478451, \"data_type\": \"sine\"}, {\"time\": 18.0000166666821, \"values\": 0.5502313131324739, \"data_type\": \"sine\"}, {\"time\": 19.00001759260888, \"values\": 0.5883366980056145, \"data_type\": \"sine\"}, {\"time\": 20.000018518535665, \"values\": 0.6845494126444208, \"data_type\": \"sine\"}, {\"time\": 21.00001944446245, \"values\": 0.8357943502932976, \"data_type\": \"sine\"}, {\"time\": 22.00002037038923, \"values\": 1.0352577526709688, \"data_type\": \"sine\"}, {\"time\": 23.000021296316014, \"values\": 1.272808915725351, \"data_type\": \"sine\"}, {\"time\": 24.000022222242798, \"values\": 1.5356312882860754, \"data_type\": \"sine\"}, {\"time\": 25.000023148169582, \"values\": 1.809023325083013, \"data_type\": \"sine\"}, {\"time\": 26.000024074096366, \"values\": 2.0773187856028237, \"data_type\": \"sine\"}, {\"time\": 27.000025000023147, \"values\": 2.3248686612948477, \"data_type\": \"sine\"}, {\"time\": 28.00002592594993, \"values\": 2.5370230375436083, \"data_type\": \"sine\"}, {\"time\": 29.00002685187671, \"values\": 2.7010511971616777, \"data_type\": \"sine\"}, {\"time\": 30.000027777803492, \"values\": 2.8069421489173463, \"data_type\": \"sine\"}, {\"time\": 31.000028703730276, \"values\": 2.848035274219004, \"data_type\": \"sine\"}, {\"time\": 32.000029629657064, \"values\": 2.821441455689861, \"data_type\": \"sine\"}, {\"time\": 33.00003055558384, \"values\": 2.7282282125217723, \"data_type\": \"sine\"}, {\"time\": 34.00003148151063, \"values\": 2.5733571922441985, \"data_type\": \"sine\"}, {\"time\": 35.00003240743741, \"values\": 2.3653779254025302, \"data_type\": \"sine\"}, {\"time\": 36.0000333333642, \"values\": 2.1158970611261156, \"data_type\": \"sine\"}, {\"time\": 37.00003425929098, \"values\": 1.838856405614918, \"data_type\": \"sine\"}, {\"time\": 38.00003518521776, \"values\": 1.5496650959864013, \"data_type\": \"sine\"}, {\"time\": 39.000036111144546, \"values\": 1.2642404040539041, \"data_type\": \"sine\"}, {\"time\": 40.00003703707133, \"values\": 0.9980174027744722, \"data_type\": \"sine\"}, {\"time\": 41.00003796299811, \"values\": 0.7649896817684783, \"data_type\": \"sine\"}, {\"time\": 42.0000388889249, \"values\": 0.5768413447301394, \"data_type\": \"sine\"}, {\"time\": 43.000039814851675, \"values\": 0.44222478347775673, \"data_type\": \"sine\"}, {\"time\": 44.00004074077846, \"values\": 0.36622956138985197, \"data_type\": \"sine\"}, {\"time\": 45.00004166670524, \"values\": 0.35007572872992254, \"data_type\": \"sine\"}, {\"time\": 46.00004259263203, \"values\": 0.39105078853558284, \"data_type\": \"sine\"}, {\"time\": 47.00004351855881, \"values\": 0.4826942205414092, \"data_type\": \"sine\"}, {\"time\": 48.000044444485596, \"values\": 0.6152179140863949, \"data_type\": \"sine\"}, {\"time\": 49.00004537041237, \"values\": 0.7761360366070907, \"data_type\": \"sine\"}, {\"time\": 50.000046296339164, \"values\": 0.9510647036111446, \"data_type\": \"sine\"}]}}, {\"mode\": \"vega-lite\"});\n",
       "</script>"
      ],
      "text/plain": [
       "alt.Chart(...)"
      ]
     },
     "execution_count": 25,
     "metadata": {},
     "output_type": "execute_result"
    }
   ],
   "source": [
    "sineplot(mixed_data, 50, [\"sine\"])"
   ]
  },
  {
   "cell_type": "markdown",
   "metadata": {},
   "source": [
    "![random_result](plots/mixed_sine.png)"
   ]
  },
  {
   "cell_type": "code",
   "execution_count": 23,
   "metadata": {
    "scrolled": false
   },
   "outputs": [
    {
     "data": {
      "text/html": [
       "\n",
       "<div id=\"altair-viz-8fceb169e2024ce9858319ee8fba2ad6\"></div>\n",
       "<script type=\"text/javascript\">\n",
       "  (function(spec, embedOpt){\n",
       "    let outputDiv = document.currentScript.previousElementSibling;\n",
       "    if (outputDiv.id !== \"altair-viz-8fceb169e2024ce9858319ee8fba2ad6\") {\n",
       "      outputDiv = document.getElementById(\"altair-viz-8fceb169e2024ce9858319ee8fba2ad6\");\n",
       "    }\n",
       "    const paths = {\n",
       "      \"vega\": \"https://cdn.jsdelivr.net/npm//vega@5?noext\",\n",
       "      \"vega-lib\": \"https://cdn.jsdelivr.net/npm//vega-lib?noext\",\n",
       "      \"vega-lite\": \"https://cdn.jsdelivr.net/npm//vega-lite@4.8.1?noext\",\n",
       "      \"vega-embed\": \"https://cdn.jsdelivr.net/npm//vega-embed@6?noext\",\n",
       "    };\n",
       "\n",
       "    function loadScript(lib) {\n",
       "      return new Promise(function(resolve, reject) {\n",
       "        var s = document.createElement('script');\n",
       "        s.src = paths[lib];\n",
       "        s.async = true;\n",
       "        s.onload = () => resolve(paths[lib]);\n",
       "        s.onerror = () => reject(`Error loading script: ${paths[lib]}`);\n",
       "        document.getElementsByTagName(\"head\")[0].appendChild(s);\n",
       "      });\n",
       "    }\n",
       "\n",
       "    function showError(err) {\n",
       "      outputDiv.innerHTML = `<div class=\"error\" style=\"color:red;\">${err}</div>`;\n",
       "      throw err;\n",
       "    }\n",
       "\n",
       "    function displayChart(vegaEmbed) {\n",
       "      vegaEmbed(outputDiv, spec, embedOpt)\n",
       "        .catch(err => showError(`Javascript Error: ${err.message}<br>This usually means there's a typo in your chart specification. See the javascript console for the full traceback.`));\n",
       "    }\n",
       "\n",
       "    if(typeof define === \"function\" && define.amd) {\n",
       "      requirejs.config({paths});\n",
       "      require([\"vega-embed\"], displayChart, err => showError(`Error loading script: ${err.message}`));\n",
       "    } else if (typeof vegaEmbed === \"function\") {\n",
       "      displayChart(vegaEmbed);\n",
       "    } else {\n",
       "      loadScript(\"vega\")\n",
       "        .then(() => loadScript(\"vega-lite\"))\n",
       "        .then(() => loadScript(\"vega-embed\"))\n",
       "        .catch(showError)\n",
       "        .then(() => displayChart(vegaEmbed));\n",
       "    }\n",
       "  })({\"config\": {\"view\": {\"continuousWidth\": 400, \"continuousHeight\": 300}}, \"data\": {\"name\": \"data-dcf739beae3a627f149d1e19cd5f6fa6\"}, \"mark\": \"line\", \"encoding\": {\"color\": {\"type\": \"nominal\", \"field\": \"data_type\"}, \"x\": {\"type\": \"quantitative\", \"field\": \"time\", \"scale\": {\"domain\": [0, 500], \"nice\": false}, \"title\": \"Time (in milliseconds)\"}, \"y\": {\"type\": \"quantitative\", \"field\": \"values\", \"scale\": {\"domain\": [-6.240836566158417, 6.240836566158417]}, \"title\": null}}, \"height\": 400, \"title\": \"First 500 milliseconds of the generated wave\\n\\n\", \"width\": 800, \"$schema\": \"https://vega.github.io/schema/vega-lite/v4.8.1.json\", \"datasets\": {\"data-dcf739beae3a627f149d1e19cd5f6fa6\": [{\"time\": 0.0, \"values\": 0.0, \"data_type\": \"sine\"}, {\"time\": 1.0000009259267832, \"values\": 0.3491709077085515, \"data_type\": \"sine\"}, {\"time\": 2.0000018518535665, \"values\": 0.6824143060987078, \"data_type\": \"sine\"}, {\"time\": 3.0000027777803497, \"values\": 0.984785589796759, \"data_type\": \"sine\"}, {\"time\": 4.000003703707133, \"values\": 1.2432442639996415, \"data_type\": \"sine\"}, {\"time\": 5.000004629633916, \"values\": 1.447455632906107, \"data_type\": \"sine\"}, {\"time\": 6.0000055555606995, \"values\": 1.5904226583916563, \"data_type\": \"sine\"}, {\"time\": 7.000006481487483, \"values\": 1.6689083477154676, \"data_type\": \"sine\"}, {\"time\": 8.000007407414266, \"values\": 1.683622189976438, \"data_type\": \"sine\"}, {\"time\": 9.00000833334105, \"values\": 1.63915898559604, \"data_type\": \"sine\"}, {\"time\": 10.000009259267832, \"values\": 1.5436939698190981, \"data_type\": \"sine\"}, {\"time\": 11.000010185194615, \"values\": 1.4084534426077568, \"data_type\": \"sine\"}, {\"time\": 12.000011111121399, \"values\": 1.2469942212926899, \"data_type\": \"sine\"}, {\"time\": 13.000012037048183, \"values\": 1.0743372427387878, \"data_type\": \"sine\"}, {\"time\": 14.000012962974965, \"values\": 0.9060098039293636, \"data_type\": \"sine\"}, {\"time\": 15.000013888901746, \"values\": 0.7570566680893541, \"data_type\": \"sine\"}, {\"time\": 16.000014814828532, \"values\": 0.6410822172093904, \"data_type\": \"sine\"}, {\"time\": 17.000015740755316, \"values\": 0.5693838783478451, \"data_type\": \"sine\"}, {\"time\": 18.0000166666821, \"values\": 0.5502313131324739, \"data_type\": \"sine\"}, {\"time\": 19.00001759260888, \"values\": 0.5883366980056145, \"data_type\": \"sine\"}, {\"time\": 20.000018518535665, \"values\": 0.6845494126444208, \"data_type\": \"sine\"}, {\"time\": 21.00001944446245, \"values\": 0.8357943502932976, \"data_type\": \"sine\"}, {\"time\": 22.00002037038923, \"values\": 1.0352577526709688, \"data_type\": \"sine\"}, {\"time\": 23.000021296316014, \"values\": 1.272808915725351, \"data_type\": \"sine\"}, {\"time\": 24.000022222242798, \"values\": 1.5356312882860754, \"data_type\": \"sine\"}, {\"time\": 25.000023148169582, \"values\": 1.809023325083013, \"data_type\": \"sine\"}, {\"time\": 26.000024074096366, \"values\": 2.0773187856028237, \"data_type\": \"sine\"}, {\"time\": 27.000025000023147, \"values\": 2.3248686612948477, \"data_type\": \"sine\"}, {\"time\": 28.00002592594993, \"values\": 2.5370230375436083, \"data_type\": \"sine\"}, {\"time\": 29.00002685187671, \"values\": 2.7010511971616777, \"data_type\": \"sine\"}, {\"time\": 30.000027777803492, \"values\": 2.8069421489173463, \"data_type\": \"sine\"}, {\"time\": 31.000028703730276, \"values\": 2.848035274219004, \"data_type\": \"sine\"}, {\"time\": 32.000029629657064, \"values\": 2.821441455689861, \"data_type\": \"sine\"}, {\"time\": 33.00003055558384, \"values\": 2.7282282125217723, \"data_type\": \"sine\"}, {\"time\": 34.00003148151063, \"values\": 2.5733571922441985, \"data_type\": \"sine\"}, {\"time\": 35.00003240743741, \"values\": 2.3653779254025302, \"data_type\": \"sine\"}, {\"time\": 36.0000333333642, \"values\": 2.1158970611261156, \"data_type\": \"sine\"}, {\"time\": 37.00003425929098, \"values\": 1.838856405614918, \"data_type\": \"sine\"}, {\"time\": 38.00003518521776, \"values\": 1.5496650959864013, \"data_type\": \"sine\"}, {\"time\": 39.000036111144546, \"values\": 1.2642404040539041, \"data_type\": \"sine\"}, {\"time\": 40.00003703707133, \"values\": 0.9980174027744722, \"data_type\": \"sine\"}, {\"time\": 41.00003796299811, \"values\": 0.7649896817684783, \"data_type\": \"sine\"}, {\"time\": 42.0000388889249, \"values\": 0.5768413447301394, \"data_type\": \"sine\"}, {\"time\": 43.000039814851675, \"values\": 0.44222478347775673, \"data_type\": \"sine\"}, {\"time\": 44.00004074077846, \"values\": 0.36622956138985197, \"data_type\": \"sine\"}, {\"time\": 45.00004166670524, \"values\": 0.35007572872992254, \"data_type\": \"sine\"}, {\"time\": 46.00004259263203, \"values\": 0.39105078853558284, \"data_type\": \"sine\"}, {\"time\": 47.00004351855881, \"values\": 0.4826942205414092, \"data_type\": \"sine\"}, {\"time\": 48.000044444485596, \"values\": 0.6152179140863949, \"data_type\": \"sine\"}, {\"time\": 49.00004537041237, \"values\": 0.7761360366070907, \"data_type\": \"sine\"}, {\"time\": 50.000046296339164, \"values\": 0.9510647036111446, \"data_type\": \"sine\"}, {\"time\": 51.00004722226594, \"values\": 1.1246411459037895, \"data_type\": \"sine\"}, {\"time\": 52.00004814819273, \"values\": 1.2815045607492936, \"data_type\": \"sine\"}, {\"time\": 53.00004907411951, \"values\": 1.4072769574168853, \"data_type\": \"sine\"}, {\"time\": 54.00005000004629, \"values\": 1.489482307745928, \"data_type\": \"sine\"}, {\"time\": 55.00005092597308, \"values\": 1.518346188956675, \"data_type\": \"sine\"}, {\"time\": 56.00005185189986, \"values\": 1.4874256153490966, \"data_type\": \"sine\"}, {\"time\": 57.00005277782664, \"values\": 1.3940294259265649, \"data_type\": \"sine\"}, {\"time\": 58.00005370375342, \"values\": 1.2394027558895466, \"data_type\": \"sine\"}, {\"time\": 59.00005462968021, \"values\": 1.0286639444140344, \"data_type\": \"sine\"}, {\"time\": 60.000055555606984, \"values\": 0.7704977876781384, \"data_type\": \"sine\"}, {\"time\": 61.000056481533775, \"values\": 0.4766243572462964, \"data_type\": \"sine\"}, {\"time\": 62.00005740746055, \"values\": 0.16107670760042997, \"data_type\": \"sine\"}, {\"time\": 63.000058333387344, \"values\": -0.16066719337314347, \"data_type\": \"sine\"}, {\"time\": 64.00005925931413, \"values\": -0.4726438154155926, \"data_type\": \"sine\"}, {\"time\": 65.0000601852409, \"values\": -0.7593944651810505, \"data_type\": \"sine\"}, {\"time\": 66.00006111116768, \"values\": -1.0069245472797963, \"data_type\": \"sine\"}, {\"time\": 67.00006203709448, \"values\": -1.203571454600855, \"data_type\": \"sine\"}, {\"time\": 68.00006296302126, \"values\": -1.340726593933029, \"data_type\": \"sine\"}, {\"time\": 69.00006388894803, \"values\": -1.4133662153197424, \"data_type\": \"sine\"}, {\"time\": 70.00006481487482, \"values\": -1.420357724220805, \"data_type\": \"sine\"}, {\"time\": 71.0000657408016, \"values\": -1.3645222597508648, \"data_type\": \"sine\"}, {\"time\": 72.0000666667284, \"values\": -1.2524496338124478, \"data_type\": \"sine\"}, {\"time\": 73.00006759265517, \"values\": -1.0940772827709873, \"data_type\": \"sine\"}, {\"time\": 74.00006851858195, \"values\": -0.9020597079488046, \"data_type\": \"sine\"}, {\"time\": 75.00006944450874, \"values\": -0.6909680421703569, \"data_type\": \"sine\"}, {\"time\": 76.00007037043552, \"values\": -0.4763700499329867, \"data_type\": \"sine\"}, {\"time\": 77.0000712963623, \"values\": -0.2738483780622091, \"data_type\": \"sine\"}, {\"time\": 78.00007222228909, \"values\": -0.09801875011489813, \"data_type\": \"sine\"}, {\"time\": 79.00007314821588, \"values\": 0.03839020223687062, \"data_type\": \"sine\"}, {\"time\": 80.00007407414266, \"values\": 0.12533765405849595, \"data_type\": \"sine\"}, {\"time\": 81.00007500006943, \"values\": 0.1561015407415961, \"data_type\": \"sine\"}, {\"time\": 82.00007592599621, \"values\": 0.1277001130931945, \"data_type\": \"sine\"}, {\"time\": 83.00007685192301, \"values\": 0.041077617468987304, \"data_type\": \"sine\"}, {\"time\": 84.0000777778498, \"values\": -0.09895755116687976, \"data_type\": \"sine\"}, {\"time\": 85.00007870377657, \"values\": -0.2840383189580947, \"data_type\": \"sine\"}, {\"time\": 86.00007962970335, \"values\": -0.50276881034145, \"data_type\": \"sine\"}, {\"time\": 87.00008055563013, \"values\": -0.7414453138518247, \"data_type\": \"sine\"}, {\"time\": 88.00008148155692, \"values\": -0.9849230078139766, \"data_type\": \"sine\"}, {\"time\": 89.0000824074837, \"values\": -1.2175739556022198, \"data_type\": \"sine\"}, {\"time\": 90.00008333341049, \"values\": -1.4242761425291568, \"data_type\": \"sine\"}, {\"time\": 91.00008425933727, \"values\": -1.59137137329839, \"data_type\": \"sine\"}, {\"time\": 92.00008518526406, \"values\": -1.707531803056295, \"data_type\": \"sine\"}, {\"time\": 93.00008611119083, \"values\": -1.7644806136309603, \"data_type\": \"sine\"}, {\"time\": 94.00008703711762, \"values\": -1.7575215089860476, \"data_type\": \"sine\"}, {\"time\": 95.00008796304441, \"values\": -1.6858437145416243, \"data_type\": \"sine\"}, {\"time\": 96.00008888897119, \"values\": -1.552583269157301, \"data_type\": \"sine\"}, {\"time\": 97.00008981489796, \"values\": -1.3646367100254957, \"data_type\": \"sine\"}, {\"time\": 98.00009074082475, \"values\": -1.1322388074140264, \"data_type\": \"sine\"}, {\"time\": 99.00009166675154, \"values\": -0.8683308306466202, \"data_type\": \"sine\"}, {\"time\": 100.00009259267833, \"values\": -0.587758987445764, \"data_type\": \"sine\"}, {\"time\": 101.0000935186051, \"values\": -0.30635334884903687, \"data_type\": \"sine\"}, {\"time\": 102.00009444453188, \"values\": -0.03994508090878385, \"data_type\": \"sine\"}, {\"time\": 103.00009537045867, \"values\": 0.19661631952169156, \"data_type\": \"sine\"}, {\"time\": 104.00009629638546, \"values\": 0.3903840879725794, \"data_type\": \"sine\"}, {\"time\": 105.00009722231223, \"values\": 0.5311157343610151, \"data_type\": \"sine\"}, {\"time\": 106.00009814823902, \"values\": 0.6119047532916053, \"data_type\": \"sine\"}, {\"time\": 107.0000990741658, \"values\": 0.6296028627428655, \"data_type\": \"sine\"}, {\"time\": 108.00010000009259, \"values\": 0.585006292348199, \"data_type\": \"sine\"}, {\"time\": 109.00010092601936, \"values\": 0.48279446714902297, \"data_type\": \"sine\"}, {\"time\": 110.00010185194616, \"values\": 0.33122498942978185, \"data_type\": \"sine\"}, {\"time\": 111.00010277787294, \"values\": 0.1416041325565991, \"data_type\": \"sine\"}, {\"time\": 112.00010370379972, \"values\": -0.07243383542893042, \"data_type\": \"sine\"}, {\"time\": 113.0001046297265, \"values\": -0.2957931705519072, \"data_type\": \"sine\"}, {\"time\": 114.00010555565328, \"values\": -0.5128745242250767, \"data_type\": \"sine\"}, {\"time\": 115.00010648158008, \"values\": -0.7085639395173573, \"data_type\": \"sine\"}, {\"time\": 116.00010740750685, \"values\": -0.8691907913625121, \"data_type\": \"sine\"}, {\"time\": 117.00010833343363, \"values\": -0.9833944435508957, \"data_type\": \"sine\"}, {\"time\": 118.00010925936041, \"values\": -1.0428451336456268, \"data_type\": \"sine\"}, {\"time\": 119.0001101852872, \"values\": -1.0427737591416695, \"data_type\": \"sine\"}, {\"time\": 120.00011111121397, \"values\": -0.9822772485361843, \"data_type\": \"sine\"}, {\"time\": 121.00011203714077, \"values\": -0.8643803048335383, \"data_type\": \"sine\"}, {\"time\": 122.00011296306755, \"values\": -0.6958496201576154, \"data_type\": \"sine\"}, {\"time\": 123.00011388899433, \"values\": -0.48677221651714825, \"data_type\": \"sine\"}, {\"time\": 124.0001148149211, \"values\": -0.24992439188784138, \"data_type\": \"sine\"}, {\"time\": 125.0001157408479, \"values\": 2.908883087482595e-05, \"data_type\": \"sine\"}, {\"time\": 126.00011666677469, \"values\": 0.24745524868764018, \"data_type\": \"sine\"}, {\"time\": 127.00011759270147, \"values\": 0.47673478143283476, \"data_type\": \"sine\"}, {\"time\": 128.00011851862826, \"values\": 0.6732438684571518, \"data_type\": \"sine\"}, {\"time\": 129.00011944455503, \"values\": 0.8242742369102801, \"data_type\": \"sine\"}, {\"time\": 130.0001203704818, \"values\": 0.9198336430992292, \"data_type\": \"sine\"}, {\"time\": 131.0001212964086, \"values\": 0.9532764751837356, \"data_type\": \"sine\"}, {\"time\": 132.00012222233536, \"values\": 0.9217248400546963, \"data_type\": \"sine\"}, {\"time\": 133.00012314826216, \"values\": 0.826253660623417, \"data_type\": \"sine\"}, {\"time\": 134.00012407418896, \"values\": 0.6718281346011109, \"data_type\": \"sine\"}, {\"time\": 135.00012500011573, \"values\": 0.46699746272133047, \"data_type\": \"sine\"}, {\"time\": 136.00012592604253, \"values\": 0.2233640657684568, \"data_type\": \"sine\"}, {\"time\": 137.0001268519693, \"values\": -0.04513838633844647, \"data_type\": \"sine\"}, {\"time\": 138.00012777789607, \"values\": -0.3231127999830844, \"data_type\": \"sine\"}, {\"time\": 139.00012870382287, \"values\": -0.5946578425592195, \"data_type\": \"sine\"}, {\"time\": 140.00012962974964, \"values\": -0.8443582533744494, \"data_type\": \"sine\"}, {\"time\": 141.00013055567644, \"values\": -1.0582440943802838, \"data_type\": \"sine\"}, {\"time\": 142.0001314816032, \"values\": -1.2246587083092224, \"data_type\": \"sine\"}, {\"time\": 143.00013240752997, \"values\": -1.3349808902144664, \"data_type\": \"sine\"}, {\"time\": 144.0001333334568, \"values\": -1.384155940711721, \"data_type\": \"sine\"}, {\"time\": 145.00013425938357, \"values\": -1.3710022797044246, \"data_type\": \"sine\"}, {\"time\": 146.00013518531034, \"values\": -1.2982744033626936, \"data_type\": \"sine\"}, {\"time\": 147.00013611123714, \"values\": -1.172478278407767, \"data_type\": \"sine\"}, {\"time\": 148.0001370371639, \"values\": -1.0034508242566007, \"data_type\": \"sine\"}, {\"time\": 149.0001379630907, \"values\": -0.803729957825987, \"data_type\": \"sine\"}, {\"time\": 150.00013888901748, \"values\": -0.5877548363144071, \"data_type\": \"sine\"}, {\"time\": 151.00013981494425, \"values\": -0.37094660314440275, \"data_type\": \"sine\"}, {\"time\": 152.00014074087105, \"values\": -0.168727451027455, \"data_type\": \"sine\"}, {\"time\": 153.00014166679782, \"values\": 0.004460307999028856, \"data_type\": \"sine\"}, {\"time\": 154.0001425927246, \"values\": 0.13607347625472788, \"data_type\": \"sine\"}, {\"time\": 155.0001435186514, \"values\": 0.21626769544830637, \"data_type\": \"sine\"}, {\"time\": 156.00014444457818, \"values\": 0.23852736041523548, \"data_type\": \"sine\"}, {\"time\": 157.00014537050498, \"values\": 0.20008608957154062, \"data_type\": \"sine\"}, {\"time\": 158.00014629643175, \"values\": 0.10211128119063118, \"data_type\": \"sine\"}, {\"time\": 159.00014722235852, \"values\": -0.05035889081318534, \"data_type\": \"sine\"}, {\"time\": 160.00014814828532, \"values\": -0.24872213134459842, \"data_type\": \"sine\"}, {\"time\": 161.0001490742121, \"values\": -0.48134310750752035, \"data_type\": \"sine\"}, {\"time\": 162.00015000013886, \"values\": -0.7342756360617363, \"data_type\": \"sine\"}, {\"time\": 163.00015092606566, \"values\": -0.9921306403282363, \"data_type\": \"sine\"}, {\"time\": 164.00015185199243, \"values\": -1.239035380496515, \"data_type\": \"sine\"}, {\"time\": 165.00015277791923, \"values\": -1.4596237238883942, \"data_type\": \"sine\"}, {\"time\": 166.00015370384602, \"values\": -1.6399952688661013, \"data_type\": \"sine\"}, {\"time\": 167.0001546297728, \"values\": -1.768583090452625, \"data_type\": \"sine\"}, {\"time\": 168.0001555556996, \"values\": -1.8368756145707934, \"data_type\": \"sine\"}, {\"time\": 169.00015648162636, \"values\": -1.8399472905195189, \"data_type\": \"sine\"}, {\"time\": 170.00015740755313, \"values\": -1.7767647421775823, \"data_type\": \"sine\"}, {\"time\": 171.00015833347993, \"values\": -1.6502491827786319, \"data_type\": \"sine\"}, {\"time\": 172.0001592594067, \"values\": -1.4670911897190724, \"data_type\": \"sine\"}, {\"time\": 173.00016018533347, \"values\": -1.2373294926691998, \"data_type\": \"sine\"}, {\"time\": 174.00016111126027, \"values\": -0.9737202527765801, \"data_type\": \"sine\"}, {\"time\": 175.00016203718704, \"values\": -0.6909364715130595, \"data_type\": \"sine\"}, {\"time\": 176.00016296311384, \"values\": -0.40464783779501456, \"data_type\": \"sine\"}, {\"time\": 177.00016388904064, \"values\": -0.13053883097405122, \"data_type\": \"sine\"}, {\"time\": 178.0001648149674, \"values\": 0.11667322665152469, \"data_type\": \"sine\"}, {\"time\": 179.0001657408942, \"values\": 0.3241584745472045, \"data_type\": \"sine\"}, {\"time\": 180.00016666682097, \"values\": 0.4817753594193126, \"data_type\": \"sine\"}, {\"time\": 181.00016759274774, \"values\": 0.5827017146038175, \"data_type\": \"sine\"}, {\"time\": 182.00016851867454, \"values\": 0.6238564370423438, \"data_type\": \"sine\"}, {\"time\": 183.0001694446013, \"values\": 0.6060852864955215, \"data_type\": \"sine\"}, {\"time\": 184.0001703705281, \"values\": 0.5340991560962132, \"data_type\": \"sine\"}, {\"time\": 185.00017129645488, \"values\": 0.4161687197846565, \"data_type\": \"sine\"}, {\"time\": 186.00017222238165, \"values\": 0.26359467311109874, \"data_type\": \"sine\"}, {\"time\": 187.00017314830848, \"values\": 0.08998688728188531, \"data_type\": \"sine\"}, {\"time\": 188.00017407423525, \"values\": -0.08960219402047803, \"data_type\": \"sine\"}, {\"time\": 189.00017500016202, \"values\": -0.25963542421706964, \"data_type\": \"sine\"}, {\"time\": 190.00017592608882, \"values\": -0.40507986170005195, \"data_type\": \"sine\"}, {\"time\": 191.00017685201558, \"values\": -0.5123645351064735, \"data_type\": \"sine\"}, {\"time\": 192.00017777794238, \"values\": -0.5702468395729816, \"data_type\": \"sine\"}, {\"time\": 193.00017870386915, \"values\": -0.5705330764324259, \"data_type\": \"sine\"}, {\"time\": 194.00017962979592, \"values\": -0.508607811542568, \"data_type\": \"sine\"}, {\"time\": 195.00018055572272, \"values\": -0.38373873828787586, \"data_type\": \"sine\"}, {\"time\": 196.0001814816495, \"values\": -0.19913783558863607, \"data_type\": \"sine\"}, {\"time\": 197.00018240757626, \"values\": 0.03822507723277202, \"data_type\": \"sine\"}, {\"time\": 198.0001833335031, \"values\": 0.3180447302152694, \"data_type\": \"sine\"}, {\"time\": 199.00018425942986, \"values\": 0.6273122543067697, \"data_type\": \"sine\"}, {\"time\": 200.00018518535666, \"values\": 0.9511168513151474, \"data_type\": \"sine\"}, {\"time\": 201.00018611128343, \"values\": 1.2735669690645246, \"data_type\": \"sine\"}, {\"time\": 202.0001870372102, \"values\": 1.5787731598843149, \"data_type\": \"sine\"}, {\"time\": 203.000187963137, \"values\": 1.8518309248225804, \"data_type\": \"sine\"}, {\"time\": 204.00018888906376, \"values\": 2.079741846704116, \"data_type\": \"sine\"}, {\"time\": 205.00018981499053, \"values\": 2.252215192303531, \"data_type\": \"sine\"}, {\"time\": 206.00019074091733, \"values\": 2.362299673856863, \"data_type\": \"sine\"}, {\"time\": 207.0001916668441, \"values\": 2.4068057310178133, \"data_type\": \"sine\"}, {\"time\": 208.00019259277093, \"values\": 2.386491855685463, \"data_type\": \"sine\"}, {\"time\": 209.0001935186977, \"values\": 2.306003306918461, \"data_type\": \"sine\"}, {\"time\": 210.00019444462447, \"values\": 2.1735671199127093, \"data_type\": \"sine\"}, {\"time\": 211.00019537055127, \"values\": 2.0004626242708037, \"data_type\": \"sine\"}, {\"time\": 212.00019629647804, \"values\": 1.8003007904742754, \"data_type\": \"sine\"}, {\"time\": 213.0001972224048, \"values\": 1.5881577334030663, \"data_type\": \"sine\"}, {\"time\": 214.0001981483316, \"values\": 1.3796168633092099, \"data_type\": \"sine\"}, {\"time\": 215.00019907425838, \"values\": 1.1897799121958246, \"data_type\": \"sine\"}, {\"time\": 216.00020000018517, \"values\": 1.0323090165767923, \"data_type\": \"sine\"}, {\"time\": 217.00020092611194, \"values\": 0.9185600833895569, \"data_type\": \"sine\"}, {\"time\": 218.0002018520387, \"values\": 0.8568619272059779, \"data_type\": \"sine\"}, {\"time\": 219.00020277796554, \"values\": 0.8519865044228597, \"data_type\": \"sine\"}, {\"time\": 220.0002037038923, \"values\": 0.9048435595408625, \"data_type\": \"sine\"}, {\"time\": 221.00020462981908, \"values\": 1.0124188946385253, \"data_type\": \"sine\"}, {\"time\": 222.00020555574588, \"values\": 1.1679601619387592, \"data_type\": \"sine\"}, {\"time\": 223.00020648167265, \"values\": 1.3613985230227117, \"data_type\": \"sine\"}, {\"time\": 224.00020740759945, \"values\": 1.5799796942473328, \"data_type\": \"sine\"}, {\"time\": 225.00020833352622, \"values\": 1.8090647377314824, \"data_type\": \"sine\"}, {\"time\": 226.000209259453, \"values\": 2.0330502878077894, \"data_type\": \"sine\"}, {\"time\": 227.00021018537979, \"values\": 2.236350394513651, \"data_type\": \"sine\"}, {\"time\": 228.00021111130656, \"values\": 2.40437829030288, \"data_type\": \"sine\"}, {\"time\": 229.00021203723333, \"values\": 2.5244663872219206, \"data_type\": \"sine\"}, {\"time\": 230.00021296316015, \"values\": 2.5866666892575267, \"data_type\": \"sine\"}, {\"time\": 231.00021388908692, \"values\": 2.584381314805723, \"data_type\": \"sine\"}, {\"time\": 232.0002148150137, \"values\": 2.514783495351748, \"data_type\": \"sine\"}, {\"time\": 233.0002157409405, \"values\": 2.3790025779939956, \"data_type\": \"sine\"}, {\"time\": 234.00021666686726, \"values\": 2.1820613844152774, \"data_type\": \"sine\"}, {\"time\": 235.00021759279406, \"values\": 1.9325698358076289, \"data_type\": \"sine\"}, {\"time\": 236.00021851872083, \"values\": 1.6421940646054947, \"data_type\": \"sine\"}, {\"time\": 237.0002194446476, \"values\": 1.324934337620658, \"data_type\": \"sine\"}, {\"time\": 238.0002203705744, \"values\": 0.9962571251206952, \"data_type\": \"sine\"}, {\"time\": 239.00022129650117, \"values\": 0.6721358119338809, \"data_type\": \"sine\"}, {\"time\": 240.00022222242794, \"values\": 0.36806028415342673, \"data_type\": \"sine\"}, {\"time\": 241.00022314835476, \"values\": 0.09807757795686278, \"data_type\": \"sine\"}, {\"time\": 242.00022407428153, \"values\": -0.1260761772492207, \"data_type\": \"sine\"}, {\"time\": 243.00022500020833, \"values\": -0.2956980278959508, \"data_type\": \"sine\"}, {\"time\": 244.0002259261351, \"values\": -0.40564934665937313, \"data_type\": \"sine\"}, {\"time\": 245.00022685206187, \"values\": -0.4546625440456904, \"data_type\": \"sine\"}, {\"time\": 246.00022777798867, \"values\": -0.44540412513084726, \"data_type\": \"sine\"}, {\"time\": 247.00022870391544, \"values\": -0.38429018677605, \"data_type\": \"sine\"}, {\"time\": 248.0002296298422, \"values\": -0.2810660071168645, \"data_type\": \"sine\"}, {\"time\": 249.000230555769, \"values\": -0.14817620325249511, \"data_type\": \"sine\"}, {\"time\": 250.0002314816958, \"values\": 3.4906617331828784e-05, \"data_type\": \"sine\"}, {\"time\": 251.0002324076226, \"values\": 0.1482424307632081, \"data_type\": \"sine\"}, {\"time\": 252.00023333354937, \"values\": 0.281121706902165, \"data_type\": \"sine\"}, {\"time\": 253.00023425947614, \"values\": 0.3843290907421196, \"data_type\": \"sine\"}, {\"time\": 254.00023518540294, \"values\": 0.4454210411655262, \"data_type\": \"sine\"}, {\"time\": 255.0002361113297, \"values\": 0.45465369041251424, \"data_type\": \"sine\"}, {\"time\": 256.0002370372565, \"values\": 0.4056125976722378, \"data_type\": \"sine\"}, {\"time\": 257.0002379631833, \"values\": 0.295633055409636, \"data_type\": \"sine\"}, {\"time\": 258.00023888911005, \"values\": 0.12598447904790278, \"data_type\": \"sine\"}, {\"time\": 259.0002398150368, \"values\": -0.09819276468369464, \"data_type\": \"sine\"}, {\"time\": 260.0002407409636, \"values\": -0.36819417883741135, \"data_type\": \"sine\"}, {\"time\": 261.0002416668904, \"values\": -0.672282383864776, \"data_type\": \"sine\"}, {\"time\": 262.0002425928172, \"values\": -0.9964094654933539, \"data_type\": \"sine\"}, {\"time\": 263.00024351874396, \"values\": -1.3250850870385644, \"data_type\": \"sine\"}, {\"time\": 264.0002444446707, \"values\": -1.6423358692015595, \"data_type\": \"sine\"}, {\"time\": 265.0002453705975, \"values\": -1.9326958033439063, \"data_type\": \"sine\"}, {\"time\": 266.0002462965243, \"values\": -2.1821655117234258, \"data_type\": \"sine\"}, {\"time\": 267.00024722245115, \"values\": -2.379080122917407, \"data_type\": \"sine\"}, {\"time\": 268.0002481483779, \"values\": -2.5148312698365443, \"data_type\": \"sine\"}, {\"time\": 269.0002490743047, \"values\": -2.584397880740569, \"data_type\": \"sine\"}, {\"time\": 270.00025000023146, \"values\": -2.5866524447715005, \"data_type\": \"sine\"}, {\"time\": 271.0002509261583, \"values\": -2.5244235380310824, \"data_type\": \"sine\"}, {\"time\": 272.00025185208506, \"values\": -2.4043107079173813, \"data_type\": \"sine\"}, {\"time\": 273.0002527780118, \"values\": -2.236263370224609, \"data_type\": \"sine\"}, {\"time\": 274.0002537039386, \"values\": -2.0329501979200115, \"data_type\": \"sine\"}, {\"time\": 275.00025462986537, \"values\": -1.8089586410831702, \"data_type\": \"sine\"}, {\"time\": 276.00025555579214, \"values\": -1.579874887310968, \"data_type\": \"sine\"}, {\"time\": 277.00025648171896, \"values\": -1.3613020805446512, \"data_type\": \"sine\"}, {\"time\": 278.00025740764573, \"values\": -1.1678784919824607, \"data_type\": \"sine\"}, {\"time\": 279.0002583335725, \"values\": -1.0123573359888836, \"data_type\": \"sine\"}, {\"time\": 280.0002592594993, \"values\": -0.904806046764446, \"data_type\": \"sine\"}, {\"time\": 281.00026018542604, \"values\": -0.8519753216253106, \"data_type\": \"sine\"}, {\"time\": 282.00026111135287, \"values\": -0.8568775659535569, \"data_type\": \"sine\"}, {\"time\": 283.00026203727964, \"values\": -0.918601213714669, \"data_type\": \"sine\"}, {\"time\": 284.0002629632064, \"values\": -1.0323725728804223, \"data_type\": \"sine\"}, {\"time\": 285.0002638891332, \"values\": -1.1898612886387183, \"data_type\": \"sine\"}, {\"time\": 286.00026481505995, \"values\": -1.3797102064024473, \"data_type\": \"sine\"}, {\"time\": 287.0002657409868, \"values\": -1.588256313399804, \"data_type\": \"sine\"}, {\"time\": 288.0002666669136, \"values\": -1.8003974282114994, \"data_type\": \"sine\"}, {\"time\": 289.0002675928404, \"values\": -2.000550146624573, \"data_type\": \"sine\"}, {\"time\": 290.00026851876714, \"values\": -2.1736388152308876, \"data_type\": \"sine\"}, {\"time\": 291.0002694446939, \"values\": -2.3060533517953545, \"data_type\": \"sine\"}, {\"time\": 292.0002703706207, \"values\": -2.386515686242017, \"data_type\": \"sine\"}, {\"time\": 293.0002712965475, \"values\": -2.406800335337112, \"data_type\": \"sine\"}, {\"time\": 294.0002722224743, \"values\": -2.362263787177516, \"data_type\": \"sine\"}, {\"time\": 295.00027314840105, \"values\": -2.2521493826828602, \"data_type\": \"sine\"}, {\"time\": 296.0002740743278, \"values\": -2.079648485744349, \"data_type\": \"sine\"}, {\"time\": 297.0002750002546, \"values\": -1.851714045274428, \"data_type\": \"sine\"}, {\"time\": 298.0002759261814, \"values\": -1.5786382090495508, \"data_type\": \"sine\"}, {\"time\": 299.0002768521082, \"values\": -1.2734204734661008, \"data_type\": \"sine\"}, {\"time\": 300.00027777803496, \"values\": -0.9509660136782779, \"data_type\": \"sine\"}, {\"time\": 301.0002787039617, \"values\": -0.627164508146977, \"data_type\": \"sine\"}, {\"time\": 302.0002796298885, \"values\": -0.31790727999349017, \"data_type\": \"sine\"}, {\"time\": 303.00028055581527, \"values\": -0.03810445294357434, \"data_type\": \"sine\"}, {\"time\": 304.0002814817421, \"values\": 0.1992361814358884, \"data_type\": \"sine\"}, {\"time\": 305.00028240766886, \"values\": 0.3838107659991902, \"data_type\": \"sine\"}, {\"time\": 306.00028333359563, \"values\": 0.508651140837726, \"data_type\": \"sine\"}, {\"time\": 307.0002842595224, \"values\": 0.5705471288438364, \"data_type\": \"sine\"}, {\"time\": 308.0002851854492, \"values\": 0.5702328677238523, \"data_type\": \"sine\"}, {\"time\": 309.000286111376, \"values\": 0.5123255370546052, \"data_type\": \"sine\"}, {\"time\": 310.0002870373028, \"values\": 0.40502038575465926, \"data_type\": \"sine\"}, {\"time\": 311.0002879632296, \"values\": 0.25956127651743904, \"data_type\": \"sine\"}, {\"time\": 312.00028888915637, \"values\": 0.08952006727406328, \"data_type\": \"sine\"}, {\"time\": 313.00028981508314, \"values\": -0.09006984055095471, \"data_type\": \"sine\"}, {\"time\": 314.00029074100996, \"values\": -0.26367129596682537, \"data_type\": \"sine\"}, {\"time\": 315.00029166693673, \"values\": -0.416232306301478, \"data_type\": \"sine\"}, {\"time\": 316.0002925928635, \"values\": -0.5341438781631296, \"data_type\": \"sine\"}, {\"time\": 317.0002935187903, \"values\": -0.6061065651655604, \"data_type\": \"sine\"}, {\"time\": 318.00029444471704, \"values\": -0.6238512350769286, \"data_type\": \"sine\"}, {\"time\": 319.0002953706438, \"values\": -0.5826687318141532, \"data_type\": \"sine\"}, {\"time\": 320.00029629657064, \"values\": -0.4817151185162591, \"data_type\": \"sine\"}, {\"time\": 321.0002972224974, \"values\": -0.32407329209213664, \"data_type\": \"sine\"}, {\"time\": 322.0002981484242, \"values\": -0.11656707092175322, \"data_type\": \"sine\"}, {\"time\": 323.00029907435095, \"values\": 0.13066058628450916, \"data_type\": \"sine\"}, {\"time\": 324.0003000002777, \"values\": 0.40477874857204216, \"data_type\": \"sine\"}, {\"time\": 325.00030092620455, \"values\": 0.6910694258742979, \"data_type\": \"sine\"}, {\"time\": 326.0003018521313, \"values\": 0.9738479160836435, \"data_type\": \"sine\"}, {\"time\": 327.0003027780581, \"values\": 1.2374447669422621, \"data_type\": \"sine\"}, {\"time\": 328.00030370398486, \"values\": 1.4671876585890165, \"data_type\": \"sine\"}, {\"time\": 329.0003046299116, \"values\": 1.6503215140192293, \"data_type\": \"sine\"}, {\"time\": 330.00030555583845, \"values\": 1.776809022523822, \"data_type\": \"sine\"}, {\"time\": 331.0003064817653, \"values\": 1.8399612717312213, \"data_type\": \"sine\"}, {\"time\": 332.00030740769205, \"values\": 1.8368588552759837, \"data_type\": \"sine\"}, {\"time\": 333.0003083336188, \"values\": 1.7685369848520054, \"data_type\": \"sine\"}, {\"time\": 334.0003092595456, \"values\": 1.6399229604872954, \"data_type\": \"sine\"}, {\"time\": 335.00031018547236, \"values\": 1.4595299097999814, \"data_type\": \"sine\"}, {\"time\": 336.0003111113992, \"values\": 1.238926018273039, \"data_type\": \"sine\"}, {\"time\": 337.00031203732595, \"values\": 0.9920125761666925, \"data_type\": \"sine\"}, {\"time\": 338.0003129632527, \"values\": 0.7341561774027657, \"data_type\": \"sine\"}, {\"time\": 339.0003138891795, \"values\": 0.48122956700027975, \"data_type\": \"sine\"}, {\"time\": 340.00031481510626, \"values\": 0.24862137079372426, \"data_type\": \"sine\"}, {\"time\": 341.0003157410331, \"values\": 0.05027689374594979, \"data_type\": \"sine\"}, {\"time\": 342.00031666695986, \"values\": -0.1021697814981708, \"data_type\": \"sine\"}, {\"time\": 343.00031759288663, \"values\": -0.20011790325629364, \"data_type\": \"sine\"}, {\"time\": 344.0003185188134, \"values\": -0.23853103697671796, \"data_type\": \"sine\"}, {\"time\": 345.00031944474017, \"values\": -0.21624361019536398, \"data_type\": \"sine\"}, {\"time\": 346.00032037066694, \"values\": -0.13602380183953588, \"data_type\": \"sine\"}, {\"time\": 347.00032129659377, \"values\": -0.0043888728498681084, \"data_type\": \"sine\"}, {\"time\": 348.00032222252054, \"values\": 0.16881540845597637, \"data_type\": \"sine\"}, {\"time\": 349.0003231484473, \"values\": 0.37104476883847504, \"data_type\": \"sine\"}, {\"time\": 350.0003240743741, \"values\": 0.5878562228452124, \"data_type\": \"sine\"}, {\"time\": 351.00032500030085, \"values\": 0.8038273488782193, \"data_type\": \"sine\"}, {\"time\": 352.0003259262277, \"values\": 1.003537233584911, \"data_type\": \"sine\"}, {\"time\": 353.0003268521545, \"values\": 1.1725473943583882, \"data_type\": \"sine\"}, {\"time\": 354.00032777808127, \"values\": 1.2983209910042404, \"data_type\": \"sine\"}, {\"time\": 355.00032870400804, \"values\": 1.3710225152756839, \"data_type\": \"sine\"}, {\"time\": 356.0003296299348, \"values\": 1.3841476573471763, \"data_type\": \"sine\"}, {\"time\": 357.00033055586164, \"values\": 1.334943719483415, \"data_type\": \"sine\"}, {\"time\": 358.0003314817884, \"values\": 1.2245941086511172, \"data_type\": \"sine\"}, {\"time\": 359.0003324077152, \"values\": 1.0581552646262846, \"data_type\": \"sine\"}, {\"time\": 360.00033333364195, \"values\": 0.8442499367660393, \"data_type\": \"sine\"}, {\"time\": 361.0003342595687, \"values\": 0.5945360335562222, \"data_type\": \"sine\"}, {\"time\": 362.0003351854955, \"values\": 0.3229843722620429, \"data_type\": \"sine\"}, {\"time\": 363.0003361114223, \"values\": 0.045010665335183664, \"data_type\": \"sine\"}, {\"time\": 364.0003370373491, \"values\": -0.22348375893272338, \"data_type\": \"sine\"}, {\"time\": 365.00033796327585, \"values\": -0.4671022672918038, \"data_type\": \"sine\"}, {\"time\": 366.0003388892026, \"values\": -0.6719120775813049, \"data_type\": \"sine\"}, {\"time\": 367.0003398151294, \"values\": -0.8263120286683167, \"data_type\": \"sine\"}, {\"time\": 368.0003407410562, \"values\": -0.9217544725127217, \"data_type\": \"sine\"}, {\"time\": 369.000341666983, \"values\": -0.953275959888129, \"data_type\": \"sine\"}, {\"time\": 370.00034259290976, \"values\": -0.9198034026188401, \"data_type\": \"sine\"}, {\"time\": 371.00034351883653, \"values\": -0.8242164998509511, \"data_type\": \"sine\"}, {\"time\": 372.0003444447633, \"values\": -0.673162527626349, \"data_type\": \"sine\"}, {\"time\": 373.0003453706901, \"values\": -0.47663514778748267, \"data_type\": \"sine\"}, {\"time\": 374.00034629661695, \"values\": -0.2473437165316645, \"data_type\": \"sine\"}, {\"time\": 375.0003472225437, \"values\": 8.726669559047659e-05, \"data_type\": \"sine\"}, {\"time\": 376.0003481484705, \"values\": 0.25003825973344823, \"data_type\": \"sine\"}, {\"time\": 377.00034907439726, \"values\": 0.48687650910040503, \"data_type\": \"sine\"}, {\"time\": 378.00035000032403, \"values\": 0.6959379183393016, \"data_type\": \"sine\"}, {\"time\": 379.00035092625086, \"values\": 0.8644472605230626, \"data_type\": \"sine\"}, {\"time\": 380.00035185217763, \"values\": 0.9823189196374975, \"data_type\": \"sine\"}, {\"time\": 381.0003527781044, \"values\": 1.0427878557976316, \"data_type\": \"sine\"}, {\"time\": 382.00035370403117, \"values\": 1.0428311603147862, \"data_type\": \"sine\"}, {\"time\": 383.00035462995794, \"values\": 0.9833537279971566, \"data_type\": \"sine\"}, {\"time\": 384.00035555588477, \"values\": 0.8691263987455465, \"data_type\": \"sine\"}, {\"time\": 385.00035648181154, \"values\": 0.7084804769926486, \"data_type\": \"sine\"}, {\"time\": 386.0003574077383, \"values\": 0.5127778483433847, \"data_type\": \"sine\"}, {\"time\": 387.0003583336651, \"values\": 0.2956900158570387, \"data_type\": \"sine\"}, {\"time\": 388.00035925959185, \"values\": 0.07233138760532357, \"data_type\": \"sine\"}, {\"time\": 389.0003601855187, \"values\": -0.14169869214965913, \"data_type\": \"sine\"}, {\"time\": 390.00036111144544, \"values\": -0.3313049392013505, \"data_type\": \"sine\"}, {\"time\": 391.0003620373722, \"values\": -0.48285397206133185, \"data_type\": \"sine\"}, {\"time\": 392.000362963299, \"values\": -0.5850407752073186, \"data_type\": \"sine\"}, {\"time\": 393.00036388922575, \"values\": -0.6296092966450053, \"data_type\": \"sine\"}, {\"time\": 394.0003648151525, \"values\": -0.6118818568283837, \"data_type\": \"sine\"}, {\"time\": 395.0003657410794, \"values\": -0.5310640572960316, \"data_type\": \"sine\"}, {\"time\": 396.0003666670062, \"values\": -0.3903059819831699, \"data_type\": \"sine\"}, {\"time\": 397.00036759293295, \"values\": -0.19651579582087542, \"data_type\": \"sine\"}, {\"time\": 398.0003685188597, \"values\": 0.04006259814790675, \"data_type\": \"sine\"}, {\"time\": 399.0003694447865, \"values\": 0.3064813577974879, \"data_type\": \"sine\"}, {\"time\": 400.0003703707133, \"values\": 0.5878903116075622, \"data_type\": \"sine\"}, {\"time\": 401.0003712966401, \"values\": 0.8684580642360031, \"data_type\": \"sine\"}, {\"time\": 402.00037222256685, \"values\": 1.1323547751609975, \"data_type\": \"sine\"}, {\"time\": 403.0003731484936, \"values\": 1.3647349125434598, \"data_type\": \"sine\"}, {\"time\": 404.0003740744204, \"values\": 1.5526582859134406, \"data_type\": \"sine\"}, {\"time\": 405.00037500034716, \"values\": 1.6858915391344418, \"data_type\": \"sine\"}, {\"time\": 406.000375926274, \"values\": 1.7575397956876122, \"data_type\": \"sine\"}, {\"time\": 407.00037685220076, \"values\": 1.764468819726765, \"data_type\": \"sine\"}, {\"time\": 408.00037777812753, \"values\": 1.7074912180621695, \"data_type\": \"sine\"}, {\"time\": 409.0003787040543, \"values\": 1.5913050332416003, \"data_type\": \"sine\"}, {\"time\": 410.00037962998107, \"values\": 1.4241886347018544, \"data_type\": \"sine\"}, {\"time\": 411.0003805559079, \"values\": 1.2174711260765632, \"data_type\": \"sine\"}, {\"time\": 412.00038148183467, \"values\": 0.9848115901174437, \"data_type\": \"sine\"}, {\"time\": 413.00038240776144, \"values\": 0.7413325021537767, \"data_type\": \"sine\"}, {\"time\": 414.0003833336882, \"values\": 0.5026618039878923, \"data_type\": \"sine\"}, {\"time\": 415.000384259615, \"values\": 0.28394386699039387, \"data_type\": \"sine\"}, {\"time\": 416.00038518554186, \"values\": 0.09888152546021756, \"data_type\": \"sine\"}, {\"time\": 417.00038611146863, \"values\": -0.04113059361114901, \"data_type\": \"sine\"}, {\"time\": 418.0003870373954, \"values\": -0.1277269575384341, \"data_type\": \"sine\"}, {\"time\": 419.00038796332217, \"values\": -0.15610090792429077, \"data_type\": \"sine\"}, {\"time\": 420.00038888924894, \"values\": -0.12531002088389775, \"data_type\": \"sine\"}, {\"time\": 421.0003898151757, \"values\": -0.038337839086642345, \"data_type\": \"sine\"}, {\"time\": 422.00039074110254, \"values\": 0.09809192146156842, \"data_type\": \"sine\"}, {\"time\": 423.0003916670293, \"values\": 0.2739370306705959, \"data_type\": \"sine\"}, {\"time\": 424.0003925929561, \"values\": 0.4764677866501352, \"data_type\": \"sine\"}, {\"time\": 425.00039351888285, \"values\": 0.6910677982152174, \"data_type\": \"sine\"}, {\"time\": 426.0003944448096, \"values\": 0.9021541958601647, \"data_type\": \"sine\"}, {\"time\": 427.00039537073644, \"values\": 1.0941594517549018, \"data_type\": \"sine\"}, {\"time\": 428.0003962966632, \"values\": 1.2525131146248616, \"data_type\": \"sine\"}, {\"time\": 429.00039722259, \"values\": 1.3645617671577528, \"data_type\": \"sine\"}, {\"time\": 430.00039814851675, \"values\": 1.4203693917424989, \"data_type\": \"sine\"}, {\"time\": 431.0003990744435, \"values\": 1.4133478412193168, \"data_type\": \"sine\"}, {\"time\": 432.00040000037035, \"values\": 1.3406777829836323, \"data_type\": \"sine\"}, {\"time\": 433.0004009262971, \"values\": 1.203493646714146, \"data_type\": \"sine\"}, {\"time\": 434.0004018522239, \"values\": 1.0068209311850165, \"data_type\": \"sine\"}, {\"time\": 435.00040277815066, \"values\": 0.7592697825653169, \"data_type\": \"sine\"}, {\"time\": 436.0004037040774, \"values\": 0.4725040678174879, \"data_type\": \"sine\"}, {\"time\": 437.0004046300042, \"values\": 0.16051927023053, \"data_type\": \"sine\"}, {\"time\": 438.0004055559311, \"values\": -0.16122545639444724, \"data_type\": \"sine\"}, {\"time\": 439.00040648185785, \"values\": -0.47676657744010675, \"data_type\": \"sine\"}, {\"time\": 440.0004074077846, \"values\": -0.7706265767725702, \"data_type\": \"sine\"}, {\"time\": 441.0004083337114, \"values\": -1.028773279149162, \"data_type\": \"sine\"}, {\"time\": 442.00040925963816, \"values\": -1.23948786426884, \"data_type\": \"sine\"}, {\"time\": 443.000410185565, \"values\": -1.394087080425558, \"data_type\": \"sine\"}, {\"time\": 444.00041111149176, \"values\": -1.4874543289092088, \"data_type\": \"sine\"}, {\"time\": 445.0004120374185, \"values\": -1.5183463014735452, \"data_type\": \"sine\"}, {\"time\": 446.0004129633453, \"values\": -1.4894559576433182, \"data_type\": \"sine\"}, {\"time\": 447.00041388927207, \"values\": -1.4072279401181949, \"data_type\": \"sine\"}, {\"time\": 448.0004148151989, \"values\": -1.2814380829658243, \"data_type\": \"sine\"}, {\"time\": 449.00041574112566, \"values\": -1.124563491205591, \"data_type\": \"sine\"}, {\"time\": 450.00041666705243, \"values\": -0.9509828303210478, \"data_type\": \"sine\"}, {\"time\": 451.0004175929792, \"values\": -0.7760571333109862, \"data_type\": \"sine\"}, {\"time\": 452.000418518906, \"values\": -0.6151489407161188, \"data_type\": \"sine\"}, {\"time\": 453.00041944483274, \"values\": -0.4826414638931792, \"data_type\": \"sine\"}, {\"time\": 454.00042037075957, \"values\": -0.3910194601795094, \"data_type\": \"sine\"}, {\"time\": 455.00042129668634, \"values\": -0.35006963060260377, \"data_type\": \"sine\"}, {\"time\": 456.0004222226131, \"values\": -0.3662508401086664, \"data_type\": \"sine\"}, {\"time\": 457.0004231485399, \"values\": -0.4422737888404594, \"data_type\": \"sine\"}, {\"time\": 458.00042407446665, \"values\": -0.5769166013164343, \"data_type\": \"sine\"}, {\"time\": 459.00042500039353, \"values\": -0.765087975452857, \"data_type\": \"sine\"}, {\"time\": 460.0004259263203, \"values\": -0.9981339767387439, \"data_type\": \"sine\"}, {\"time\": 461.0004268522471, \"values\": -1.2643692520065937, \"data_type\": \"sine\"}, {\"time\": 462.00042777817384, \"values\": -1.5497993341872742, \"data_type\": \"sine\"}, {\"time\": 463.0004287041006, \"values\": -1.8389887003506038, \"data_type\": \"sine\"}, {\"time\": 464.0004296300274, \"values\": -2.1160200847969874, \"data_type\": \"sine\"}, {\"time\": 465.0004305559542, \"values\": -2.365484812582514, \"data_type\": \"sine\"}, {\"time\": 466.000431481881, \"values\": -2.573441967075404, \"data_type\": \"sine\"}, {\"time\": 467.00043240780775, \"values\": -2.7282861606055757, \"data_type\": \"sine\"}, {\"time\": 468.0004333337345, \"values\": -2.821469417122281, \"data_type\": \"sine\"}, {\"time\": 469.0004342596613, \"values\": -2.8480318393716533, \"data_type\": \"sine\"}, {\"time\": 470.0004351855881, \"values\": -2.806907744674279, \"data_type\": \"sine\"}, {\"time\": 471.0004361115149, \"values\": -2.7009880582042265, \"data_type\": \"sine\"}, {\"time\": 472.00043703744166, \"values\": -2.536935064496485, \"data_type\": \"sine\"}, {\"time\": 473.0004379633684, \"values\": -2.3247611746539603, \"data_type\": \"sine\"}, {\"time\": 474.0004388892952, \"values\": -2.0771981909122177, \"data_type\": \"sine\"}, {\"time\": 475.000439815222, \"values\": -1.8088967104029376, \"data_type\": \"sine\"}, {\"time\": 476.0004407411488, \"values\": -1.53550597924714, \"data_type\": \"sine\"}, {\"time\": 477.00044166707556, \"values\": -1.2726920161267519, \"data_type\": \"sine\"}, {\"time\": 478.00044259300233, \"values\": -1.0351556994874827, \"data_type\": \"sine\"}, {\"time\": 479.0004435189291, \"values\": -0.8357125110487517, \"data_type\": \"sine\"}, {\"time\": 480.0004444448559, \"values\": -0.6844917504452785, \"data_type\": \"sine\"}, {\"time\": 481.00044537078276, \"values\": -0.5883055252755172, \"data_type\": \"sine\"}, {\"time\": 482.0004462967095, \"values\": -0.5502271495134011, \"data_type\": \"sine\"}, {\"time\": 483.0004472226363, \"values\": -0.5694054216865861, \"data_type\": \"sine\"}, {\"time\": 484.00044814856307, \"values\": -0.6411264294409899, \"data_type\": \"sine\"}, {\"time\": 485.00044907448984, \"values\": -0.7571189706080756, \"data_type\": \"sine\"}, {\"time\": 486.00045000041666, \"values\": -0.9060843701566303, \"data_type\": \"sine\"}, {\"time\": 487.00045092634343, \"values\": -1.0744173694889945, \"data_type\": \"sine\"}, {\"time\": 488.0004518522702, \"values\": -1.2470727555849117, \"data_type\": \"sine\"}, {\"time\": 489.000452778197, \"values\": -1.4085232370863452, \"data_type\": \"sine\"}, {\"time\": 490.00045370412374, \"values\": -1.5437483381472414, \"data_type\": \"sine\"}, {\"time\": 491.00045463005057, \"values\": -1.6391921291866929, \"data_type\": \"sine\"}, {\"time\": 492.00045555597734, \"values\": -1.6836295692249559, \"data_type\": \"sine\"}, {\"time\": 493.0004564819041, \"values\": -1.6688869743845247, \"data_type\": \"sine\"}, {\"time\": 494.0004574078309, \"values\": -1.5903712907520733, \"data_type\": \"sine\"}, {\"time\": 495.00045833375765, \"values\": -1.447374861346766, \"data_type\": \"sine\"}, {\"time\": 496.0004592596844, \"values\": -1.2431364817011188, \"data_type\": \"sine\"}, {\"time\": 497.00046018561125, \"values\": -0.9846548502843173, \"data_type\": \"sine\"}, {\"time\": 498.000461111538, \"values\": -0.6822660765977492, \"data_type\": \"sine\"}, {\"time\": 499.0004620374648, \"values\": -0.3490117337720747, \"data_type\": \"sine\"}, {\"time\": 500.0004629633916, \"values\": 0.00016289754742176721, \"data_type\": \"sine\"}, {\"time\": 0.0, \"values\": -1.442741577927698, \"data_type\": \"noisy hilbert\"}, {\"time\": 1.0000009259267832, \"values\": -1.4192535952094467, \"data_type\": \"noisy hilbert\"}, {\"time\": 2.0000018518535665, \"values\": -1.283203161854853, \"data_type\": \"noisy hilbert\"}, {\"time\": 3.0000027777803497, \"values\": -1.0817390701206042, \"data_type\": \"noisy hilbert\"}, {\"time\": 4.000003703707133, \"values\": -0.9011555345087517, \"data_type\": \"noisy hilbert\"}, {\"time\": 5.000004629633916, \"values\": -1.0075017834843745, \"data_type\": \"noisy hilbert\"}, {\"time\": 6.0000055555606995, \"values\": -0.8412883599622295, \"data_type\": \"noisy hilbert\"}, {\"time\": 7.000006481487483, \"values\": -0.7031906122762308, \"data_type\": \"noisy hilbert\"}, {\"time\": 8.000007407414266, \"values\": -0.7335848635032244, \"data_type\": \"noisy hilbert\"}, {\"time\": 9.00000833334105, \"values\": -0.5489356542438978, \"data_type\": \"noisy hilbert\"}, {\"time\": 10.000009259267832, \"values\": -0.5842001455147858, \"data_type\": \"noisy hilbert\"}, {\"time\": 11.000010185194615, \"values\": -0.4108420994661202, \"data_type\": \"noisy hilbert\"}, {\"time\": 12.000011111121399, \"values\": -0.295993122686697, \"data_type\": \"noisy hilbert\"}, {\"time\": 13.000012037048183, \"values\": -0.39775365691206005, \"data_type\": \"noisy hilbert\"}, {\"time\": 14.000012962974965, \"values\": -0.4529549822893278, \"data_type\": \"noisy hilbert\"}, {\"time\": 15.000013888901746, \"values\": -0.6312672033155005, \"data_type\": \"noisy hilbert\"}, {\"time\": 16.000014814828532, \"values\": -0.5363747227022178, \"data_type\": \"noisy hilbert\"}, {\"time\": 17.000015740755316, \"values\": -0.7753524643373987, \"data_type\": \"noisy hilbert\"}, {\"time\": 18.0000166666821, \"values\": -0.9627448956136473, \"data_type\": \"noisy hilbert\"}, {\"time\": 19.00001759260888, \"values\": -1.0512335004288476, \"data_type\": \"noisy hilbert\"}, {\"time\": 20.000018518535665, \"values\": -1.4522952029760219, \"data_type\": \"noisy hilbert\"}, {\"time\": 21.00001944446245, \"values\": -1.0919263587275432, \"data_type\": \"noisy hilbert\"}, {\"time\": 22.00002037038923, \"values\": -0.8546410778453117, \"data_type\": \"noisy hilbert\"}, {\"time\": 23.000021296316014, \"values\": -1.0152604272388566, \"data_type\": \"noisy hilbert\"}, {\"time\": 24.000022222242798, \"values\": -0.665792081632324, \"data_type\": \"noisy hilbert\"}, {\"time\": 25.000023148169582, \"values\": -0.6853307695575876, \"data_type\": \"noisy hilbert\"}, {\"time\": 26.000024074096366, \"values\": -0.6831412402096968, \"data_type\": \"noisy hilbert\"}, {\"time\": 27.000025000023147, \"values\": -0.4962337334232337, \"data_type\": \"noisy hilbert\"}, {\"time\": 28.00002592594993, \"values\": -0.43041989306101736, \"data_type\": \"noisy hilbert\"}, {\"time\": 29.00002685187671, \"values\": -0.11857361442764128, \"data_type\": \"noisy hilbert\"}, {\"time\": 30.000027777803492, \"values\": -0.09949166119229962, \"data_type\": \"noisy hilbert\"}, {\"time\": 31.000028703730276, \"values\": 0.09446026012077395, \"data_type\": \"noisy hilbert\"}, {\"time\": 32.000029629657064, \"values\": 0.20285983735304608, \"data_type\": \"noisy hilbert\"}, {\"time\": 33.00003055558384, \"values\": 0.29086219748598013, \"data_type\": \"noisy hilbert\"}, {\"time\": 34.00003148151063, \"values\": 0.23176231439591688, \"data_type\": \"noisy hilbert\"}, {\"time\": 35.00003240743741, \"values\": 0.4469281025446548, \"data_type\": \"noisy hilbert\"}, {\"time\": 36.0000333333642, \"values\": 0.4562328628366986, \"data_type\": \"noisy hilbert\"}, {\"time\": 37.00003425929098, \"values\": 0.7456853043614605, \"data_type\": \"noisy hilbert\"}, {\"time\": 38.00003518521776, \"values\": 0.8698137391582909, \"data_type\": \"noisy hilbert\"}, {\"time\": 39.000036111144546, \"values\": 1.0184002801320031, \"data_type\": \"noisy hilbert\"}, {\"time\": 40.00003703707133, \"values\": 1.1214388081313766, \"data_type\": \"noisy hilbert\"}, {\"time\": 41.00003796299811, \"values\": 1.2992341376204128, \"data_type\": \"noisy hilbert\"}, {\"time\": 42.0000388889249, \"values\": 1.3093803136802897, \"data_type\": \"noisy hilbert\"}, {\"time\": 43.000039814851675, \"values\": 0.9428599274279488, \"data_type\": \"noisy hilbert\"}, {\"time\": 44.00004074077846, \"values\": 1.3476046989918002, \"data_type\": \"noisy hilbert\"}, {\"time\": 45.00004166670524, \"values\": 1.2998640360643825, \"data_type\": \"noisy hilbert\"}, {\"time\": 46.00004259263203, \"values\": 1.2920529558230334, \"data_type\": \"noisy hilbert\"}, {\"time\": 47.00004351855881, \"values\": 0.7085716934519878, \"data_type\": \"noisy hilbert\"}, {\"time\": 48.000044444485596, \"values\": 1.023260673636423, \"data_type\": \"noisy hilbert\"}, {\"time\": 49.00004537041237, \"values\": 0.27011319079676477, \"data_type\": \"noisy hilbert\"}, {\"time\": 50.000046296339164, \"values\": 0.3718103958720237, \"data_type\": \"noisy hilbert\"}, {\"time\": 51.00004722226594, \"values\": 0.21757387349015406, \"data_type\": \"noisy hilbert\"}, {\"time\": 52.00004814819273, \"values\": 0.5264974574296672, \"data_type\": \"noisy hilbert\"}, {\"time\": 53.00004907411951, \"values\": 0.44590307713091576, \"data_type\": \"noisy hilbert\"}, {\"time\": 54.00005000004629, \"values\": 0.441484750126998, \"data_type\": \"noisy hilbert\"}, {\"time\": 55.00005092597308, \"values\": 0.602410342409734, \"data_type\": \"noisy hilbert\"}, {\"time\": 56.00005185189986, \"values\": 0.7478000308903998, \"data_type\": \"noisy hilbert\"}, {\"time\": 57.00005277782664, \"values\": 0.8741432210228379, \"data_type\": \"noisy hilbert\"}, {\"time\": 58.00005370375342, \"values\": 1.0623141296243717, \"data_type\": \"noisy hilbert\"}, {\"time\": 59.00005462968021, \"values\": 1.1460627029076547, \"data_type\": \"noisy hilbert\"}, {\"time\": 60.000055555606984, \"values\": 1.3024819345101801, \"data_type\": \"noisy hilbert\"}, {\"time\": 61.000056481533775, \"values\": 1.400961343442378, \"data_type\": \"noisy hilbert\"}, {\"time\": 62.00005740746055, \"values\": 1.5714035743600234, \"data_type\": \"noisy hilbert\"}, {\"time\": 63.000058333387344, \"values\": 1.7899356486840337, \"data_type\": \"noisy hilbert\"}, {\"time\": 64.00005925931413, \"values\": 1.7782226190984436, \"data_type\": \"noisy hilbert\"}, {\"time\": 65.0000601852409, \"values\": 1.9179015528777172, \"data_type\": \"noisy hilbert\"}, {\"time\": 66.00006111116768, \"values\": 2.2228441868583597, \"data_type\": \"noisy hilbert\"}, {\"time\": 67.00006203709448, \"values\": 2.198956138360912, \"data_type\": \"noisy hilbert\"}, {\"time\": 68.00006296302126, \"values\": 2.392231217562399, \"data_type\": \"noisy hilbert\"}, {\"time\": 69.00006388894803, \"values\": 2.62023053628203, \"data_type\": \"noisy hilbert\"}, {\"time\": 70.00006481487482, \"values\": 2.5539085583927474, \"data_type\": \"noisy hilbert\"}, {\"time\": 71.0000657408016, \"values\": 2.8167426755870313, \"data_type\": \"noisy hilbert\"}, {\"time\": 72.0000666667284, \"values\": 2.6977939013257344, \"data_type\": \"noisy hilbert\"}, {\"time\": 73.00006759265517, \"values\": 2.948641007645436, \"data_type\": \"noisy hilbert\"}, {\"time\": 74.00006851858195, \"values\": -3.0063946188883794, \"data_type\": \"noisy hilbert\"}, {\"time\": 75.00006944450874, \"values\": 2.985316741040606, \"data_type\": \"noisy hilbert\"}, {\"time\": 76.00007037043552, \"values\": -2.7794731490771922, \"data_type\": \"noisy hilbert\"}, {\"time\": 77.0000712963623, \"values\": -2.9271346059203514, \"data_type\": \"noisy hilbert\"}, {\"time\": 78.00007222228909, \"values\": -2.234895640418353, \"data_type\": \"noisy hilbert\"}, {\"time\": 79.00007314821588, \"values\": 1.337989359387698, \"data_type\": \"noisy hilbert\"}, {\"time\": 80.00007407414266, \"values\": 2.3142057107779794, \"data_type\": \"noisy hilbert\"}, {\"time\": 81.00007500006943, \"values\": 0.6271697604684795, \"data_type\": \"noisy hilbert\"}, {\"time\": 82.00007592599621, \"values\": 1.3120052743058663, \"data_type\": \"noisy hilbert\"}, {\"time\": 83.00007685192301, \"values\": 1.9289009016827448, \"data_type\": \"noisy hilbert\"}, {\"time\": 84.0000777778498, \"values\": 1.2171913853690108, \"data_type\": \"noisy hilbert\"}, {\"time\": 85.00007870377657, \"values\": 1.4959804064528388, \"data_type\": \"noisy hilbert\"}, {\"time\": 86.00007962970335, \"values\": 1.7725768182891544, \"data_type\": \"noisy hilbert\"}, {\"time\": 87.00008055563013, \"values\": 2.0184316815952994, \"data_type\": \"noisy hilbert\"}, {\"time\": 88.00008148155692, \"values\": 2.469162456091806, \"data_type\": \"noisy hilbert\"}, {\"time\": 89.0000824074837, \"values\": 2.316740711033453, \"data_type\": \"noisy hilbert\"}, {\"time\": 90.00008333341049, \"values\": 2.65237749018661, \"data_type\": \"noisy hilbert\"}, {\"time\": 91.00008425933727, \"values\": 2.6992640128650205, \"data_type\": \"noisy hilbert\"}, {\"time\": 92.00008518526406, \"values\": 2.886977546353944, \"data_type\": \"noisy hilbert\"}, {\"time\": 93.00008611119083, \"values\": 3.0395367000121927, \"data_type\": \"noisy hilbert\"}, {\"time\": 94.00008703711762, \"values\": -3.0779814464787694, \"data_type\": \"noisy hilbert\"}, {\"time\": 95.00008796304441, \"values\": -2.923797194059743, \"data_type\": \"noisy hilbert\"}, {\"time\": 96.00008888897119, \"values\": -2.6934542173391702, \"data_type\": \"noisy hilbert\"}, {\"time\": 97.00008981489796, \"values\": -2.419008194127742, \"data_type\": \"noisy hilbert\"}, {\"time\": 98.00009074082475, \"values\": -2.507857003067663, \"data_type\": \"noisy hilbert\"}, {\"time\": 99.00009166675154, \"values\": -2.118110933694113, \"data_type\": \"noisy hilbert\"}, {\"time\": 100.00009259267833, \"values\": -1.7817330898619725, \"data_type\": \"noisy hilbert\"}, {\"time\": 101.0000935186051, \"values\": -2.22463603178677, \"data_type\": \"noisy hilbert\"}, {\"time\": 102.00009444453188, \"values\": -1.7713141321271757, \"data_type\": \"noisy hilbert\"}, {\"time\": 103.00009537045867, \"values\": -1.1789644879366739, \"data_type\": \"noisy hilbert\"}, {\"time\": 104.00009629638546, \"values\": -1.4124971761909346, \"data_type\": \"noisy hilbert\"}, {\"time\": 105.00009722231223, \"values\": -0.7032812128896544, \"data_type\": \"noisy hilbert\"}, {\"time\": 106.00009814823902, \"values\": -0.14940206357037042, \"data_type\": \"noisy hilbert\"}, {\"time\": 107.0000990741658, \"values\": -0.788654937662233, \"data_type\": \"noisy hilbert\"}, {\"time\": 108.00010000009259, \"values\": -0.13301992602393553, \"data_type\": \"noisy hilbert\"}, {\"time\": 109.00010092601936, \"values\": 0.43938384398424474, \"data_type\": \"noisy hilbert\"}, {\"time\": 110.00010185194616, \"values\": 0.6523739216954122, \"data_type\": \"noisy hilbert\"}, {\"time\": 111.00010277787294, \"values\": 1.2766194245525022, \"data_type\": \"noisy hilbert\"}, {\"time\": 112.00010370379972, \"values\": 1.929025094001338, \"data_type\": \"noisy hilbert\"}, {\"time\": 113.0001046297265, \"values\": 1.4558818275196372, \"data_type\": \"noisy hilbert\"}, {\"time\": 114.00010555565328, \"values\": 2.1236550011194724, \"data_type\": \"noisy hilbert\"}, {\"time\": 115.00010648158008, \"values\": 2.4389808043286045, \"data_type\": \"noisy hilbert\"}, {\"time\": 116.00010740750685, \"values\": 2.368170725318821, \"data_type\": \"noisy hilbert\"}, {\"time\": 117.00010833343363, \"values\": 2.835675875513508, \"data_type\": \"noisy hilbert\"}, {\"time\": 118.00010925936041, \"values\": 3.1204182830792084, \"data_type\": \"noisy hilbert\"}, {\"time\": 119.0001101852872, \"values\": -3.0488623149606116, \"data_type\": \"noisy hilbert\"}, {\"time\": 120.00011111121397, \"values\": -2.9645491692352306, \"data_type\": \"noisy hilbert\"}, {\"time\": 121.00011203714077, \"values\": -2.7171657370890347, \"data_type\": \"noisy hilbert\"}, {\"time\": 122.00011296306755, \"values\": -2.1200301507010364, \"data_type\": \"noisy hilbert\"}, {\"time\": 123.00011388899433, \"values\": -1.881780541832359, \"data_type\": \"noisy hilbert\"}, {\"time\": 124.0001148149211, \"values\": -1.9988774704238135, \"data_type\": \"noisy hilbert\"}, {\"time\": 125.0001157408479, \"values\": -1.6024092023528196, \"data_type\": \"noisy hilbert\"}, {\"time\": 126.00011666677469, \"values\": -1.428485383222923, \"data_type\": \"noisy hilbert\"}, {\"time\": 127.00011759270147, \"values\": -0.8014290539091542, \"data_type\": \"noisy hilbert\"}, {\"time\": 128.00011851862826, \"values\": -0.4784278480965656, \"data_type\": \"noisy hilbert\"}, {\"time\": 129.00011944455503, \"values\": -0.20959751863831064, \"data_type\": \"noisy hilbert\"}, {\"time\": 130.0001203704818, \"values\": -0.08637111599863953, \"data_type\": \"noisy hilbert\"}, {\"time\": 131.0001212964086, \"values\": 0.13607866788851183, \"data_type\": \"noisy hilbert\"}, {\"time\": 132.00012222233536, \"values\": 0.5880704707527586, \"data_type\": \"noisy hilbert\"}, {\"time\": 133.00012314826216, \"values\": 0.6285543293287381, \"data_type\": \"noisy hilbert\"}, {\"time\": 134.00012407418896, \"values\": 1.025042292943648, \"data_type\": \"noisy hilbert\"}, {\"time\": 135.00012500011573, \"values\": 0.9708089023784725, \"data_type\": \"noisy hilbert\"}, {\"time\": 136.00012592604253, \"values\": 1.3322323729624452, \"data_type\": \"noisy hilbert\"}, {\"time\": 137.0001268519693, \"values\": 1.6378108048727813, \"data_type\": \"noisy hilbert\"}, {\"time\": 138.00012777789607, \"values\": 1.739950634572996, \"data_type\": \"noisy hilbert\"}, {\"time\": 139.00012870382287, \"values\": 2.086622102821434, \"data_type\": \"noisy hilbert\"}, {\"time\": 140.00012962974964, \"values\": 2.4641989321515685, \"data_type\": \"noisy hilbert\"}, {\"time\": 141.00013055567644, \"values\": 2.5192825612165963, \"data_type\": \"noisy hilbert\"}, {\"time\": 142.0001314816032, \"values\": 2.6359381224327056, \"data_type\": \"noisy hilbert\"}, {\"time\": 143.00013240752997, \"values\": 2.9500314889264208, \"data_type\": \"noisy hilbert\"}, {\"time\": 144.0001333334568, \"values\": 2.9209624530711245, \"data_type\": \"noisy hilbert\"}, {\"time\": 145.00013425938357, \"values\": 2.7802270871273844, \"data_type\": \"noisy hilbert\"}, {\"time\": 146.00013518531034, \"values\": -3.0093179374168475, \"data_type\": \"noisy hilbert\"}, {\"time\": 147.00013611123714, \"values\": -2.8316267533669355, \"data_type\": \"noisy hilbert\"}, {\"time\": 148.0001370371639, \"values\": -2.869161275798648, \"data_type\": \"noisy hilbert\"}, {\"time\": 149.0001379630907, \"values\": -2.381497311466658, \"data_type\": \"noisy hilbert\"}, {\"time\": 150.00013888901748, \"values\": -2.172744026799819, \"data_type\": \"noisy hilbert\"}, {\"time\": 151.00013981494425, \"values\": -1.6090916643114321, \"data_type\": \"noisy hilbert\"}, {\"time\": 152.00014074087105, \"values\": -2.437936937630118, \"data_type\": \"noisy hilbert\"}, {\"time\": 153.00014166679782, \"values\": -1.7915471899861166, \"data_type\": \"noisy hilbert\"}, {\"time\": 154.0001425927246, \"values\": -1.1795328900263247, \"data_type\": \"noisy hilbert\"}, {\"time\": 155.0001435186514, \"values\": -1.358410044651252, \"data_type\": \"noisy hilbert\"}, {\"time\": 156.00014444457818, \"values\": 0.15393564766492443, \"data_type\": \"noisy hilbert\"}, {\"time\": 157.00014537050498, \"values\": 1.606083141734854, \"data_type\": \"noisy hilbert\"}, {\"time\": 158.00014629643175, \"values\": 2.021145136011167, \"data_type\": \"noisy hilbert\"}, {\"time\": 159.00014722235852, \"values\": 1.8540032249527207, \"data_type\": \"noisy hilbert\"}, {\"time\": 160.00014814828532, \"values\": 2.31219522717851, \"data_type\": \"noisy hilbert\"}, {\"time\": 161.0001490742121, \"values\": 1.7358606611185228, \"data_type\": \"noisy hilbert\"}, {\"time\": 162.00015000013886, \"values\": 2.0670906200029426, \"data_type\": \"noisy hilbert\"}, {\"time\": 163.00015092606566, \"values\": 2.3712003590425925, \"data_type\": \"noisy hilbert\"}, {\"time\": 164.00015185199243, \"values\": 2.718135430752108, \"data_type\": \"noisy hilbert\"}, {\"time\": 165.00015277791923, \"values\": 2.8833455688243577, \"data_type\": \"noisy hilbert\"}, {\"time\": 166.00015370384602, \"values\": 2.83613182054985, \"data_type\": \"noisy hilbert\"}, {\"time\": 167.0001546297728, \"values\": -2.940280394805068, \"data_type\": \"noisy hilbert\"}, {\"time\": 168.0001555556996, \"values\": -2.849732271096498, \"data_type\": \"noisy hilbert\"}, {\"time\": 169.00015648162636, \"values\": -2.7684260401583844, \"data_type\": \"noisy hilbert\"}, {\"time\": 170.00015740755313, \"values\": -2.623187661714322, \"data_type\": \"noisy hilbert\"}, {\"time\": 171.00015833347993, \"values\": -2.5082964720761343, \"data_type\": \"noisy hilbert\"}, {\"time\": 172.0001592594067, \"values\": -2.3504168449811673, \"data_type\": \"noisy hilbert\"}, {\"time\": 173.00016018533347, \"values\": -2.354117140937854, \"data_type\": \"noisy hilbert\"}, {\"time\": 174.00016111126027, \"values\": -2.1304948228970546, \"data_type\": \"noisy hilbert\"}, {\"time\": 175.00016203718704, \"values\": -1.8586985895919939, \"data_type\": \"noisy hilbert\"}, {\"time\": 176.00016296311384, \"values\": -1.8946164398676875, \"data_type\": \"noisy hilbert\"}, {\"time\": 177.00016388904064, \"values\": -1.7085782333002566, \"data_type\": \"noisy hilbert\"}, {\"time\": 178.0001648149674, \"values\": -1.5559696506284053, \"data_type\": \"noisy hilbert\"}, {\"time\": 179.0001657408942, \"values\": -1.3787391943806366, \"data_type\": \"noisy hilbert\"}, {\"time\": 180.00016666682097, \"values\": -1.2345160815813627, \"data_type\": \"noisy hilbert\"}, {\"time\": 181.00016759274774, \"values\": -1.334113799695112, \"data_type\": \"noisy hilbert\"}, {\"time\": 182.00016851867454, \"values\": -1.063688785265086, \"data_type\": \"noisy hilbert\"}, {\"time\": 183.0001694446013, \"values\": -1.4118956105807172, \"data_type\": \"noisy hilbert\"}, {\"time\": 184.0001703705281, \"values\": -0.8996945982490188, \"data_type\": \"noisy hilbert\"}, {\"time\": 185.00017129645488, \"values\": -1.302035827893297, \"data_type\": \"noisy hilbert\"}, {\"time\": 186.00017222238165, \"values\": -1.5184677959667947, \"data_type\": \"noisy hilbert\"}, {\"time\": 187.00017314830848, \"values\": -1.3520158988389928, \"data_type\": \"noisy hilbert\"}, {\"time\": 188.00017407423525, \"values\": -1.8876371193749841, \"data_type\": \"noisy hilbert\"}, {\"time\": 189.00017500016202, \"values\": -1.4812475300118262, \"data_type\": \"noisy hilbert\"}, {\"time\": 190.00017592608882, \"values\": -2.4957592090848326, \"data_type\": \"noisy hilbert\"}, {\"time\": 191.00017685201558, \"values\": -1.9590997633763676, \"data_type\": \"noisy hilbert\"}, {\"time\": 192.00017777794238, \"values\": -2.175055445702596, \"data_type\": \"noisy hilbert\"}, {\"time\": 193.00017870386915, \"values\": -2.0559927238246822, \"data_type\": \"noisy hilbert\"}, {\"time\": 194.00017962979592, \"values\": -1.8103204623437903, \"data_type\": \"noisy hilbert\"}, {\"time\": 195.00018055572272, \"values\": -1.7830745511017063, \"data_type\": \"noisy hilbert\"}, {\"time\": 196.0001814816495, \"values\": -1.5917351981253938, \"data_type\": \"noisy hilbert\"}, {\"time\": 197.00018240757626, \"values\": -1.4844063065240778, \"data_type\": \"noisy hilbert\"}, {\"time\": 198.0001833335031, \"values\": -1.2548135406978664, \"data_type\": \"noisy hilbert\"}, {\"time\": 199.00018425942986, \"values\": -1.156673159659329, \"data_type\": \"noisy hilbert\"}, {\"time\": 200.00018518535666, \"values\": -1.1665072702732604, \"data_type\": \"noisy hilbert\"}, {\"time\": 201.00018611128343, \"values\": -1.091412017993918, \"data_type\": \"noisy hilbert\"}, {\"time\": 202.0001870372102, \"values\": -0.8506174863760414, \"data_type\": \"noisy hilbert\"}, {\"time\": 203.000187963137, \"values\": -0.7415687205813515, \"data_type\": \"noisy hilbert\"}, {\"time\": 204.00018888906376, \"values\": -0.531588283540462, \"data_type\": \"noisy hilbert\"}, {\"time\": 205.00018981499053, \"values\": -0.5714402256059635, \"data_type\": \"noisy hilbert\"}, {\"time\": 206.00019074091733, \"values\": -0.44354836393706226, \"data_type\": \"noisy hilbert\"}, {\"time\": 207.0001916668441, \"values\": -0.31976699396550234, \"data_type\": \"noisy hilbert\"}, {\"time\": 208.00019259277093, \"values\": -0.22548560764928213, \"data_type\": \"noisy hilbert\"}, {\"time\": 209.0001935186977, \"values\": -0.0851001864180704, \"data_type\": \"noisy hilbert\"}, {\"time\": 210.00019444462447, \"values\": 0.003026212902422183, \"data_type\": \"noisy hilbert\"}, {\"time\": 211.00019537055127, \"values\": 0.18727420004158385, \"data_type\": \"noisy hilbert\"}, {\"time\": 212.00019629647804, \"values\": 0.24983361820344976, \"data_type\": \"noisy hilbert\"}, {\"time\": 213.0001972224048, \"values\": 0.49130451872514413, \"data_type\": \"noisy hilbert\"}, {\"time\": 214.0001981483316, \"values\": 0.3960985036668059, \"data_type\": \"noisy hilbert\"}, {\"time\": 215.00019907425838, \"values\": 0.3756065342595646, \"data_type\": \"noisy hilbert\"}, {\"time\": 216.00020000018517, \"values\": 0.2713034873479788, \"data_type\": \"noisy hilbert\"}, {\"time\": 217.00020092611194, \"values\": 0.12131365123594878, \"data_type\": \"noisy hilbert\"}, {\"time\": 218.0002018520387, \"values\": 0.1258039901059778, \"data_type\": \"noisy hilbert\"}, {\"time\": 219.00020277796554, \"values\": 0.5370016513237066, \"data_type\": \"noisy hilbert\"}, {\"time\": 220.0002037038923, \"values\": -0.2120138568795319, \"data_type\": \"noisy hilbert\"}, {\"time\": 221.00020462981908, \"values\": -0.1543182848960998, \"data_type\": \"noisy hilbert\"}, {\"time\": 222.00020555574588, \"values\": -0.44299725702738296, \"data_type\": \"noisy hilbert\"}, {\"time\": 223.00020648167265, \"values\": -0.15935212365751947, \"data_type\": \"noisy hilbert\"}, {\"time\": 224.00020740759945, \"values\": -0.31300863563413567, \"data_type\": \"noisy hilbert\"}, {\"time\": 225.00020833352622, \"values\": -0.27497049378840377, \"data_type\": \"noisy hilbert\"}, {\"time\": 226.000209259453, \"values\": -0.12214980401306127, \"data_type\": \"noisy hilbert\"}, {\"time\": 227.00021018537979, \"values\": 0.02197390775432215, \"data_type\": \"noisy hilbert\"}, {\"time\": 228.00021111130656, \"values\": 0.10750471679384271, \"data_type\": \"noisy hilbert\"}, {\"time\": 229.00021203723333, \"values\": 0.2240112253716197, \"data_type\": \"noisy hilbert\"}, {\"time\": 230.00021296316015, \"values\": 0.33383556914760515, \"data_type\": \"noisy hilbert\"}, {\"time\": 231.00021388908692, \"values\": 0.36869180531425555, \"data_type\": \"noisy hilbert\"}, {\"time\": 232.0002148150137, \"values\": 0.501417925637337, \"data_type\": \"noisy hilbert\"}, {\"time\": 233.0002157409405, \"values\": 0.5989095711759754, \"data_type\": \"noisy hilbert\"}, {\"time\": 234.00021666686726, \"values\": 0.8087209045251497, \"data_type\": \"noisy hilbert\"}, {\"time\": 235.00021759279406, \"values\": 0.7294945495727212, \"data_type\": \"noisy hilbert\"}, {\"time\": 236.00021851872083, \"values\": 0.9686964092088308, \"data_type\": \"noisy hilbert\"}, {\"time\": 237.0002194446476, \"values\": 1.2413394483522913, \"data_type\": \"noisy hilbert\"}, {\"time\": 238.0002203705744, \"values\": 1.1437325914461165, \"data_type\": \"noisy hilbert\"}, {\"time\": 239.00022129650117, \"values\": 1.2892391127796496, \"data_type\": \"noisy hilbert\"}, {\"time\": 240.00022222242794, \"values\": 1.4815954490268362, \"data_type\": \"noisy hilbert\"}, {\"time\": 241.00022314835476, \"values\": 1.5630564418001176, \"data_type\": \"noisy hilbert\"}, {\"time\": 242.00022407428153, \"values\": 1.6364003372215634, \"data_type\": \"noisy hilbert\"}, {\"time\": 243.00022500020833, \"values\": 1.7411863070042357, \"data_type\": \"noisy hilbert\"}, {\"time\": 244.0002259261351, \"values\": 1.7999294243531634, \"data_type\": \"noisy hilbert\"}, {\"time\": 245.00022685206187, \"values\": 2.0586289652318306, \"data_type\": \"noisy hilbert\"}, {\"time\": 246.00022777798867, \"values\": 1.7588008269856428, \"data_type\": \"noisy hilbert\"}, {\"time\": 247.00022870391544, \"values\": 1.6824395695913152, \"data_type\": \"noisy hilbert\"}, {\"time\": 248.0002296298422, \"values\": 1.8809798712066255, \"data_type\": \"noisy hilbert\"}, {\"time\": 249.000230555769, \"values\": 2.0068107164168065, \"data_type\": \"noisy hilbert\"}, {\"time\": 250.0002314816958, \"values\": 1.4546533407999238, \"data_type\": \"noisy hilbert\"}, {\"time\": 251.0002324076226, \"values\": 1.5414907045003488, \"data_type\": \"noisy hilbert\"}, {\"time\": 252.00023333354937, \"values\": 1.2721163173482422, \"data_type\": \"noisy hilbert\"}, {\"time\": 253.00023425947614, \"values\": 1.3329282676019263, \"data_type\": \"noisy hilbert\"}, {\"time\": 254.00023518540294, \"values\": 1.139714612046342, \"data_type\": \"noisy hilbert\"}, {\"time\": 255.0002361113297, \"values\": 1.2769399337653913, \"data_type\": \"noisy hilbert\"}, {\"time\": 256.0002370372565, \"values\": 1.4429195440934313, \"data_type\": \"noisy hilbert\"}, {\"time\": 257.0002379631833, \"values\": 1.562597913286011, \"data_type\": \"noisy hilbert\"}, {\"time\": 258.00023888911005, \"values\": 1.6656209998761755, \"data_type\": \"noisy hilbert\"}, {\"time\": 259.0002398150368, \"values\": 1.5610392371886852, \"data_type\": \"noisy hilbert\"}, {\"time\": 260.0002407409636, \"values\": 1.7989923457284596, \"data_type\": \"noisy hilbert\"}, {\"time\": 261.0002416668904, \"values\": 1.8647297186204022, \"data_type\": \"noisy hilbert\"}, {\"time\": 262.0002425928172, \"values\": 1.98623536349484, \"data_type\": \"noisy hilbert\"}, {\"time\": 263.00024351874396, \"values\": 2.040410198653934, \"data_type\": \"noisy hilbert\"}, {\"time\": 264.0002444446707, \"values\": 2.281280654843306, \"data_type\": \"noisy hilbert\"}, {\"time\": 265.0002453705975, \"values\": 2.3658292349878356, \"data_type\": \"noisy hilbert\"}, {\"time\": 266.0002462965243, \"values\": 2.376889281473539, \"data_type\": \"noisy hilbert\"}, {\"time\": 267.00024722245115, \"values\": 2.528324877130768, \"data_type\": \"noisy hilbert\"}, {\"time\": 268.0002481483779, \"values\": 2.6345638564144633, \"data_type\": \"noisy hilbert\"}, {\"time\": 269.0002490743047, \"values\": 2.811856810603114, \"data_type\": \"noisy hilbert\"}, {\"time\": 270.00025000023146, \"values\": 2.7591095706644975, \"data_type\": \"noisy hilbert\"}, {\"time\": 271.0002509261583, \"values\": 3.0679148637838534, \"data_type\": \"noisy hilbert\"}, {\"time\": 272.00025185208506, \"values\": -2.97312876179373, \"data_type\": \"noisy hilbert\"}, {\"time\": 273.0002527780118, \"values\": 3.0254076815701, \"data_type\": \"noisy hilbert\"}, {\"time\": 274.0002537039386, \"values\": -2.9493251765840753, \"data_type\": \"noisy hilbert\"}, {\"time\": 275.00025462986537, \"values\": -2.9383041096186173, \"data_type\": \"noisy hilbert\"}, {\"time\": 276.00025555579214, \"values\": -2.680210217773636, \"data_type\": \"noisy hilbert\"}, {\"time\": 277.00025648171896, \"values\": -3.053997065370021, \"data_type\": \"noisy hilbert\"}, {\"time\": 278.00025740764573, \"values\": -2.632565824910904, \"data_type\": \"noisy hilbert\"}, {\"time\": 279.0002583335725, \"values\": -2.4394944328094352, \"data_type\": \"noisy hilbert\"}, {\"time\": 280.0002592594993, \"values\": -2.9084577934304923, \"data_type\": \"noisy hilbert\"}, {\"time\": 281.00026018542604, \"values\": -3.099314794368884, \"data_type\": \"noisy hilbert\"}, {\"time\": 282.00026111135287, \"values\": 3.10915765894388, \"data_type\": \"noisy hilbert\"}, {\"time\": 283.00026203727964, \"values\": 2.9334275749398047, \"data_type\": \"noisy hilbert\"}, {\"time\": 284.0002629632064, \"values\": 2.669564272075668, \"data_type\": \"noisy hilbert\"}, {\"time\": 285.0002638891332, \"values\": 2.661317055877504, \"data_type\": \"noisy hilbert\"}, {\"time\": 286.00026481505995, \"values\": 2.8414558806399035, \"data_type\": \"noisy hilbert\"}, {\"time\": 287.0002657409868, \"values\": 2.9664220915841994, \"data_type\": \"noisy hilbert\"}, {\"time\": 288.0002666669136, \"values\": 2.846203290656216, \"data_type\": \"noisy hilbert\"}, {\"time\": 289.0002675928404, \"values\": 2.968050272113118, \"data_type\": \"noisy hilbert\"}, {\"time\": 290.00026851876714, \"values\": 2.9627054249478566, \"data_type\": \"noisy hilbert\"}, {\"time\": 291.0002694446939, \"values\": -2.9286097810722564, \"data_type\": \"noisy hilbert\"}, {\"time\": 292.0002703706207, \"values\": -2.980081371342825, \"data_type\": \"noisy hilbert\"}, {\"time\": 293.0002712965475, \"values\": -2.9730656951607393, \"data_type\": \"noisy hilbert\"}, {\"time\": 294.0002722224743, \"values\": -2.6398316259536156, \"data_type\": \"noisy hilbert\"}, {\"time\": 295.00027314840105, \"values\": -2.5814079963478083, \"data_type\": \"noisy hilbert\"}, {\"time\": 296.0002740743278, \"values\": -2.4839747840439346, \"data_type\": \"noisy hilbert\"}, {\"time\": 297.0002750002546, \"values\": -2.3571389062756873, \"data_type\": \"noisy hilbert\"}, {\"time\": 298.0002759261814, \"values\": -2.259041485153448, \"data_type\": \"noisy hilbert\"}, {\"time\": 299.0002768521082, \"values\": -2.0970290917565757, \"data_type\": \"noisy hilbert\"}, {\"time\": 300.00027777803496, \"values\": -2.0533381607580714, \"data_type\": \"noisy hilbert\"}, {\"time\": 301.0002787039617, \"values\": -1.6917508104740968, \"data_type\": \"noisy hilbert\"}, {\"time\": 302.0002796298885, \"values\": -1.7577365645321168, \"data_type\": \"noisy hilbert\"}, {\"time\": 303.00028055581527, \"values\": -1.6499956808299485, \"data_type\": \"noisy hilbert\"}, {\"time\": 304.0002814817421, \"values\": -1.3859591595322631, \"data_type\": \"noisy hilbert\"}, {\"time\": 305.00028240766886, \"values\": -1.3783412245259006, \"data_type\": \"noisy hilbert\"}, {\"time\": 306.00028333359563, \"values\": -1.389045348275953, \"data_type\": \"noisy hilbert\"}, {\"time\": 307.0002842595224, \"values\": -1.365525303157769, \"data_type\": \"noisy hilbert\"}, {\"time\": 308.0002851854492, \"values\": -1.0162282774914608, \"data_type\": \"noisy hilbert\"}, {\"time\": 309.000286111376, \"values\": -0.952373270348032, \"data_type\": \"noisy hilbert\"}, {\"time\": 310.0002870373028, \"values\": -1.1063363480431827, \"data_type\": \"noisy hilbert\"}, {\"time\": 311.0002879632296, \"values\": -0.6077489947598138, \"data_type\": \"noisy hilbert\"}, {\"time\": 312.00028888915637, \"values\": -2.2358920169488123, \"data_type\": \"noisy hilbert\"}, {\"time\": 313.00028981508314, \"values\": -2.033585747031314, \"data_type\": \"noisy hilbert\"}, {\"time\": 314.00029074100996, \"values\": -2.2065205828381442, \"data_type\": \"noisy hilbert\"}, {\"time\": 315.00029166693673, \"values\": -2.1599220212416137, \"data_type\": \"noisy hilbert\"}, {\"time\": 316.0002925928635, \"values\": -2.3104845885526846, \"data_type\": \"noisy hilbert\"}, {\"time\": 317.0002935187903, \"values\": -2.2332074089761553, \"data_type\": \"noisy hilbert\"}, {\"time\": 318.00029444471704, \"values\": -2.12566146854529, \"data_type\": \"noisy hilbert\"}, {\"time\": 319.0002953706438, \"values\": -2.0395893307230573, \"data_type\": \"noisy hilbert\"}, {\"time\": 320.00029629657064, \"values\": -1.9995106441162205, \"data_type\": \"noisy hilbert\"}, {\"time\": 321.0002972224974, \"values\": -1.8422824239019693, \"data_type\": \"noisy hilbert\"}, {\"time\": 322.0002981484242, \"values\": -1.6045099370918703, \"data_type\": \"noisy hilbert\"}, {\"time\": 323.00029907435095, \"values\": -1.5979479588762495, \"data_type\": \"noisy hilbert\"}, {\"time\": 324.0003000002777, \"values\": -1.489900549894915, \"data_type\": \"noisy hilbert\"}, {\"time\": 325.00030092620455, \"values\": -1.2729236694409718, \"data_type\": \"noisy hilbert\"}, {\"time\": 326.0003018521313, \"values\": -1.1692936370891243, \"data_type\": \"noisy hilbert\"}, {\"time\": 327.0003027780581, \"values\": -0.7883988131389462, \"data_type\": \"noisy hilbert\"}, {\"time\": 328.00030370398486, \"values\": -0.7770463639254224, \"data_type\": \"noisy hilbert\"}, {\"time\": 329.0003046299116, \"values\": -0.6648039611101065, \"data_type\": \"noisy hilbert\"}, {\"time\": 330.00030555583845, \"values\": -0.3000052486125971, \"data_type\": \"noisy hilbert\"}, {\"time\": 331.0003064817653, \"values\": -0.35815708791470624, \"data_type\": \"noisy hilbert\"}, {\"time\": 332.00030740769205, \"values\": -0.15757771585466188, \"data_type\": \"noisy hilbert\"}, {\"time\": 333.0003083336188, \"values\": 0.2625905792993101, \"data_type\": \"noisy hilbert\"}, {\"time\": 334.0003092595456, \"values\": -0.04394743210462673, \"data_type\": \"noisy hilbert\"}, {\"time\": 335.00031018547236, \"values\": 0.19711948476433477, \"data_type\": \"noisy hilbert\"}, {\"time\": 336.0003111113992, \"values\": 0.5607706036730243, \"data_type\": \"noisy hilbert\"}, {\"time\": 337.00031203732595, \"values\": 0.3684626462075639, \"data_type\": \"noisy hilbert\"}, {\"time\": 338.0003129632527, \"values\": 0.8547814832438024, \"data_type\": \"noisy hilbert\"}, {\"time\": 339.0003138891795, \"values\": 0.4538097262908168, \"data_type\": \"noisy hilbert\"}, {\"time\": 340.00031481510626, \"values\": 1.155020637026579, \"data_type\": \"noisy hilbert\"}, {\"time\": 341.0003157410331, \"values\": 1.6335422234099986, \"data_type\": \"noisy hilbert\"}, {\"time\": 342.00031666695986, \"values\": 1.9502931822607683, \"data_type\": \"noisy hilbert\"}, {\"time\": 343.00031759288663, \"values\": 2.9435767712258496, \"data_type\": \"noisy hilbert\"}, {\"time\": 344.0003185188134, \"values\": -2.9005477409156075, \"data_type\": \"noisy hilbert\"}, {\"time\": 345.00031944474017, \"values\": -2.219624183481478, \"data_type\": \"noisy hilbert\"}, {\"time\": 346.00032037066694, \"values\": -1.9974907852016346, \"data_type\": \"noisy hilbert\"}, {\"time\": 347.00032129659377, \"values\": -1.5367626594360226, \"data_type\": \"noisy hilbert\"}, {\"time\": 348.00032222252054, \"values\": -1.1613533546635213, \"data_type\": \"noisy hilbert\"}, {\"time\": 349.0003231484473, \"values\": -1.0258891244418644, \"data_type\": \"noisy hilbert\"}, {\"time\": 350.0003240743741, \"values\": -0.8579294041412169, \"data_type\": \"noisy hilbert\"}, {\"time\": 351.00032500030085, \"values\": -1.0955205269299564, \"data_type\": \"noisy hilbert\"}, {\"time\": 352.0003259262277, \"values\": -0.47958208875234903, \"data_type\": \"noisy hilbert\"}, {\"time\": 353.0003268521545, \"values\": -0.22150479933940156, \"data_type\": \"noisy hilbert\"}, {\"time\": 354.00032777808127, \"values\": -0.25426210463778465, \"data_type\": \"noisy hilbert\"}, {\"time\": 355.00032870400804, \"values\": 0.07767659746544552, \"data_type\": \"noisy hilbert\"}, {\"time\": 356.0003296299348, \"values\": 0.16323775743224883, \"data_type\": \"noisy hilbert\"}, {\"time\": 357.00033055586164, \"values\": 0.15974427407719974, \"data_type\": \"noisy hilbert\"}, {\"time\": 358.0003314817884, \"values\": 0.4571892807893302, \"data_type\": \"noisy hilbert\"}, {\"time\": 359.0003324077152, \"values\": 0.48084054354567046, \"data_type\": \"noisy hilbert\"}, {\"time\": 360.00033333364195, \"values\": 0.8639880495308857, \"data_type\": \"noisy hilbert\"}, {\"time\": 361.0003342595687, \"values\": 1.0650852210695414, \"data_type\": \"noisy hilbert\"}, {\"time\": 362.0003351854955, \"values\": 1.1887337320397955, \"data_type\": \"noisy hilbert\"}, {\"time\": 363.0003361114223, \"values\": 1.4857043958456384, \"data_type\": \"noisy hilbert\"}, {\"time\": 364.0003370373491, \"values\": 1.7466486762585378, \"data_type\": \"noisy hilbert\"}, {\"time\": 365.00033796327585, \"values\": 1.963751852998986, \"data_type\": \"noisy hilbert\"}, {\"time\": 366.0003388892026, \"values\": 2.1747171176451126, \"data_type\": \"noisy hilbert\"}, {\"time\": 367.0003398151294, \"values\": 2.5674435096150323, \"data_type\": \"noisy hilbert\"}, {\"time\": 368.0003407410562, \"values\": 2.6351186297027156, \"data_type\": \"noisy hilbert\"}, {\"time\": 369.000341666983, \"values\": -3.112431566213325, \"data_type\": \"noisy hilbert\"}, {\"time\": 370.00034259290976, \"values\": -2.955158677707047, \"data_type\": \"noisy hilbert\"}, {\"time\": 371.00034351883653, \"values\": -2.667517803166454, \"data_type\": \"noisy hilbert\"}, {\"time\": 372.0003444447633, \"values\": -2.159709760923579, \"data_type\": \"noisy hilbert\"}, {\"time\": 373.0003453706901, \"values\": -2.202783066535015, \"data_type\": \"noisy hilbert\"}, {\"time\": 374.00034629661695, \"values\": -1.800117557990065, \"data_type\": \"noisy hilbert\"}, {\"time\": 375.0003472225437, \"values\": -1.4706746483050763, \"data_type\": \"noisy hilbert\"}, {\"time\": 376.0003481484705, \"values\": -1.1117487113024704, \"data_type\": \"noisy hilbert\"}, {\"time\": 377.00034907439726, \"values\": -1.3300059337351526, \"data_type\": \"noisy hilbert\"}, {\"time\": 378.00035000032403, \"values\": -1.0187543677216586, \"data_type\": \"noisy hilbert\"}, {\"time\": 379.00035092625086, \"values\": -0.31974292949748295, \"data_type\": \"noisy hilbert\"}, {\"time\": 380.00035185217763, \"values\": -0.47061511615489027, \"data_type\": \"noisy hilbert\"}, {\"time\": 381.0003527781044, \"values\": -0.13849665938170996, \"data_type\": \"noisy hilbert\"}, {\"time\": 382.00035370403117, \"values\": 0.479117182419689, \"data_type\": \"noisy hilbert\"}, {\"time\": 383.00035462995794, \"values\": -0.1811896734862051, \"data_type\": \"noisy hilbert\"}, {\"time\": 384.00035555588477, \"values\": 0.5954403989080543, \"data_type\": \"noisy hilbert\"}, {\"time\": 385.00035648181154, \"values\": 0.9097739842276117, \"data_type\": \"noisy hilbert\"}, {\"time\": 386.0003574077383, \"values\": 1.1156204758674013, \"data_type\": \"noisy hilbert\"}, {\"time\": 387.0003583336651, \"values\": 1.5661678401620178, \"data_type\": \"noisy hilbert\"}, {\"time\": 388.00035925959185, \"values\": 0.8602635977606452, \"data_type\": \"noisy hilbert\"}, {\"time\": 389.0003601855187, \"values\": 1.7287745440673623, \"data_type\": \"noisy hilbert\"}, {\"time\": 390.00036111144544, \"values\": 1.9688548145081388, \"data_type\": \"noisy hilbert\"}, {\"time\": 391.0003620373722, \"values\": 2.446908833209817, \"data_type\": \"noisy hilbert\"}, {\"time\": 392.000362963299, \"values\": 2.7894525575350553, \"data_type\": \"noisy hilbert\"}, {\"time\": 393.00036388922575, \"values\": -2.9763591365685507, \"data_type\": \"noisy hilbert\"}, {\"time\": 394.0003648151525, \"values\": -2.4323871803877863, \"data_type\": \"noisy hilbert\"}, {\"time\": 395.0003657410794, \"values\": -2.28170650441497, \"data_type\": \"noisy hilbert\"}, {\"time\": 396.0003666670062, \"values\": -1.7542146911579743, \"data_type\": \"noisy hilbert\"}, {\"time\": 397.00036759293295, \"values\": -1.5409089890228986, \"data_type\": \"noisy hilbert\"}, {\"time\": 398.0003685188597, \"values\": -1.2903390924062144, \"data_type\": \"noisy hilbert\"}, {\"time\": 399.0003694447865, \"values\": -1.088766267772403, \"data_type\": \"noisy hilbert\"}, {\"time\": 400.0003703707133, \"values\": -1.1346911526687946, \"data_type\": \"noisy hilbert\"}, {\"time\": 401.0003712966401, \"values\": -1.0755663561017963, \"data_type\": \"noisy hilbert\"}, {\"time\": 402.00037222256685, \"values\": -0.7616084897260824, \"data_type\": \"noisy hilbert\"}, {\"time\": 403.0003731484936, \"values\": -0.3612780044287085, \"data_type\": \"noisy hilbert\"}, {\"time\": 404.0003740744204, \"values\": -0.5162571551416878, \"data_type\": \"noisy hilbert\"}, {\"time\": 405.00037500034716, \"values\": -0.346758176827287, \"data_type\": \"noisy hilbert\"}, {\"time\": 406.000375926274, \"values\": -0.030733251282807305, \"data_type\": \"noisy hilbert\"}, {\"time\": 407.00037685220076, \"values\": 0.1739940515070088, \"data_type\": \"noisy hilbert\"}, {\"time\": 408.00037777812753, \"values\": 0.3173240406927132, \"data_type\": \"noisy hilbert\"}, {\"time\": 409.0003787040543, \"values\": 0.5438679818395461, \"data_type\": \"noisy hilbert\"}, {\"time\": 410.00037962998107, \"values\": 0.5742820022867308, \"data_type\": \"noisy hilbert\"}, {\"time\": 411.0003805559079, \"values\": 0.5689422217711962, \"data_type\": \"noisy hilbert\"}, {\"time\": 412.00038148183467, \"values\": 0.9485182035694434, \"data_type\": \"noisy hilbert\"}, {\"time\": 413.00038240776144, \"values\": 0.9267257722800474, \"data_type\": \"noisy hilbert\"}, {\"time\": 414.0003833336882, \"values\": 0.9312517902097583, \"data_type\": \"noisy hilbert\"}, {\"time\": 415.000384259615, \"values\": 1.2538645739964769, \"data_type\": \"noisy hilbert\"}, {\"time\": 416.00038518554186, \"values\": 1.4151398081220214, \"data_type\": \"noisy hilbert\"}, {\"time\": 417.00038611146863, \"values\": 1.58591511273504, \"data_type\": \"noisy hilbert\"}, {\"time\": 418.0003870373954, \"values\": 1.2821600882815867, \"data_type\": \"noisy hilbert\"}, {\"time\": 419.00038796332217, \"values\": 1.3262174142028222, \"data_type\": \"noisy hilbert\"}, {\"time\": 420.00038888924894, \"values\": 1.4674033723974946, \"data_type\": \"noisy hilbert\"}, {\"time\": 421.0003898151757, \"values\": 1.4528707245609878, \"data_type\": \"noisy hilbert\"}, {\"time\": 422.00039074110254, \"values\": 2.4240978660064707, \"data_type\": \"noisy hilbert\"}, {\"time\": 423.0003916670293, \"values\": -0.6293249192987618, \"data_type\": \"noisy hilbert\"}, {\"time\": 424.0003925929561, \"values\": 0.3003209857100349, \"data_type\": \"noisy hilbert\"}, {\"time\": 425.00039351888285, \"values\": -0.2632814763289339, \"data_type\": \"noisy hilbert\"}, {\"time\": 426.0003944448096, \"values\": 0.4062472042570834, \"data_type\": \"noisy hilbert\"}, {\"time\": 427.00039537073644, \"values\": 0.5763863120567363, \"data_type\": \"noisy hilbert\"}, {\"time\": 428.0003962966632, \"values\": 0.07432733713828284, \"data_type\": \"noisy hilbert\"}, {\"time\": 429.00039722259, \"values\": 0.399567910147273, \"data_type\": \"noisy hilbert\"}, {\"time\": 430.00039814851675, \"values\": 0.6456750609023623, \"data_type\": \"noisy hilbert\"}, {\"time\": 431.0003990744435, \"values\": 0.7279966525993681, \"data_type\": \"noisy hilbert\"}, {\"time\": 432.00040000037035, \"values\": 0.6721883131931957, \"data_type\": \"noisy hilbert\"}, {\"time\": 433.0004009262971, \"values\": 0.98520863271631, \"data_type\": \"noisy hilbert\"}, {\"time\": 434.0004018522239, \"values\": 1.1669731030485941, \"data_type\": \"noisy hilbert\"}, {\"time\": 435.00040277815066, \"values\": 1.17165502570872, \"data_type\": \"noisy hilbert\"}, {\"time\": 436.0004037040774, \"values\": 1.3052650311059755, \"data_type\": \"noisy hilbert\"}, {\"time\": 437.0004046300042, \"values\": 1.5035177545626213, \"data_type\": \"noisy hilbert\"}, {\"time\": 438.0004055559311, \"values\": 1.5712521211984092, \"data_type\": \"noisy hilbert\"}, {\"time\": 439.00040648185785, \"values\": 1.7500289979511128, \"data_type\": \"noisy hilbert\"}, {\"time\": 440.0004074077846, \"values\": 1.9110332625017663, \"data_type\": \"noisy hilbert\"}, {\"time\": 441.0004083337114, \"values\": 2.114300284877612, \"data_type\": \"noisy hilbert\"}, {\"time\": 442.00040925963816, \"values\": 2.203277532595427, \"data_type\": \"noisy hilbert\"}, {\"time\": 443.000410185565, \"values\": 2.286527669079516, \"data_type\": \"noisy hilbert\"}, {\"time\": 444.00041111149176, \"values\": 2.328412758255334, \"data_type\": \"noisy hilbert\"}, {\"time\": 445.0004120374185, \"values\": 2.457990274142402, \"data_type\": \"noisy hilbert\"}, {\"time\": 446.0004129633453, \"values\": 2.5507778769061034, \"data_type\": \"noisy hilbert\"}, {\"time\": 447.00041388927207, \"values\": 2.617311509520653, \"data_type\": \"noisy hilbert\"}, {\"time\": 448.0004148151989, \"values\": 2.9267534766955885, \"data_type\": \"noisy hilbert\"}, {\"time\": 449.00041574112566, \"values\": 2.75801985855198, \"data_type\": \"noisy hilbert\"}, {\"time\": 450.00041666705243, \"values\": 3.0492966640767922, \"data_type\": \"noisy hilbert\"}, {\"time\": 451.0004175929792, \"values\": 2.9212626846119907, \"data_type\": \"noisy hilbert\"}, {\"time\": 452.000418518906, \"values\": 2.5538153679287157, \"data_type\": \"noisy hilbert\"}, {\"time\": 453.00041944483274, \"values\": 2.2912096206132095, \"data_type\": \"noisy hilbert\"}, {\"time\": 454.00042037075957, \"values\": 2.171595930040408, \"data_type\": \"noisy hilbert\"}, {\"time\": 455.00042129668634, \"values\": 1.511656220299757, \"data_type\": \"noisy hilbert\"}, {\"time\": 456.0004222226131, \"values\": 1.8673929828786586, \"data_type\": \"noisy hilbert\"}, {\"time\": 457.0004231485399, \"values\": 2.227620306401454, \"data_type\": \"noisy hilbert\"}, {\"time\": 458.00042407446665, \"values\": 2.0111217814905307, \"data_type\": \"noisy hilbert\"}, {\"time\": 459.00042500039353, \"values\": 2.019738558762585, \"data_type\": \"noisy hilbert\"}, {\"time\": 460.0004259263203, \"values\": 2.1781707200755194, \"data_type\": \"noisy hilbert\"}, {\"time\": 461.0004268522471, \"values\": 2.2885179229811516, \"data_type\": \"noisy hilbert\"}, {\"time\": 462.00042777817384, \"values\": 2.455407558637556, \"data_type\": \"noisy hilbert\"}, {\"time\": 463.0004287041006, \"values\": 2.4209748929778043, \"data_type\": \"noisy hilbert\"}, {\"time\": 464.0004296300274, \"values\": 2.6949971904907257, \"data_type\": \"noisy hilbert\"}, {\"time\": 465.0004305559542, \"values\": 2.546658263366869, \"data_type\": \"noisy hilbert\"}, {\"time\": 466.000431481881, \"values\": 2.7071222238728154, \"data_type\": \"noisy hilbert\"}, {\"time\": 467.00043240780775, \"values\": 2.891067038145258, \"data_type\": \"noisy hilbert\"}, {\"time\": 468.0004333337345, \"values\": 3.067622679288148, \"data_type\": \"noisy hilbert\"}, {\"time\": 469.0004342596613, \"values\": -3.0460347376171346, \"data_type\": \"noisy hilbert\"}, {\"time\": 470.0004351855881, \"values\": -3.0512641212267964, \"data_type\": \"noisy hilbert\"}, {\"time\": 471.0004361115149, \"values\": -2.7235388975725296, \"data_type\": \"noisy hilbert\"}, {\"time\": 472.00043703744166, \"values\": -2.7700082243857564, \"data_type\": \"noisy hilbert\"}, {\"time\": 473.0004379633684, \"values\": -2.508973861640622, \"data_type\": \"noisy hilbert\"}, {\"time\": 474.0004388892952, \"values\": -2.3792821688846812, \"data_type\": \"noisy hilbert\"}, {\"time\": 475.000439815222, \"values\": -2.3191569584207206, \"data_type\": \"noisy hilbert\"}, {\"time\": 476.0004407411488, \"values\": -2.290160357587369, \"data_type\": \"noisy hilbert\"}, {\"time\": 477.00044166707556, \"values\": -2.2817427796430714, \"data_type\": \"noisy hilbert\"}, {\"time\": 478.00044259300233, \"values\": -2.006977763950175, \"data_type\": \"noisy hilbert\"}, {\"time\": 479.0004435189291, \"values\": -2.0497561209341484, \"data_type\": \"noisy hilbert\"}, {\"time\": 480.0004444448559, \"values\": -1.9413237048140646, \"data_type\": \"noisy hilbert\"}, {\"time\": 481.00044537078276, \"values\": -1.9406804999645635, \"data_type\": \"noisy hilbert\"}, {\"time\": 482.0004462967095, \"values\": -2.35940343843043, \"data_type\": \"noisy hilbert\"}, {\"time\": 483.0004472226363, \"values\": -2.115082035307241, \"data_type\": \"noisy hilbert\"}, {\"time\": 484.00044814856307, \"values\": -2.4139163342091843, \"data_type\": \"noisy hilbert\"}, {\"time\": 485.00044907448984, \"values\": -2.642950287575525, \"data_type\": \"noisy hilbert\"}, {\"time\": 486.00045000041666, \"values\": -2.124052659676027, \"data_type\": \"noisy hilbert\"}, {\"time\": 487.00045092634343, \"values\": -2.8123569476930346, \"data_type\": \"noisy hilbert\"}, {\"time\": 488.0004518522702, \"values\": -2.6359844038844717, \"data_type\": \"noisy hilbert\"}, {\"time\": 489.000452778197, \"values\": -2.7217969606715395, \"data_type\": \"noisy hilbert\"}, {\"time\": 490.00045370412374, \"values\": -2.6557360833273878, \"data_type\": \"noisy hilbert\"}, {\"time\": 491.00045463005057, \"values\": -2.447589204879017, \"data_type\": \"noisy hilbert\"}, {\"time\": 492.00045555597734, \"values\": -2.3112180844497137, \"data_type\": \"noisy hilbert\"}, {\"time\": 493.0004564819041, \"values\": -2.232215568466195, \"data_type\": \"noisy hilbert\"}, {\"time\": 494.0004574078309, \"values\": -2.1035559915114996, \"data_type\": \"noisy hilbert\"}, {\"time\": 495.00045833375765, \"values\": -2.2827616816154612, \"data_type\": \"noisy hilbert\"}, {\"time\": 496.0004592596844, \"values\": -2.094512399621572, \"data_type\": \"noisy hilbert\"}, {\"time\": 497.00046018561125, \"values\": -1.9828410530784966, \"data_type\": \"noisy hilbert\"}, {\"time\": 498.000461111538, \"values\": -1.8689442444478872, \"data_type\": \"noisy hilbert\"}, {\"time\": 499.0004620374648, \"values\": -1.6900586191249287, \"data_type\": \"noisy hilbert\"}, {\"time\": 500.0004629633916, \"values\": -1.5451033589361325, \"data_type\": \"noisy hilbert\"}]}}, {\"mode\": \"vega-lite\"});\n",
       "</script>"
      ],
      "text/plain": [
       "alt.Chart(...)"
      ]
     },
     "execution_count": 23,
     "metadata": {},
     "output_type": "execute_result"
    }
   ],
   "source": [
    "sineplot(mixed_data, 500, [\"sine\", \"noisy hilbert\"])"
   ]
  },
  {
   "cell_type": "markdown",
   "metadata": {},
   "source": [
    "![random_result](plots/mixed_hilbert.png)"
   ]
  },
  {
   "cell_type": "markdown",
   "metadata": {},
   "source": [
    "### Mintavétel <a id=\"sampling\"></a>"
   ]
  },
  {
   "cell_type": "markdown",
   "metadata": {},
   "source": [
    "#### [vissza](#top)"
   ]
  },
  {
   "cell_type": "markdown",
   "metadata": {},
   "source": [
    "Beosztom az adatot 18 trial-re, és mindegyikből random fázisértékről indítva veszek egy 8 $\\times$ 48 ms-os mintát. **Úgy írtam meg a függvényt, hogy az adat végét lecsípje, ha az nem lenne osztható a trial $\\times$ fázissal. Így tetszőleges méretű adatból lehet mintát venni.**"
   ]
  },
  {
   "cell_type": "code",
   "execution_count": 26,
   "metadata": {},
   "outputs": [],
   "source": [
    "def sampler(data, phase=25, trials=18, sample_size=8, sample_length=48):\n",
    "\n",
    "    if data.shape[0] % (phase * trials) != 0:\n",
    "        data = data[: -(data.shape[0] % (phase * trials))]\n",
    "\n",
    "    sections = data.reshape(trials, -1)\n",
    "    start_from = np.random.choice(\n",
    "        np.arange(sections.shape[1] - sample_size * sample_length), trials\n",
    "    )\n",
    "\n",
    "    return {\n",
    "        \"starting phases\": np.array(\n",
    "            [\n",
    "                [(s + sample_length * n) % phase for n in range(sample_size)]\n",
    "                for s in start_from\n",
    "            ]\n",
    "        ),\n",
    "        \"samples\": np.array(\n",
    "            [\n",
    "                sections[trial, s : s + sample_size * sample_length].reshape(\n",
    "                    sample_size, sample_length\n",
    "                )\n",
    "                for trial, s in enumerate(start_from)\n",
    "            ]\n",
    "        ),\n",
    "    }"
   ]
  },
  {
   "cell_type": "markdown",
   "metadata": {},
   "source": [
    "Az alábbi két függvény kiválasztja a felismert és nem felismert képekhez tartozó szakaszokat.\n",
    "- A ```random_split``` véletlenszerűen választ és várható értéken 4-4 (felismert-nem felismert) szakaszra osztja a mintát. Hogy megfeleljen a kísérleti design-nak, ez nem determinisztikus, hanem minden szakasz 50% valószínűséggel kerül a felismertek közé (tehát lehet olyan trial, ahol több, mint 4 vagy kevesebb, mint 4 felismert kép van). **Ez a valószínűség tetszőlegesen módosítható a függvény `p_recognized` paraméterével.**\n",
    "- A ```synced_split``` azokat a szakaszokat sorolja be a felismert képekhez, amelyek kezdőértéke a fázis adott tartományába esik. **A tartomány szélessége tetszőlegesen állítható a `snyced_range` paraméterrel, a középpontja véletlenszerű.** Ez hivatott szimulálni azt az esetet, mikor a felismert képek egybeesnek a gamma fázisával.\n",
    "\n",
    "A függvények ezután kiszámolják a két csoport (felismert és nem felismert) átlagának különbségét **azokra a trial-ekre, amelyekben mindkét halmaznak van legalább egy eleme. Így egy legfeljebb 18 $\\times$ 48-as mátrixot kapunk**."
   ]
  },
  {
   "cell_type": "code",
   "execution_count": 27,
   "metadata": {},
   "outputs": [],
   "source": [
    "def random_split(samples, p_recognized=0.5):\n",
    "\n",
    "    recognized = np.random.binomial(\n",
    "        1, p_recognized, size=samples[\"samples\"].shape[:2]\n",
    "    ).astype(bool)\n",
    "\n",
    "    return np.array(\n",
    "        [\n",
    "            sample[np.where(recognized[trial])].mean(axis=0)\n",
    "            - sample[np.where(~recognized[trial])].mean(axis=0)\n",
    "            for trial, sample in enumerate(samples[\"samples\"])\n",
    "            if (sample[np.where(recognized[trial])].size != 0)\n",
    "            & (sample[np.where(~recognized[trial])].size != 0)\n",
    "        ]\n",
    "    )"
   ]
  },
  {
   "cell_type": "code",
   "execution_count": 28,
   "metadata": {},
   "outputs": [],
   "source": [
    "def synced_split(samples, synced_phase=None, phase=25, synced_range=4):\n",
    "\n",
    "    phase_range = np.arange(phase)\n",
    "\n",
    "    if not synced_phase:\n",
    "        synced_phase = np.random.choice(phase_range)\n",
    "\n",
    "    cycle = np.concatenate(\n",
    "        [\n",
    "            phase_range[-synced_range // 2 :],\n",
    "            phase_range,\n",
    "            phase_range[: synced_range // 2],\n",
    "        ]\n",
    "    )\n",
    "\n",
    "    recognized = set(\n",
    "        cycle[synced_phase - synced_range // 2 : synced_phase + synced_range // 2]\n",
    "    )\n",
    "\n",
    "    splitted = np.array(\n",
    "        [\n",
    "            [\n",
    "                np.array(\n",
    "                    [\n",
    "                        s\n",
    "                        for k, s in enumerate(sample)\n",
    "                        if samples[\"starting phases\"][trial, k] in recognized\n",
    "                    ]\n",
    "                ),\n",
    "                np.array(\n",
    "                    [\n",
    "                        s\n",
    "                        for k, s in enumerate(sample)\n",
    "                        if samples[\"starting phases\"][trial, k] not in recognized\n",
    "                    ]\n",
    "                ),\n",
    "            ]\n",
    "            for trial, sample in enumerate(samples[\"samples\"])\n",
    "        ]\n",
    "    )\n",
    "\n",
    "    return np.array(\n",
    "        [\n",
    "            s[0].mean(axis=0) - s[1].mean(axis=0)\n",
    "            for s in splitted\n",
    "            if (s[0].size != 0) & (s[1].size != 0)\n",
    "        ]\n",
    "    )"
   ]
  },
  {
   "cell_type": "markdown",
   "metadata": {},
   "source": [
    "### Eredmények <a id=\"result\"></a>"
   ]
  },
  {
   "cell_type": "markdown",
   "metadata": {},
   "source": [
    "#### [vissza](#top)"
   ]
  },
  {
   "cell_type": "markdown",
   "metadata": {},
   "source": [
    "Kiszámolom a fáizskülönbségek átlagát, standard hibáját és szórását az összes trial-re. Az ábrákhoz megfelelő formátumúvá alakítom az adatot és ábrázolom az eredményeket."
   ]
  },
  {
   "cell_type": "code",
   "execution_count": 29,
   "metadata": {},
   "outputs": [],
   "source": [
    "def result_df(diffs):\n",
    "\n",
    "    return (\n",
    "        pd.DataFrame(\n",
    "            {\n",
    "                \"MEAN\": diffs.mean(axis=0),\n",
    "                \"SE\": diffs.std(axis=0) / np.sqrt(diffs.shape[0]),\n",
    "                \"STD\": diffs.std(axis=0),\n",
    "            }\n",
    "        )\n",
    "        .reset_index()\n",
    "        .assign(\n",
    "            SE_bottom=lambda df: df[\"MEAN\"] - df[\"SE\"],\n",
    "            SE_top=lambda df: df[\"MEAN\"] + df[\"SE\"],\n",
    "            STD_bottom=lambda df: df[\"MEAN\"] - df[\"STD\"],\n",
    "            STD_top=lambda df: df[\"MEAN\"] + df[\"STD\"],\n",
    "            NULL=0,\n",
    "        )\n",
    "    )"
   ]
  },
  {
   "cell_type": "code",
   "execution_count": 30,
   "metadata": {},
   "outputs": [],
   "source": [
    "np.random.seed(0)\n",
    "mixed_samples = sampler(mixed_data[\"noisy hilbert\"].values, trials=100)\n",
    "mixed_result_rand = result_df(random_split(mixed_samples))\n",
    "mixed_result_synced = result_df(synced_split(mixed_samples))"
   ]
  },
  {
   "cell_type": "code",
   "execution_count": 31,
   "metadata": {},
   "outputs": [
    {
     "data": {
      "text/html": [
       "<div>\n",
       "<style scoped>\n",
       "    .dataframe tbody tr th:only-of-type {\n",
       "        vertical-align: middle;\n",
       "    }\n",
       "\n",
       "    .dataframe tbody tr th {\n",
       "        vertical-align: top;\n",
       "    }\n",
       "\n",
       "    .dataframe thead th {\n",
       "        text-align: right;\n",
       "    }\n",
       "</style>\n",
       "<table border=\"1\" class=\"dataframe\">\n",
       "  <thead>\n",
       "    <tr style=\"text-align: right;\">\n",
       "      <th></th>\n",
       "      <th>index</th>\n",
       "      <th>MEAN</th>\n",
       "      <th>SE</th>\n",
       "      <th>STD</th>\n",
       "      <th>SE_bottom</th>\n",
       "      <th>SE_top</th>\n",
       "      <th>STD_bottom</th>\n",
       "      <th>STD_top</th>\n",
       "      <th>NULL</th>\n",
       "    </tr>\n",
       "  </thead>\n",
       "  <tbody>\n",
       "    <tr>\n",
       "      <th>0</th>\n",
       "      <td>0</td>\n",
       "      <td>0.918432</td>\n",
       "      <td>0.117422</td>\n",
       "      <td>1.082581</td>\n",
       "      <td>0.801009</td>\n",
       "      <td>1.035854</td>\n",
       "      <td>-0.164149</td>\n",
       "      <td>2.001013</td>\n",
       "      <td>0</td>\n",
       "    </tr>\n",
       "    <tr>\n",
       "      <th>1</th>\n",
       "      <td>1</td>\n",
       "      <td>1.027864</td>\n",
       "      <td>0.131431</td>\n",
       "      <td>1.211733</td>\n",
       "      <td>0.896433</td>\n",
       "      <td>1.159295</td>\n",
       "      <td>-0.183869</td>\n",
       "      <td>2.239597</td>\n",
       "      <td>0</td>\n",
       "    </tr>\n",
       "    <tr>\n",
       "      <th>2</th>\n",
       "      <td>2</td>\n",
       "      <td>1.144273</td>\n",
       "      <td>0.132094</td>\n",
       "      <td>1.217844</td>\n",
       "      <td>1.012180</td>\n",
       "      <td>1.276367</td>\n",
       "      <td>-0.073571</td>\n",
       "      <td>2.362118</td>\n",
       "      <td>0</td>\n",
       "    </tr>\n",
       "    <tr>\n",
       "      <th>3</th>\n",
       "      <td>3</td>\n",
       "      <td>1.334019</td>\n",
       "      <td>0.141485</td>\n",
       "      <td>1.304426</td>\n",
       "      <td>1.192534</td>\n",
       "      <td>1.475504</td>\n",
       "      <td>0.029593</td>\n",
       "      <td>2.638445</td>\n",
       "      <td>0</td>\n",
       "    </tr>\n",
       "    <tr>\n",
       "      <th>4</th>\n",
       "      <td>4</td>\n",
       "      <td>1.435064</td>\n",
       "      <td>0.149323</td>\n",
       "      <td>1.376689</td>\n",
       "      <td>1.285741</td>\n",
       "      <td>1.584387</td>\n",
       "      <td>0.058375</td>\n",
       "      <td>2.811753</td>\n",
       "      <td>0</td>\n",
       "    </tr>\n",
       "  </tbody>\n",
       "</table>\n",
       "</div>"
      ],
      "text/plain": [
       "   index      MEAN        SE       STD  SE_bottom    SE_top  STD_bottom  \\\n",
       "0      0  0.918432  0.117422  1.082581   0.801009  1.035854   -0.164149   \n",
       "1      1  1.027864  0.131431  1.211733   0.896433  1.159295   -0.183869   \n",
       "2      2  1.144273  0.132094  1.217844   1.012180  1.276367   -0.073571   \n",
       "3      3  1.334019  0.141485  1.304426   1.192534  1.475504    0.029593   \n",
       "4      4  1.435064  0.149323  1.376689   1.285741  1.584387    0.058375   \n",
       "\n",
       "    STD_top  NULL  \n",
       "0  2.001013     0  \n",
       "1  2.239597     0  \n",
       "2  2.362118     0  \n",
       "3  2.638445     0  \n",
       "4  2.811753     0  "
      ]
     },
     "execution_count": 31,
     "metadata": {},
     "output_type": "execute_result"
    }
   ],
   "source": [
    "mixed_result_synced.head(5)"
   ]
  },
  {
   "cell_type": "code",
   "execution_count": 32,
   "metadata": {
    "scrolled": true
   },
   "outputs": [],
   "source": [
    "def plot_result(result, condition, trials):\n",
    "\n",
    "    title = (\n",
    "        \"Mean phase difference between recognized and unrecognized pictures \"\n",
    "        + \"({} condition, {} trials)\".format(condition, trials)\n",
    "    )\n",
    "\n",
    "    dfs = [\n",
    "        format_data(result[[\"index\", \"SE_bottom\", \"STD_bottom\"]], \"index\")\n",
    "        .rename(columns={\"values\": \"bottom\", \"data_type\": \"type\"})\n",
    "        .assign(data_type=lambda df: df[\"type\"].apply(lambda x: x.strip(\"_bottom\")))\n",
    "        .drop(\"type\", axis=1)\n",
    "        .merge(\n",
    "            format_data(result[[\"index\", \"SE_top\", \"STD_top\"]], \"index\")\n",
    "            .rename(columns={\"values\": \"top\", \"data_type\": \"type\"})\n",
    "            .assign(data_type=lambda df: df[\"type\"].apply(lambda x: x.strip(\"_top\")))\n",
    "            .drop(\"type\", axis=1),\n",
    "            on=[\"index\", \"data_type\"],\n",
    "            how=\"outer\",\n",
    "        ),\n",
    "        format_data(result[[\"index\", \"MEAN\", \"NULL\"]], \"index\"),\n",
    "    ]\n",
    "\n",
    "    bases = [\n",
    "        alt.Chart(df, title=title,)\n",
    "        .encode(\n",
    "            alt.X(\n",
    "                \"index\",\n",
    "                title=\"Time (in millisecconds)\",\n",
    "                scale=alt.Scale(domain=(0, result.shape[0] - 1), nice=False),\n",
    "            )\n",
    "        )\n",
    "        .properties(width=800, height=400)\n",
    "        for df in dfs\n",
    "    ]\n",
    "\n",
    "    yscale = max(abs(result[\"STD_bottom\"].min()), result[\"STD_top\"].max())\n",
    "\n",
    "    return bases[0].mark_area(opacity=0.5).encode(\n",
    "        alt.Y(\"bottom\", title=None, scale=alt.Scale(domain=(-yscale, yscale))),\n",
    "        alt.Y2(\"top\"),\n",
    "        color=\"data_type\",\n",
    "    ) + bases[1].mark_line().encode(alt.Y(\"values\"), color=\"data_type\")"
   ]
  },
  {
   "cell_type": "markdown",
   "metadata": {},
   "source": [
    "Ha minden igaz, az alábbi két ábra szemlélteti a kísérleti eredményt. Véletlenszerű választás esetén a fáziskülönbség alig tér el nullától, míg a szinkronizált kondícióban szisztematikus különbség figyelhető meg. "
   ]
  },
  {
   "cell_type": "code",
   "execution_count": 33,
   "metadata": {},
   "outputs": [
    {
     "data": {
      "text/html": [
       "\n",
       "<div id=\"altair-viz-4e95dd99b9b448babc925491eb24c0db\"></div>\n",
       "<script type=\"text/javascript\">\n",
       "  (function(spec, embedOpt){\n",
       "    let outputDiv = document.currentScript.previousElementSibling;\n",
       "    if (outputDiv.id !== \"altair-viz-4e95dd99b9b448babc925491eb24c0db\") {\n",
       "      outputDiv = document.getElementById(\"altair-viz-4e95dd99b9b448babc925491eb24c0db\");\n",
       "    }\n",
       "    const paths = {\n",
       "      \"vega\": \"https://cdn.jsdelivr.net/npm//vega@5?noext\",\n",
       "      \"vega-lib\": \"https://cdn.jsdelivr.net/npm//vega-lib?noext\",\n",
       "      \"vega-lite\": \"https://cdn.jsdelivr.net/npm//vega-lite@4.8.1?noext\",\n",
       "      \"vega-embed\": \"https://cdn.jsdelivr.net/npm//vega-embed@6?noext\",\n",
       "    };\n",
       "\n",
       "    function loadScript(lib) {\n",
       "      return new Promise(function(resolve, reject) {\n",
       "        var s = document.createElement('script');\n",
       "        s.src = paths[lib];\n",
       "        s.async = true;\n",
       "        s.onload = () => resolve(paths[lib]);\n",
       "        s.onerror = () => reject(`Error loading script: ${paths[lib]}`);\n",
       "        document.getElementsByTagName(\"head\")[0].appendChild(s);\n",
       "      });\n",
       "    }\n",
       "\n",
       "    function showError(err) {\n",
       "      outputDiv.innerHTML = `<div class=\"error\" style=\"color:red;\">${err}</div>`;\n",
       "      throw err;\n",
       "    }\n",
       "\n",
       "    function displayChart(vegaEmbed) {\n",
       "      vegaEmbed(outputDiv, spec, embedOpt)\n",
       "        .catch(err => showError(`Javascript Error: ${err.message}<br>This usually means there's a typo in your chart specification. See the javascript console for the full traceback.`));\n",
       "    }\n",
       "\n",
       "    if(typeof define === \"function\" && define.amd) {\n",
       "      requirejs.config({paths});\n",
       "      require([\"vega-embed\"], displayChart, err => showError(`Error loading script: ${err.message}`));\n",
       "    } else if (typeof vegaEmbed === \"function\") {\n",
       "      displayChart(vegaEmbed);\n",
       "    } else {\n",
       "      loadScript(\"vega\")\n",
       "        .then(() => loadScript(\"vega-lite\"))\n",
       "        .then(() => loadScript(\"vega-embed\"))\n",
       "        .catch(showError)\n",
       "        .then(() => displayChart(vegaEmbed));\n",
       "    }\n",
       "  })({\"config\": {\"view\": {\"continuousWidth\": 400, \"continuousHeight\": 300}}, \"layer\": [{\"data\": {\"name\": \"data-3b3e21188ccf3546d18593c46db2bdf4\"}, \"mark\": {\"type\": \"area\", \"opacity\": 0.5}, \"encoding\": {\"color\": {\"type\": \"nominal\", \"field\": \"data_type\"}, \"x\": {\"type\": \"quantitative\", \"field\": \"index\", \"scale\": {\"domain\": [0, 47], \"nice\": false}, \"title\": \"Time (in millisecconds)\"}, \"y\": {\"type\": \"quantitative\", \"field\": \"bottom\", \"scale\": {\"domain\": [-1.7736144784620758, 1.7736144784620758]}, \"title\": null}, \"y2\": {\"field\": \"top\"}}, \"height\": 400, \"title\": \"Mean phase difference between recognized and unrecognized pictures (random condition, 100 trials)\", \"width\": 800}, {\"data\": {\"name\": \"data-e67539eddb3510c9470694d0b4646667\"}, \"mark\": \"line\", \"encoding\": {\"color\": {\"type\": \"nominal\", \"field\": \"data_type\"}, \"x\": {\"type\": \"quantitative\", \"field\": \"index\", \"scale\": {\"domain\": [0, 47], \"nice\": false}, \"title\": \"Time (in millisecconds)\"}, \"y\": {\"type\": \"quantitative\", \"field\": \"values\"}}, \"height\": 400, \"title\": \"Mean phase difference between recognized and unrecognized pictures (random condition, 100 trials)\", \"width\": 800}], \"$schema\": \"https://vega.github.io/schema/vega-lite/v4.8.1.json\", \"datasets\": {\"data-3b3e21188ccf3546d18593c46db2bdf4\": [{\"index\": 0, \"bottom\": -0.25237315673889676, \"data_type\": \"SE\", \"top\": 0.034602196589805165}, {\"index\": 1, \"bottom\": -0.11571163795368695, \"data_type\": \"SE\", \"top\": 0.16598500943653405}, {\"index\": 2, \"bottom\": -0.07618892805135186, \"data_type\": \"SE\", \"top\": 0.21978937528214793}, {\"index\": 3, \"bottom\": 0.08797383029394945, \"data_type\": \"SE\", \"top\": 0.37993128316244373}, {\"index\": 4, \"bottom\": 0.05524304581680492, \"data_type\": \"SE\", \"top\": 0.3644779467836847}, {\"index\": 5, \"bottom\": 0.04034505543244826, \"data_type\": \"SE\", \"top\": 0.35692757762276583}, {\"index\": 6, \"bottom\": 0.08993592701130146, \"data_type\": \"SE\", \"top\": 0.39558133946038454}, {\"index\": 7, \"bottom\": -0.08709123788346995, \"data_type\": \"SE\", \"top\": 0.22913624852276065}, {\"index\": 8, \"bottom\": -0.08457588525852622, \"data_type\": \"SE\", \"top\": 0.21145872367303248}, {\"index\": 9, \"bottom\": -0.10343405234864772, \"data_type\": \"SE\", \"top\": 0.1860185116514368}, {\"index\": 10, \"bottom\": -0.03261785829517752, \"data_type\": \"SE\", \"top\": 0.24377963556647822}, {\"index\": 11, \"bottom\": -0.1928426577313455, \"data_type\": \"SE\", \"top\": 0.09221617092858042}, {\"index\": 12, \"bottom\": -0.10643349266732417, \"data_type\": \"SE\", \"top\": 0.15395089604011714}, {\"index\": 13, \"bottom\": 0.007098347032233707, \"data_type\": \"SE\", \"top\": 0.24212818891707466}, {\"index\": 14, \"bottom\": 0.06429500956324202, \"data_type\": \"SE\", \"top\": 0.29664113889639915}, {\"index\": 15, \"bottom\": 0.06616307753489845, \"data_type\": \"SE\", \"top\": 0.2818759417889968}, {\"index\": 16, \"bottom\": 0.03549730990490865, \"data_type\": \"SE\", \"top\": 0.2873461740873442}, {\"index\": 17, \"bottom\": -0.01363317139014733, \"data_type\": \"SE\", \"top\": 0.2591207459630569}, {\"index\": 18, \"bottom\": -0.0972495314501563, \"data_type\": \"SE\", \"top\": 0.18549987710967092}, {\"index\": 19, \"bottom\": -0.18841490247196302, \"data_type\": \"SE\", \"top\": 0.07510651880013797}, {\"index\": 20, \"bottom\": -0.14845755400076388, \"data_type\": \"SE\", \"top\": 0.11667305000581273}, {\"index\": 21, \"bottom\": -0.11482055242525335, \"data_type\": \"SE\", \"top\": 0.14157170448812129}, {\"index\": 22, \"bottom\": -0.13051096883029067, \"data_type\": \"SE\", \"top\": 0.15184693090961415}, {\"index\": 23, \"bottom\": -0.2017025236164725, \"data_type\": \"SE\", \"top\": 0.0877640197055054}, {\"index\": 24, \"bottom\": -0.1261511499598778, \"data_type\": \"SE\", \"top\": 0.1680014593710143}, {\"index\": 25, \"bottom\": -0.19411655539607775, \"data_type\": \"SE\", \"top\": 0.08427338819637768}, {\"index\": 26, \"bottom\": -0.043326700298851994, \"data_type\": \"SE\", \"top\": 0.2281944861638966}, {\"index\": 27, \"bottom\": -0.22967389350149878, \"data_type\": \"SE\", \"top\": 0.041078820631207186}, {\"index\": 28, \"bottom\": -0.10358444926328092, \"data_type\": \"SE\", \"top\": 0.1634586089415221}, {\"index\": 29, \"bottom\": -0.024150518910710655, \"data_type\": \"SE\", \"top\": 0.24038631491537968}, {\"index\": 30, \"bottom\": 0.02261883666161499, \"data_type\": \"SE\", \"top\": 0.30016636917046613}, {\"index\": 31, \"bottom\": -0.057983780790484454, \"data_type\": \"SE\", \"top\": 0.2445316995125481}, {\"index\": 32, \"bottom\": -0.1813123541432578, \"data_type\": \"SE\", \"top\": 0.1040071079302059}, {\"index\": 33, \"bottom\": -0.14814219795545486, \"data_type\": \"SE\", \"top\": 0.1342985884979917}, {\"index\": 34, \"bottom\": -0.11008044870433142, \"data_type\": \"SE\", \"top\": 0.18418543408385646}, {\"index\": 35, \"bottom\": -0.020480948481282568, \"data_type\": \"SE\", \"top\": 0.28809960126998096}, {\"index\": 36, \"bottom\": -0.09230125129987142, \"data_type\": \"SE\", \"top\": 0.24076205725130456}, {\"index\": 37, \"bottom\": -0.0010746288987504293, \"data_type\": \"SE\", \"top\": 0.3136901331776065}, {\"index\": 38, \"bottom\": -0.21479996764816667, \"data_type\": \"SE\", \"top\": 0.08584695704192474}, {\"index\": 39, \"bottom\": -0.18269693482015606, \"data_type\": \"SE\", \"top\": 0.11512442156725386}, {\"index\": 40, \"bottom\": -0.10611591095024243, \"data_type\": \"SE\", \"top\": 0.16577749877293396}, {\"index\": 41, \"bottom\": -0.20799015769832216, \"data_type\": \"SE\", \"top\": 0.04724125936993931}, {\"index\": 42, \"bottom\": -0.13310578289180253, \"data_type\": \"SE\", \"top\": 0.13302097282102893}, {\"index\": 43, \"bottom\": -0.1417542992444464, \"data_type\": \"SE\", \"top\": 0.11731412912962706}, {\"index\": 44, \"bottom\": -0.11712967938269958, \"data_type\": \"SE\", \"top\": 0.12401622027937773}, {\"index\": 45, \"bottom\": -0.27056801208442327, \"data_type\": \"SE\", \"top\": -0.018492761987642048}, {\"index\": 46, \"bottom\": -0.16172531503567802, \"data_type\": \"SE\", \"top\": 0.10205971293411611}, {\"index\": 47, \"bottom\": -0.08800948827273962, \"data_type\": \"SE\", \"top\": 0.19346094775963724}, {\"index\": 0, \"bottom\": -1.536569836681005, \"data_type\": \"STD\", \"top\": 1.3187988765319134}, {\"index\": 1, \"bottom\": -1.3762864404001927, \"data_type\": \"STD\", \"top\": 1.4265598118830396}, {\"index\": 2, \"bottom\": -1.4006732437494254, \"data_type\": \"STD\", \"top\": 1.5442736909802215}, {\"index\": 3, \"bottom\": -1.218517432140803, \"data_type\": \"STD\", \"top\": 1.6864225455971962}, {\"index\": 4, \"bottom\": -1.328563711584531, \"data_type\": \"STD\", \"top\": 1.7482847041850207}, {\"index\": 5, \"bottom\": -1.3763418454068617, \"data_type\": \"STD\", \"top\": 1.7736144784620758}, {\"index\": 6, \"bottom\": -1.2778080947447021, \"data_type\": \"STD\", \"top\": 1.763325361216388}, {\"index\": 7, \"bottom\": -1.502189375890374, \"data_type\": \"STD\", \"top\": 1.6442343865296647}, {\"index\": 8, \"bottom\": -1.4093121649711073, \"data_type\": \"STD\", \"top\": 1.5361950033856138}, {\"index\": 9, \"bottom\": -1.3987160944405255, \"data_type\": \"STD\", \"top\": 1.4813005537433144}, {\"index\": 10, \"bottom\": -1.2694792815648575, \"data_type\": \"STD\", \"top\": 1.4806410588361583}, {\"index\": 11, \"bottom\": -1.4684630101661564, \"data_type\": \"STD\", \"top\": 1.3678365233633916}, {\"index\": 12, \"bottom\": -1.2716372762265582, \"data_type\": \"STD\", \"top\": 1.3191546795993512}, {\"index\": 13, \"bottom\": -1.044645432128206, \"data_type\": \"STD\", \"top\": 1.2938719680775141}, {\"index\": 14, \"bottom\": -0.9754393245043858, \"data_type\": \"STD\", \"top\": 1.336375472964027}, {\"index\": 15, \"bottom\": -0.89913844011362, \"data_type\": \"STD\", \"top\": 1.2471774594375153}, {\"index\": 16, \"bottom\": -1.0915105375593475, \"data_type\": \"STD\", \"top\": 1.4143540215516002}, {\"index\": 17, \"bottom\": -1.2341898186538227, \"data_type\": \"STD\", \"top\": 1.4796773932267322}, {\"index\": 18, \"bottom\": -1.362535374002018, \"data_type\": \"STD\", \"top\": 1.4507857196615328}, {\"index\": 19, \"bottom\": -1.367656709707021, \"data_type\": \"STD\", \"top\": 1.254348326035196}, {\"index\": 20, \"bottom\": -1.3349003528926446, \"data_type\": \"STD\", \"top\": 1.3031158488976935}, {\"index\": 21, \"bottom\": -1.2621597969696694, \"data_type\": \"STD\", \"top\": 1.2889109490325374}, {\"index\": 22, \"bottom\": -1.3940448340054177, \"data_type\": \"STD\", \"top\": 1.415380796084741}, {\"index\": 23, \"bottom\": -1.4970471222957196, \"data_type\": \"STD\", \"top\": 1.3831086183847523}, {\"index\": 24, \"bottom\": -1.4424655996762774, \"data_type\": \"STD\", \"top\": 1.4843159090874138}, {\"index\": 25, \"bottom\": -1.4398940660564186, \"data_type\": \"STD\", \"top\": 1.3300508988567186}, {\"index\": 26, \"bottom\": -1.258366954261072, \"data_type\": \"STD\", \"top\": 1.4432347401261167}, {\"index\": 27, \"bottom\": -1.4412752820579577, \"data_type\": \"STD\", \"top\": 1.2526802091876663}, {\"index\": 28, \"bottom\": -1.2985853605624338, \"data_type\": \"STD\", \"top\": 1.3584595202406748}, {\"index\": 29, \"bottom\": -1.2079362335422728, \"data_type\": \"STD\", \"top\": 1.4241720295469418}, {\"index\": 30, \"bottom\": -1.2193889373151998, \"data_type\": \"STD\", \"top\": 1.542174143147281}, {\"index\": 31, \"bottom\": -1.4117215527979308, \"data_type\": \"STD\", \"top\": 1.5982694715199945}, {\"index\": 32, \"bottom\": -1.4580990247321015, \"data_type\": \"STD\", \"top\": 1.3807937785190494}, {\"index\": 33, \"bottom\": -1.4120469759671963, \"data_type\": \"STD\", \"top\": 1.398203366509733}, {\"index\": 34, \"bottom\": -1.426901790026918, \"data_type\": \"STD\", \"top\": 1.501006775406443}, {\"index\": 35, \"bottom\": -1.4013595252954585, \"data_type\": \"STD\", \"top\": 1.6689781780841568}, {\"index\": 36, \"bottom\": -1.5827386358722133, \"data_type\": \"STD\", \"top\": 1.7311994418236465}, {\"index\": 37, \"bottom\": -1.409627167409719, \"data_type\": \"STD\", \"top\": 1.722242671688575}, {\"index\": 38, \"bottom\": -1.560176070660026, \"data_type\": \"STD\", \"top\": 1.4312230600537843}, {\"index\": 39, \"bottom\": -1.5154287971640823, \"data_type\": \"STD\", \"top\": 1.4478562839111802}, {\"index\": 40, \"bottom\": -1.3228218406218712, \"data_type\": \"STD\", \"top\": 1.3824834284445628}, {\"index\": 41, \"bottom\": -1.3501347168533928, \"data_type\": \"STD\", \"top\": 1.1893858185250101}, {\"index\": 42, \"bottom\": -1.3240062980964353, \"data_type\": \"STD\", \"top\": 1.3239214880256616}, {\"index\": 43, \"bottom\": -1.301069242973206, \"data_type\": \"STD\", \"top\": 1.2766290728583867}, {\"index\": 44, \"bottom\": -1.196242432919363, \"data_type\": \"STD\", \"top\": 1.2031289738160413}, {\"index\": 45, \"bottom\": -1.3985889222950656, \"data_type\": \"STD\", \"top\": 1.1095281482230004}, {\"index\": 46, \"bottom\": -1.3421467456845986, \"data_type\": \"STD\", \"top\": 1.2824811435830368}, {\"index\": 47, \"bottom\": -1.3475720091022385, \"data_type\": \"STD\", \"top\": 1.4530234685891363}], \"data-e67539eddb3510c9470694d0b4646667\": [{\"index\": 0, \"values\": -0.1088854800745458, \"data_type\": \"MEAN\"}, {\"index\": 1, \"values\": 0.025136685741423543, \"data_type\": \"MEAN\"}, {\"index\": 2, \"values\": 0.07180022361539803, \"data_type\": \"MEAN\"}, {\"index\": 3, \"values\": 0.2339525567281966, \"data_type\": \"MEAN\"}, {\"index\": 4, \"values\": 0.20986049630024484, \"data_type\": \"MEAN\"}, {\"index\": 5, \"values\": 0.19863631652760705, \"data_type\": \"MEAN\"}, {\"index\": 6, \"values\": 0.242758633235843, \"data_type\": \"MEAN\"}, {\"index\": 7, \"values\": 0.07102250531964535, \"data_type\": \"MEAN\"}, {\"index\": 8, \"values\": 0.06344141920725313, \"data_type\": \"MEAN\"}, {\"index\": 9, \"values\": 0.041292229651394535, \"data_type\": \"MEAN\"}, {\"index\": 10, \"values\": 0.10558088863565035, \"data_type\": \"MEAN\"}, {\"index\": 11, \"values\": -0.05031324340138254, \"data_type\": \"MEAN\"}, {\"index\": 12, \"values\": 0.023758701686396475, \"data_type\": \"MEAN\"}, {\"index\": 13, \"values\": 0.12461326797465418, \"data_type\": \"MEAN\"}, {\"index\": 14, \"values\": 0.18046807422982059, \"data_type\": \"MEAN\"}, {\"index\": 15, \"values\": 0.17401950966194762, \"data_type\": \"MEAN\"}, {\"index\": 16, \"values\": 0.16142174199612644, \"data_type\": \"MEAN\"}, {\"index\": 17, \"values\": 0.12274378728645477, \"data_type\": \"MEAN\"}, {\"index\": 18, \"values\": 0.04412517282975731, \"data_type\": \"MEAN\"}, {\"index\": 19, \"values\": -0.05665419183591253, \"data_type\": \"MEAN\"}, {\"index\": 20, \"values\": -0.015892251997475584, \"data_type\": \"MEAN\"}, {\"index\": 21, \"values\": 0.013375576031433963, \"data_type\": \"MEAN\"}, {\"index\": 22, \"values\": 0.010667981039661736, \"data_type\": \"MEAN\"}, {\"index\": 23, \"values\": -0.056969251955483545, \"data_type\": \"MEAN\"}, {\"index\": 24, \"values\": 0.02092515470556824, \"data_type\": \"MEAN\"}, {\"index\": 25, \"values\": -0.05492158359985004, \"data_type\": \"MEAN\"}, {\"index\": 26, \"values\": 0.0924338929325223, \"data_type\": \"MEAN\"}, {\"index\": 27, \"values\": -0.0942975364351458, \"data_type\": \"MEAN\"}, {\"index\": 28, \"values\": 0.029937079839120587, \"data_type\": \"MEAN\"}, {\"index\": 29, \"values\": 0.10811789800233451, \"data_type\": \"MEAN\"}, {\"index\": 30, \"values\": 0.16139260291604057, \"data_type\": \"MEAN\"}, {\"index\": 31, \"values\": 0.09327395936103182, \"data_type\": \"MEAN\"}, {\"index\": 32, \"values\": -0.03865262310652596, \"data_type\": \"MEAN\"}, {\"index\": 33, \"values\": -0.006921804728731571, \"data_type\": \"MEAN\"}, {\"index\": 34, \"values\": 0.03705249268976251, \"data_type\": \"MEAN\"}, {\"index\": 35, \"values\": 0.1338093263943492, \"data_type\": \"MEAN\"}, {\"index\": 36, \"values\": 0.07423040297571658, \"data_type\": \"MEAN\"}, {\"index\": 37, \"values\": 0.15630775213942805, \"data_type\": \"MEAN\"}, {\"index\": 38, \"values\": -0.06447650530312096, \"data_type\": \"MEAN\"}, {\"index\": 39, \"values\": -0.03378625662645111, \"data_type\": \"MEAN\"}, {\"index\": 40, \"values\": 0.02983079391134576, \"data_type\": \"MEAN\"}, {\"index\": 41, \"values\": -0.08037444916419142, \"data_type\": \"MEAN\"}, {\"index\": 42, \"values\": -4.240503538681258e-05, \"data_type\": \"MEAN\"}, {\"index\": 43, \"values\": -0.012220085057409671, \"data_type\": \"MEAN\"}, {\"index\": 44, \"values\": 0.003443270448339067, \"data_type\": \"MEAN\"}, {\"index\": 45, \"values\": -0.14453038703603266, \"data_type\": \"MEAN\"}, {\"index\": 46, \"values\": -0.02983280105078096, \"data_type\": \"MEAN\"}, {\"index\": 47, \"values\": 0.052725729743448815, \"data_type\": \"MEAN\"}, {\"index\": 0, \"values\": 0.0, \"data_type\": \"NULL\"}, {\"index\": 1, \"values\": 0.0, \"data_type\": \"NULL\"}, {\"index\": 2, \"values\": 0.0, \"data_type\": \"NULL\"}, {\"index\": 3, \"values\": 0.0, \"data_type\": \"NULL\"}, {\"index\": 4, \"values\": 0.0, \"data_type\": \"NULL\"}, {\"index\": 5, \"values\": 0.0, \"data_type\": \"NULL\"}, {\"index\": 6, \"values\": 0.0, \"data_type\": \"NULL\"}, {\"index\": 7, \"values\": 0.0, \"data_type\": \"NULL\"}, {\"index\": 8, \"values\": 0.0, \"data_type\": \"NULL\"}, {\"index\": 9, \"values\": 0.0, \"data_type\": \"NULL\"}, {\"index\": 10, \"values\": 0.0, \"data_type\": \"NULL\"}, {\"index\": 11, \"values\": 0.0, \"data_type\": \"NULL\"}, {\"index\": 12, \"values\": 0.0, \"data_type\": \"NULL\"}, {\"index\": 13, \"values\": 0.0, \"data_type\": \"NULL\"}, {\"index\": 14, \"values\": 0.0, \"data_type\": \"NULL\"}, {\"index\": 15, \"values\": 0.0, \"data_type\": \"NULL\"}, {\"index\": 16, \"values\": 0.0, \"data_type\": \"NULL\"}, {\"index\": 17, \"values\": 0.0, \"data_type\": \"NULL\"}, {\"index\": 18, \"values\": 0.0, \"data_type\": \"NULL\"}, {\"index\": 19, \"values\": 0.0, \"data_type\": \"NULL\"}, {\"index\": 20, \"values\": 0.0, \"data_type\": \"NULL\"}, {\"index\": 21, \"values\": 0.0, \"data_type\": \"NULL\"}, {\"index\": 22, \"values\": 0.0, \"data_type\": \"NULL\"}, {\"index\": 23, \"values\": 0.0, \"data_type\": \"NULL\"}, {\"index\": 24, \"values\": 0.0, \"data_type\": \"NULL\"}, {\"index\": 25, \"values\": 0.0, \"data_type\": \"NULL\"}, {\"index\": 26, \"values\": 0.0, \"data_type\": \"NULL\"}, {\"index\": 27, \"values\": 0.0, \"data_type\": \"NULL\"}, {\"index\": 28, \"values\": 0.0, \"data_type\": \"NULL\"}, {\"index\": 29, \"values\": 0.0, \"data_type\": \"NULL\"}, {\"index\": 30, \"values\": 0.0, \"data_type\": \"NULL\"}, {\"index\": 31, \"values\": 0.0, \"data_type\": \"NULL\"}, {\"index\": 32, \"values\": 0.0, \"data_type\": \"NULL\"}, {\"index\": 33, \"values\": 0.0, \"data_type\": \"NULL\"}, {\"index\": 34, \"values\": 0.0, \"data_type\": \"NULL\"}, {\"index\": 35, \"values\": 0.0, \"data_type\": \"NULL\"}, {\"index\": 36, \"values\": 0.0, \"data_type\": \"NULL\"}, {\"index\": 37, \"values\": 0.0, \"data_type\": \"NULL\"}, {\"index\": 38, \"values\": 0.0, \"data_type\": \"NULL\"}, {\"index\": 39, \"values\": 0.0, \"data_type\": \"NULL\"}, {\"index\": 40, \"values\": 0.0, \"data_type\": \"NULL\"}, {\"index\": 41, \"values\": 0.0, \"data_type\": \"NULL\"}, {\"index\": 42, \"values\": 0.0, \"data_type\": \"NULL\"}, {\"index\": 43, \"values\": 0.0, \"data_type\": \"NULL\"}, {\"index\": 44, \"values\": 0.0, \"data_type\": \"NULL\"}, {\"index\": 45, \"values\": 0.0, \"data_type\": \"NULL\"}, {\"index\": 46, \"values\": 0.0, \"data_type\": \"NULL\"}, {\"index\": 47, \"values\": 0.0, \"data_type\": \"NULL\"}]}}, {\"mode\": \"vega-lite\"});\n",
       "</script>"
      ],
      "text/plain": [
       "alt.LayerChart(...)"
      ]
     },
     "execution_count": 33,
     "metadata": {},
     "output_type": "execute_result"
    }
   ],
   "source": [
    "plot_result(mixed_result_rand, \"random\", 100)"
   ]
  },
  {
   "cell_type": "markdown",
   "metadata": {},
   "source": [
    "![random_result](plots/mixed_random.png)"
   ]
  },
  {
   "cell_type": "code",
   "execution_count": 34,
   "metadata": {
    "scrolled": false
   },
   "outputs": [
    {
     "data": {
      "text/html": [
       "\n",
       "<div id=\"altair-viz-34eb413e822e4b3e92873b5e99785817\"></div>\n",
       "<script type=\"text/javascript\">\n",
       "  (function(spec, embedOpt){\n",
       "    let outputDiv = document.currentScript.previousElementSibling;\n",
       "    if (outputDiv.id !== \"altair-viz-34eb413e822e4b3e92873b5e99785817\") {\n",
       "      outputDiv = document.getElementById(\"altair-viz-34eb413e822e4b3e92873b5e99785817\");\n",
       "    }\n",
       "    const paths = {\n",
       "      \"vega\": \"https://cdn.jsdelivr.net/npm//vega@5?noext\",\n",
       "      \"vega-lib\": \"https://cdn.jsdelivr.net/npm//vega-lib?noext\",\n",
       "      \"vega-lite\": \"https://cdn.jsdelivr.net/npm//vega-lite@4.8.1?noext\",\n",
       "      \"vega-embed\": \"https://cdn.jsdelivr.net/npm//vega-embed@6?noext\",\n",
       "    };\n",
       "\n",
       "    function loadScript(lib) {\n",
       "      return new Promise(function(resolve, reject) {\n",
       "        var s = document.createElement('script');\n",
       "        s.src = paths[lib];\n",
       "        s.async = true;\n",
       "        s.onload = () => resolve(paths[lib]);\n",
       "        s.onerror = () => reject(`Error loading script: ${paths[lib]}`);\n",
       "        document.getElementsByTagName(\"head\")[0].appendChild(s);\n",
       "      });\n",
       "    }\n",
       "\n",
       "    function showError(err) {\n",
       "      outputDiv.innerHTML = `<div class=\"error\" style=\"color:red;\">${err}</div>`;\n",
       "      throw err;\n",
       "    }\n",
       "\n",
       "    function displayChart(vegaEmbed) {\n",
       "      vegaEmbed(outputDiv, spec, embedOpt)\n",
       "        .catch(err => showError(`Javascript Error: ${err.message}<br>This usually means there's a typo in your chart specification. See the javascript console for the full traceback.`));\n",
       "    }\n",
       "\n",
       "    if(typeof define === \"function\" && define.amd) {\n",
       "      requirejs.config({paths});\n",
       "      require([\"vega-embed\"], displayChart, err => showError(`Error loading script: ${err.message}`));\n",
       "    } else if (typeof vegaEmbed === \"function\") {\n",
       "      displayChart(vegaEmbed);\n",
       "    } else {\n",
       "      loadScript(\"vega\")\n",
       "        .then(() => loadScript(\"vega-lite\"))\n",
       "        .then(() => loadScript(\"vega-embed\"))\n",
       "        .catch(showError)\n",
       "        .then(() => displayChart(vegaEmbed));\n",
       "    }\n",
       "  })({\"config\": {\"view\": {\"continuousWidth\": 400, \"continuousHeight\": 300}}, \"layer\": [{\"data\": {\"name\": \"data-f41bac7bcca1768ee7f8cbbd0c28ce3b\"}, \"mark\": {\"type\": \"area\", \"opacity\": 0.5}, \"encoding\": {\"color\": {\"type\": \"nominal\", \"field\": \"data_type\"}, \"x\": {\"type\": \"quantitative\", \"field\": \"index\", \"scale\": {\"domain\": [0, 47], \"nice\": false}, \"title\": \"Time (in millisecconds)\"}, \"y\": {\"type\": \"quantitative\", \"field\": \"bottom\", \"scale\": {\"domain\": [-2.88112799856626, 2.88112799856626]}, \"title\": null}, \"y2\": {\"field\": \"top\"}}, \"height\": 400, \"title\": \"Mean phase difference between recognized and unrecognized pictures (synchronized condition, 100 trials)\", \"width\": 800}, {\"data\": {\"name\": \"data-68f8fc8fa0cf77ea5e388910bcaa0ab1\"}, \"mark\": \"line\", \"encoding\": {\"color\": {\"type\": \"nominal\", \"field\": \"data_type\"}, \"x\": {\"type\": \"quantitative\", \"field\": \"index\", \"scale\": {\"domain\": [0, 47], \"nice\": false}, \"title\": \"Time (in millisecconds)\"}, \"y\": {\"type\": \"quantitative\", \"field\": \"values\"}}, \"height\": 400, \"title\": \"Mean phase difference between recognized and unrecognized pictures (synchronized condition, 100 trials)\", \"width\": 800}], \"$schema\": \"https://vega.github.io/schema/vega-lite/v4.8.1.json\", \"datasets\": {\"data-f41bac7bcca1768ee7f8cbbd0c28ce3b\": [{\"index\": 0, \"bottom\": 0.8010094956085898, \"data_type\": \"SE\", \"top\": 1.0358543725471776}, {\"index\": 1, \"bottom\": 0.8964328719314123, \"data_type\": \"SE\", \"top\": 1.159294646768271}, {\"index\": 2, \"bottom\": 1.0121795663636508, \"data_type\": \"SE\", \"top\": 1.2763671149347728}, {\"index\": 3, \"bottom\": 1.1925344433409764, \"data_type\": \"SE\", \"top\": 1.4755041994840974}, {\"index\": 4, \"bottom\": 1.285741174992, \"data_type\": \"SE\", \"top\": 1.5843869552729724}, {\"index\": 5, \"bottom\": 1.1713711291872115, \"data_type\": \"SE\", \"top\": 1.493640527429766}, {\"index\": 6, \"bottom\": 0.9752827084400187, \"data_type\": \"SE\", \"top\": 1.3242218498529104}, {\"index\": 7, \"bottom\": 0.5838238576944192, \"data_type\": \"SE\", \"top\": 0.9492707494652746}, {\"index\": 8, \"bottom\": 0.03896647625355851, \"data_type\": \"SE\", \"top\": 0.4614324747039672}, {\"index\": 9, \"bottom\": -0.4953619628659516, \"data_type\": \"SE\", \"top\": -0.11064194015568143}, {\"index\": 10, \"bottom\": -0.598541615854684, \"data_type\": \"SE\", \"top\": -0.24151374587177865}, {\"index\": 11, \"bottom\": -0.6883279640864172, \"data_type\": \"SE\", \"top\": -0.31462797021045985}, {\"index\": 12, \"bottom\": -0.8447029258647644, \"data_type\": \"SE\", \"top\": -0.4877500392711075}, {\"index\": 13, \"bottom\": -0.8196833630690011, \"data_type\": \"SE\", \"top\": -0.4798253622874017}, {\"index\": 14, \"bottom\": -0.9181637771015662, \"data_type\": \"SE\", \"top\": -0.5940077298022036}, {\"index\": 15, \"bottom\": -1.1432040494075515, \"data_type\": \"SE\", \"top\": -0.885999474241151}, {\"index\": 16, \"bottom\": -0.8990790030222011, \"data_type\": \"SE\", \"top\": -0.6230556707588077}, {\"index\": 17, \"bottom\": -0.9473894408937338, \"data_type\": \"SE\", \"top\": -0.6752703784923606}, {\"index\": 18, \"bottom\": -0.7780801330991058, \"data_type\": \"SE\", \"top\": -0.5198186092054304}, {\"index\": 19, \"bottom\": -0.4924364586873541, \"data_type\": \"SE\", \"top\": -0.22462097397739078}, {\"index\": 20, \"bottom\": -0.30533328214520994, \"data_type\": \"SE\", \"top\": -0.04074554740869246}, {\"index\": 21, \"bottom\": -0.13813333478692533, \"data_type\": \"SE\", \"top\": 0.13478765554340486}, {\"index\": 22, \"bottom\": 0.2819144261700918, \"data_type\": \"SE\", \"top\": 0.5591500154838376}, {\"index\": 23, \"bottom\": 0.5516447540600483, \"data_type\": \"SE\", \"top\": 0.8047430162672017}, {\"index\": 24, \"bottom\": 0.7499747341740053, \"data_type\": \"SE\", \"top\": 1.0060281337944943}, {\"index\": 25, \"bottom\": 0.9284780231390946, \"data_type\": \"SE\", \"top\": 1.1978657206178005}, {\"index\": 26, \"bottom\": 1.144051166045652, \"data_type\": \"SE\", \"top\": 1.4184729611208837}, {\"index\": 27, \"bottom\": 1.2201650611655592, \"data_type\": \"SE\", \"top\": 1.5042395961654889}, {\"index\": 28, \"bottom\": 1.3022720821314473, \"data_type\": \"SE\", \"top\": 1.6007127294126406}, {\"index\": 29, \"bottom\": 1.2263066731042642, \"data_type\": \"SE\", \"top\": 1.5501608981878647}, {\"index\": 30, \"bottom\": 0.9511840964365436, \"data_type\": \"SE\", \"top\": 1.2869046041014274}, {\"index\": 31, \"bottom\": 0.6288039189283628, \"data_type\": \"SE\", \"top\": 0.9891984507588959}, {\"index\": 32, \"bottom\": 0.2670499619523986, \"data_type\": \"SE\", \"top\": 0.6407729851743936}, {\"index\": 33, \"bottom\": -0.2139575478308482, \"data_type\": \"SE\", \"top\": 0.15256000519332985}, {\"index\": 34, \"bottom\": -0.6729922773156034, \"data_type\": \"SE\", \"top\": -0.283899992171115}, {\"index\": 35, \"bottom\": -0.9733328161181087, \"data_type\": \"SE\", \"top\": -0.6149761634095583}, {\"index\": 36, \"bottom\": -0.9545837971345772, \"data_type\": \"SE\", \"top\": -0.5952814692850019}, {\"index\": 37, \"bottom\": -1.1881488665686015, \"data_type\": \"SE\", \"top\": -0.8413647700212696}, {\"index\": 38, \"bottom\": -1.0542646983040211, \"data_type\": \"SE\", \"top\": -0.7519232799850118}, {\"index\": 39, \"bottom\": -1.019708046347937, \"data_type\": \"SE\", \"top\": -0.7600786244359562}, {\"index\": 40, \"bottom\": -0.8216766471277933, \"data_type\": \"SE\", \"top\": -0.5513383024387614}, {\"index\": 41, \"bottom\": -0.7070950855547423, \"data_type\": \"SE\", \"top\": -0.4486830618783836}, {\"index\": 42, \"bottom\": -0.7690781311527327, \"data_type\": \"SE\", \"top\": -0.5300981851903562}, {\"index\": 43, \"bottom\": -0.60660929061924, \"data_type\": \"SE\", \"top\": -0.3535201757830941}, {\"index\": 44, \"bottom\": -0.37758776321701504, \"data_type\": \"SE\", \"top\": -0.12472177998255243}, {\"index\": 45, \"bottom\": -0.16514138759859143, \"data_type\": \"SE\", \"top\": 0.07239630468916314}, {\"index\": 46, \"bottom\": 0.03764950566113656, \"data_type\": \"SE\", \"top\": 0.2928340291267007}, {\"index\": 47, \"bottom\": 0.13018981367675186, \"data_type\": \"SE\", \"top\": 0.3758883121049508}, {\"index\": 0, \"bottom\": -0.16414945767350964, \"data_type\": \"STD\", \"top\": 2.001013325829277}, {\"index\": 1, \"bottom\": -0.18386915026582362, \"data_type\": \"STD\", \"top\": 2.2395966689655067}, {\"index\": 2, \"bottom\": -0.07357108390813094, \"data_type\": \"STD\", \"top\": 2.3621177652065546}, {\"index\": 3, \"bottom\": 0.02959319799712179, \"data_type\": \"STD\", \"top\": 2.638445444827952}, {\"index\": 4, \"bottom\": 0.05837504099081303, \"data_type\": \"STD\", \"top\": 2.811753089274159}, {\"index\": 5, \"bottom\": -0.15308269385263906, \"data_type\": \"STD\", \"top\": 2.8180943504696163}, {\"index\": 6, \"bottom\": -0.4587776844264171, \"data_type\": \"STD\", \"top\": 2.7582822427193463}, {\"index\": 7, \"bottom\": -0.9180796291506048, \"data_type\": \"STD\", \"top\": 2.4511742363102984}, {\"index\": 8, \"bottom\": -1.6972725517253227, \"data_type\": \"STD\", \"top\": 2.1976715026828484}, {\"index\": 9, \"bottom\": -2.0764736280048486, \"data_type\": \"STD\", \"top\": 1.4704697249832157}, {\"index\": 10, \"bottom\": -2.0658448407632215, \"data_type\": \"STD\", \"top\": 1.225789479036759}, {\"index\": 11, \"bottom\": -2.2241498207631727, \"data_type\": \"STD\", \"top\": 1.221193886466296}, {\"index\": 12, \"bottom\": -2.311697986122559, \"data_type\": \"STD\", \"top\": 0.9792450209866871}, {\"index\": 13, \"bottom\": -2.2164223363645195, \"data_type\": \"STD\", \"top\": 0.9169136110081166}, {\"index\": 14, \"bottom\": -2.2503712980402897, \"data_type\": \"STD\", \"top\": 0.7381997911365198}, {\"index\": 15, \"bottom\": -2.200256269507231, \"data_type\": \"STD\", \"top\": 0.17105274585852892}, {\"index\": 16, \"bottom\": -2.033472028416745, \"data_type\": \"STD\", \"top\": 0.5113373546357364}, {\"index\": 17, \"bottom\": -2.0657368064362056, \"data_type\": \"STD\", \"top\": 0.44307698705011134}, {\"index\": 18, \"bottom\": -1.8394761717252428, \"data_type\": \"STD\", \"top\": 0.5415774294207066}, {\"index\": 19, \"bottom\": -1.5930971001498475, \"data_type\": \"STD\", \"top\": 0.8760396674851025}, {\"index\": 20, \"bottom\": -1.3927286064058213, \"data_type\": \"STD\", \"top\": 1.046649776851919}, {\"index\": 21, \"bottom\": -1.259776441461201, \"data_type\": \"STD\", \"top\": 1.2564307622176805}, {\"index\": 22, \"bottom\": -0.8574606995839711, \"data_type\": \"STD\", \"top\": 1.6985251412379003}, {\"index\": 23, \"bottom\": -0.48853145507758644, \"data_type\": \"STD\", \"top\": 1.8449192254048365}, {\"index\": 24, \"bottom\": -0.30234641663678985, \"data_type\": \"STD\", \"top\": 2.0583492846052893}, {\"index\": 25, \"bottom\": -0.17864405469790023, \"data_type\": \"STD\", \"top\": 2.3049877984547953}, {\"index\": 26, \"bottom\": 0.01624009371016033, \"data_type\": \"STD\", \"top\": 2.5462840334563754}, {\"index\": 27, \"bottom\": 0.052683426357195584, \"data_type\": \"STD\", \"top\": 2.6717212309738523}, {\"index\": 28, \"bottom\": 0.07574899803592938, \"data_type\": \"STD\", \"top\": 2.8272358135081586}, {\"index\": 29, \"bottom\": -0.10466042727413116, \"data_type\": \"STD\", \"top\": 2.88112799856626}, {\"index\": 30, \"bottom\": -0.4285507225516818, \"data_type\": \"STD\", \"top\": 2.666639423089653}, {\"index\": 31, \"bottom\": -0.8523355193447988, \"data_type\": \"STD\", \"top\": 2.4703378890320575}, {\"index\": 32, \"bottom\": -1.2688665400911465, \"data_type\": \"STD\", \"top\": 2.1766894872179385}, {\"index\": 33, \"bottom\": -1.7202612085610656, \"data_type\": \"STD\", \"top\": 1.6588636659235472}, {\"index\": 34, \"bottom\": -2.272072945183005, \"data_type\": \"STD\", \"top\": 1.3151806756962863}, {\"index\": 35, \"bottom\": -2.446097035370407, \"data_type\": \"STD\", \"top\": 0.85778805584274}, {\"index\": 36, \"bottom\": -2.4312345258187817, \"data_type\": \"STD\", \"top\": 0.8813692593992027}, {\"index\": 37, \"bottom\": -2.613352515895073, \"data_type\": \"STD\", \"top\": 0.5838388793052016}, {\"index\": 38, \"bottom\": -2.2968190628810627, \"data_type\": \"STD\", \"top\": 0.49063108459202975}, {\"index\": 39, \"bottom\": -2.086725834261326, \"data_type\": \"STD\", \"top\": 0.3069391634774329}, {\"index\": 40, \"bottom\": -1.9327056684690267, \"data_type\": \"STD\", \"top\": 0.559690718902472}, {\"index\": 41, \"bottom\": -1.7691096440081688, \"data_type\": \"STD\", \"top\": 0.6133314965750429}, {\"index\": 42, \"bottom\": -1.7512312762723359, \"data_type\": \"STD\", \"top\": 0.4520549599292468}, {\"index\": 43, \"bottom\": -1.646747906145543, \"data_type\": \"STD\", \"top\": 0.686618439743209}, {\"index\": 44, \"bottom\": -1.4168093586833865, \"data_type\": \"STD\", \"top\": 0.9144998154838191}, {\"index\": 45, \"bottom\": -1.1413671986195695, \"data_type\": \"STD\", \"top\": 1.0486221157101414}, {\"index\": 46, \"bottom\": -1.0111007620580157, \"data_type\": \"STD\", \"top\": 1.341584296845853}, {\"index\": 47, \"bottom\": -0.879575051783592, \"data_type\": \"STD\", \"top\": 1.3856531775652945}], \"data-68f8fc8fa0cf77ea5e388910bcaa0ab1\": [{\"index\": 0, \"values\": 0.9184319340778837, \"data_type\": \"MEAN\"}, {\"index\": 1, \"values\": 1.0278637593498416, \"data_type\": \"MEAN\"}, {\"index\": 2, \"values\": 1.1442733406492118, \"data_type\": \"MEAN\"}, {\"index\": 3, \"values\": 1.3340193214125369, \"data_type\": \"MEAN\"}, {\"index\": 4, \"values\": 1.4350640651324862, \"data_type\": \"MEAN\"}, {\"index\": 5, \"values\": 1.3325058283084887, \"data_type\": \"MEAN\"}, {\"index\": 6, \"values\": 1.1497522791464645, \"data_type\": \"MEAN\"}, {\"index\": 7, \"values\": 0.7665473035798469, \"data_type\": \"MEAN\"}, {\"index\": 8, \"values\": 0.25019947547876287, \"data_type\": \"MEAN\"}, {\"index\": 9, \"values\": -0.3030019515108165, \"data_type\": \"MEAN\"}, {\"index\": 10, \"values\": -0.42002768086323133, \"data_type\": \"MEAN\"}, {\"index\": 11, \"values\": -0.5014779671484385, \"data_type\": \"MEAN\"}, {\"index\": 12, \"values\": -0.6662264825679359, \"data_type\": \"MEAN\"}, {\"index\": 13, \"values\": -0.6497543626782014, \"data_type\": \"MEAN\"}, {\"index\": 14, \"values\": -0.7560857534518849, \"data_type\": \"MEAN\"}, {\"index\": 15, \"values\": -1.0146017618243512, \"data_type\": \"MEAN\"}, {\"index\": 16, \"values\": -0.7610673368905044, \"data_type\": \"MEAN\"}, {\"index\": 17, \"values\": -0.8113299096930472, \"data_type\": \"MEAN\"}, {\"index\": 18, \"values\": -0.6489493711522681, \"data_type\": \"MEAN\"}, {\"index\": 19, \"values\": -0.35852871633237243, \"data_type\": \"MEAN\"}, {\"index\": 20, \"values\": -0.1730394147769512, \"data_type\": \"MEAN\"}, {\"index\": 21, \"values\": -0.0016728396217602333, \"data_type\": \"MEAN\"}, {\"index\": 22, \"values\": 0.4205322208269647, \"data_type\": \"MEAN\"}, {\"index\": 23, \"values\": 0.678193885163625, \"data_type\": \"MEAN\"}, {\"index\": 24, \"values\": 0.8780014339842498, \"data_type\": \"MEAN\"}, {\"index\": 25, \"values\": 1.0631718718784475, \"data_type\": \"MEAN\"}, {\"index\": 26, \"values\": 1.2812620635832679, \"data_type\": \"MEAN\"}, {\"index\": 27, \"values\": 1.362202328665524, \"data_type\": \"MEAN\"}, {\"index\": 28, \"values\": 1.451492405772044, \"data_type\": \"MEAN\"}, {\"index\": 29, \"values\": 1.3882337856460645, \"data_type\": \"MEAN\"}, {\"index\": 30, \"values\": 1.1190443502689855, \"data_type\": \"MEAN\"}, {\"index\": 31, \"values\": 0.8090011848436294, \"data_type\": \"MEAN\"}, {\"index\": 32, \"values\": 0.4539114735633961, \"data_type\": \"MEAN\"}, {\"index\": 33, \"values\": -0.030698771318759168, \"data_type\": \"MEAN\"}, {\"index\": 34, \"values\": -0.4784461347433592, \"data_type\": \"MEAN\"}, {\"index\": 35, \"values\": -0.7941544897638335, \"data_type\": \"MEAN\"}, {\"index\": 36, \"values\": -0.7749326332097896, \"data_type\": \"MEAN\"}, {\"index\": 37, \"values\": -1.0147568182949356, \"data_type\": \"MEAN\"}, {\"index\": 38, \"values\": -0.9030939891445166, \"data_type\": \"MEAN\"}, {\"index\": 39, \"values\": -0.8898933353919466, \"data_type\": \"MEAN\"}, {\"index\": 40, \"values\": -0.6865074747832773, \"data_type\": \"MEAN\"}, {\"index\": 41, \"values\": -0.577889073716563, \"data_type\": \"MEAN\"}, {\"index\": 42, \"values\": -0.6495881581715445, \"data_type\": \"MEAN\"}, {\"index\": 43, \"values\": -0.48006473320116705, \"data_type\": \"MEAN\"}, {\"index\": 44, \"values\": -0.2511547715997837, \"data_type\": \"MEAN\"}, {\"index\": 45, \"values\": -0.046372541454714145, \"data_type\": \"MEAN\"}, {\"index\": 46, \"values\": 0.16524176739391863, \"data_type\": \"MEAN\"}, {\"index\": 47, \"values\": 0.2530390628908513, \"data_type\": \"MEAN\"}, {\"index\": 0, \"values\": 0.0, \"data_type\": \"NULL\"}, {\"index\": 1, \"values\": 0.0, \"data_type\": \"NULL\"}, {\"index\": 2, \"values\": 0.0, \"data_type\": \"NULL\"}, {\"index\": 3, \"values\": 0.0, \"data_type\": \"NULL\"}, {\"index\": 4, \"values\": 0.0, \"data_type\": \"NULL\"}, {\"index\": 5, \"values\": 0.0, \"data_type\": \"NULL\"}, {\"index\": 6, \"values\": 0.0, \"data_type\": \"NULL\"}, {\"index\": 7, \"values\": 0.0, \"data_type\": \"NULL\"}, {\"index\": 8, \"values\": 0.0, \"data_type\": \"NULL\"}, {\"index\": 9, \"values\": 0.0, \"data_type\": \"NULL\"}, {\"index\": 10, \"values\": 0.0, \"data_type\": \"NULL\"}, {\"index\": 11, \"values\": 0.0, \"data_type\": \"NULL\"}, {\"index\": 12, \"values\": 0.0, \"data_type\": \"NULL\"}, {\"index\": 13, \"values\": 0.0, \"data_type\": \"NULL\"}, {\"index\": 14, \"values\": 0.0, \"data_type\": \"NULL\"}, {\"index\": 15, \"values\": 0.0, \"data_type\": \"NULL\"}, {\"index\": 16, \"values\": 0.0, \"data_type\": \"NULL\"}, {\"index\": 17, \"values\": 0.0, \"data_type\": \"NULL\"}, {\"index\": 18, \"values\": 0.0, \"data_type\": \"NULL\"}, {\"index\": 19, \"values\": 0.0, \"data_type\": \"NULL\"}, {\"index\": 20, \"values\": 0.0, \"data_type\": \"NULL\"}, {\"index\": 21, \"values\": 0.0, \"data_type\": \"NULL\"}, {\"index\": 22, \"values\": 0.0, \"data_type\": \"NULL\"}, {\"index\": 23, \"values\": 0.0, \"data_type\": \"NULL\"}, {\"index\": 24, \"values\": 0.0, \"data_type\": \"NULL\"}, {\"index\": 25, \"values\": 0.0, \"data_type\": \"NULL\"}, {\"index\": 26, \"values\": 0.0, \"data_type\": \"NULL\"}, {\"index\": 27, \"values\": 0.0, \"data_type\": \"NULL\"}, {\"index\": 28, \"values\": 0.0, \"data_type\": \"NULL\"}, {\"index\": 29, \"values\": 0.0, \"data_type\": \"NULL\"}, {\"index\": 30, \"values\": 0.0, \"data_type\": \"NULL\"}, {\"index\": 31, \"values\": 0.0, \"data_type\": \"NULL\"}, {\"index\": 32, \"values\": 0.0, \"data_type\": \"NULL\"}, {\"index\": 33, \"values\": 0.0, \"data_type\": \"NULL\"}, {\"index\": 34, \"values\": 0.0, \"data_type\": \"NULL\"}, {\"index\": 35, \"values\": 0.0, \"data_type\": \"NULL\"}, {\"index\": 36, \"values\": 0.0, \"data_type\": \"NULL\"}, {\"index\": 37, \"values\": 0.0, \"data_type\": \"NULL\"}, {\"index\": 38, \"values\": 0.0, \"data_type\": \"NULL\"}, {\"index\": 39, \"values\": 0.0, \"data_type\": \"NULL\"}, {\"index\": 40, \"values\": 0.0, \"data_type\": \"NULL\"}, {\"index\": 41, \"values\": 0.0, \"data_type\": \"NULL\"}, {\"index\": 42, \"values\": 0.0, \"data_type\": \"NULL\"}, {\"index\": 43, \"values\": 0.0, \"data_type\": \"NULL\"}, {\"index\": 44, \"values\": 0.0, \"data_type\": \"NULL\"}, {\"index\": 45, \"values\": 0.0, \"data_type\": \"NULL\"}, {\"index\": 46, \"values\": 0.0, \"data_type\": \"NULL\"}, {\"index\": 47, \"values\": 0.0, \"data_type\": \"NULL\"}]}}, {\"mode\": \"vega-lite\"});\n",
       "</script>"
      ],
      "text/plain": [
       "alt.LayerChart(...)"
      ]
     },
     "execution_count": 34,
     "metadata": {},
     "output_type": "execute_result"
    }
   ],
   "source": [
    "plot_result(mixed_result_synced, \"synchronized\", 100)"
   ]
  },
  {
   "cell_type": "markdown",
   "metadata": {},
   "source": [
    "![random_result](plots/mixed_synced.png)"
   ]
  },
  {
   "cell_type": "code",
   "execution_count": null,
   "metadata": {},
   "outputs": [],
   "source": []
  }
 ],
 "metadata": {
  "kernelspec": {
   "display_name": "Python 3",
   "language": "python",
   "name": "python3"
  },
  "language_info": {
   "codemirror_mode": {
    "name": "ipython",
    "version": 3
   },
   "file_extension": ".py",
   "mimetype": "text/x-python",
   "name": "python",
   "nbconvert_exporter": "python",
   "pygments_lexer": "ipython3",
   "version": "3.7.3"
  }
 },
 "nbformat": 4,
 "nbformat_minor": 2
}
