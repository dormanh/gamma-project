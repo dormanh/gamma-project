{
 "cells": [
  {
   "cell_type": "code",
   "execution_count": null,
   "metadata": {},
   "outputs": [],
   "source": [
    "palette = sns.cubehelix_palette(25)"
   ]
  },
  {
   "cell_type": "code",
   "execution_count": null,
   "metadata": {},
   "outputs": [],
   "source": [
    "for phase in range(1, 26, 2):\n",
    "    plt.plot(\n",
    "        data.loc[:25, \"sine\"].values - data.loc[phase : phase + 25, \"sine\"].values,\n",
    "        label=f\"phase{phase}\",\n",
    "        c=palette[phase - 1],\n",
    "    )\n",
    "\n",
    "plt.legend()"
   ]
  },
  {
   "cell_type": "code",
   "execution_count": null,
   "metadata": {},
   "outputs": [],
   "source": [
    "for phase in range(1, 26, 2):\n",
    "    plt.plot(\n",
    "        data.loc[:25, \"noisy hilbert\"].values\n",
    "        - data.loc[phase : phase + 25, \"noisy hilbert\"].values,\n",
    "        label=f\"phase{phase}\",\n",
    "        color=palette[phase - 1],\n",
    "    )\n",
    "\n",
    "plt.legend()"
   ]
  },
  {
   "cell_type": "code",
   "execution_count": null,
   "metadata": {},
   "outputs": [],
   "source": [
    "def synchronized_phase_diff(phase, synced_interval, length):\n",
    "\n",
    "    recognized = np.mean(\n",
    "        [\n",
    "            data.loc[p : p + length, \"noisy hilbert\"].values\n",
    "            for p in range(phase, phase + synced_interval)\n",
    "        ],\n",
    "        axis=0,\n",
    "    )\n",
    "\n",
    "    rest = np.mean(\n",
    "        [data.loc[p : p + length, \"noisy hilbert\"].values for p in range(0, phase)]\n",
    "        + [\n",
    "            data.loc[p : p + length, \"noisy hilbert\"].values\n",
    "            for p in range(phase + synced_interval, 25)\n",
    "        ],\n",
    "        axis=0,\n",
    "    )\n",
    "    \n",
    "    return [phase, (recognized - rest).mean()]"
   ]
  },
  {
   "cell_type": "code",
   "execution_count": null,
   "metadata": {},
   "outputs": [],
   "source": [
    "sample = np.array(\n",
    "    [\n",
    "        synchronized_phase_diff(phase, 5, 48)\n",
    "        for phase in np.random.choice(np.arange(25), 100)\n",
    "    ]\n",
    ")"
   ]
  },
  {
   "cell_type": "code",
   "execution_count": null,
   "metadata": {},
   "outputs": [],
   "source": [
    "plt.scatter(sample[:, 0], sample[:, 1])"
   ]
  }
 ],
 "metadata": {
  "kernelspec": {
   "display_name": "Python 3",
   "language": "python",
   "name": "python3"
  },
  "language_info": {
   "codemirror_mode": {
    "name": "ipython",
    "version": 3
   },
   "file_extension": ".py",
   "mimetype": "text/x-python",
   "name": "python",
   "nbconvert_exporter": "python",
   "pygments_lexer": "ipython3",
   "version": "3.7.3"
  }
 },
 "nbformat": 4,
 "nbformat_minor": 2
}
